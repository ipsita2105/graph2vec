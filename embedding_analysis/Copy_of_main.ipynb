{
 "cells": [
  {
   "cell_type": "code",
   "execution_count": 1,
   "metadata": {
    "colab": {},
    "colab_type": "code",
    "id": "oZXzR96BlLCY"
   },
   "outputs": [],
   "source": [
    "import argparse,os,logging,psutil,time\n",
    "from joblib import Parallel,delayed\n",
    "from sklearn.model_selection import train_test_split, KFold\n",
    "import shutil\n",
    "import sys\n",
    "from sklearn.metrics.pairwise import cosine_similarity"
   ]
  },
  {
   "cell_type": "code",
   "execution_count": 2,
   "metadata": {
    "colab": {
     "base_uri": "https://localhost:8080/",
     "height": 64
    },
    "colab_type": "code",
    "id": "kXVKD3mTnZ8K",
    "outputId": "ac199092-025d-40d3-ca21-312efb99bcb6"
   },
   "outputs": [
    {
     "name": "stderr",
     "output_type": "stream",
     "text": [
      "/home/ipsita/.local/lib/python3.6/site-packages/tensorflow/python/framework/dtypes.py:516: FutureWarning: Passing (type, 1) or '1type' as a synonym of type is deprecated; in a future version of numpy, it will be understood as (type, (1,)) / '(1,)type'.\n",
      "  _np_qint8 = np.dtype([(\"qint8\", np.int8, 1)])\n",
      "/home/ipsita/.local/lib/python3.6/site-packages/tensorflow/python/framework/dtypes.py:517: FutureWarning: Passing (type, 1) or '1type' as a synonym of type is deprecated; in a future version of numpy, it will be understood as (type, (1,)) / '(1,)type'.\n",
      "  _np_quint8 = np.dtype([(\"quint8\", np.uint8, 1)])\n",
      "/home/ipsita/.local/lib/python3.6/site-packages/tensorflow/python/framework/dtypes.py:518: FutureWarning: Passing (type, 1) or '1type' as a synonym of type is deprecated; in a future version of numpy, it will be understood as (type, (1,)) / '(1,)type'.\n",
      "  _np_qint16 = np.dtype([(\"qint16\", np.int16, 1)])\n",
      "/home/ipsita/.local/lib/python3.6/site-packages/tensorflow/python/framework/dtypes.py:519: FutureWarning: Passing (type, 1) or '1type' as a synonym of type is deprecated; in a future version of numpy, it will be understood as (type, (1,)) / '(1,)type'.\n",
      "  _np_quint16 = np.dtype([(\"quint16\", np.uint16, 1)])\n",
      "/home/ipsita/.local/lib/python3.6/site-packages/tensorflow/python/framework/dtypes.py:520: FutureWarning: Passing (type, 1) or '1type' as a synonym of type is deprecated; in a future version of numpy, it will be understood as (type, (1,)) / '(1,)type'.\n",
      "  _np_qint32 = np.dtype([(\"qint32\", np.int32, 1)])\n",
      "/home/ipsita/.local/lib/python3.6/site-packages/tensorflow/python/framework/dtypes.py:525: FutureWarning: Passing (type, 1) or '1type' as a synonym of type is deprecated; in a future version of numpy, it will be understood as (type, (1,)) / '(1,)type'.\n",
      "  np_resource = np.dtype([(\"resource\", np.ubyte, 1)])\n",
      "/home/ipsita/.local/lib/python3.6/site-packages/tensorboard/compat/tensorflow_stub/dtypes.py:541: FutureWarning: Passing (type, 1) or '1type' as a synonym of type is deprecated; in a future version of numpy, it will be understood as (type, (1,)) / '(1,)type'.\n",
      "  _np_qint8 = np.dtype([(\"qint8\", np.int8, 1)])\n",
      "/home/ipsita/.local/lib/python3.6/site-packages/tensorboard/compat/tensorflow_stub/dtypes.py:542: FutureWarning: Passing (type, 1) or '1type' as a synonym of type is deprecated; in a future version of numpy, it will be understood as (type, (1,)) / '(1,)type'.\n",
      "  _np_quint8 = np.dtype([(\"quint8\", np.uint8, 1)])\n",
      "/home/ipsita/.local/lib/python3.6/site-packages/tensorboard/compat/tensorflow_stub/dtypes.py:543: FutureWarning: Passing (type, 1) or '1type' as a synonym of type is deprecated; in a future version of numpy, it will be understood as (type, (1,)) / '(1,)type'.\n",
      "  _np_qint16 = np.dtype([(\"qint16\", np.int16, 1)])\n",
      "/home/ipsita/.local/lib/python3.6/site-packages/tensorboard/compat/tensorflow_stub/dtypes.py:544: FutureWarning: Passing (type, 1) or '1type' as a synonym of type is deprecated; in a future version of numpy, it will be understood as (type, (1,)) / '(1,)type'.\n",
      "  _np_quint16 = np.dtype([(\"quint16\", np.uint16, 1)])\n",
      "/home/ipsita/.local/lib/python3.6/site-packages/tensorboard/compat/tensorflow_stub/dtypes.py:545: FutureWarning: Passing (type, 1) or '1type' as a synonym of type is deprecated; in a future version of numpy, it will be understood as (type, (1,)) / '(1,)type'.\n",
      "  _np_qint32 = np.dtype([(\"qint32\", np.int32, 1)])\n",
      "/home/ipsita/.local/lib/python3.6/site-packages/tensorboard/compat/tensorflow_stub/dtypes.py:550: FutureWarning: Passing (type, 1) or '1type' as a synonym of type is deprecated; in a future version of numpy, it will be understood as (type, (1,)) / '(1,)type'.\n",
      "  np_resource = np.dtype([(\"resource\", np.ubyte, 1)])\n"
     ]
    }
   ],
   "source": [
    "# %%capture\n",
    "%run utils.ipynb\n",
    "%run make_graph2vec_corpus.ipynb\n",
    "%run train_utils_new.ipynb\n",
    "%run classify_new.ipynb"
   ]
  },
  {
   "cell_type": "code",
   "execution_count": 3,
   "metadata": {
    "colab": {
     "base_uri": "https://localhost:8080/",
     "height": 35
    },
    "colab_type": "code",
    "id": "_WNwTyhdqFwR",
    "outputId": "567c38d5-6080-4f54-b74f-686232513645"
   },
   "outputs": [],
   "source": [
    "base_dir = '/home/ipsita/BTP/graph2vec/tmp/for_gui/'"
   ]
  },
  {
   "cell_type": "code",
   "execution_count": 4,
   "metadata": {
    "colab": {},
    "colab_type": "code",
    "id": "9bN44_xEnzJ0"
   },
   "outputs": [],
   "source": [
    "dataset_name = \"mutag\"\n",
    "corpus_dir = \"/home/ipsita/BTP/graph2vec/data/kdd_datasets/\"+dataset_name\n",
    "output_dir = base_dir + \"embeddings\"\n",
    "batch_size = 128\n",
    "epochs = 400 ######################################\n",
    "embedding_size = 512\n",
    "num_negsample = 10\n",
    "learning_rate = 0.3\n",
    "wlk_h = 3\n",
    "label_filed_name = 'Label'\n",
    "class_labels_fname = '/home/ipsita/BTP/graph2vec/data/kdd_datasets/'+dataset_name+'.Labels'\n",
    "win_size = 2\n",
    "concat_flag = 0  #### Add or concat\n",
    "\n",
    "wl_extn = 'g2v'+str(wlk_h) \n",
    "\n",
    "assert os.path.exists(corpus_dir), \"File {} does not exist\".format(corpus_dir)\n",
    "assert os.path.exists(output_dir), \"Dir {} does not exist\".format(output_dir)"
   ]
  },
  {
   "cell_type": "code",
   "execution_count": 5,
   "metadata": {
    "colab": {
     "base_uri": "https://localhost:8080/",
     "height": 124
    },
    "colab_type": "code",
    "id": "vHXANNDuxNzG",
    "outputId": "d2f1f41b-c308-4cc2-827a-1d3afeef373b"
   },
   "outputs": [
    {
     "name": "stderr",
     "output_type": "stream",
     "text": [
      "INFO:root:Loaded 188 graph file names form /home/ipsita/BTP/graph2vec/data/kdd_datasets/mutag\n"
     ]
    },
    {
     "data": {
      "text/plain": [
       "['/home/ipsita/BTP/graph2vec/data/kdd_datasets/mutag/0.gexf',\n",
       " '/home/ipsita/BTP/graph2vec/data/kdd_datasets/mutag/1.gexf',\n",
       " '/home/ipsita/BTP/graph2vec/data/kdd_datasets/mutag/10.gexf',\n",
       " '/home/ipsita/BTP/graph2vec/data/kdd_datasets/mutag/100.gexf',\n",
       " '/home/ipsita/BTP/graph2vec/data/kdd_datasets/mutag/101.gexf']"
      ]
     },
     "execution_count": 5,
     "metadata": {},
     "output_type": "execute_result"
    }
   ],
   "source": [
    "graph_files = get_files(dirname=corpus_dir, extn='.gexf', max_files=0)\n",
    "logging.info('Loaded {} graph file names form {}'.format(len(graph_files),corpus_dir))\n",
    "graph_files[:5]"
   ]
  },
  {
   "cell_type": "code",
   "execution_count": 6,
   "metadata": {
    "colab": {
     "base_uri": "https://localhost:8080/",
     "height": 195
    },
    "colab_type": "code",
    "id": "JAZmECRpxXqw",
    "outputId": "85a10833-d224-4255-a714-a54d8556dd58"
   },
   "outputs": [
    {
     "name": "stderr",
     "output_type": "stream",
     "text": [
      "INFO:root:dumped sg2vec sentences in 0.8912167549133301 sec.\n"
     ]
    },
    {
     "name": "stdout",
     "output_type": "stream",
     "text": [
      "loaded all graphs in 0.74 sec\n",
      "initial relabeling done in 0.03 sec\n",
      "WL iteration 1 done in 0.03 sec.\n",
      "num of WL rooted subgraphs in iter 1 is 33\n",
      "WL iteration 2 done in 0.03 sec.\n",
      "num of WL rooted subgraphs in iter 2 is 174\n",
      "WL iteration 3 done in 0.03 sec.\n",
      "num of WL rooted subgraphs in iter 3 is 572\n",
      "dumped sg2vec sentences in 0.03\n"
     ]
    }
   ],
   "source": [
    "t0 = time.time()\n",
    "wlk_relabel_and_dump_memory_version(graph_files, max_h=wlk_h, node_label_attr_name=label_filed_name)\n",
    "logging.info('dumped sg2vec sentences in {} sec.'.format(time.time() - t0))"
   ]
  },
  {
   "cell_type": "code",
   "execution_count": 7,
   "metadata": {
    "colab": {},
    "colab_type": "code",
    "id": "1hknd8vQFUzz"
   },
   "outputs": [],
   "source": [
    "X = np.array([g+\".\"+wl_extn for g in graph_files])\n",
    "graph_to_class_label_map = {l.split()[0].split('.')[0]: int(l.split()[1].strip()) for l in open (class_labels_fname)}\n",
    "Y = np.array([graph_to_class_label_map[os.path.basename(g).split('.')[0]] for g in X])"
   ]
  },
  {
   "cell_type": "code",
   "execution_count": 8,
   "metadata": {
    "colab": {
     "base_uri": "https://localhost:8080/",
     "height": 106
    },
    "colab_type": "code",
    "id": "VJvh-ADznNpF",
    "outputId": "19331384-1357-454d-ff08-9d2e4410d7d2"
   },
   "outputs": [
    {
     "data": {
      "text/plain": [
       "array(['/home/ipsita/BTP/graph2vec/data/kdd_datasets/mutag/0.gexf.g2v3',\n",
       "       '/home/ipsita/BTP/graph2vec/data/kdd_datasets/mutag/1.gexf.g2v3',\n",
       "       '/home/ipsita/BTP/graph2vec/data/kdd_datasets/mutag/10.gexf.g2v3',\n",
       "       '/home/ipsita/BTP/graph2vec/data/kdd_datasets/mutag/100.gexf.g2v3',\n",
       "       '/home/ipsita/BTP/graph2vec/data/kdd_datasets/mutag/101.gexf.g2v3'],\n",
       "      dtype='<U64')"
      ]
     },
     "execution_count": 8,
     "metadata": {},
     "output_type": "execute_result"
    }
   ],
   "source": [
    "X[:5]"
   ]
  },
  {
   "cell_type": "code",
   "execution_count": 9,
   "metadata": {
    "colab": {},
    "colab_type": "code",
    "id": "IQXqAQybJFIP"
   },
   "outputs": [],
   "source": [
    "# def split_data():\n",
    "    \n",
    "#     Y = list(range(0, len(graph_files)))\n",
    "    \n",
    "#     Xtrain, Xtest, Ytrain, Ytest = train_test_split(X, Y, test_size=0.20)\n",
    "\n",
    "#     print('Xtrain shape', np.shape(Xtrain))\n",
    "#     labels = [graph_to_class_label_map[os.path.basename(g).split('.')[0]] for g in Xtrain]\n",
    "#     Ytrain = np.array(labels)\n",
    "#     print('Ytrain shape', np.shape(Ytrain))\n",
    "\n",
    "#     print('Xtest shape', np.shape(Xtest))\n",
    "#     labels = [graph_to_class_label_map[os.path.basename(g).split('.')[0]] for g in Xtest] \n",
    "#     Ytest = np.array(labels)\n",
    "#     print('Ytest shape', np.shape(Ytest))\n",
    "    \n",
    "#     return Xtrain, Xtest, Ytrain, Ytest"
   ]
  },
  {
   "cell_type": "code",
   "execution_count": 10,
   "metadata": {
    "colab": {},
    "colab_type": "code",
    "id": "7W7IChW8vjoU"
   },
   "outputs": [],
   "source": [
    "# def preprocess(X):\n",
    "#     Xnew = []\n",
    "#     for x in X:\n",
    "#         d = x.split('/')[-2]\n",
    "#         g = x.split('/')[-1]\n",
    "#         Xnew.append(base_dir + d + '/' + g)\n",
    "#     return np.array(Xnew)"
   ]
  },
  {
   "cell_type": "markdown",
   "metadata": {},
   "source": [
    "## No need to train again"
   ]
  },
  {
   "cell_type": "code",
   "execution_count": 11,
   "metadata": {
    "colab": {
     "base_uri": "https://localhost:8080/",
     "height": 1000
    },
    "colab_type": "code",
    "id": "-iZ0wRGuJHJp",
    "outputId": "88300505-3925-4676-997c-2d806ad740d8"
   },
   "outputs": [
    {
     "name": "stderr",
     "output_type": "stream",
     "text": [
      "INFO:root:Initializing SKIPGRAM...\n",
      "INFO:root:number of graphs: 188\n",
      "INFO:root:subgraph vocabulary size: 787\n",
      "INFO:root:total number of subgraphs to be trained: 13485\n"
     ]
    },
    {
     "name": "stdout",
     "output_type": "stream",
     "text": [
      "number of graphs: 188\n",
      "subgraph vocabulary size: 787\n",
      "total number of subgraphs to be trained: 13485\n",
      "WARNING:tensorflow:From /home/ipsita/.local/lib/python3.6/site-packages/tensorflow/python/ops/nn_impl.py:180: add_dispatch_support.<locals>.wrapper (from tensorflow.python.ops.array_ops) is deprecated and will be removed in a future version.\n",
      "Instructions for updating:\n",
      "Use tf.where in 2.0, which has the same broadcast rule as np.where\n"
     ]
    },
    {
     "name": "stderr",
     "output_type": "stream",
     "text": [
      "WARNING:tensorflow:From /home/ipsita/.local/lib/python3.6/site-packages/tensorflow/python/ops/nn_impl.py:180: add_dispatch_support.<locals>.wrapper (from tensorflow.python.ops.array_ops) is deprecated and will be removed in a future version.\n",
      "Instructions for updating:\n",
      "Use tf.where in 2.0, which has the same broadcast rule as np.where\n"
     ]
    },
    {
     "name": "stdout",
     "output_type": "stream",
     "text": [
      "Shape final embed [128, 1024]\n"
     ]
    },
    {
     "name": "stderr",
     "output_type": "stream",
     "text": [
      "INFO:root:#########################   Epoch: 0 :  19.866548, 1.20 sec.  #####################\n",
      "INFO:root:#########################   Epoch: 1 :  11.400806, 0.41 sec.  #####################\n",
      "INFO:root:#########################   Epoch: 2 :  8.326573, 0.42 sec.  #####################\n",
      "INFO:root:#########################   Epoch: 3 :  4.972954, 0.41 sec.  #####################\n",
      "INFO:root:#########################   Epoch: 4 :  4.589118, 0.43 sec.  #####################\n",
      "INFO:root:#########################   Epoch: 5 :  3.484136, 0.43 sec.  #####################\n",
      "INFO:root:#########################   Epoch: 6 :  2.838482, 0.40 sec.  #####################\n",
      "INFO:root:#########################   Epoch: 7 :  2.874115, 0.38 sec.  #####################\n",
      "INFO:root:#########################   Epoch: 8 :  2.459714, 0.53 sec.  #####################\n",
      "INFO:root:#########################   Epoch: 9 :  2.069195, 0.38 sec.  #####################\n",
      "INFO:root:#########################   Epoch: 10 :  1.982019, 0.42 sec.  #####################\n",
      "INFO:root:#########################   Epoch: 11 :  1.791623, 0.40 sec.  #####################\n",
      "INFO:root:#########################   Epoch: 12 :  1.699187, 0.42 sec.  #####################\n",
      "INFO:root:#########################   Epoch: 13 :  1.376780, 0.40 sec.  #####################\n",
      "INFO:root:#########################   Epoch: 14 :  1.504601, 0.47 sec.  #####################\n",
      "INFO:root:#########################   Epoch: 15 :  1.293973, 0.53 sec.  #####################\n",
      "INFO:root:#########################   Epoch: 16 :  1.279170, 0.59 sec.  #####################\n",
      "INFO:root:#########################   Epoch: 17 :  1.231118, 0.42 sec.  #####################\n",
      "INFO:root:#########################   Epoch: 18 :  1.242465, 0.40 sec.  #####################\n",
      "INFO:root:#########################   Epoch: 19 :  1.218003, 0.51 sec.  #####################\n",
      "INFO:root:#########################   Epoch: 20 :  1.255360, 0.55 sec.  #####################\n",
      "INFO:root:#########################   Epoch: 21 :  1.168586, 0.68 sec.  #####################\n",
      "INFO:root:#########################   Epoch: 22 :  1.176843, 0.55 sec.  #####################\n",
      "INFO:root:#########################   Epoch: 23 :  1.134770, 0.43 sec.  #####################\n",
      "INFO:root:#########################   Epoch: 24 :  1.131830, 0.41 sec.  #####################\n",
      "INFO:root:#########################   Epoch: 25 :  1.157842, 0.41 sec.  #####################\n",
      "INFO:root:#########################   Epoch: 26 :  1.086805, 0.40 sec.  #####################\n",
      "INFO:root:#########################   Epoch: 27 :  1.107767, 0.41 sec.  #####################\n",
      "INFO:root:#########################   Epoch: 28 :  1.069794, 0.38 sec.  #####################\n",
      "INFO:root:#########################   Epoch: 29 :  1.061040, 0.42 sec.  #####################\n",
      "INFO:root:#########################   Epoch: 30 :  1.085001, 0.48 sec.  #####################\n",
      "INFO:root:#########################   Epoch: 31 :  1.035157, 0.40 sec.  #####################\n",
      "INFO:root:#########################   Epoch: 32 :  1.036760, 0.40 sec.  #####################\n",
      "INFO:root:#########################   Epoch: 33 :  1.042247, 0.39 sec.  #####################\n",
      "INFO:root:#########################   Epoch: 34 :  1.024257, 0.41 sec.  #####################\n",
      "INFO:root:#########################   Epoch: 35 :  1.013063, 0.42 sec.  #####################\n",
      "INFO:root:#########################   Epoch: 36 :  1.013427, 0.45 sec.  #####################\n",
      "INFO:root:#########################   Epoch: 37 :  1.004539, 0.53 sec.  #####################\n",
      "INFO:root:#########################   Epoch: 38 :  1.003947, 0.37 sec.  #####################\n",
      "INFO:root:#########################   Epoch: 39 :  0.986748, 0.37 sec.  #####################\n",
      "INFO:root:#########################   Epoch: 40 :  0.983909, 0.40 sec.  #####################\n",
      "INFO:root:#########################   Epoch: 41 :  0.977310, 0.40 sec.  #####################\n",
      "INFO:root:#########################   Epoch: 42 :  0.992006, 0.43 sec.  #####################\n",
      "INFO:root:#########################   Epoch: 43 :  1.000167, 0.39 sec.  #####################\n",
      "INFO:root:#########################   Epoch: 44 :  0.976917, 0.63 sec.  #####################\n",
      "INFO:root:#########################   Epoch: 45 :  0.979448, 0.73 sec.  #####################\n",
      "INFO:root:#########################   Epoch: 46 :  0.968111, 0.71 sec.  #####################\n",
      "INFO:root:#########################   Epoch: 47 :  0.961892, 0.59 sec.  #####################\n",
      "INFO:root:#########################   Epoch: 48 :  0.953532, 0.63 sec.  #####################\n",
      "INFO:root:#########################   Epoch: 49 :  0.920392, 0.64 sec.  #####################\n",
      "INFO:root:#########################   Epoch: 50 :  0.957225, 0.54 sec.  #####################\n",
      "INFO:root:#########################   Epoch: 51 :  0.939885, 0.42 sec.  #####################\n",
      "INFO:root:#########################   Epoch: 52 :  0.959925, 0.40 sec.  #####################\n",
      "INFO:root:#########################   Epoch: 53 :  0.941111, 0.37 sec.  #####################\n",
      "INFO:root:#########################   Epoch: 54 :  0.939769, 0.37 sec.  #####################\n",
      "INFO:root:#########################   Epoch: 55 :  0.915228, 0.38 sec.  #####################\n",
      "INFO:root:#########################   Epoch: 56 :  0.921036, 0.37 sec.  #####################\n",
      "INFO:root:#########################   Epoch: 57 :  0.919969, 0.37 sec.  #####################\n",
      "INFO:root:#########################   Epoch: 58 :  0.909094, 0.37 sec.  #####################\n",
      "INFO:root:#########################   Epoch: 59 :  0.908519, 0.37 sec.  #####################\n",
      "INFO:root:#########################   Epoch: 60 :  0.932427, 0.38 sec.  #####################\n",
      "INFO:root:#########################   Epoch: 61 :  0.894388, 0.41 sec.  #####################\n",
      "INFO:root:#########################   Epoch: 62 :  0.908708, 0.46 sec.  #####################\n",
      "INFO:root:#########################   Epoch: 63 :  0.893155, 0.43 sec.  #####################\n",
      "INFO:root:#########################   Epoch: 64 :  0.912075, 0.49 sec.  #####################\n",
      "INFO:root:#########################   Epoch: 65 :  0.903895, 0.45 sec.  #####################\n",
      "INFO:root:#########################   Epoch: 66 :  0.898841, 0.48 sec.  #####################\n",
      "INFO:root:#########################   Epoch: 67 :  0.895627, 0.37 sec.  #####################\n",
      "INFO:root:#########################   Epoch: 68 :  0.883837, 0.52 sec.  #####################\n",
      "INFO:root:#########################   Epoch: 69 :  0.864507, 0.46 sec.  #####################\n",
      "INFO:root:#########################   Epoch: 70 :  0.884505, 0.52 sec.  #####################\n",
      "INFO:root:#########################   Epoch: 71 :  0.858609, 0.46 sec.  #####################\n",
      "INFO:root:#########################   Epoch: 72 :  0.873286, 0.39 sec.  #####################\n",
      "INFO:root:#########################   Epoch: 73 :  0.874098, 0.51 sec.  #####################\n",
      "INFO:root:#########################   Epoch: 74 :  0.878579, 0.48 sec.  #####################\n",
      "INFO:root:#########################   Epoch: 75 :  0.879073, 0.52 sec.  #####################\n",
      "INFO:root:#########################   Epoch: 76 :  0.888748, 0.53 sec.  #####################\n",
      "INFO:root:#########################   Epoch: 77 :  0.855366, 0.51 sec.  #####################\n",
      "INFO:root:#########################   Epoch: 78 :  0.857792, 0.43 sec.  #####################\n",
      "INFO:root:#########################   Epoch: 79 :  0.851406, 0.39 sec.  #####################\n",
      "INFO:root:#########################   Epoch: 80 :  0.869976, 0.45 sec.  #####################\n",
      "INFO:root:#########################   Epoch: 81 :  0.877885, 0.47 sec.  #####################\n",
      "INFO:root:#########################   Epoch: 82 :  0.860479, 0.51 sec.  #####################\n",
      "INFO:root:#########################   Epoch: 83 :  0.874295, 0.38 sec.  #####################\n",
      "INFO:root:#########################   Epoch: 84 :  0.867065, 0.37 sec.  #####################\n",
      "INFO:root:#########################   Epoch: 85 :  0.847780, 0.37 sec.  #####################\n",
      "INFO:root:#########################   Epoch: 86 :  0.857948, 0.39 sec.  #####################\n",
      "INFO:root:#########################   Epoch: 87 :  0.865177, 0.45 sec.  #####################\n"
     ]
    },
    {
     "name": "stderr",
     "output_type": "stream",
     "text": [
      "INFO:root:#########################   Epoch: 88 :  0.857127, 0.47 sec.  #####################\n",
      "INFO:root:#########################   Epoch: 89 :  0.842676, 0.40 sec.  #####################\n",
      "INFO:root:#########################   Epoch: 90 :  0.848109, 0.37 sec.  #####################\n",
      "INFO:root:#########################   Epoch: 91 :  0.849041, 0.44 sec.  #####################\n",
      "INFO:root:#########################   Epoch: 92 :  0.840902, 0.48 sec.  #####################\n",
      "INFO:root:#########################   Epoch: 93 :  0.822442, 0.39 sec.  #####################\n",
      "INFO:root:#########################   Epoch: 94 :  0.849113, 0.39 sec.  #####################\n",
      "INFO:root:#########################   Epoch: 95 :  0.853752, 0.43 sec.  #####################\n",
      "INFO:root:#########################   Epoch: 96 :  0.820590, 0.40 sec.  #####################\n",
      "INFO:root:#########################   Epoch: 97 :  0.811097, 0.39 sec.  #####################\n",
      "INFO:root:#########################   Epoch: 98 :  0.803497, 0.42 sec.  #####################\n",
      "INFO:root:#########################   Epoch: 99 :  0.837435, 0.46 sec.  #####################\n",
      "INFO:root:#########################   Epoch: 100 :  0.830648, 0.56 sec.  #####################\n",
      "INFO:root:#########################   Epoch: 101 :  0.830299, 0.44 sec.  #####################\n",
      "INFO:root:#########################   Epoch: 102 :  0.838472, 0.46 sec.  #####################\n",
      "INFO:root:#########################   Epoch: 103 :  0.830670, 0.41 sec.  #####################\n",
      "INFO:root:#########################   Epoch: 104 :  0.803742, 0.41 sec.  #####################\n",
      "INFO:root:#########################   Epoch: 105 :  0.824002, 0.41 sec.  #####################\n",
      "INFO:root:#########################   Epoch: 106 :  0.831381, 0.41 sec.  #####################\n",
      "INFO:root:#########################   Epoch: 107 :  0.836606, 0.38 sec.  #####################\n",
      "INFO:root:#########################   Epoch: 108 :  0.827035, 0.40 sec.  #####################\n",
      "INFO:root:#########################   Epoch: 109 :  0.824483, 0.39 sec.  #####################\n",
      "INFO:root:#########################   Epoch: 110 :  0.836800, 0.39 sec.  #####################\n",
      "INFO:root:#########################   Epoch: 111 :  0.820105, 0.42 sec.  #####################\n",
      "INFO:root:#########################   Epoch: 112 :  0.853389, 0.40 sec.  #####################\n",
      "INFO:root:#########################   Epoch: 113 :  0.818761, 0.43 sec.  #####################\n",
      "INFO:root:#########################   Epoch: 114 :  0.817212, 0.39 sec.  #####################\n",
      "INFO:root:#########################   Epoch: 115 :  0.799242, 0.39 sec.  #####################\n",
      "INFO:root:#########################   Epoch: 116 :  0.818211, 0.39 sec.  #####################\n",
      "INFO:root:#########################   Epoch: 117 :  0.820604, 0.40 sec.  #####################\n",
      "INFO:root:#########################   Epoch: 118 :  0.815444, 0.41 sec.  #####################\n",
      "INFO:root:#########################   Epoch: 119 :  0.802307, 0.41 sec.  #####################\n",
      "INFO:root:#########################   Epoch: 120 :  0.810902, 0.41 sec.  #####################\n",
      "INFO:root:#########################   Epoch: 121 :  0.823352, 0.43 sec.  #####################\n",
      "INFO:root:#########################   Epoch: 122 :  0.819342, 0.42 sec.  #####################\n",
      "INFO:root:#########################   Epoch: 123 :  0.799099, 0.41 sec.  #####################\n",
      "INFO:root:#########################   Epoch: 124 :  0.798010, 0.39 sec.  #####################\n",
      "INFO:root:#########################   Epoch: 125 :  0.808195, 0.41 sec.  #####################\n",
      "INFO:root:#########################   Epoch: 126 :  0.820974, 0.42 sec.  #####################\n",
      "INFO:root:#########################   Epoch: 127 :  0.784603, 0.40 sec.  #####################\n",
      "INFO:root:#########################   Epoch: 128 :  0.807591, 0.38 sec.  #####################\n",
      "INFO:root:#########################   Epoch: 129 :  0.808157, 0.44 sec.  #####################\n",
      "INFO:root:#########################   Epoch: 130 :  0.796107, 0.40 sec.  #####################\n",
      "INFO:root:#########################   Epoch: 131 :  0.801323, 0.39 sec.  #####################\n",
      "INFO:root:#########################   Epoch: 132 :  0.794279, 0.40 sec.  #####################\n",
      "INFO:root:#########################   Epoch: 133 :  0.809997, 0.40 sec.  #####################\n",
      "INFO:root:#########################   Epoch: 134 :  0.783036, 0.53 sec.  #####################\n",
      "INFO:root:#########################   Epoch: 135 :  0.795762, 0.42 sec.  #####################\n",
      "INFO:root:#########################   Epoch: 136 :  0.816469, 0.38 sec.  #####################\n",
      "INFO:root:#########################   Epoch: 137 :  0.807510, 0.37 sec.  #####################\n",
      "INFO:root:#########################   Epoch: 138 :  0.800003, 0.48 sec.  #####################\n",
      "INFO:root:#########################   Epoch: 139 :  0.814822, 0.38 sec.  #####################\n",
      "INFO:root:#########################   Epoch: 140 :  0.804762, 0.39 sec.  #####################\n",
      "INFO:root:#########################   Epoch: 141 :  0.801836, 0.48 sec.  #####################\n",
      "INFO:root:#########################   Epoch: 142 :  0.810135, 0.45 sec.  #####################\n",
      "INFO:root:#########################   Epoch: 143 :  0.796350, 0.40 sec.  #####################\n",
      "INFO:root:#########################   Epoch: 144 :  0.783893, 0.39 sec.  #####################\n",
      "INFO:root:#########################   Epoch: 145 :  0.795314, 0.39 sec.  #####################\n",
      "INFO:root:#########################   Epoch: 146 :  0.778473, 0.39 sec.  #####################\n",
      "INFO:root:#########################   Epoch: 147 :  0.793044, 0.39 sec.  #####################\n",
      "INFO:root:#########################   Epoch: 148 :  0.785466, 0.39 sec.  #####################\n",
      "INFO:root:#########################   Epoch: 149 :  0.787467, 0.40 sec.  #####################\n",
      "INFO:root:#########################   Epoch: 150 :  0.781077, 0.39 sec.  #####################\n",
      "INFO:root:#########################   Epoch: 151 :  0.774169, 0.40 sec.  #####################\n",
      "INFO:root:#########################   Epoch: 152 :  0.775656, 0.39 sec.  #####################\n",
      "INFO:root:#########################   Epoch: 153 :  0.769400, 0.55 sec.  #####################\n",
      "INFO:root:#########################   Epoch: 154 :  0.789972, 0.38 sec.  #####################\n",
      "INFO:root:#########################   Epoch: 155 :  0.777623, 0.39 sec.  #####################\n",
      "INFO:root:#########################   Epoch: 156 :  0.777397, 0.38 sec.  #####################\n",
      "INFO:root:#########################   Epoch: 157 :  0.768636, 0.42 sec.  #####################\n",
      "INFO:root:#########################   Epoch: 158 :  0.783749, 0.38 sec.  #####################\n",
      "INFO:root:#########################   Epoch: 159 :  0.781770, 0.42 sec.  #####################\n",
      "INFO:root:#########################   Epoch: 160 :  0.791474, 0.42 sec.  #####################\n",
      "INFO:root:#########################   Epoch: 161 :  0.780751, 0.42 sec.  #####################\n",
      "INFO:root:#########################   Epoch: 162 :  0.778125, 0.44 sec.  #####################\n",
      "INFO:root:#########################   Epoch: 163 :  0.795511, 0.38 sec.  #####################\n",
      "INFO:root:#########################   Epoch: 164 :  0.775885, 0.41 sec.  #####################\n",
      "INFO:root:#########################   Epoch: 165 :  0.778743, 0.42 sec.  #####################\n",
      "INFO:root:#########################   Epoch: 166 :  0.795208, 0.38 sec.  #####################\n",
      "INFO:root:#########################   Epoch: 167 :  0.793749, 0.42 sec.  #####################\n",
      "INFO:root:#########################   Epoch: 168 :  0.788761, 0.42 sec.  #####################\n",
      "INFO:root:#########################   Epoch: 169 :  0.771785, 0.39 sec.  #####################\n",
      "INFO:root:#########################   Epoch: 170 :  0.779820, 0.39 sec.  #####################\n",
      "INFO:root:#########################   Epoch: 171 :  0.747629, 0.41 sec.  #####################\n",
      "INFO:root:#########################   Epoch: 172 :  0.775149, 0.40 sec.  #####################\n",
      "INFO:root:#########################   Epoch: 173 :  0.752069, 0.38 sec.  #####################\n",
      "INFO:root:#########################   Epoch: 174 :  0.751599, 0.39 sec.  #####################\n"
     ]
    },
    {
     "name": "stderr",
     "output_type": "stream",
     "text": [
      "INFO:root:#########################   Epoch: 175 :  0.747722, 0.39 sec.  #####################\n",
      "INFO:root:#########################   Epoch: 176 :  0.764087, 0.38 sec.  #####################\n",
      "INFO:root:#########################   Epoch: 177 :  0.759554, 0.39 sec.  #####################\n",
      "INFO:root:#########################   Epoch: 178 :  0.768099, 0.40 sec.  #####################\n",
      "INFO:root:#########################   Epoch: 179 :  0.746487, 0.39 sec.  #####################\n",
      "INFO:root:#########################   Epoch: 180 :  0.760633, 0.39 sec.  #####################\n",
      "INFO:root:#########################   Epoch: 181 :  0.760719, 0.38 sec.  #####################\n",
      "INFO:root:#########################   Epoch: 182 :  0.770542, 0.39 sec.  #####################\n",
      "INFO:root:#########################   Epoch: 183 :  0.767260, 0.42 sec.  #####################\n",
      "INFO:root:#########################   Epoch: 184 :  0.762660, 0.38 sec.  #####################\n",
      "INFO:root:#########################   Epoch: 185 :  0.736717, 0.39 sec.  #####################\n",
      "INFO:root:#########################   Epoch: 186 :  0.763169, 0.38 sec.  #####################\n",
      "INFO:root:#########################   Epoch: 187 :  0.770973, 0.38 sec.  #####################\n",
      "INFO:root:#########################   Epoch: 188 :  0.760117, 0.39 sec.  #####################\n",
      "INFO:root:#########################   Epoch: 189 :  0.773088, 0.38 sec.  #####################\n",
      "INFO:root:#########################   Epoch: 190 :  0.767302, 0.42 sec.  #####################\n",
      "INFO:root:#########################   Epoch: 191 :  0.768518, 0.43 sec.  #####################\n",
      "INFO:root:#########################   Epoch: 192 :  0.761166, 0.42 sec.  #####################\n",
      "INFO:root:#########################   Epoch: 193 :  0.757928, 0.42 sec.  #####################\n",
      "INFO:root:#########################   Epoch: 194 :  0.765810, 0.42 sec.  #####################\n",
      "INFO:root:#########################   Epoch: 195 :  0.759221, 0.38 sec.  #####################\n",
      "INFO:root:#########################   Epoch: 196 :  0.764611, 0.41 sec.  #####################\n",
      "INFO:root:#########################   Epoch: 197 :  0.762300, 0.39 sec.  #####################\n",
      "INFO:root:#########################   Epoch: 198 :  0.756642, 0.38 sec.  #####################\n",
      "INFO:root:#########################   Epoch: 199 :  0.754525, 0.38 sec.  #####################\n",
      "INFO:root:#########################   Epoch: 200 :  0.734458, 0.38 sec.  #####################\n",
      "INFO:root:#########################   Epoch: 201 :  0.766101, 0.38 sec.  #####################\n",
      "INFO:root:#########################   Epoch: 202 :  0.759220, 0.38 sec.  #####################\n",
      "INFO:root:#########################   Epoch: 203 :  0.759948, 0.39 sec.  #####################\n",
      "INFO:root:#########################   Epoch: 204 :  0.755068, 0.44 sec.  #####################\n",
      "INFO:root:#########################   Epoch: 205 :  0.762954, 0.42 sec.  #####################\n",
      "INFO:root:#########################   Epoch: 206 :  0.733964, 0.40 sec.  #####################\n",
      "INFO:root:#########################   Epoch: 207 :  0.745739, 0.38 sec.  #####################\n",
      "INFO:root:#########################   Epoch: 208 :  0.743846, 0.38 sec.  #####################\n",
      "INFO:root:#########################   Epoch: 209 :  0.750554, 0.41 sec.  #####################\n",
      "INFO:root:#########################   Epoch: 210 :  0.736147, 0.38 sec.  #####################\n",
      "INFO:root:#########################   Epoch: 211 :  0.737876, 0.38 sec.  #####################\n",
      "INFO:root:#########################   Epoch: 212 :  0.731608, 0.38 sec.  #####################\n",
      "INFO:root:#########################   Epoch: 213 :  0.739954, 0.38 sec.  #####################\n",
      "INFO:root:#########################   Epoch: 214 :  0.750140, 0.38 sec.  #####################\n",
      "INFO:root:#########################   Epoch: 215 :  0.743146, 0.38 sec.  #####################\n",
      "INFO:root:#########################   Epoch: 216 :  0.729073, 0.40 sec.  #####################\n",
      "INFO:root:#########################   Epoch: 217 :  0.745832, 0.38 sec.  #####################\n",
      "INFO:root:#########################   Epoch: 218 :  0.756958, 0.38 sec.  #####################\n",
      "INFO:root:#########################   Epoch: 219 :  0.758715, 0.38 sec.  #####################\n",
      "INFO:root:#########################   Epoch: 220 :  0.737142, 0.38 sec.  #####################\n",
      "INFO:root:#########################   Epoch: 221 :  0.736522, 0.38 sec.  #####################\n",
      "INFO:root:#########################   Epoch: 222 :  0.733598, 0.38 sec.  #####################\n",
      "INFO:root:#########################   Epoch: 223 :  0.749699, 0.38 sec.  #####################\n",
      "INFO:root:#########################   Epoch: 224 :  0.746292, 0.38 sec.  #####################\n",
      "INFO:root:#########################   Epoch: 225 :  0.754757, 0.38 sec.  #####################\n",
      "INFO:root:#########################   Epoch: 226 :  0.741384, 0.38 sec.  #####################\n",
      "INFO:root:#########################   Epoch: 227 :  0.727804, 0.38 sec.  #####################\n",
      "INFO:root:#########################   Epoch: 228 :  0.757651, 0.39 sec.  #####################\n",
      "INFO:root:#########################   Epoch: 229 :  0.729737, 0.38 sec.  #####################\n",
      "INFO:root:#########################   Epoch: 230 :  0.746485, 0.38 sec.  #####################\n",
      "INFO:root:#########################   Epoch: 231 :  0.733764, 0.38 sec.  #####################\n",
      "INFO:root:#########################   Epoch: 232 :  0.737071, 0.38 sec.  #####################\n",
      "INFO:root:#########################   Epoch: 233 :  0.723349, 0.38 sec.  #####################\n",
      "INFO:root:#########################   Epoch: 234 :  0.732316, 0.38 sec.  #####################\n",
      "INFO:root:#########################   Epoch: 235 :  0.753187, 0.38 sec.  #####################\n",
      "INFO:root:#########################   Epoch: 236 :  0.732707, 0.38 sec.  #####################\n",
      "INFO:root:#########################   Epoch: 237 :  0.728773, 0.38 sec.  #####################\n",
      "INFO:root:#########################   Epoch: 238 :  0.754780, 0.39 sec.  #####################\n",
      "INFO:root:#########################   Epoch: 239 :  0.757045, 0.41 sec.  #####################\n",
      "INFO:root:#########################   Epoch: 240 :  0.722202, 0.41 sec.  #####################\n",
      "INFO:root:#########################   Epoch: 241 :  0.737275, 0.41 sec.  #####################\n",
      "INFO:root:#########################   Epoch: 242 :  0.715848, 0.41 sec.  #####################\n",
      "INFO:root:#########################   Epoch: 243 :  0.738061, 0.50 sec.  #####################\n",
      "INFO:root:#########################   Epoch: 244 :  0.718781, 0.38 sec.  #####################\n",
      "INFO:root:#########################   Epoch: 245 :  0.729347, 0.38 sec.  #####################\n",
      "INFO:root:#########################   Epoch: 246 :  0.709702, 0.38 sec.  #####################\n",
      "INFO:root:#########################   Epoch: 247 :  0.734917, 0.38 sec.  #####################\n",
      "INFO:root:#########################   Epoch: 248 :  0.736555, 0.48 sec.  #####################\n",
      "INFO:root:#########################   Epoch: 249 :  0.707181, 0.44 sec.  #####################\n",
      "INFO:root:#########################   Epoch: 250 :  0.728470, 0.39 sec.  #####################\n",
      "INFO:root:#########################   Epoch: 251 :  0.722615, 0.39 sec.  #####################\n",
      "INFO:root:#########################   Epoch: 252 :  0.720774, 0.41 sec.  #####################\n",
      "INFO:root:#########################   Epoch: 253 :  0.723738, 0.55 sec.  #####################\n",
      "INFO:root:#########################   Epoch: 254 :  0.721399, 0.43 sec.  #####################\n",
      "INFO:root:#########################   Epoch: 255 :  0.731268, 0.40 sec.  #####################\n",
      "INFO:root:#########################   Epoch: 256 :  0.727936, 0.40 sec.  #####################\n",
      "INFO:root:#########################   Epoch: 257 :  0.722108, 0.40 sec.  #####################\n",
      "INFO:root:#########################   Epoch: 258 :  0.694773, 0.39 sec.  #####################\n",
      "INFO:root:#########################   Epoch: 259 :  0.717251, 0.38 sec.  #####################\n",
      "INFO:root:#########################   Epoch: 260 :  0.726801, 0.39 sec.  #####################\n",
      "INFO:root:#########################   Epoch: 261 :  0.705424, 0.39 sec.  #####################\n"
     ]
    },
    {
     "name": "stderr",
     "output_type": "stream",
     "text": [
      "INFO:root:#########################   Epoch: 262 :  0.738744, 0.38 sec.  #####################\n",
      "INFO:root:#########################   Epoch: 263 :  0.743357, 0.40 sec.  #####################\n",
      "INFO:root:#########################   Epoch: 264 :  0.727169, 0.56 sec.  #####################\n",
      "INFO:root:#########################   Epoch: 265 :  0.724022, 0.47 sec.  #####################\n",
      "INFO:root:#########################   Epoch: 266 :  0.720533, 0.39 sec.  #####################\n",
      "INFO:root:#########################   Epoch: 267 :  0.714879, 0.39 sec.  #####################\n",
      "INFO:root:#########################   Epoch: 268 :  0.710088, 0.48 sec.  #####################\n",
      "INFO:root:#########################   Epoch: 269 :  0.732722, 0.45 sec.  #####################\n",
      "INFO:root:#########################   Epoch: 270 :  0.731192, 0.45 sec.  #####################\n",
      "INFO:root:#########################   Epoch: 271 :  0.734389, 0.47 sec.  #####################\n",
      "INFO:root:#########################   Epoch: 272 :  0.737096, 0.44 sec.  #####################\n",
      "INFO:root:#########################   Epoch: 273 :  0.716008, 0.40 sec.  #####################\n",
      "INFO:root:#########################   Epoch: 274 :  0.738789, 0.40 sec.  #####################\n",
      "INFO:root:#########################   Epoch: 275 :  0.721222, 0.40 sec.  #####################\n",
      "INFO:root:#########################   Epoch: 276 :  0.726889, 0.39 sec.  #####################\n",
      "INFO:root:#########################   Epoch: 277 :  0.711861, 0.38 sec.  #####################\n",
      "INFO:root:#########################   Epoch: 278 :  0.708301, 0.37 sec.  #####################\n",
      "INFO:root:#########################   Epoch: 279 :  0.725580, 0.39 sec.  #####################\n",
      "INFO:root:#########################   Epoch: 280 :  0.737188, 0.39 sec.  #####################\n",
      "INFO:root:#########################   Epoch: 281 :  0.729173, 0.38 sec.  #####################\n",
      "INFO:root:#########################   Epoch: 282 :  0.723603, 0.42 sec.  #####################\n",
      "INFO:root:#########################   Epoch: 283 :  0.717446, 0.41 sec.  #####################\n",
      "INFO:root:#########################   Epoch: 284 :  0.714751, 0.40 sec.  #####################\n",
      "INFO:root:#########################   Epoch: 285 :  0.709470, 0.38 sec.  #####################\n",
      "INFO:root:#########################   Epoch: 286 :  0.727441, 0.40 sec.  #####################\n",
      "INFO:root:#########################   Epoch: 287 :  0.720286, 0.43 sec.  #####################\n",
      "INFO:root:#########################   Epoch: 288 :  0.708954, 0.38 sec.  #####################\n",
      "INFO:root:#########################   Epoch: 289 :  0.721518, 0.40 sec.  #####################\n",
      "INFO:root:#########################   Epoch: 290 :  0.709367, 0.41 sec.  #####################\n",
      "INFO:root:#########################   Epoch: 291 :  0.706695, 0.41 sec.  #####################\n",
      "INFO:root:#########################   Epoch: 292 :  0.705189, 0.39 sec.  #####################\n",
      "INFO:root:#########################   Epoch: 293 :  0.709054, 0.38 sec.  #####################\n",
      "INFO:root:#########################   Epoch: 294 :  0.714071, 0.39 sec.  #####################\n",
      "INFO:root:#########################   Epoch: 295 :  0.723418, 0.38 sec.  #####################\n",
      "INFO:root:#########################   Epoch: 296 :  0.717232, 0.38 sec.  #####################\n",
      "INFO:root:#########################   Epoch: 297 :  0.720902, 0.38 sec.  #####################\n",
      "INFO:root:#########################   Epoch: 298 :  0.685803, 0.38 sec.  #####################\n",
      "INFO:root:#########################   Epoch: 299 :  0.749220, 0.37 sec.  #####################\n",
      "INFO:root:#########################   Epoch: 300 :  0.716785, 0.38 sec.  #####################\n",
      "INFO:root:#########################   Epoch: 301 :  0.730350, 0.38 sec.  #####################\n",
      "INFO:root:#########################   Epoch: 302 :  0.725005, 0.38 sec.  #####################\n",
      "INFO:root:#########################   Epoch: 303 :  0.705130, 0.37 sec.  #####################\n",
      "INFO:root:#########################   Epoch: 304 :  0.729305, 0.38 sec.  #####################\n",
      "INFO:root:#########################   Epoch: 305 :  0.717815, 0.39 sec.  #####################\n",
      "INFO:root:#########################   Epoch: 306 :  0.712177, 0.43 sec.  #####################\n",
      "INFO:root:#########################   Epoch: 307 :  0.706050, 0.40 sec.  #####################\n",
      "INFO:root:#########################   Epoch: 308 :  0.711565, 0.41 sec.  #####################\n",
      "INFO:root:#########################   Epoch: 309 :  0.709665, 0.38 sec.  #####################\n",
      "INFO:root:#########################   Epoch: 310 :  0.714422, 0.39 sec.  #####################\n",
      "INFO:root:#########################   Epoch: 311 :  0.710044, 0.39 sec.  #####################\n",
      "INFO:root:#########################   Epoch: 312 :  0.716025, 0.40 sec.  #####################\n",
      "INFO:root:#########################   Epoch: 313 :  0.725372, 0.39 sec.  #####################\n",
      "INFO:root:#########################   Epoch: 314 :  0.720075, 0.39 sec.  #####################\n",
      "INFO:root:#########################   Epoch: 315 :  0.700312, 0.38 sec.  #####################\n",
      "INFO:root:#########################   Epoch: 316 :  0.686284, 0.43 sec.  #####################\n",
      "INFO:root:#########################   Epoch: 317 :  0.699988, 0.38 sec.  #####################\n",
      "INFO:root:#########################   Epoch: 318 :  0.701940, 0.40 sec.  #####################\n",
      "INFO:root:#########################   Epoch: 319 :  0.723391, 0.38 sec.  #####################\n",
      "INFO:root:#########################   Epoch: 320 :  0.694331, 0.39 sec.  #####################\n",
      "INFO:root:#########################   Epoch: 321 :  0.718675, 0.39 sec.  #####################\n",
      "INFO:root:#########################   Epoch: 322 :  0.697900, 0.39 sec.  #####################\n",
      "INFO:root:#########################   Epoch: 323 :  0.692515, 0.38 sec.  #####################\n",
      "INFO:root:#########################   Epoch: 324 :  0.725148, 0.38 sec.  #####################\n",
      "INFO:root:#########################   Epoch: 325 :  0.710913, 0.37 sec.  #####################\n",
      "INFO:root:#########################   Epoch: 326 :  0.707106, 0.38 sec.  #####################\n",
      "INFO:root:#########################   Epoch: 327 :  0.721967, 0.38 sec.  #####################\n",
      "INFO:root:#########################   Epoch: 328 :  0.702349, 0.38 sec.  #####################\n",
      "INFO:root:#########################   Epoch: 329 :  0.712396, 0.37 sec.  #####################\n",
      "INFO:root:#########################   Epoch: 330 :  0.686485, 0.38 sec.  #####################\n",
      "INFO:root:#########################   Epoch: 331 :  0.696201, 0.37 sec.  #####################\n",
      "INFO:root:#########################   Epoch: 332 :  0.699495, 0.38 sec.  #####################\n",
      "INFO:root:#########################   Epoch: 333 :  0.715574, 0.40 sec.  #####################\n",
      "INFO:root:#########################   Epoch: 334 :  0.712819, 0.39 sec.  #####################\n",
      "INFO:root:#########################   Epoch: 335 :  0.698440, 0.39 sec.  #####################\n",
      "INFO:root:#########################   Epoch: 336 :  0.676577, 0.38 sec.  #####################\n",
      "INFO:root:#########################   Epoch: 337 :  0.698797, 0.47 sec.  #####################\n",
      "INFO:root:#########################   Epoch: 338 :  0.701034, 0.42 sec.  #####################\n",
      "INFO:root:#########################   Epoch: 339 :  0.703574, 0.39 sec.  #####################\n",
      "INFO:root:#########################   Epoch: 340 :  0.706467, 0.38 sec.  #####################\n",
      "INFO:root:#########################   Epoch: 341 :  0.695509, 0.38 sec.  #####################\n",
      "INFO:root:#########################   Epoch: 342 :  0.699599, 0.38 sec.  #####################\n",
      "INFO:root:#########################   Epoch: 343 :  0.687268, 0.40 sec.  #####################\n",
      "INFO:root:#########################   Epoch: 344 :  0.697588, 0.39 sec.  #####################\n",
      "INFO:root:#########################   Epoch: 345 :  0.701417, 0.39 sec.  #####################\n",
      "INFO:root:#########################   Epoch: 346 :  0.688084, 0.37 sec.  #####################\n",
      "INFO:root:#########################   Epoch: 347 :  0.706704, 0.39 sec.  #####################\n",
      "INFO:root:#########################   Epoch: 348 :  0.680273, 0.37 sec.  #####################\n"
     ]
    },
    {
     "name": "stderr",
     "output_type": "stream",
     "text": [
      "INFO:root:#########################   Epoch: 349 :  0.715135, 0.38 sec.  #####################\n",
      "INFO:root:#########################   Epoch: 350 :  0.708463, 0.38 sec.  #####################\n",
      "INFO:root:#########################   Epoch: 351 :  0.688365, 0.38 sec.  #####################\n",
      "INFO:root:#########################   Epoch: 352 :  0.703449, 0.38 sec.  #####################\n",
      "INFO:root:#########################   Epoch: 353 :  0.712745, 0.38 sec.  #####################\n",
      "INFO:root:#########################   Epoch: 354 :  0.704625, 0.40 sec.  #####################\n",
      "INFO:root:#########################   Epoch: 355 :  0.700602, 0.41 sec.  #####################\n",
      "INFO:root:#########################   Epoch: 356 :  0.691638, 0.40 sec.  #####################\n",
      "INFO:root:#########################   Epoch: 357 :  0.714694, 0.39 sec.  #####################\n",
      "INFO:root:#########################   Epoch: 358 :  0.694004, 0.39 sec.  #####################\n",
      "INFO:root:#########################   Epoch: 359 :  0.679481, 0.42 sec.  #####################\n",
      "INFO:root:#########################   Epoch: 360 :  0.682591, 0.40 sec.  #####################\n",
      "INFO:root:#########################   Epoch: 361 :  0.704734, 0.43 sec.  #####################\n",
      "INFO:root:#########################   Epoch: 362 :  0.686677, 0.40 sec.  #####################\n",
      "INFO:root:#########################   Epoch: 363 :  0.708427, 0.39 sec.  #####################\n",
      "INFO:root:#########################   Epoch: 364 :  0.687309, 0.38 sec.  #####################\n",
      "INFO:root:#########################   Epoch: 365 :  0.706309, 0.38 sec.  #####################\n",
      "INFO:root:#########################   Epoch: 366 :  0.687204, 0.41 sec.  #####################\n",
      "INFO:root:#########################   Epoch: 367 :  0.703584, 0.41 sec.  #####################\n",
      "INFO:root:#########################   Epoch: 368 :  0.687734, 0.41 sec.  #####################\n",
      "INFO:root:#########################   Epoch: 369 :  0.679781, 0.39 sec.  #####################\n",
      "INFO:root:#########################   Epoch: 370 :  0.713894, 0.37 sec.  #####################\n",
      "INFO:root:#########################   Epoch: 371 :  0.688266, 0.40 sec.  #####################\n",
      "INFO:root:#########################   Epoch: 372 :  0.688568, 0.38 sec.  #####################\n",
      "INFO:root:#########################   Epoch: 373 :  0.693078, 0.38 sec.  #####################\n",
      "INFO:root:#########################   Epoch: 374 :  0.687123, 0.41 sec.  #####################\n",
      "INFO:root:#########################   Epoch: 375 :  0.690595, 0.40 sec.  #####################\n",
      "INFO:root:#########################   Epoch: 376 :  0.688644, 0.41 sec.  #####################\n",
      "INFO:root:#########################   Epoch: 377 :  0.672195, 0.41 sec.  #####################\n",
      "INFO:root:#########################   Epoch: 378 :  0.675705, 0.50 sec.  #####################\n",
      "INFO:root:#########################   Epoch: 379 :  0.694521, 0.43 sec.  #####################\n",
      "INFO:root:#########################   Epoch: 380 :  0.697024, 0.40 sec.  #####################\n",
      "INFO:root:#########################   Epoch: 381 :  0.682553, 0.43 sec.  #####################\n",
      "INFO:root:#########################   Epoch: 382 :  0.731400, 0.42 sec.  #####################\n",
      "INFO:root:#########################   Epoch: 383 :  0.722551, 0.41 sec.  #####################\n",
      "INFO:root:#########################   Epoch: 384 :  0.700843, 0.39 sec.  #####################\n",
      "INFO:root:#########################   Epoch: 385 :  0.685234, 0.40 sec.  #####################\n",
      "INFO:root:#########################   Epoch: 386 :  0.702823, 0.41 sec.  #####################\n",
      "INFO:root:#########################   Epoch: 387 :  0.675641, 0.40 sec.  #####################\n",
      "INFO:root:#########################   Epoch: 388 :  0.700291, 0.42 sec.  #####################\n",
      "INFO:root:#########################   Epoch: 389 :  0.674670, 0.39 sec.  #####################\n",
      "INFO:root:#########################   Epoch: 390 :  0.691586, 0.39 sec.  #####################\n",
      "INFO:root:#########################   Epoch: 391 :  0.695940, 0.39 sec.  #####################\n",
      "INFO:root:#########################   Epoch: 392 :  0.694737, 0.38 sec.  #####################\n",
      "INFO:root:#########################   Epoch: 393 :  0.687725, 0.38 sec.  #####################\n",
      "INFO:root:#########################   Epoch: 394 :  0.688840, 0.39 sec.  #####################\n",
      "INFO:root:#########################   Epoch: 395 :  0.679030, 0.40 sec.  #####################\n",
      "INFO:root:#########################   Epoch: 396 :  0.699204, 0.40 sec.  #####################\n",
      "INFO:root:#########################   Epoch: 397 :  0.661317, 0.40 sec.  #####################\n",
      "INFO:root:#########################   Epoch: 398 :  0.682083, 0.39 sec.  #####################\n",
      "INFO:root:#########################   Epoch: 399 :  0.704932, 0.40 sec.  #####################\n",
      "INFO:root:Write the matrix to a word2vec format file\n",
      "INFO:root:Completed writing the final embeddings, pls check file: /home/ipsita/BTP/graph2vec/tmp/for_gui/embeddings/mutag_dims_512_epochs_400_lr_0.3_embeddings.txt for the same\n"
     ]
    },
    {
     "name": "stdout",
     "output_type": "stream",
     "text": [
      "Model saved in path: /home/ipsita/BTP/graph2vec/tmp/for_gui/model_ckpt/1/model2.ckpt\n"
     ]
    },
    {
     "name": "stderr",
     "output_type": "stream",
     "text": [
      "INFO:root:Completed writing the final subgraph embeddings, pls check file: /home/ipsita/BTP/graph2vec/tmp/for_gui/embeddings/mutag_dims_512_epochs_400_lr_0.3_subgraph_embedding.txt for the same\n"
     ]
    },
    {
     "data": {
      "image/png": "[encoded data removed]",
      "text/plain": [
       "<matplotlib.figure.Figure at 0x7f6bcc0d5b00>"
      ]
     },
     "metadata": {
      "needs_background": "light"
     },
     "output_type": "display_data"
    }
   ],
   "source": [
    "all_acc = []\n",
    "for i in range(0, 1):     # change to 1 to 10\n",
    "    \n",
    "    #i = 1 #########################################################\n",
    "    #Xtrain, Xtest, Ytrain, Ytest = split_data()\n",
    "    path   = base_dir + \"splits_\"+ dataset_name +\"/\"\n",
    "    Xtrain = np.load(path + str(i+1) + '/x_train.npy')\n",
    "    Xtest  = np.load(path + str(i+1) + '/x_test.npy')\n",
    "    Ytrain = np.load(path + str(i+1) + '/y_train.npy')\n",
    "    Ytest  = np.load(path + str(i+1) + '/y_test.npy')\n",
    "\n",
    "    cpath = base_dir + 'model_ckpt/1'\n",
    "    os.mkdir(cpath)\n",
    "\n",
    "    ### THIS IS TRAINING ON THE WHOLE DATA ###\n",
    "    embedding_fname, subgraph_embedding_fname = train_skipgram(corpus_dir, wl_extn, learning_rate, win_size, concat_flag, \n",
    "                                         cpath, X, embedding_size, num_negsample, epochs, batch_size, output_dir)\n",
    "    \n",
    "#     final_a = perform_classification_final_new(Xtrain, Ytrain, Xtest, Ytest, embedding_fname)\n",
    "#     all_acc.append(final_a)"
   ]
  },
  {
   "cell_type": "code",
   "execution_count": null,
   "metadata": {},
   "outputs": [],
   "source": []
  },
  {
   "cell_type": "code",
   "execution_count": 15,
   "metadata": {},
   "outputs": [],
   "source": [
    "subgraph_embedding_fname = '/home/ipsita/BTP/graph2vec/tmp/for_gui/embeddings/mutag_dims_512_epochs_400_lr_0.3_subgraph_embedding.txt'"
   ]
  },
  {
   "cell_type": "markdown",
   "metadata": {},
   "source": [
    "## Graph vectors from subgraph addition"
   ]
  },
  {
   "cell_type": "code",
   "execution_count": 16,
   "metadata": {},
   "outputs": [
    {
     "data": {
      "text/plain": [
       "188"
      ]
     },
     "execution_count": 16,
     "metadata": {},
     "output_type": "execute_result"
    }
   ],
   "source": [
    "graph_embeddings = np.zeros((len(X), embedding_size))\n",
    "subgraphs = []\n",
    "\n",
    "for fname in X:\n",
    "    tmp = [l.split()[0] for l in open(fname).readlines()]\n",
    "    subgraphs.append(np.unique(tmp))\n",
    "len(subgraphs)"
   ]
  },
  {
   "cell_type": "code",
   "execution_count": 17,
   "metadata": {},
   "outputs": [],
   "source": [
    "with open(subgraph_embedding_fname, 'r') as fh:\n",
    "    subgraph_embedding_dict = json.load(fh)"
   ]
  },
  {
   "cell_type": "code",
   "execution_count": 18,
   "metadata": {},
   "outputs": [],
   "source": [
    "for i in range(0, len(X)):\n",
    "    for s in subgraphs[i]:\n",
    "        graph_embeddings[i,:] += subgraph_embedding_dict[s]"
   ]
  },
  {
   "cell_type": "code",
   "execution_count": 19,
   "metadata": {},
   "outputs": [],
   "source": [
    "## TO NORMALIZE ###\n",
    "norm = np.sqrt(np.mean(np.square(graph_embeddings)))\n",
    "graph_embeddings = graph_embeddings/norm"
   ]
  },
  {
   "cell_type": "code",
   "execution_count": 20,
   "metadata": {},
   "outputs": [],
   "source": [
    "final_embedding_fname = '/home/ipsita/BTP/graph2vec/tmp/for_gui/embeddings/final_graph_embedding.txt'"
   ]
  },
  {
   "cell_type": "code",
   "execution_count": 32,
   "metadata": {},
   "outputs": [],
   "source": [
    "dict_to_save = {}\n",
    "\n",
    "for i in range(0, len(X)):\n",
    "    graph_fname = X[i]\n",
    "    graph_embed = graph_embeddings[i, :].tolist()\n",
    "    dict_to_save[graph_fname] = graph_embed\n",
    "    \n",
    "with open(final_embedding_fname, 'w') as fh:\n",
    "    json.dump(dict_to_save,fh,indent=4)"
   ]
  },
  {
   "cell_type": "code",
   "execution_count": 15,
   "metadata": {},
   "outputs": [],
   "source": [
    "acc_list_new = []\n",
    "acc_list_old = []"
   ]
  },
  {
   "cell_type": "code",
   "execution_count": 21,
   "metadata": {},
   "outputs": [],
   "source": [
    "embedding_fname = \"/home/ipsita/BTP/graph2vec/tmp/for_gui/embeddings/mutag_dims_512_epochs_400_lr_0.3_embeddings.txt\""
   ]
  },
  {
   "cell_type": "code",
   "execution_count": 77,
   "metadata": {
    "scrolled": true
   },
   "outputs": [
    {
     "name": "stdout",
     "output_type": "stream",
     "text": [
      "Fitting 5 folds for each of 6 candidates, totalling 30 fits\n"
     ]
    },
    {
     "name": "stderr",
     "output_type": "stream",
     "text": [
      "[Parallel(n_jobs=1)]: Done  30 out of  30 | elapsed:    1.7s finished\n",
      "INFO:root:best classifier model's hyperparamters\n",
      "INFO:root:Linear SVM accuracy: 0.8421052631578947\n",
      "INFO:root:             precision    recall  f1-score   support\n",
      "\n",
      "         -1       0.67      0.80      0.73        10\n",
      "          1       0.92      0.86      0.89        28\n",
      "\n",
      "avg / total       0.86      0.84      0.85        38\n",
      "\n"
     ]
    },
    {
     "name": "stdout",
     "output_type": "stream",
     "text": [
      "Fitting 5 folds for each of 6 candidates, totalling 30 fits\n"
     ]
    },
    {
     "name": "stderr",
     "output_type": "stream",
     "text": [
      "[Parallel(n_jobs=1)]: Done  30 out of  30 | elapsed:    4.1s finished\n",
      "INFO:root:best classifier model's hyperparamters\n",
      "INFO:root:Linear SVM accuracy: 0.9210526315789473\n",
      "INFO:root:             precision    recall  f1-score   support\n",
      "\n",
      "         -1       0.77      1.00      0.87        10\n",
      "          1       1.00      0.89      0.94        28\n",
      "\n",
      "avg / total       0.94      0.92      0.92        38\n",
      "\n"
     ]
    },
    {
     "name": "stdout",
     "output_type": "stream",
     "text": [
      "Fitting 5 folds for each of 6 candidates, totalling 30 fits\n"
     ]
    },
    {
     "name": "stderr",
     "output_type": "stream",
     "text": [
      "[Parallel(n_jobs=1)]: Done  30 out of  30 | elapsed:    1.4s finished\n",
      "INFO:root:best classifier model's hyperparamters\n",
      "INFO:root:Linear SVM accuracy: 0.7894736842105263\n",
      "INFO:root:             precision    recall  f1-score   support\n",
      "\n",
      "         -1       0.67      0.67      0.67        12\n",
      "          1       0.85      0.85      0.85        26\n",
      "\n",
      "avg / total       0.79      0.79      0.79        38\n",
      "\n"
     ]
    },
    {
     "name": "stdout",
     "output_type": "stream",
     "text": [
      "Fitting 5 folds for each of 6 candidates, totalling 30 fits\n"
     ]
    },
    {
     "name": "stderr",
     "output_type": "stream",
     "text": [
      "[Parallel(n_jobs=1)]: Done  30 out of  30 | elapsed:    4.3s finished\n",
      "INFO:root:best classifier model's hyperparamters\n",
      "INFO:root:Linear SVM accuracy: 0.8421052631578947\n",
      "INFO:root:             precision    recall  f1-score   support\n",
      "\n",
      "         -1       0.75      0.75      0.75        12\n",
      "          1       0.88      0.88      0.88        26\n",
      "\n",
      "avg / total       0.84      0.84      0.84        38\n",
      "\n"
     ]
    },
    {
     "name": "stdout",
     "output_type": "stream",
     "text": [
      "Fitting 5 folds for each of 6 candidates, totalling 30 fits\n"
     ]
    },
    {
     "name": "stderr",
     "output_type": "stream",
     "text": [
      "[Parallel(n_jobs=1)]: Done  30 out of  30 | elapsed:    1.4s finished\n",
      "INFO:root:best classifier model's hyperparamters\n",
      "INFO:root:Linear SVM accuracy: 0.7894736842105263\n",
      "INFO:root:             precision    recall  f1-score   support\n",
      "\n",
      "         -1       0.83      0.62      0.71        16\n",
      "          1       0.77      0.91      0.83        22\n",
      "\n",
      "avg / total       0.80      0.79      0.78        38\n",
      "\n"
     ]
    },
    {
     "name": "stdout",
     "output_type": "stream",
     "text": [
      "Fitting 5 folds for each of 6 candidates, totalling 30 fits\n"
     ]
    },
    {
     "name": "stderr",
     "output_type": "stream",
     "text": [
      "[Parallel(n_jobs=1)]: Done  30 out of  30 | elapsed:    3.8s finished\n",
      "INFO:root:best classifier model's hyperparamters\n",
      "INFO:root:Linear SVM accuracy: 0.7105263157894737\n",
      "INFO:root:             precision    recall  f1-score   support\n",
      "\n",
      "         -1       0.73      0.50      0.59        16\n",
      "          1       0.70      0.86      0.78        22\n",
      "\n",
      "avg / total       0.71      0.71      0.70        38\n",
      "\n"
     ]
    },
    {
     "name": "stdout",
     "output_type": "stream",
     "text": [
      "Fitting 5 folds for each of 6 candidates, totalling 30 fits\n"
     ]
    },
    {
     "name": "stderr",
     "output_type": "stream",
     "text": [
      "[Parallel(n_jobs=1)]: Done  30 out of  30 | elapsed:    1.4s finished\n",
      "INFO:root:best classifier model's hyperparamters\n",
      "INFO:root:Linear SVM accuracy: 0.7631578947368421\n",
      "INFO:root:             precision    recall  f1-score   support\n",
      "\n",
      "         -1       0.53      0.80      0.64        10\n",
      "          1       0.91      0.75      0.82        28\n",
      "\n",
      "avg / total       0.81      0.76      0.78        38\n",
      "\n"
     ]
    },
    {
     "name": "stdout",
     "output_type": "stream",
     "text": [
      "Fitting 5 folds for each of 6 candidates, totalling 30 fits\n"
     ]
    },
    {
     "name": "stderr",
     "output_type": "stream",
     "text": [
      "[Parallel(n_jobs=1)]: Done  30 out of  30 | elapsed:    3.9s finished\n",
      "INFO:root:best classifier model's hyperparamters\n",
      "INFO:root:Linear SVM accuracy: 0.8157894736842105\n",
      "INFO:root:             precision    recall  f1-score   support\n",
      "\n",
      "         -1       0.60      0.90      0.72        10\n",
      "          1       0.96      0.79      0.86        28\n",
      "\n",
      "avg / total       0.86      0.82      0.83        38\n",
      "\n"
     ]
    },
    {
     "name": "stdout",
     "output_type": "stream",
     "text": [
      "Fitting 5 folds for each of 6 candidates, totalling 30 fits\n"
     ]
    },
    {
     "name": "stderr",
     "output_type": "stream",
     "text": [
      "[Parallel(n_jobs=1)]: Done  30 out of  30 | elapsed:    1.4s finished\n",
      "INFO:root:best classifier model's hyperparamters\n",
      "INFO:root:Linear SVM accuracy: 0.7894736842105263\n",
      "INFO:root:             precision    recall  f1-score   support\n",
      "\n",
      "         -1       0.71      0.71      0.71        14\n",
      "          1       0.83      0.83      0.83        24\n",
      "\n",
      "avg / total       0.79      0.79      0.79        38\n",
      "\n"
     ]
    },
    {
     "name": "stdout",
     "output_type": "stream",
     "text": [
      "Fitting 5 folds for each of 6 candidates, totalling 30 fits\n"
     ]
    },
    {
     "name": "stderr",
     "output_type": "stream",
     "text": [
      "[Parallel(n_jobs=1)]: Done  30 out of  30 | elapsed:    3.8s finished\n",
      "INFO:root:best classifier model's hyperparamters\n",
      "INFO:root:Linear SVM accuracy: 0.868421052631579\n",
      "INFO:root:             precision    recall  f1-score   support\n",
      "\n",
      "         -1       0.74      1.00      0.85        14\n",
      "          1       1.00      0.79      0.88        24\n",
      "\n",
      "avg / total       0.90      0.87      0.87        38\n",
      "\n"
     ]
    },
    {
     "name": "stdout",
     "output_type": "stream",
     "text": [
      "Fitting 5 folds for each of 6 candidates, totalling 30 fits\n"
     ]
    },
    {
     "name": "stderr",
     "output_type": "stream",
     "text": [
      "[Parallel(n_jobs=1)]: Done  30 out of  30 | elapsed:    1.4s finished\n",
      "INFO:root:best classifier model's hyperparamters\n",
      "INFO:root:Linear SVM accuracy: 0.7368421052631579\n",
      "INFO:root:             precision    recall  f1-score   support\n",
      "\n",
      "         -1       0.71      0.62      0.67        16\n",
      "          1       0.75      0.82      0.78        22\n",
      "\n",
      "avg / total       0.73      0.74      0.73        38\n",
      "\n"
     ]
    },
    {
     "name": "stdout",
     "output_type": "stream",
     "text": [
      "Fitting 5 folds for each of 6 candidates, totalling 30 fits\n"
     ]
    },
    {
     "name": "stderr",
     "output_type": "stream",
     "text": [
      "[Parallel(n_jobs=1)]: Done  30 out of  30 | elapsed:    4.0s finished\n",
      "INFO:root:best classifier model's hyperparamters\n",
      "INFO:root:Linear SVM accuracy: 0.9210526315789473\n",
      "INFO:root:             precision    recall  f1-score   support\n",
      "\n",
      "         -1       0.93      0.88      0.90        16\n",
      "          1       0.91      0.95      0.93        22\n",
      "\n",
      "avg / total       0.92      0.92      0.92        38\n",
      "\n"
     ]
    },
    {
     "name": "stdout",
     "output_type": "stream",
     "text": [
      "Fitting 5 folds for each of 6 candidates, totalling 30 fits\n"
     ]
    },
    {
     "name": "stderr",
     "output_type": "stream",
     "text": [
      "[Parallel(n_jobs=1)]: Done  30 out of  30 | elapsed:    1.6s finished\n",
      "INFO:root:best classifier model's hyperparamters\n",
      "INFO:root:Linear SVM accuracy: 0.868421052631579\n",
      "INFO:root:             precision    recall  f1-score   support\n",
      "\n",
      "         -1       0.80      0.94      0.86        17\n",
      "          1       0.94      0.81      0.87        21\n",
      "\n",
      "avg / total       0.88      0.87      0.87        38\n",
      "\n"
     ]
    },
    {
     "name": "stdout",
     "output_type": "stream",
     "text": [
      "Fitting 5 folds for each of 6 candidates, totalling 30 fits\n"
     ]
    },
    {
     "name": "stderr",
     "output_type": "stream",
     "text": [
      "[Parallel(n_jobs=1)]: Done  30 out of  30 | elapsed:    3.8s finished\n",
      "INFO:root:best classifier model's hyperparamters\n",
      "INFO:root:Linear SVM accuracy: 0.8157894736842105\n",
      "INFO:root:             precision    recall  f1-score   support\n",
      "\n",
      "         -1       0.81      0.76      0.79        17\n",
      "          1       0.82      0.86      0.84        21\n",
      "\n",
      "avg / total       0.82      0.82      0.82        38\n",
      "\n"
     ]
    },
    {
     "name": "stdout",
     "output_type": "stream",
     "text": [
      "Fitting 5 folds for each of 6 candidates, totalling 30 fits\n"
     ]
    },
    {
     "name": "stderr",
     "output_type": "stream",
     "text": [
      "[Parallel(n_jobs=1)]: Done  30 out of  30 | elapsed:    1.5s finished\n",
      "INFO:root:best classifier model's hyperparamters\n",
      "INFO:root:Linear SVM accuracy: 0.9473684210526315\n",
      "INFO:root:             precision    recall  f1-score   support\n",
      "\n",
      "         -1       0.88      1.00      0.93        14\n",
      "          1       1.00      0.92      0.96        24\n",
      "\n",
      "avg / total       0.95      0.95      0.95        38\n",
      "\n"
     ]
    },
    {
     "name": "stdout",
     "output_type": "stream",
     "text": [
      "Fitting 5 folds for each of 6 candidates, totalling 30 fits\n"
     ]
    },
    {
     "name": "stderr",
     "output_type": "stream",
     "text": [
      "[Parallel(n_jobs=1)]: Done  30 out of  30 | elapsed:    3.9s finished\n",
      "INFO:root:best classifier model's hyperparamters\n",
      "INFO:root:Linear SVM accuracy: 0.868421052631579\n",
      "INFO:root:             precision    recall  f1-score   support\n",
      "\n",
      "         -1       0.80      0.86      0.83        14\n",
      "          1       0.91      0.88      0.89        24\n",
      "\n",
      "avg / total       0.87      0.87      0.87        38\n",
      "\n"
     ]
    },
    {
     "name": "stdout",
     "output_type": "stream",
     "text": [
      "Fitting 5 folds for each of 6 candidates, totalling 30 fits\n"
     ]
    },
    {
     "name": "stderr",
     "output_type": "stream",
     "text": [
      "[Parallel(n_jobs=1)]: Done  30 out of  30 | elapsed:    1.5s finished\n",
      "INFO:root:best classifier model's hyperparamters\n",
      "INFO:root:Linear SVM accuracy: 0.8947368421052632\n",
      "INFO:root:             precision    recall  f1-score   support\n",
      "\n",
      "         -1       0.83      0.83      0.83        12\n",
      "          1       0.92      0.92      0.92        26\n",
      "\n",
      "avg / total       0.89      0.89      0.89        38\n",
      "\n"
     ]
    },
    {
     "name": "stdout",
     "output_type": "stream",
     "text": [
      "Fitting 5 folds for each of 6 candidates, totalling 30 fits\n"
     ]
    },
    {
     "name": "stderr",
     "output_type": "stream",
     "text": [
      "[Parallel(n_jobs=1)]: Done  30 out of  30 | elapsed:    3.9s finished\n",
      "INFO:root:best classifier model's hyperparamters\n",
      "INFO:root:Linear SVM accuracy: 0.8157894736842105\n",
      "INFO:root:             precision    recall  f1-score   support\n",
      "\n",
      "         -1       1.00      0.42      0.59        12\n",
      "          1       0.79      1.00      0.88        26\n",
      "\n",
      "avg / total       0.85      0.82      0.79        38\n",
      "\n"
     ]
    },
    {
     "name": "stdout",
     "output_type": "stream",
     "text": [
      "Fitting 5 folds for each of 6 candidates, totalling 30 fits\n"
     ]
    },
    {
     "name": "stderr",
     "output_type": "stream",
     "text": [
      "[Parallel(n_jobs=1)]: Done  30 out of  30 | elapsed:    1.4s finished\n",
      "INFO:root:best classifier model's hyperparamters\n",
      "INFO:root:Linear SVM accuracy: 0.7631578947368421\n",
      "INFO:root:             precision    recall  f1-score   support\n",
      "\n",
      "         -1       0.71      0.67      0.69        15\n",
      "          1       0.79      0.83      0.81        23\n",
      "\n",
      "avg / total       0.76      0.76      0.76        38\n",
      "\n"
     ]
    },
    {
     "name": "stdout",
     "output_type": "stream",
     "text": [
      "Fitting 5 folds for each of 6 candidates, totalling 30 fits\n"
     ]
    },
    {
     "name": "stderr",
     "output_type": "stream",
     "text": [
      "[Parallel(n_jobs=1)]: Done  30 out of  30 | elapsed:    3.9s finished\n",
      "INFO:root:best classifier model's hyperparamters\n",
      "INFO:root:Linear SVM accuracy: 0.8947368421052632\n",
      "INFO:root:             precision    recall  f1-score   support\n",
      "\n",
      "         -1       0.87      0.87      0.87        15\n",
      "          1       0.91      0.91      0.91        23\n",
      "\n",
      "avg / total       0.89      0.89      0.89        38\n",
      "\n"
     ]
    }
   ],
   "source": [
    "for i in range(0, 10):\n",
    "    Xtrain = np.load(path + str(i+1) + '/x_train.npy')\n",
    "    Xtest  = np.load(path + str(i+1) + '/x_test.npy')\n",
    "    Ytrain = np.load(path + str(i+1) + '/y_train.npy')\n",
    "    Ytest  = np.load(path + str(i+1) + '/y_test.npy')\n",
    "\n",
    "    acc = perform_classification_final_new(Xtrain, Ytrain, Xtest, Ytest, embedding_fname)\n",
    "    acc_list_old.append(acc)\n",
    "    \n",
    "    acc = perform_classification_final_new(Xtrain, Ytrain, Xtest, Ytest, final_embedding_fname)\n",
    "    acc_list_new.append(acc)"
   ]
  },
  {
   "cell_type": "code",
   "execution_count": 78,
   "metadata": {},
   "outputs": [
    {
     "name": "stdout",
     "output_type": "stream",
     "text": [
      "0.8184210526315789\n"
     ]
    },
    {
     "data": {
      "text/plain": [
       "[0.8421052631578947,\n",
       " 0.7894736842105263,\n",
       " 0.7894736842105263,\n",
       " 0.7631578947368421,\n",
       " 0.7894736842105263,\n",
       " 0.7368421052631579,\n",
       " 0.868421052631579,\n",
       " 0.9473684210526315,\n",
       " 0.8947368421052632,\n",
       " 0.7631578947368421]"
      ]
     },
     "execution_count": 78,
     "metadata": {},
     "output_type": "execute_result"
    }
   ],
   "source": [
    "print(np.mean(acc_list_old))\n",
    "acc_list_old"
   ]
  },
  {
   "cell_type": "code",
   "execution_count": 79,
   "metadata": {},
   "outputs": [
    {
     "name": "stdout",
     "output_type": "stream",
     "text": [
      "0.8473684210526317\n"
     ]
    },
    {
     "data": {
      "text/plain": [
       "[0.9210526315789473,\n",
       " 0.8421052631578947,\n",
       " 0.7105263157894737,\n",
       " 0.8157894736842105,\n",
       " 0.868421052631579,\n",
       " 0.9210526315789473,\n",
       " 0.8157894736842105,\n",
       " 0.868421052631579,\n",
       " 0.8157894736842105,\n",
       " 0.8947368421052632]"
      ]
     },
     "execution_count": 79,
     "metadata": {},
     "output_type": "execute_result"
    }
   ],
   "source": [
    "print(np.mean(acc_list_new))\n",
    "acc_list_new"
   ]
  },
  {
   "cell_type": "markdown",
   "metadata": {},
   "source": [
    "## See graph subgraph dot product"
   ]
  },
  {
   "cell_type": "code",
   "execution_count": 22,
   "metadata": {},
   "outputs": [],
   "source": [
    "belong_list = []\n",
    "not_belong_list = []\n",
    "\n",
    "with open(subgraph_embedding_fname, 'r') as fh:\n",
    "    subgraph_embedding_dict = json.load(fh)\n",
    "\n",
    "with open(final_embedding_fname, 'r') as fh:\n",
    "    graph_embedding_dict = json.load(fh)"
   ]
  },
  {
   "cell_type": "code",
   "execution_count": 23,
   "metadata": {},
   "outputs": [],
   "source": [
    "subgraphs_list = list(subgraph_embedding_dict.keys())"
   ]
  },
  {
   "cell_type": "code",
   "execution_count": 24,
   "metadata": {},
   "outputs": [],
   "source": [
    "for g in X:\n",
    "    \n",
    "    b_list  = []\n",
    "    nb_list = []\n",
    "    graph_vector = graph_embedding_dict[g]\n",
    "    \n",
    "    dot_values = []\n",
    "    for s in subgraph_embedding_dict.keys():\n",
    "        pval = np.sum( np.dot(graph_vector, subgraph_embedding_dict[s]))\n",
    "        dot_values.append(pval)\n",
    "    \n",
    "    norm = np.sqrt(np.mean(np.square(dot_values))) ############### FOR NOW DOT PRODUCT ##############\n",
    "    dot_values = dot_values/norm\n",
    "    \n",
    "    # print(dot_values) ##\n",
    "    \n",
    "    for d in range(0, len(dot_values)):\n",
    "        if dot_values[d] >= 0.8:\n",
    "            b_list.append(subgraphs_list[d])\n",
    "        else:\n",
    "            nb_list.append(subgraphs_list[d])\n",
    "\n",
    "    belong_list.append(b_list)\n",
    "    not_belong_list.append(nb_list)\n",
    "    "
   ]
  },
  {
   "cell_type": "code",
   "execution_count": 25,
   "metadata": {},
   "outputs": [],
   "source": [
    "### check similarity measure ###"
   ]
  },
  {
   "cell_type": "code",
   "execution_count": 85,
   "metadata": {
    "scrolled": true
   },
   "outputs": [
    {
     "name": "stdout",
     "output_type": "stream",
     "text": [
      "(1, 512) (787, 512)\n"
     ]
    }
   ],
   "source": [
    "graph_matrix    = np.array(graph_embedding_dict[X[0]])\n",
    "graph_matrix = graph_matrix.reshape((1, embedding_size))\n",
    "subgraph_matrix = np.zeros((len(subgraph_embedding_dict), embedding_size))\n",
    "\n",
    "i = 0\n",
    "for k in subgraph_embedding_dict.keys():\n",
    "    subgraph_matrix[i,:] = subgraph_embedding_dict[k]\n",
    "    i = i + 1\n",
    "\n",
    "print(np.shape(graph_matrix), np.shape(subgraph_matrix))"
   ]
  },
  {
   "cell_type": "code",
   "execution_count": 86,
   "metadata": {},
   "outputs": [],
   "source": [
    "result = cosine_similarity(subgraph_matrix, graph_matrix)\n",
    "result = np.reshape( result, (np.shape(result)[0]))"
   ]
  },
  {
   "cell_type": "code",
   "execution_count": 91,
   "metadata": {},
   "outputs": [
    {
     "name": "stdout",
     "output_type": "stream",
     "text": [
      "0.4397153586077825\n",
      "0.0398202106657068\n",
      "0.4072566566448389\n",
      "0.3111625849152679\n",
      "0.03430494292807259\n",
      "0.42728490278533515\n",
      "0.16138538994936472\n",
      "0.41952477295448687\n",
      "0.4573378857033087\n",
      "0.4629876355518644\n",
      "0.45284808446850155\n",
      "0.3779710603148947\n",
      "0.36881323375585107\n",
      "0.12786537633882591\n",
      "0.40143773569248375\n",
      "0.15654341360240343\n",
      "0.46117782654816813\n",
      "0.28085268603850816\n",
      "YES =  17  NO =  474\n"
     ]
    }
   ],
   "source": [
    "keys_list = list(subgraph_embedding_dict.keys())\n",
    "yes_count = 0\n",
    "no_count = 0\n",
    "\n",
    "for r in range(0, len(result)):\n",
    "    if result[r] > 0.5:\n",
    "#         print(keys_list[r])\n",
    "        if keys_list[r] in subgraphs[0]:\n",
    "            yes_count += 1\n",
    "        else:\n",
    "            no_count += 1\n",
    "    else:\n",
    "        if keys_list[r] in subgraphs[0]:\n",
    "            print(result[r])\n",
    "print(\"YES = \", yes_count, \" NO = \", no_count)"
   ]
  },
  {
   "cell_type": "code",
   "execution_count": 130,
   "metadata": {},
   "outputs": [],
   "source": [
    "index_list = []\n",
    "for k in range(0, len(keys_list)):\n",
    "    if keys_list[k] in subgraphs[0]:\n",
    "        index_list.append(k)"
   ]
  },
  {
   "cell_type": "code",
   "execution_count": 134,
   "metadata": {},
   "outputs": [
    {
     "data": {
      "text/plain": [
       "array([0.43971536, 0.03982021, 0.51074383, 0.40725666, 0.31116258,\n",
       "       0.60670351, 0.03430494, 0.4272849 , 0.50841029, 0.59770698,\n",
       "       0.66055444, 0.52444341, 0.50506275, 0.16138539, 0.41952477,\n",
       "       0.67356537, 0.45733789, 0.46298764, 0.63286088, 0.45284808,\n",
       "       0.60205981, 0.59709866, 0.59575443, 0.58648882, 0.5881471 ,\n",
       "       0.61579037, 0.37797106, 0.36881323, 0.12786538, 0.58497391,\n",
       "       0.66445056, 0.40143774, 0.15654341, 0.46117783, 0.28085269])"
      ]
     },
     "execution_count": 134,
     "metadata": {},
     "output_type": "execute_result"
    }
   ],
   "source": [
    "result[index_list]"
   ]
  },
  {
   "cell_type": "code",
   "execution_count": 119,
   "metadata": {},
   "outputs": [
    {
     "data": {
      "text/plain": [
       "'3+77'"
      ]
     },
     "execution_count": 119,
     "metadata": {},
     "output_type": "execute_result"
    }
   ],
   "source": [
    "keys_list[110]"
   ]
  },
  {
   "cell_type": "code",
   "execution_count": 120,
   "metadata": {},
   "outputs": [
    {
     "data": {
      "text/plain": [
       "0.33923165251420345"
      ]
     },
     "execution_count": 120,
     "metadata": {},
     "output_type": "execute_result"
    }
   ],
   "source": [
    "result[110]"
   ]
  },
  {
   "cell_type": "code",
   "execution_count": null,
   "metadata": {},
   "outputs": [],
   "source": []
  },
  {
   "cell_type": "code",
   "execution_count": null,
   "metadata": {},
   "outputs": [],
   "source": [
    "0.52"
   ]
  },
  {
   "cell_type": "code",
   "execution_count": 37,
   "metadata": {},
   "outputs": [],
   "source": [
    "## hard code and see dot products of matching subgraphs and graphs"
   ]
  },
  {
   "cell_type": "code",
   "execution_count": 56,
   "metadata": {},
   "outputs": [
    {
     "data": {
      "text/plain": [
       "array(['0+1', '0+2', '0+3', '1+1', '1+2', '1+3', '1+4', '1+5', '2+1',\n",
       "       '2+10', '2+11', '2+12', '2+2', '2+3', '2+8', '2+9', '3+1', '3+127',\n",
       "       '3+128', '3+17', '3+2', '3+26', '3+3', '3+4', '3+43', '3+99'],\n",
       "      dtype='<U5')"
      ]
     },
     "execution_count": 56,
     "metadata": {},
     "output_type": "execute_result"
    }
   ],
   "source": [
    "np.unique(subgraphs[100])"
   ]
  },
  {
   "cell_type": "code",
   "execution_count": 39,
   "metadata": {},
   "outputs": [
    {
     "data": {
      "text/plain": [
       "array(['0+1', '0+2', '0+3', '1+1', '1+2', '1+3', '1+4', '1+5', '2+1',\n",
       "       '2+10', '2+2', '2+3', '2+4', '2+5', '2+6', '2+7', '2+8', '2+9',\n",
       "       '3+1', '3+10', '3+11', '3+12', '3+13', '3+14', '3+15', '3+16',\n",
       "       '3+17', '3+2', '3+3', '3+4', '3+5', '3+6', '3+7', '3+8', '3+9'],\n",
       "      dtype='<U4')"
      ]
     },
     "execution_count": 39,
     "metadata": {},
     "output_type": "execute_result"
    }
   ],
   "source": [
    "np.unique(subgraphs[0])"
   ]
  },
  {
   "cell_type": "code",
   "execution_count": 40,
   "metadata": {},
   "outputs": [],
   "source": [
    "gvec = graph_embedding_dict[X[1]]"
   ]
  },
  {
   "cell_type": "code",
   "execution_count": 41,
   "metadata": {},
   "outputs": [
    {
     "data": {
      "text/plain": [
       "256.0428542574414"
      ]
     },
     "execution_count": 41,
     "metadata": {},
     "output_type": "execute_result"
    }
   ],
   "source": [
    "svec = subgraph_embedding_dict['0+1']\n",
    "np.sum(np.dot(gvec, svec))"
   ]
  },
  {
   "cell_type": "code",
   "execution_count": 42,
   "metadata": {},
   "outputs": [
    {
     "data": {
      "text/plain": [
       "30.07121543468609"
      ]
     },
     "execution_count": 42,
     "metadata": {},
     "output_type": "execute_result"
    }
   ],
   "source": [
    "svec = subgraph_embedding_dict['1+1']\n",
    "np.sum(np.dot(gvec, svec))"
   ]
  },
  {
   "cell_type": "code",
   "execution_count": 43,
   "metadata": {},
   "outputs": [
    {
     "data": {
      "text/plain": [
       "238.4858146037863"
      ]
     },
     "execution_count": 43,
     "metadata": {},
     "output_type": "execute_result"
    }
   ],
   "source": [
    "svec = subgraph_embedding_dict['2+1']\n",
    "np.sum(np.dot(gvec, svec))"
   ]
  },
  {
   "cell_type": "code",
   "execution_count": 44,
   "metadata": {},
   "outputs": [
    {
     "data": {
      "text/plain": [
       "189.91544991493876"
      ]
     },
     "execution_count": 44,
     "metadata": {},
     "output_type": "execute_result"
    }
   ],
   "source": [
    "svec = subgraph_embedding_dict['3+1']\n",
    "np.sum(np.dot(gvec, svec))"
   ]
  },
  {
   "cell_type": "code",
   "execution_count": 45,
   "metadata": {},
   "outputs": [
    {
     "data": {
      "text/plain": [
       "209.48260295018054"
      ]
     },
     "execution_count": 45,
     "metadata": {},
     "output_type": "execute_result"
    }
   ],
   "source": [
    "svec = subgraph_embedding_dict['3+9']\n",
    "np.sum(np.dot(gvec, svec))"
   ]
  },
  {
   "cell_type": "code",
   "execution_count": 57,
   "metadata": {},
   "outputs": [
    {
     "data": {
      "text/plain": [
       "276.2175996251453"
      ]
     },
     "execution_count": 57,
     "metadata": {},
     "output_type": "execute_result"
    }
   ],
   "source": [
    "svec = subgraph_embedding_dict['3+99']\n",
    "np.sum(np.dot(gvec, svec))"
   ]
  },
  {
   "cell_type": "code",
   "execution_count": 47,
   "metadata": {},
   "outputs": [
    {
     "data": {
      "text/plain": [
       "296.0614599481729"
      ]
     },
     "execution_count": 47,
     "metadata": {},
     "output_type": "execute_result"
    }
   ],
   "source": [
    "svec = subgraph_embedding_dict['2+14']\n",
    "np.sum(np.dot(gvec, svec))"
   ]
  },
  {
   "cell_type": "markdown",
   "metadata": {},
   "source": [
    "## lets see for a graph "
   ]
  },
  {
   "cell_type": "code",
   "execution_count": 26,
   "metadata": {},
   "outputs": [],
   "source": [
    "true_positives = []\n",
    "false_positives = []\n",
    "\n",
    "true_negatives = []\n",
    "false_negatives = []\n",
    "\n",
    "true_positives_subgraphs = []\n",
    "false_positives_subgraphs = []\n",
    "\n",
    "true_negatives_subgraphs = []\n",
    "false_negatives_subgraphs = []"
   ]
  },
  {
   "cell_type": "code",
   "execution_count": 27,
   "metadata": {},
   "outputs": [],
   "source": [
    "for gnum in range(0, len(X)):\n",
    "    \n",
    "    tp = []\n",
    "    fp = []\n",
    "    tn = []\n",
    "    fn = []\n",
    "    \n",
    "    for s in belong_list[gnum]:\n",
    "        if s in subgraphs[gnum]:\n",
    "            tp.append(s)\n",
    "        else:\n",
    "            fp.append(s)\n",
    "\n",
    "    for s in not_belong_list[gnum]:\n",
    "        if s in subgraphs[gnum]:\n",
    "            fn.append(s)\n",
    "        else:\n",
    "            tn.append(s)\n",
    "    \n",
    "    true_positives.append(len(tp))\n",
    "    false_positives.append(len(fp))\n",
    "    true_negatives.append(len(tn))\n",
    "    false_negatives.append(len(fn))\n",
    "    \n",
    "    true_positives_subgraphs.append(tp)\n",
    "    false_positives_subgraphs.append(fp)\n",
    "    true_negatives_subgraphs.append(tn)\n",
    "    false_negatives_subgraphs.append(fn)    "
   ]
  },
  {
   "cell_type": "code",
   "execution_count": 23,
   "metadata": {},
   "outputs": [
    {
     "data": {
      "text/plain": [
       "15.037234042553191"
      ]
     },
     "execution_count": 23,
     "metadata": {},
     "output_type": "execute_result"
    }
   ],
   "source": [
    "np.mean(true_positives)"
   ]
  },
  {
   "cell_type": "code",
   "execution_count": 24,
   "metadata": {},
   "outputs": [
    {
     "data": {
      "text/plain": [
       "497.72340425531917"
      ]
     },
     "execution_count": 24,
     "metadata": {},
     "output_type": "execute_result"
    }
   ],
   "source": [
    "np.mean(false_positives)"
   ]
  },
  {
   "cell_type": "code",
   "execution_count": 29,
   "metadata": {},
   "outputs": [
    {
     "data": {
      "text/plain": [
       "16.835106382978722"
      ]
     },
     "execution_count": 29,
     "metadata": {},
     "output_type": "execute_result"
    }
   ],
   "source": [
    "np.mean(false_negatives)"
   ]
  },
  {
   "cell_type": "code",
   "execution_count": 30,
   "metadata": {},
   "outputs": [
    {
     "data": {
      "text/plain": [
       "257.40425531914894"
      ]
     },
     "execution_count": 30,
     "metadata": {},
     "output_type": "execute_result"
    }
   ],
   "source": [
    "np.mean(true_negatives)"
   ]
  },
  {
   "cell_type": "code",
   "execution_count": 31,
   "metadata": {},
   "outputs": [],
   "source": [
    "true_positives = np.array(true_positives)\n",
    "true_negatives = np.array(true_negatives)\n",
    "false_positives = np.array(false_positives)\n",
    "false_negatives = np.array(false_negatives)"
   ]
  },
  {
   "cell_type": "code",
   "execution_count": 32,
   "metadata": {
    "scrolled": true
   },
   "outputs": [],
   "source": [
    "precission = (true_positives)/(true_positives + false_positives)"
   ]
  },
  {
   "cell_type": "code",
   "execution_count": 33,
   "metadata": {},
   "outputs": [],
   "source": [
    "recall = (true_positives)/(true_positives + false_negatives)"
   ]
  },
  {
   "cell_type": "code",
   "execution_count": 34,
   "metadata": {},
   "outputs": [
    {
     "data": {
      "text/plain": [
       "0.029354941044771"
      ]
     },
     "execution_count": 34,
     "metadata": {},
     "output_type": "execute_result"
    }
   ],
   "source": [
    "np.mean(precission)"
   ]
  },
  {
   "cell_type": "code",
   "execution_count": 35,
   "metadata": {},
   "outputs": [
    {
     "data": {
      "text/plain": [
       "0.4685092607507094"
      ]
     },
     "execution_count": 35,
     "metadata": {},
     "output_type": "execute_result"
    }
   ],
   "source": [
    "np.mean(recall)"
   ]
  },
  {
   "cell_type": "markdown",
   "metadata": {},
   "source": [
    "## For each subgraph store number of times its predicted correct and when wrong"
   ]
  },
  {
   "cell_type": "code",
   "execution_count": 42,
   "metadata": {},
   "outputs": [],
   "source": [
    "correct_pred = []\n",
    "wrong_pred   = []"
   ]
  },
  {
   "cell_type": "code",
   "execution_count": 43,
   "metadata": {},
   "outputs": [],
   "source": [
    "for s in subgraphs_list:\n",
    "    counter1 = 0\n",
    "    counter2 = 0\n",
    "    \n",
    "    for g in range(0, len(X)):\n",
    "        if s in true_positives_subgraphs[g]:\n",
    "            counter1 += 1\n",
    "        elif s in true_negatives_subgraphs[g]:\n",
    "            counter1 += 1\n",
    "        elif s in false_positives_subgraphs[g]:\n",
    "            counter2 += 1\n",
    "        elif s in false_negatives_subgraphs[g]:\n",
    "            counter2 += 1\n",
    "    \n",
    "    correct_pred.append(counter1)\n",
    "    wrong_pred.append(counter2)"
   ]
  },
  {
   "cell_type": "code",
   "execution_count": 44,
   "metadata": {},
   "outputs": [
    {
     "data": {
      "text/plain": [
       "[122,\n",
       " 1,\n",
       " 134,\n",
       " 148,\n",
       " 39,\n",
       " 140,\n",
       " 39,\n",
       " 85,\n",
       " 134,\n",
       " 172,\n",
       " 117,\n",
       " 167,\n",
       " 157,\n",
       " 2,\n",
       " 93,\n",
       " 34,\n",
       " 45,\n",
       " 49,\n",
       " 118,\n",
       " 126,\n",
       " 35,\n",
       " 90,\n",
       " 16,\n",
       " 45,\n",
       " 146,\n",
       " 24,\n",
       " 132,\n",
       " 0,\n",
       " 0,\n",
       " 185,\n",
       " 74,\n",
       " 0,\n",
       " 0,\n",
       " 31,\n",
       " 3,\n",
       " 136,\n",
       " 167,\n",
       " 122,\n",
       " 62,\n",
       " 91,\n",
       " 175,\n",
       " 3,\n",
       " 21,\n",
       " 187,\n",
       " 20,\n",
       " 89,\n",
       " 156,\n",
       " 4,\n",
       " 4,\n",
       " 163,\n",
       " 17,\n",
       " 4,\n",
       " 98,\n",
       " 142,\n",
       " 172,\n",
       " 36,\n",
       " 9,\n",
       " 43,\n",
       " 166,\n",
       " 11,\n",
       " 58,\n",
       " 102,\n",
       " 161,\n",
       " 154,\n",
       " 187,\n",
       " 10,\n",
       " 42,\n",
       " 187,\n",
       " 124,\n",
       " 41,\n",
       " 45,\n",
       " 15,\n",
       " 11,\n",
       " 183,\n",
       " 105,\n",
       " 180,\n",
       " 35,\n",
       " 13,\n",
       " 171,\n",
       " 22,\n",
       " 184,\n",
       " 34,\n",
       " 6,\n",
       " 18,\n",
       " 11,\n",
       " 184,\n",
       " 20,\n",
       " 152,\n",
       " 5,\n",
       " 2,\n",
       " 173,\n",
       " 6,\n",
       " 170,\n",
       " 181,\n",
       " 71,\n",
       " 74,\n",
       " 7,\n",
       " 188,\n",
       " 3,\n",
       " 171,\n",
       " 186,\n",
       " 180,\n",
       " 34,\n",
       " 23,\n",
       " 187,\n",
       " 11,\n",
       " 186,\n",
       " 181,\n",
       " 185,\n",
       " 5,\n",
       " 185,\n",
       " 25,\n",
       " 45,\n",
       " 184,\n",
       " 25,\n",
       " 5,\n",
       " 180,\n",
       " 39,\n",
       " 7,\n",
       " 2,\n",
       " 164,\n",
       " 9,\n",
       " 2,\n",
       " 1,\n",
       " 186,\n",
       " 110,\n",
       " 175,\n",
       " 98,\n",
       " 155,\n",
       " 186,\n",
       " 182,\n",
       " 160,\n",
       " 8,\n",
       " 166,\n",
       " 10,\n",
       " 68,\n",
       " 12,\n",
       " 173,\n",
       " 4,\n",
       " 142,\n",
       " 1,\n",
       " 2,\n",
       " 1,\n",
       " 1,\n",
       " 126,\n",
       " 1,\n",
       " 1,\n",
       " 1,\n",
       " 173,\n",
       " 2,\n",
       " 13,\n",
       " 2,\n",
       " 2,\n",
       " 186,\n",
       " 2,\n",
       " 2,\n",
       " 2,\n",
       " 1,\n",
       " 5,\n",
       " 1,\n",
       " 184,\n",
       " 147,\n",
       " 3,\n",
       " 6,\n",
       " 186,\n",
       " 142,\n",
       " 1,\n",
       " 187,\n",
       " 2,\n",
       " 53,\n",
       " 2,\n",
       " 2,\n",
       " 183,\n",
       " 2,\n",
       " 2,\n",
       " 39,\n",
       " 11,\n",
       " 7,\n",
       " 178,\n",
       " 95,\n",
       " 63,\n",
       " 187,\n",
       " 183,\n",
       " 5,\n",
       " 26,\n",
       " 5,\n",
       " 3,\n",
       " 1,\n",
       " 90,\n",
       " 7,\n",
       " 183,\n",
       " 68,\n",
       " 172,\n",
       " 15,\n",
       " 23,\n",
       " 4,\n",
       " 4,\n",
       " 11,\n",
       " 187,\n",
       " 71,\n",
       " 1,\n",
       " 175,\n",
       " 184,\n",
       " 2,\n",
       " 187,\n",
       " 3,\n",
       " 2,\n",
       " 16,\n",
       " 54,\n",
       " 4,\n",
       " 176,\n",
       " 2,\n",
       " 185,\n",
       " 4,\n",
       " 50,\n",
       " 3,\n",
       " 178,\n",
       " 186,\n",
       " 40,\n",
       " 3,\n",
       " 76,\n",
       " 7,\n",
       " 185,\n",
       " 181,\n",
       " 5,\n",
       " 1,\n",
       " 37,\n",
       " 180,\n",
       " 7,\n",
       " 5,\n",
       " 141,\n",
       " 182,\n",
       " 6,\n",
       " 3,\n",
       " 182,\n",
       " 3,\n",
       " 2,\n",
       " 2,\n",
       " 1,\n",
       " 106,\n",
       " 182,\n",
       " 8,\n",
       " 10,\n",
       " 169,\n",
       " 5,\n",
       " 3,\n",
       " 178,\n",
       " 3,\n",
       " 3,\n",
       " 6,\n",
       " 2,\n",
       " 2,\n",
       " 186,\n",
       " 149,\n",
       " 160,\n",
       " 2,\n",
       " 3,\n",
       " 185,\n",
       " 185,\n",
       " 4,\n",
       " 53,\n",
       " 3,\n",
       " 1,\n",
       " 3,\n",
       " 1,\n",
       " 1,\n",
       " 187,\n",
       " 1,\n",
       " 3,\n",
       " 3,\n",
       " 115,\n",
       " 1,\n",
       " 167,\n",
       " 1,\n",
       " 1,\n",
       " 1,\n",
       " 1,\n",
       " 1,\n",
       " 187,\n",
       " 2,\n",
       " 3,\n",
       " 2,\n",
       " 186,\n",
       " 57,\n",
       " 3,\n",
       " 2,\n",
       " 3,\n",
       " 184,\n",
       " 35,\n",
       " 4,\n",
       " 185,\n",
       " 49,\n",
       " 182,\n",
       " 6,\n",
       " 2,\n",
       " 6,\n",
       " 3,\n",
       " 169,\n",
       " 46,\n",
       " 1,\n",
       " 1,\n",
       " 152,\n",
       " 187,\n",
       " 187,\n",
       " 4,\n",
       " 186,\n",
       " 4,\n",
       " 177,\n",
       " 5,\n",
       " 4,\n",
       " 168,\n",
       " 177,\n",
       " 11,\n",
       " 5,\n",
       " 78,\n",
       " 2,\n",
       " 5,\n",
       " 1,\n",
       " 179,\n",
       " 5,\n",
       " 1,\n",
       " 2,\n",
       " 9,\n",
       " 2,\n",
       " 117,\n",
       " 2,\n",
       " 2,\n",
       " 5,\n",
       " 54,\n",
       " 182,\n",
       " 165,\n",
       " 185,\n",
       " 1,\n",
       " 156,\n",
       " 1,\n",
       " 2,\n",
       " 3,\n",
       " 187,\n",
       " 187,\n",
       " 1,\n",
       " 1,\n",
       " 3,\n",
       " 3,\n",
       " 3,\n",
       " 3,\n",
       " 2,\n",
       " 3,\n",
       " 185,\n",
       " 177,\n",
       " 132,\n",
       " 1,\n",
       " 3,\n",
       " 24,\n",
       " 6,\n",
       " 14,\n",
       " 142,\n",
       " 1,\n",
       " 183,\n",
       " 3,\n",
       " 2,\n",
       " 3,\n",
       " 187,\n",
       " 61,\n",
       " 5,\n",
       " 1,\n",
       " 2,\n",
       " 184,\n",
       " 1,\n",
       " 187,\n",
       " 2,\n",
       " 5,\n",
       " 1,\n",
       " 1,\n",
       " 1,\n",
       " 1,\n",
       " 1,\n",
       " 1,\n",
       " 187,\n",
       " 1,\n",
       " 1,\n",
       " 1,\n",
       " 1,\n",
       " 2,\n",
       " 3,\n",
       " 1,\n",
       " 176,\n",
       " 2,\n",
       " 1,\n",
       " 186,\n",
       " 1,\n",
       " 184,\n",
       " 1,\n",
       " 1,\n",
       " 9,\n",
       " 1,\n",
       " 178,\n",
       " 6,\n",
       " 1,\n",
       " 1,\n",
       " 187,\n",
       " 1,\n",
       " 1,\n",
       " 1,\n",
       " 163,\n",
       " 1,\n",
       " 1,\n",
       " 1,\n",
       " 1,\n",
       " 1,\n",
       " 187,\n",
       " 187,\n",
       " 1,\n",
       " 1,\n",
       " 1,\n",
       " 1,\n",
       " 1,\n",
       " 187,\n",
       " 1,\n",
       " 1,\n",
       " 1,\n",
       " 24,\n",
       " 55,\n",
       " 147,\n",
       " 170,\n",
       " 18,\n",
       " 1,\n",
       " 1,\n",
       " 1,\n",
       " 132,\n",
       " 1,\n",
       " 187,\n",
       " 1,\n",
       " 1,\n",
       " 36,\n",
       " 163,\n",
       " 167,\n",
       " 1,\n",
       " 113,\n",
       " 7,\n",
       " 1,\n",
       " 1,\n",
       " 7,\n",
       " 4,\n",
       " 8,\n",
       " 2,\n",
       " 3,\n",
       " 186,\n",
       " 124,\n",
       " 1,\n",
       " 187,\n",
       " 186,\n",
       " 1,\n",
       " 183,\n",
       " 1,\n",
       " 187,\n",
       " 178,\n",
       " 1,\n",
       " 2,\n",
       " 186,\n",
       " 2,\n",
       " 1,\n",
       " 1,\n",
       " 187,\n",
       " 1,\n",
       " 1,\n",
       " 26,\n",
       " 1,\n",
       " 1,\n",
       " 111,\n",
       " 1,\n",
       " 50,\n",
       " 113,\n",
       " 103,\n",
       " 1,\n",
       " 121,\n",
       " 1,\n",
       " 74,\n",
       " 141,\n",
       " 1,\n",
       " 1,\n",
       " 1,\n",
       " 1,\n",
       " 154,\n",
       " 168,\n",
       " 47,\n",
       " 127,\n",
       " 11,\n",
       " 2,\n",
       " 4,\n",
       " 126,\n",
       " 1,\n",
       " 14,\n",
       " 67,\n",
       " 161,\n",
       " 7,\n",
       " 1,\n",
       " 2,\n",
       " 187,\n",
       " 2,\n",
       " 30,\n",
       " 2,\n",
       " 1,\n",
       " 185,\n",
       " 173,\n",
       " 173,\n",
       " 5,\n",
       " 183,\n",
       " 94,\n",
       " 1,\n",
       " 5,\n",
       " 3,\n",
       " 113,\n",
       " 6,\n",
       " 1,\n",
       " 184,\n",
       " 1,\n",
       " 1,\n",
       " 187,\n",
       " 1,\n",
       " 2,\n",
       " 182,\n",
       " 108,\n",
       " 103,\n",
       " 1,\n",
       " 143,\n",
       " 1,\n",
       " 1,\n",
       " 1,\n",
       " 187,\n",
       " 186,\n",
       " 52,\n",
       " 1,\n",
       " 147,\n",
       " 2,\n",
       " 1,\n",
       " 187,\n",
       " 82,\n",
       " 1,\n",
       " 1,\n",
       " 2,\n",
       " 1,\n",
       " 186,\n",
       " 2,\n",
       " 1,\n",
       " 4,\n",
       " 2,\n",
       " 1,\n",
       " 1,\n",
       " 179,\n",
       " 187,\n",
       " 1,\n",
       " 1,\n",
       " 1,\n",
       " 184,\n",
       " 1,\n",
       " 188,\n",
       " 4,\n",
       " 1,\n",
       " 3,\n",
       " 1,\n",
       " 187,\n",
       " 177,\n",
       " 1,\n",
       " 3,\n",
       " 3,\n",
       " 187,\n",
       " 30,\n",
       " 2,\n",
       " 61,\n",
       " 10,\n",
       " 6,\n",
       " 1,\n",
       " 1,\n",
       " 1,\n",
       " 187,\n",
       " 187,\n",
       " 1,\n",
       " 1,\n",
       " 1,\n",
       " 103,\n",
       " 1,\n",
       " 171,\n",
       " 1,\n",
       " 1,\n",
       " 1,\n",
       " 52,\n",
       " 134,\n",
       " 57,\n",
       " 122,\n",
       " 1,\n",
       " 160,\n",
       " 1,\n",
       " 1,\n",
       " 1,\n",
       " 1,\n",
       " 1,\n",
       " 186,\n",
       " 187,\n",
       " 1,\n",
       " 1,\n",
       " 185,\n",
       " 187,\n",
       " 1,\n",
       " 188,\n",
       " 1,\n",
       " 39,\n",
       " 121,\n",
       " 187,\n",
       " 2,\n",
       " 151,\n",
       " 1,\n",
       " 183,\n",
       " 127,\n",
       " 118,\n",
       " 187,\n",
       " 158,\n",
       " 123,\n",
       " 183,\n",
       " 186,\n",
       " 1,\n",
       " 2,\n",
       " 3,\n",
       " 2,\n",
       " 2,\n",
       " 1,\n",
       " 2,\n",
       " 18,\n",
       " 16,\n",
       " 125,\n",
       " 150,\n",
       " 2,\n",
       " 1,\n",
       " 1,\n",
       " 1,\n",
       " 187,\n",
       " 1,\n",
       " 1,\n",
       " 2,\n",
       " 165,\n",
       " 172,\n",
       " 162,\n",
       " 1,\n",
       " 187,\n",
       " 10,\n",
       " 100,\n",
       " 1,\n",
       " 1,\n",
       " 1,\n",
       " 1,\n",
       " 22,\n",
       " 3,\n",
       " 184,\n",
       " 1,\n",
       " 187,\n",
       " 62,\n",
       " 187,\n",
       " 1,\n",
       " 1,\n",
       " 187,\n",
       " 21,\n",
       " 1,\n",
       " 180,\n",
       " 182,\n",
       " 174,\n",
       " 187,\n",
       " 1,\n",
       " 1,\n",
       " 1,\n",
       " 15,\n",
       " 1,\n",
       " 9,\n",
       " 1,\n",
       " 187,\n",
       " 141,\n",
       " 187,\n",
       " 109,\n",
       " 187,\n",
       " 1,\n",
       " 179,\n",
       " 1,\n",
       " 1,\n",
       " 1,\n",
       " 1,\n",
       " 41,\n",
       " 41,\n",
       " 1,\n",
       " 187,\n",
       " 187,\n",
       " 1,\n",
       " 8,\n",
       " 1,\n",
       " 112,\n",
       " 1,\n",
       " 1,\n",
       " 1,\n",
       " 1,\n",
       " 122,\n",
       " 116,\n",
       " 1,\n",
       " 1,\n",
       " 1,\n",
       " 1,\n",
       " 147,\n",
       " 177,\n",
       " 1,\n",
       " 187,\n",
       " 163,\n",
       " 148,\n",
       " 183,\n",
       " 1,\n",
       " 1,\n",
       " 188,\n",
       " 187,\n",
       " 127,\n",
       " 187,\n",
       " 98,\n",
       " 1,\n",
       " 1,\n",
       " 181,\n",
       " 187,\n",
       " 187,\n",
       " 1,\n",
       " 184,\n",
       " 1,\n",
       " 1,\n",
       " 22,\n",
       " 137,\n",
       " 54,\n",
       " 1,\n",
       " 187,\n",
       " 1,\n",
       " 19,\n",
       " 1,\n",
       " 185,\n",
       " 1,\n",
       " 139,\n",
       " 1,\n",
       " 1,\n",
       " 187,\n",
       " 84,\n",
       " 187,\n",
       " 187,\n",
       " 9,\n",
       " 1,\n",
       " 187,\n",
       " 1,\n",
       " 187,\n",
       " 187,\n",
       " 181,\n",
       " 28,\n",
       " 176,\n",
       " 161,\n",
       " 183,\n",
       " 1,\n",
       " 1,\n",
       " 187,\n",
       " 1,\n",
       " 1,\n",
       " 35,\n",
       " 1,\n",
       " 2,\n",
       " 1,\n",
       " 1,\n",
       " 1,\n",
       " 1,\n",
       " 1,\n",
       " 6,\n",
       " 1,\n",
       " 1,\n",
       " 1,\n",
       " 1,\n",
       " 1,\n",
       " 1,\n",
       " 1,\n",
       " 1,\n",
       " 1,\n",
       " 1,\n",
       " 1,\n",
       " 1,\n",
       " 1,\n",
       " 106,\n",
       " 1,\n",
       " 1,\n",
       " 1,\n",
       " 1,\n",
       " 1,\n",
       " 188]"
      ]
     },
     "execution_count": 44,
     "metadata": {},
     "output_type": "execute_result"
    }
   ],
   "source": [
    "correct_pred"
   ]
  },
  {
   "cell_type": "code",
   "execution_count": 45,
   "metadata": {},
   "outputs": [
    {
     "data": {
      "text/plain": [
       "[66,\n",
       " 187,\n",
       " 54,\n",
       " 40,\n",
       " 149,\n",
       " 48,\n",
       " 149,\n",
       " 103,\n",
       " 54,\n",
       " 16,\n",
       " 71,\n",
       " 21,\n",
       " 31,\n",
       " 186,\n",
       " 95,\n",
       " 154,\n",
       " 143,\n",
       " 139,\n",
       " 70,\n",
       " 62,\n",
       " 153,\n",
       " 98,\n",
       " 172,\n",
       " 143,\n",
       " 42,\n",
       " 164,\n",
       " 56,\n",
       " 188,\n",
       " 188,\n",
       " 3,\n",
       " 114,\n",
       " 188,\n",
       " 188,\n",
       " 157,\n",
       " 185,\n",
       " 52,\n",
       " 21,\n",
       " 66,\n",
       " 126,\n",
       " 97,\n",
       " 13,\n",
       " 185,\n",
       " 167,\n",
       " 1,\n",
       " 168,\n",
       " 99,\n",
       " 32,\n",
       " 184,\n",
       " 184,\n",
       " 25,\n",
       " 171,\n",
       " 184,\n",
       " 90,\n",
       " 46,\n",
       " 16,\n",
       " 152,\n",
       " 179,\n",
       " 145,\n",
       " 22,\n",
       " 177,\n",
       " 130,\n",
       " 86,\n",
       " 27,\n",
       " 34,\n",
       " 1,\n",
       " 178,\n",
       " 146,\n",
       " 1,\n",
       " 64,\n",
       " 147,\n",
       " 143,\n",
       " 173,\n",
       " 177,\n",
       " 5,\n",
       " 83,\n",
       " 8,\n",
       " 153,\n",
       " 175,\n",
       " 17,\n",
       " 166,\n",
       " 4,\n",
       " 154,\n",
       " 182,\n",
       " 170,\n",
       " 177,\n",
       " 4,\n",
       " 168,\n",
       " 36,\n",
       " 183,\n",
       " 186,\n",
       " 15,\n",
       " 182,\n",
       " 18,\n",
       " 7,\n",
       " 117,\n",
       " 114,\n",
       " 181,\n",
       " 0,\n",
       " 185,\n",
       " 17,\n",
       " 2,\n",
       " 8,\n",
       " 154,\n",
       " 165,\n",
       " 1,\n",
       " 177,\n",
       " 2,\n",
       " 7,\n",
       " 3,\n",
       " 183,\n",
       " 3,\n",
       " 163,\n",
       " 143,\n",
       " 4,\n",
       " 163,\n",
       " 183,\n",
       " 8,\n",
       " 149,\n",
       " 181,\n",
       " 186,\n",
       " 24,\n",
       " 179,\n",
       " 186,\n",
       " 187,\n",
       " 2,\n",
       " 78,\n",
       " 13,\n",
       " 90,\n",
       " 33,\n",
       " 2,\n",
       " 6,\n",
       " 28,\n",
       " 180,\n",
       " 22,\n",
       " 178,\n",
       " 120,\n",
       " 176,\n",
       " 15,\n",
       " 184,\n",
       " 46,\n",
       " 187,\n",
       " 186,\n",
       " 187,\n",
       " 187,\n",
       " 62,\n",
       " 187,\n",
       " 187,\n",
       " 187,\n",
       " 15,\n",
       " 186,\n",
       " 175,\n",
       " 186,\n",
       " 186,\n",
       " 2,\n",
       " 186,\n",
       " 186,\n",
       " 186,\n",
       " 187,\n",
       " 183,\n",
       " 187,\n",
       " 4,\n",
       " 41,\n",
       " 185,\n",
       " 182,\n",
       " 2,\n",
       " 46,\n",
       " 187,\n",
       " 1,\n",
       " 186,\n",
       " 135,\n",
       " 186,\n",
       " 186,\n",
       " 5,\n",
       " 186,\n",
       " 186,\n",
       " 149,\n",
       " 177,\n",
       " 181,\n",
       " 10,\n",
       " 93,\n",
       " 125,\n",
       " 1,\n",
       " 5,\n",
       " 183,\n",
       " 162,\n",
       " 183,\n",
       " 185,\n",
       " 187,\n",
       " 98,\n",
       " 181,\n",
       " 5,\n",
       " 120,\n",
       " 16,\n",
       " 173,\n",
       " 165,\n",
       " 184,\n",
       " 184,\n",
       " 177,\n",
       " 1,\n",
       " 117,\n",
       " 187,\n",
       " 13,\n",
       " 4,\n",
       " 186,\n",
       " 1,\n",
       " 185,\n",
       " 186,\n",
       " 172,\n",
       " 134,\n",
       " 184,\n",
       " 12,\n",
       " 186,\n",
       " 3,\n",
       " 184,\n",
       " 138,\n",
       " 185,\n",
       " 10,\n",
       " 2,\n",
       " 148,\n",
       " 185,\n",
       " 112,\n",
       " 181,\n",
       " 3,\n",
       " 7,\n",
       " 183,\n",
       " 187,\n",
       " 151,\n",
       " 8,\n",
       " 181,\n",
       " 183,\n",
       " 47,\n",
       " 6,\n",
       " 182,\n",
       " 185,\n",
       " 6,\n",
       " 185,\n",
       " 186,\n",
       " 186,\n",
       " 187,\n",
       " 82,\n",
       " 6,\n",
       " 180,\n",
       " 178,\n",
       " 19,\n",
       " 183,\n",
       " 185,\n",
       " 10,\n",
       " 185,\n",
       " 185,\n",
       " 182,\n",
       " 186,\n",
       " 186,\n",
       " 2,\n",
       " 39,\n",
       " 28,\n",
       " 186,\n",
       " 185,\n",
       " 3,\n",
       " 3,\n",
       " 184,\n",
       " 135,\n",
       " 185,\n",
       " 187,\n",
       " 185,\n",
       " 187,\n",
       " 187,\n",
       " 1,\n",
       " 187,\n",
       " 185,\n",
       " 185,\n",
       " 73,\n",
       " 187,\n",
       " 21,\n",
       " 187,\n",
       " 187,\n",
       " 187,\n",
       " 187,\n",
       " 187,\n",
       " 1,\n",
       " 186,\n",
       " 185,\n",
       " 186,\n",
       " 2,\n",
       " 131,\n",
       " 185,\n",
       " 186,\n",
       " 185,\n",
       " 4,\n",
       " 153,\n",
       " 184,\n",
       " 3,\n",
       " 139,\n",
       " 6,\n",
       " 182,\n",
       " 186,\n",
       " 182,\n",
       " 185,\n",
       " 19,\n",
       " 142,\n",
       " 187,\n",
       " 187,\n",
       " 36,\n",
       " 1,\n",
       " 1,\n",
       " 184,\n",
       " 2,\n",
       " 184,\n",
       " 11,\n",
       " 183,\n",
       " 184,\n",
       " 20,\n",
       " 11,\n",
       " 177,\n",
       " 183,\n",
       " 110,\n",
       " 186,\n",
       " 183,\n",
       " 187,\n",
       " 9,\n",
       " 183,\n",
       " 187,\n",
       " 186,\n",
       " 179,\n",
       " 186,\n",
       " 71,\n",
       " 186,\n",
       " 186,\n",
       " 183,\n",
       " 134,\n",
       " 6,\n",
       " 23,\n",
       " 3,\n",
       " 187,\n",
       " 32,\n",
       " 187,\n",
       " 186,\n",
       " 185,\n",
       " 1,\n",
       " 1,\n",
       " 187,\n",
       " 187,\n",
       " 185,\n",
       " 185,\n",
       " 185,\n",
       " 185,\n",
       " 186,\n",
       " 185,\n",
       " 3,\n",
       " 11,\n",
       " 56,\n",
       " 187,\n",
       " 185,\n",
       " 164,\n",
       " 182,\n",
       " 174,\n",
       " 46,\n",
       " 187,\n",
       " 5,\n",
       " 185,\n",
       " 186,\n",
       " 185,\n",
       " 1,\n",
       " 127,\n",
       " 183,\n",
       " 187,\n",
       " 186,\n",
       " 4,\n",
       " 187,\n",
       " 1,\n",
       " 186,\n",
       " 183,\n",
       " 187,\n",
       " 187,\n",
       " 187,\n",
       " 187,\n",
       " 187,\n",
       " 187,\n",
       " 1,\n",
       " 187,\n",
       " 187,\n",
       " 187,\n",
       " 187,\n",
       " 186,\n",
       " 185,\n",
       " 187,\n",
       " 12,\n",
       " 186,\n",
       " 187,\n",
       " 2,\n",
       " 187,\n",
       " 4,\n",
       " 187,\n",
       " 187,\n",
       " 179,\n",
       " 187,\n",
       " 10,\n",
       " 182,\n",
       " 187,\n",
       " 187,\n",
       " 1,\n",
       " 187,\n",
       " 187,\n",
       " 187,\n",
       " 25,\n",
       " 187,\n",
       " 187,\n",
       " 187,\n",
       " 187,\n",
       " 187,\n",
       " 1,\n",
       " 1,\n",
       " 187,\n",
       " 187,\n",
       " 187,\n",
       " 187,\n",
       " 187,\n",
       " 1,\n",
       " 187,\n",
       " 187,\n",
       " 187,\n",
       " 164,\n",
       " 133,\n",
       " 41,\n",
       " 18,\n",
       " 170,\n",
       " 187,\n",
       " 187,\n",
       " 187,\n",
       " 56,\n",
       " 187,\n",
       " 1,\n",
       " 187,\n",
       " 187,\n",
       " 152,\n",
       " 25,\n",
       " 21,\n",
       " 187,\n",
       " 75,\n",
       " 181,\n",
       " 187,\n",
       " 187,\n",
       " 181,\n",
       " 184,\n",
       " 180,\n",
       " 186,\n",
       " 185,\n",
       " 2,\n",
       " 64,\n",
       " 187,\n",
       " 1,\n",
       " 2,\n",
       " 187,\n",
       " 5,\n",
       " 187,\n",
       " 1,\n",
       " 10,\n",
       " 187,\n",
       " 186,\n",
       " 2,\n",
       " 186,\n",
       " 187,\n",
       " 187,\n",
       " 1,\n",
       " 187,\n",
       " 187,\n",
       " 162,\n",
       " 187,\n",
       " 187,\n",
       " 77,\n",
       " 187,\n",
       " 138,\n",
       " 75,\n",
       " 85,\n",
       " 187,\n",
       " 67,\n",
       " 187,\n",
       " 114,\n",
       " 47,\n",
       " 187,\n",
       " 187,\n",
       " 187,\n",
       " 187,\n",
       " 34,\n",
       " 20,\n",
       " 141,\n",
       " 61,\n",
       " 177,\n",
       " 186,\n",
       " 184,\n",
       " 62,\n",
       " 187,\n",
       " 174,\n",
       " 121,\n",
       " 27,\n",
       " 181,\n",
       " 187,\n",
       " 186,\n",
       " 1,\n",
       " 186,\n",
       " 158,\n",
       " 186,\n",
       " 187,\n",
       " 3,\n",
       " 15,\n",
       " 15,\n",
       " 183,\n",
       " 5,\n",
       " 94,\n",
       " 187,\n",
       " 183,\n",
       " 185,\n",
       " 75,\n",
       " 182,\n",
       " 187,\n",
       " 4,\n",
       " 187,\n",
       " 187,\n",
       " 1,\n",
       " 187,\n",
       " 186,\n",
       " 6,\n",
       " 80,\n",
       " 85,\n",
       " 187,\n",
       " 45,\n",
       " 187,\n",
       " 187,\n",
       " 187,\n",
       " 1,\n",
       " 2,\n",
       " 136,\n",
       " 187,\n",
       " 41,\n",
       " 186,\n",
       " 187,\n",
       " 1,\n",
       " 106,\n",
       " 187,\n",
       " 187,\n",
       " 186,\n",
       " 187,\n",
       " 2,\n",
       " 186,\n",
       " 187,\n",
       " 184,\n",
       " 186,\n",
       " 187,\n",
       " 187,\n",
       " 9,\n",
       " 1,\n",
       " 187,\n",
       " 187,\n",
       " 187,\n",
       " 4,\n",
       " 187,\n",
       " 0,\n",
       " 184,\n",
       " 187,\n",
       " 185,\n",
       " 187,\n",
       " 1,\n",
       " 11,\n",
       " 187,\n",
       " 185,\n",
       " 185,\n",
       " 1,\n",
       " 158,\n",
       " 186,\n",
       " 127,\n",
       " 178,\n",
       " 182,\n",
       " 187,\n",
       " 187,\n",
       " 187,\n",
       " 1,\n",
       " 1,\n",
       " 187,\n",
       " 187,\n",
       " 187,\n",
       " 85,\n",
       " 187,\n",
       " 17,\n",
       " 187,\n",
       " 187,\n",
       " 187,\n",
       " 136,\n",
       " 54,\n",
       " 131,\n",
       " 66,\n",
       " 187,\n",
       " 28,\n",
       " 187,\n",
       " 187,\n",
       " 187,\n",
       " 187,\n",
       " 187,\n",
       " 2,\n",
       " 1,\n",
       " 187,\n",
       " 187,\n",
       " 3,\n",
       " 1,\n",
       " 187,\n",
       " 0,\n",
       " 187,\n",
       " 149,\n",
       " 67,\n",
       " 1,\n",
       " 186,\n",
       " 37,\n",
       " 187,\n",
       " 5,\n",
       " 61,\n",
       " 70,\n",
       " 1,\n",
       " 30,\n",
       " 65,\n",
       " 5,\n",
       " 2,\n",
       " 187,\n",
       " 186,\n",
       " 185,\n",
       " 186,\n",
       " 186,\n",
       " 187,\n",
       " 186,\n",
       " 170,\n",
       " 172,\n",
       " 63,\n",
       " 38,\n",
       " 186,\n",
       " 187,\n",
       " 187,\n",
       " 187,\n",
       " 1,\n",
       " 187,\n",
       " 187,\n",
       " 186,\n",
       " 23,\n",
       " 16,\n",
       " 26,\n",
       " 187,\n",
       " 1,\n",
       " 178,\n",
       " 88,\n",
       " 187,\n",
       " 187,\n",
       " 187,\n",
       " 187,\n",
       " 166,\n",
       " 185,\n",
       " 4,\n",
       " 187,\n",
       " 1,\n",
       " 126,\n",
       " 1,\n",
       " 187,\n",
       " 187,\n",
       " 1,\n",
       " 167,\n",
       " 187,\n",
       " 8,\n",
       " 6,\n",
       " 14,\n",
       " 1,\n",
       " 187,\n",
       " 187,\n",
       " 187,\n",
       " 173,\n",
       " 187,\n",
       " 179,\n",
       " 187,\n",
       " 1,\n",
       " 47,\n",
       " 1,\n",
       " 79,\n",
       " 1,\n",
       " 187,\n",
       " 9,\n",
       " 187,\n",
       " 187,\n",
       " 187,\n",
       " 187,\n",
       " 147,\n",
       " 147,\n",
       " 187,\n",
       " 1,\n",
       " 1,\n",
       " 187,\n",
       " 180,\n",
       " 187,\n",
       " 76,\n",
       " 187,\n",
       " 187,\n",
       " 187,\n",
       " 187,\n",
       " 66,\n",
       " 72,\n",
       " 187,\n",
       " 187,\n",
       " 187,\n",
       " 187,\n",
       " 41,\n",
       " 11,\n",
       " 187,\n",
       " 1,\n",
       " 25,\n",
       " 40,\n",
       " 5,\n",
       " 187,\n",
       " 187,\n",
       " 0,\n",
       " 1,\n",
       " 61,\n",
       " 1,\n",
       " 90,\n",
       " 187,\n",
       " 187,\n",
       " 7,\n",
       " 1,\n",
       " 1,\n",
       " 187,\n",
       " 4,\n",
       " 187,\n",
       " 187,\n",
       " 166,\n",
       " 51,\n",
       " 134,\n",
       " 187,\n",
       " 1,\n",
       " 187,\n",
       " 169,\n",
       " 187,\n",
       " 3,\n",
       " 187,\n",
       " 49,\n",
       " 187,\n",
       " 187,\n",
       " 1,\n",
       " 104,\n",
       " 1,\n",
       " 1,\n",
       " 179,\n",
       " 187,\n",
       " 1,\n",
       " 187,\n",
       " 1,\n",
       " 1,\n",
       " 7,\n",
       " 160,\n",
       " 12,\n",
       " 27,\n",
       " 5,\n",
       " 187,\n",
       " 187,\n",
       " 1,\n",
       " 187,\n",
       " 187,\n",
       " 153,\n",
       " 187,\n",
       " 186,\n",
       " 187,\n",
       " 187,\n",
       " 187,\n",
       " 187,\n",
       " 187,\n",
       " 182,\n",
       " 187,\n",
       " 187,\n",
       " 187,\n",
       " 187,\n",
       " 187,\n",
       " 187,\n",
       " 187,\n",
       " 187,\n",
       " 187,\n",
       " 187,\n",
       " 187,\n",
       " 187,\n",
       " 187,\n",
       " 82,\n",
       " 187,\n",
       " 187,\n",
       " 187,\n",
       " 187,\n",
       " 187,\n",
       " 0]"
      ]
     },
     "execution_count": 45,
     "metadata": {},
     "output_type": "execute_result"
    }
   ],
   "source": [
    "wrong_pred"
   ]
  },
  {
   "cell_type": "code",
   "execution_count": 46,
   "metadata": {},
   "outputs": [
    {
     "data": {
      "text/plain": [
       "(array([424.,  31.,  29.,  16.,  10.,  18.,  25.,  27.,  34., 173.]),\n",
       " array([  0. ,  18.8,  37.6,  56.4,  75.2,  94. , 112.8, 131.6, 150.4,\n",
       "        169.2, 188. ]),\n",
       " <a list of 10 Patch objects>)"
      ]
     },
     "execution_count": 46,
     "metadata": {},
     "output_type": "execute_result"
    },
    {
     "data": {
      "image/png": "[encoded data removed]",
      "text/plain": [
       "<matplotlib.figure.Figure at 0x7f561025f668>"
      ]
     },
     "metadata": {
      "needs_background": "light"
     },
     "output_type": "display_data"
    }
   ],
   "source": [
    "plt.hist(correct_pred)"
   ]
  },
  {
   "cell_type": "code",
   "execution_count": 47,
   "metadata": {},
   "outputs": [
    {
     "data": {
      "text/plain": [
       "(array([173.,  34.,  27.,  25.,  17.,  11.,  16.,  29.,  31., 424.]),\n",
       " array([  0. ,  18.8,  37.6,  56.4,  75.2,  94. , 112.8, 131.6, 150.4,\n",
       "        169.2, 188. ]),\n",
       " <a list of 10 Patch objects>)"
      ]
     },
     "execution_count": 47,
     "metadata": {},
     "output_type": "execute_result"
    },
    {
     "data": {
      "image/png": "[encoded data removed]",
      "text/plain": [
       "<matplotlib.figure.Figure at 0x7f55e9d20a58>"
      ]
     },
     "metadata": {
      "needs_background": "light"
     },
     "output_type": "display_data"
    }
   ],
   "source": [
    "plt.hist(wrong_pred)"
   ]
  },
  {
   "cell_type": "markdown",
   "metadata": {},
   "source": [
    "## Some PCA and tsne stuff"
   ]
  },
  {
   "cell_type": "code",
   "execution_count": null,
   "metadata": {},
   "outputs": [],
   "source": []
  },
  {
   "cell_type": "code",
   "execution_count": null,
   "metadata": {},
   "outputs": [],
   "source": [
    "from sklearn.decomposition import PCA\n",
    "pca = PCA(n_components=50)\n",
    "pca.fit_transform(X)"
   ]
  },
  {
   "cell_type": "code",
   "execution_count": null,
   "metadata": {},
   "outputs": [],
   "source": []
  },
  {
   "cell_type": "code",
   "execution_count": null,
   "metadata": {},
   "outputs": [],
   "source": []
  },
  {
   "cell_type": "code",
   "execution_count": null,
   "metadata": {},
   "outputs": [],
   "source": []
  },
  {
   "cell_type": "markdown",
   "metadata": {},
   "source": [
    "# In fact there are subgraphs that are mostly predicted correct or wrong"
   ]
  },
  {
   "cell_type": "markdown",
   "metadata": {},
   "source": [
    "### Now a deep learning model"
   ]
  },
  {
   "cell_type": "markdown",
   "metadata": {},
   "source": [
    "Create the dataset"
   ]
  },
  {
   "cell_type": "code",
   "execution_count": 16,
   "metadata": {},
   "outputs": [],
   "source": [
    "subgraph_embedding_fname = '/home/ipsita/BTP/graph2vec/tmp/for_gui/embeddings/mutag_dims_512_epochs_400_lr_0.3_subgraph_embedding.txt'\n",
    "\n",
    "with open(subgraph_embedding_fname, 'r') as fh:\n",
    "    subgraph_embedding_dict = json.load(fh)\n",
    "\n",
    "final_embedding_fname = '/home/ipsita/BTP/graph2vec/tmp/for_gui/embeddings/final_graph_embedding.txt'\n",
    "\n",
    "with open(final_embedding_fname, 'r') as fh:\n",
    "    graph_embedding_dict = json.load(fh)\n",
    "\n",
    "subgraphs_list = list(subgraph_embedding_dict.keys())"
   ]
  },
  {
   "cell_type": "markdown",
   "metadata": {},
   "source": [
    "split the data to train and test model"
   ]
  },
  {
   "cell_type": "code",
   "execution_count": 17,
   "metadata": {},
   "outputs": [],
   "source": [
    "y_dummy = np.zeros((len(X), 1))"
   ]
  },
  {
   "cell_type": "code",
   "execution_count": 18,
   "metadata": {},
   "outputs": [],
   "source": [
    "X_train, X_test, y_train, y_test = train_test_split(X, y_dummy, test_size=0.20, random_state=40)"
   ]
  },
  {
   "cell_type": "code",
   "execution_count": 19,
   "metadata": {},
   "outputs": [
    {
     "name": "stdout",
     "output_type": "stream",
     "text": [
      "150 38\n"
     ]
    }
   ],
   "source": [
    "print(len(X_train), len(X_test))"
   ]
  },
  {
   "cell_type": "code",
   "execution_count": 20,
   "metadata": {},
   "outputs": [],
   "source": [
    "train_data1 = []\n",
    "for gnum in range(0, len(X_train)):\n",
    "    gvec = graph_embedding_dict[X_train[gnum]]\n",
    "    \n",
    "    for s in subgraphs[gnum]:\n",
    "        svec = subgraph_embedding_dict[s] \n",
    "        train_data1.append(np.concatenate((gvec, svec), axis = 0))\n",
    "\n",
    "test_data1 = []\n",
    "for gnum in range(0, len(X_test)):\n",
    "    gvec = graph_embedding_dict[X_test[gnum]]\n",
    "    \n",
    "    for s in subgraphs[gnum]:\n",
    "        sevc = subgraph_embedding_dict[s]\n",
    "        test_data1.append( np.concatenate((gvec, svec), axis=0))"
   ]
  },
  {
   "cell_type": "code",
   "execution_count": 21,
   "metadata": {},
   "outputs": [
    {
     "name": "stdout",
     "output_type": "stream",
     "text": [
      "(4734, 1024) (1216, 1024)\n"
     ]
    }
   ],
   "source": [
    "print(np.shape(train_data1), np.shape(test_data1))"
   ]
  },
  {
   "cell_type": "code",
   "execution_count": 22,
   "metadata": {},
   "outputs": [
    {
     "name": "stdout",
     "output_type": "stream",
     "text": [
      "(4734, 1) (1216, 1)\n"
     ]
    }
   ],
   "source": [
    "target_data1 = np.ones((np.shape(train_data1)[0], 1))\n",
    "target_test_data1 = np.ones((np.shape(test_data1)[0], 1))\n",
    "print(np.shape(target_data1), np.shape(target_test_data1))"
   ]
  },
  {
   "cell_type": "code",
   "execution_count": 23,
   "metadata": {},
   "outputs": [
    {
     "name": "stdout",
     "output_type": "stream",
     "text": [
      "(5582, 1024) (1413, 1024)\n"
     ]
    }
   ],
   "source": [
    "# train data negative\n",
    "train_data2 = []\n",
    "test_data2  = []\n",
    "\n",
    "for gnum in range(0, len(X_train)):\n",
    "    gvec = graph_embedding_dict[X_train[gnum]]\n",
    "    i = 0from sklearn.decomposition import PCA\n",
    "    \n",
    "    for s in subgraphs_list:\n",
    "        if s not in subgraphs[gnum]:\n",
    "            i = i + 1\n",
    "            if i%20 == 0:\n",
    "                svec = subgraph_embedding_dict[s]\n",
    "                train_data2.append(np.concatenate((gvec, svec), axis = 0))\n",
    "\n",
    "for gnum in range(0, len(X_test)):\n",
    "    gvec = graph_embedding_dict[X_test[gnum]]\n",
    "    i = 0\n",
    "    \n",
    "    for s in subgraphs_list:\n",
    "        if s not in subgraphs[gnum]:\n",
    "            i = i + 1\n",
    "            if i%20 == 0:\n",
    "                svec = subgraph_embedding_dict[s]\n",
    "                test_data2.append(np.concatenate((gvec, svec), axis = 0))\n",
    "\n",
    "print( np.shape(train_data2), np.shape(test_data2))"
   ]
  },
  {
   "cell_type": "code",
   "execution_count": 24,
   "metadata": {},
   "outputs": [
    {
     "name": "stdout",
     "output_type": "stream",
     "text": [
      "(5582, 1) (1413, 1)\n"
     ]
    }
   ],
   "source": [
    "target_data2      = np.zeros((np.shape(train_data2)[0], 1))\n",
    "target_test_data2 = np.zeros((np.shape(test_data2)[0], 1))\n",
    "print(np.shape(target_data2), np.shape(target_test_data2))"
   ]
  },
  {
   "cell_type": "code",
   "execution_count": 25,
   "metadata": {},
   "outputs": [
    {
     "name": "stdout",
     "output_type": "stream",
     "text": [
      "(10316, 1024) (10316, 1)\n"
     ]
    }
   ],
   "source": [
    "train_data = np.concatenate((train_data1, train_data2), axis =0)\n",
    "train_data = np.array(train_data)\n",
    "target_data = np.concatenate((target_data1, target_data2), axis=0)\n",
    "print(np.shape(train_data), np.shape(target_data))"
   ]
  },
  {
   "cell_type": "code",
   "execution_count": 26,
   "metadata": {},
   "outputs": [
    {
     "name": "stdout",
     "output_type": "stream",
     "text": [
      "(2629, 1024) (2629, 1)\n"
     ]
    }
   ],
   "source": [
    "test_data  = np.concatenate((test_data1, test_data2), axis=0)\n",
    "test_data = np.array(test_data)\n",
    "target_test_data = np.concatenate((target_test_data1, target_test_data2), axis=0)\n",
    "print(np.shape(test_data), np.shape(target_test_data))"
   ]
  },
  {
   "cell_type": "code",
   "execution_count": 27,
   "metadata": {},
   "outputs": [],
   "source": [
    "## Shuffle the data\n",
    "train_data, XX, target_data, YY = train_test_split(train_data, target_data, test_size=0, random_state=40)"
   ]
  },
  {
   "cell_type": "code",
   "execution_count": 28,
   "metadata": {},
   "outputs": [
    {
     "name": "stdout",
     "output_type": "stream",
     "text": [
      "(10316, 1024) (10316, 1)\n"
     ]
    }
   ],
   "source": [
    "print(np.shape(train_data), np.shape(target_data))"
   ]
  },
  {
   "cell_type": "markdown",
   "metadata": {},
   "source": [
    "## Definition of the model"
   ]
  },
  {
   "cell_type": "code",
   "execution_count": 23,
   "metadata": {},
   "outputs": [
    {
     "name": "stderr",
     "output_type": "stream",
     "text": [
      "Using TensorFlow backend.\n"
     ]
    }
   ],
   "source": [
    "from keras.layers import Dense, Dropout, Activation, Flatten\n",
    "from keras.layers import Conv1D, MaxPooling1D\n",
    "\n",
    "epochs = 10\n",
    "batch_size = 32"
   ]
  },
  {
   "cell_type": "code",
   "execution_count": 24,
   "metadata": {},
   "outputs": [
    {
     "name": "stdout",
     "output_type": "stream",
     "text": [
      "(10316, 1024, 1) (10316, 1)\n",
      "(2629, 1024, 1) (2629, 1)\n"
     ]
    }
   ],
   "source": [
    "train_data  = train_data.reshape((np.shape(train_data)[0], np.shape(train_data)[1], 1))\n",
    "target_data = target_data.reshape((np.shape(target_data)[0], 1))\n",
    "\n",
    "test_data        = test_data.reshape((np.shape(test_data)[0], np.shape(test_data)[1], 1))\n",
    "target_test_data = target_test_data.reshape((np.shape(target_test_data)[0], 1))\n",
    "\n",
    "print(np.shape(train_data), np.shape(target_data))\n",
    "print(np.shape(test_data) , np.shape(target_test_data))"
   ]
  },
  {
   "cell_type": "code",
   "execution_count": 25,
   "metadata": {},
   "outputs": [],
   "source": [
    "def conv1d(x, W):\n",
    "    # Conv2D wrapper, with bias and relu activation\n",
    "    x = tf.nn.conv1d(x, W, 1, padding='SAME')\n",
    "    # x = tf.nn.bias_add(x, b)\n",
    "    return tf.nn.relu(x)\n",
    "\n",
    "def maxpool1d(x):\n",
    "    return tf.nn.max_pool1d(x, ksize=3, strides=1, padding='SAME')\n",
    "\n",
    "# Create model\n",
    "def conv_net(x, weights):\n",
    "\n",
    "    # Convolution Layer\n",
    "    conv1 = conv1d(x, weights[0])\n",
    "    conv1 = maxpool1d(conv1)\n",
    "    # conv1 = tf.nn.dropout(conv1, rate=0.25)\n",
    "\n",
    "    #conv2 = conv1d(conv1, weights[1])\n",
    "    #conv2 = maxpool1d(conv2)\n",
    "    # conv2 = tf.nn.dropout(conv2, rate=0.25)\n",
    "\n",
    "    #conv3 = conv1d(conv2, weights[2])\n",
    "    #conv3 = maxpool1d(conv3)\n",
    "    # conv3 = tf.nn.dropout(conv3, rate=0.25)\n",
    "\n",
    "    flt = tf.keras.layers.Flatten()(conv1)\n",
    "    den = tf.layers.dense(flt, 1)\n",
    "    den = tf.nn.sigmoid(den)\n",
    "\n",
    "    return den"
   ]
  },
  {
   "cell_type": "code",
   "execution_count": 26,
   "metadata": {},
   "outputs": [
    {
     "name": "stdout",
     "output_type": "stream",
     "text": [
      "WARNING:tensorflow:From <ipython-input-26-b31f1cab8275>:9: calling TruncatedNormal.__init__ (from tensorflow.python.ops.init_ops) with dtype is deprecated and will be removed in a future version.\n",
      "Instructions for updating:\n",
      "Call initializer instance with the dtype argument instead of passing it to the constructor\n"
     ]
    },
    {
     "name": "stderr",
     "output_type": "stream",
     "text": [
      "WARNING:tensorflow:From <ipython-input-26-b31f1cab8275>:9: calling TruncatedNormal.__init__ (from tensorflow.python.ops.init_ops) with dtype is deprecated and will be removed in a future version.\n",
      "Instructions for updating:\n",
      "Call initializer instance with the dtype argument instead of passing it to the constructor\n"
     ]
    },
    {
     "name": "stdout",
     "output_type": "stream",
     "text": [
      "WARNING:tensorflow:From <ipython-input-25-7c0d19c7f600>:27: dense (from tensorflow.python.layers.core) is deprecated and will be removed in a future version.\n",
      "Instructions for updating:\n",
      "Use keras.layers.dense instead.\n"
     ]
    },
    {
     "name": "stderr",
     "output_type": "stream",
     "text": [
      "WARNING:tensorflow:From <ipython-input-25-7c0d19c7f600>:27: dense (from tensorflow.python.layers.core) is deprecated and will be removed in a future version.\n",
      "Instructions for updating:\n",
      "Use keras.layers.dense instead.\n"
     ]
    },
    {
     "name": "stdout",
     "output_type": "stream",
     "text": [
      "WARNING:tensorflow:From /home/ipsita/.local/lib/python3.6/site-packages/tensorflow/python/ops/init_ops.py:1251: calling VarianceScaling.__init__ (from tensorflow.python.ops.init_ops) with dtype is deprecated and will be removed in a future version.\n",
      "Instructions for updating:\n",
      "Call initializer instance with the dtype argument instead of passing it to the constructor\n"
     ]
    },
    {
     "name": "stderr",
     "output_type": "stream",
     "text": [
      "WARNING:tensorflow:From /home/ipsita/.local/lib/python3.6/site-packages/tensorflow/python/ops/init_ops.py:1251: calling VarianceScaling.__init__ (from tensorflow.python.ops.init_ops) with dtype is deprecated and will be removed in a future version.\n",
      "Instructions for updating:\n",
      "Call initializer instance with the dtype argument instead of passing it to the constructor\n"
     ]
    },
    {
     "name": "stdout",
     "output_type": "stream",
     "text": [
      "WARNING:tensorflow:Entity <bound method Dense.call of <tensorflow.python.layers.core.Dense object at 0x7f06ec8601d0>> could not be transformed and will be executed as-is. Please report this to the AutgoGraph team. When filing the bug, set the verbosity to 10 (on Linux, `export AUTOGRAPH_VERBOSITY=10`) and attach the full output. Cause: converting <bound method Dense.call of <tensorflow.python.layers.core.Dense object at 0x7f06ec8601d0>>: AssertionError: Bad argument number for Name: 3, expecting 4\n"
     ]
    },
    {
     "name": "stderr",
     "output_type": "stream",
     "text": [
      "WARNING:tensorflow:Entity <bound method Dense.call of <tensorflow.python.layers.core.Dense object at 0x7f06ec8601d0>> could not be transformed and will be executed as-is. Please report this to the AutgoGraph team. When filing the bug, set the verbosity to 10 (on Linux, `export AUTOGRAPH_VERBOSITY=10`) and attach the full output. Cause: converting <bound method Dense.call of <tensorflow.python.layers.core.Dense object at 0x7f06ec8601d0>>: AssertionError: Bad argument number for Name: 3, expecting 4\n"
     ]
    },
    {
     "name": "stdout",
     "output_type": "stream",
     "text": [
      "WARNING: Entity <bound method Dense.call of <tensorflow.python.layers.core.Dense object at 0x7f06ec8601d0>> could not be transformed and will be executed as-is. Please report this to the AutgoGraph team. When filing the bug, set the verbosity to 10 (on Linux, `export AUTOGRAPH_VERBOSITY=10`) and attach the full output. Cause: converting <bound method Dense.call of <tensorflow.python.layers.core.Dense object at 0x7f06ec8601d0>>: AssertionError: Bad argument number for Name: 3, expecting 4\n",
      "WARNING:tensorflow:From /home/ipsita/.local/lib/python3.6/site-packages/tensorflow/python/ops/nn_impl.py:180: add_dispatch_support.<locals>.wrapper (from tensorflow.python.ops.array_ops) is deprecated and will be removed in a future version.\n",
      "Instructions for updating:\n",
      "Use tf.where in 2.0, which has the same broadcast rule as np.where\n"
     ]
    },
    {
     "name": "stderr",
     "output_type": "stream",
     "text": [
      "WARNING:tensorflow:From /home/ipsita/.local/lib/python3.6/site-packages/tensorflow/python/ops/nn_impl.py:180: add_dispatch_support.<locals>.wrapper (from tensorflow.python.ops.array_ops) is deprecated and will be removed in a future version.\n",
      "Instructions for updating:\n",
      "Use tf.where in 2.0, which has the same broadcast rule as np.where\n"
     ]
    }
   ],
   "source": [
    "graph = tf.Graph()\n",
    "\n",
    "with graph.as_default():\n",
    "\n",
    "    batch_inputs = tf.placeholder(tf.float32, shape=([None, 1024, 1]))\n",
    "    batch_labels = tf.placeholder(tf.float32, shape=([None, 1]))\n",
    "\n",
    "    w1 = tf.get_variable('w1',[(1024), 1, 1], \n",
    "                       initializer=tf.truncated_normal_initializer(stddev=5e-2, dtype=tf.float32),\n",
    "                       dtype= tf.float32)\n",
    "  \n",
    "    #w2 = tf.get_variable('w2', [(1024)//2, 1, 1],\n",
    "    #                   initializer=tf.truncated_normal_initializer(stddev=5e-2, dtype=tf.float32),\n",
    "    #                   dtype= tf.float32)\n",
    "\n",
    "    #w3 = tf.get_variable('w3', [(1024)//4, 1, 1],\n",
    "    #                   initializer=tf.truncated_normal_initializer(stddev=5e-2, dtype=tf.float32),\n",
    "    #                   dtype=tf.float32)\n",
    "  \n",
    "\n",
    "    result = conv_net(batch_inputs, [w1])\n",
    "    \n",
    "    # Predictions\n",
    "    #pred_classes = tf.argmax(result, axis=1)\n",
    "    #prediction   = tf.nn.softmax(result)\n",
    "    \n",
    "    loss = tf.keras.backend.binary_crossentropy(batch_labels, result)\n",
    "    #loss = tf.reduce_mean(tf.nn.softmax_cross_entropy_with_logits (logits=result, labels=batch_labels))\n",
    "    #loss = tf.cast(tf.keras.losses.MSE(result, batch_labels), tf.float32)\n",
    "    # loss = tf.cast(R_squared(batch_labels, result), tf.float32)\n",
    "    #r2score = R_squared(batch_labels, result)\n",
    "    \n",
    "    #acc = tf.metrics.accuracy(labels=batch_labels, predictions=pred_classes)\n",
    "    \n",
    "    learning_rate = tf.constant(0.001, dtype=tf.float32)\n",
    "    optimizer = tf.train.AdamOptimizer(learning_rate= learning_rate).minimize(loss)"
   ]
  },
  {
   "cell_type": "code",
   "execution_count": null,
   "metadata": {},
   "outputs": [
    {
     "name": "stdout",
     "output_type": "stream",
     "text": [
      "Epoch: 0001 cost =  0.5102922196343819 acc value =  0.0\n"
     ]
    }
   ],
   "source": [
    "loss_values = []\n",
    "acc_values  = []\n",
    "\n",
    "with tf.Session(graph=graph) as sess:\n",
    "    \n",
    "    init = tf.global_variables_initializer()\n",
    "    sess.run(init)\n",
    "\n",
    "    for e in range(epochs):\n",
    "\n",
    "        total_batch = len(train_data) // batch_size\n",
    "        x_batches = np.array_split(train_data, total_batch)\n",
    "        y_batches = np.array_split(target_data, total_batch)\n",
    "\n",
    "        avg_cost = 0\n",
    "        avg_acc  = 0\n",
    "        for i in range(total_batch):\n",
    "                batch_x, batch_y = x_batches[i], y_batches[i]\n",
    "                feed_dict = {batch_inputs: batch_x, batch_labels: batch_y}\n",
    "                _, c = sess.run([optimizer, loss], feed_dict=feed_dict)\n",
    "                avg_cost += np.mean(c)\n",
    "                #avg_acc  += np.mean(a)\n",
    "\n",
    "        loss_values.append(avg_cost/total_batch)\n",
    "        #acc_values.append(avg_acc/total_batch)\n",
    "        print(\"Epoch:\", '%04d' % (e+1), \"cost = \", avg_cost/total_batch, \"acc value = \",avg_acc/total_batch)  \n",
    "\n",
    "        y_pred_test  = sess.run(result, {batch_inputs: test_data})\n",
    "        y_pred_train = sess.run(result, {batch_inputs: train_data})\n",
    "\n",
    "    #correct_prediction = tf.equal(tf.argmax(predictions, 1), tf.argmax(y, 1))\n",
    "    #accuracy = tf.reduce_mean(tf.cast(correct_prediction, \"float\"))\n",
    "    #print(\"Accuracy:\", accuracy.eval({x: x_test, y: y_test, keep_prob: 1.0}))\n",
    "\n",
    "    # accuracy = tf.reduce_mean(tf.cast(y_test, tf.float32))\n",
    "    # print(sess.run([test_pred], feed_dict={batch_inputs: x_test}))\n",
    "    #print(\"Testing Loss:\", sess.run(loss, feed_dict={batch_inputs: x_test, batch_labels: y_test}))"
   ]
  },
  {
   "cell_type": "code",
   "execution_count": null,
   "metadata": {},
   "outputs": [],
   "source": []
  },
  {
   "cell_type": "markdown",
   "metadata": {},
   "source": [
    "### Try this but I dont think it will work"
   ]
  },
  {
   "cell_type": "code",
   "execution_count": 36,
   "metadata": {},
   "outputs": [],
   "source": [
    "from sklearn.ensemble import RandomForestClassifier\n",
    "from sklearn.metrics import accuracy_score"
   ]
  },
  {
   "cell_type": "code",
   "execution_count": 33,
   "metadata": {},
   "outputs": [],
   "source": [
    "clf = RandomForestClassifier(max_depth=7, random_state=0)"
   ]
  },
  {
   "cell_type": "code",
   "execution_count": 34,
   "metadata": {},
   "outputs": [
    {
     "name": "stderr",
     "output_type": "stream",
     "text": [
      "/home/ipsita/.local/lib/python3.6/site-packages/ipykernel_launcher.py:1: DataConversionWarning: A column-vector y was passed when a 1d array was expected. Please change the shape of y to (n_samples,), for example using ravel().\n",
      "  \"\"\"Entry point for launching an IPython kernel.\n"
     ]
    },
    {
     "data": {
      "text/plain": [
       "RandomForestClassifier(bootstrap=True, class_weight=None, criterion='gini',\n",
       "            max_depth=7, max_features='auto', max_leaf_nodes=None,\n",
       "            min_impurity_decrease=0.0, min_impurity_split=None,\n",
       "            min_samples_leaf=1, min_samples_split=2,\n",
       "            min_weight_fraction_leaf=0.0, n_estimators=10, n_jobs=1,\n",
       "            oob_score=False, random_state=0, verbose=0, warm_start=False)"
      ]
     },
     "execution_count": 34,
     "metadata": {},
     "output_type": "execute_result"
    }
   ],
   "source": [
    "clf.fit(train_data, target_data)"
   ]
  },
  {
   "cell_type": "code",
   "execution_count": 37,
   "metadata": {},
   "outputs": [
    {
     "data": {
      "text/plain": [
       "0.5150247242297451"
      ]
     },
     "execution_count": 37,
     "metadata": {},
     "output_type": "execute_result"
    }
   ],
   "source": [
    "test_pred = clf.predict(test_data)\n",
    "accuracy_score(target_test_data, test_pred)"
   ]
  },
  {
   "cell_type": "code",
   "execution_count": 38,
   "metadata": {},
   "outputs": [
    {
     "data": {
      "text/plain": [
       "0.8513958898797984"
      ]
     },
     "execution_count": 38,
     "metadata": {},
     "output_type": "execute_result"
    }
   ],
   "source": [
    "train_pred = clf.predict(train_data)\n",
    "accuracy_score(target_data, train_pred)"
   ]
  },
  {
   "cell_type": "code",
   "execution_count": null,
   "metadata": {},
   "outputs": [],
   "source": []
  },
  {
   "cell_type": "markdown",
   "metadata": {},
   "source": [
    "## A FC network"
   ]
  },
  {
   "cell_type": "code",
   "execution_count": 29,
   "metadata": {},
   "outputs": [],
   "source": [
    "from keras.models import Sequential\n",
    "from keras.layers import Dense, Dropout, Flatten\n",
    "from keras.optimizers import Adam, Nadam, Adamax"
   ]
  },
  {
   "cell_type": "code",
   "execution_count": 25,
   "metadata": {},
   "outputs": [
    {
     "name": "stdout",
     "output_type": "stream",
     "text": [
      "Model: \"sequential_1\"\n",
      "_________________________________________________________________\n",
      "Layer (type)                 Output Shape              Param #   \n",
      "=================================================================\n",
      "dense_1 (Dense)              (None, 1024)              1049600   \n",
      "_________________________________________________________________\n",
      "dense_2 (Dense)              (None, 1)                 1025      \n",
      "=================================================================\n",
      "Total params: 1,050,625\n",
      "Trainable params: 1,050,625\n",
      "Non-trainable params: 0\n",
      "_________________________________________________________________\n"
     ]
    }
   ],
   "source": [
    "embedding_size = 1024\n",
    "\n",
    "model = Sequential()\n",
    "model.add(Dense(embedding_size, activation='relu', input_shape=(embedding_size,)))\n",
    "# model.add(Dense((embedding_size//2)))#, activation='relu'))\n",
    "# model.add(Dense((embedding_size//4)))#, activation='relu'))\n",
    "# model.add(Dense((embedding_size//6)))#, activation='relu'))\n",
    "# model.add(Dense((embedding_size//8)))#, activation='relu'))\n",
    "# model.add(Dense(20))\n",
    "model.add(Dense(1, activation='sigmoid'))\n",
    "model.summary()"
   ]
  },
  {
   "cell_type": "code",
   "execution_count": 30,
   "metadata": {},
   "outputs": [
    {
     "name": "stdout",
     "output_type": "stream",
     "text": [
      "Model: \"sequential_1\"\n",
      "_________________________________________________________________\n",
      "Layer (type)                 Output Shape              Param #   \n",
      "=================================================================\n",
      "dense_1 (Dense)              (None, 100)               102500    \n",
      "_________________________________________________________________\n",
      "dense_2 (Dense)              (None, 1)                 101       \n",
      "=================================================================\n",
      "Total params: 102,601\n",
      "Trainable params: 102,601\n",
      "Non-trainable params: 0\n",
      "_________________________________________________________________\n"
     ]
    }
   ],
   "source": [
    "model = Sequential()\n",
    "model.add(Dense(100,  input_shape=(1024,) , activation='relu'))\n",
    "# model.add(Dense(64 ,activation='relu'))\n",
    "# model.add(Dropout(0.6))\n",
    "# model.add(Dense(64, activation='relu'))\n",
    "# model.add(Dropout(0.6))\n",
    "model.add(Dense(1, activation='sigmoid'))\n",
    "model.summary()"
   ]
  },
  {
   "cell_type": "code",
   "execution_count": 31,
   "metadata": {},
   "outputs": [
    {
     "name": "stdout",
     "output_type": "stream",
     "text": [
      "WARNING:tensorflow:From /home/ipsita/.local/lib/python3.6/site-packages/tensorflow/python/ops/nn_impl.py:180: add_dispatch_support.<locals>.wrapper (from tensorflow.python.ops.array_ops) is deprecated and will be removed in a future version.\n",
      "Instructions for updating:\n",
      "Use tf.where in 2.0, which has the same broadcast rule as np.where\n"
     ]
    },
    {
     "name": "stderr",
     "output_type": "stream",
     "text": [
      "WARNING:tensorflow:From /home/ipsita/.local/lib/python3.6/site-packages/tensorflow/python/ops/nn_impl.py:180: add_dispatch_support.<locals>.wrapper (from tensorflow.python.ops.array_ops) is deprecated and will be removed in a future version.\n",
      "Instructions for updating:\n",
      "Use tf.where in 2.0, which has the same broadcast rule as np.where\n"
     ]
    },
    {
     "name": "stdout",
     "output_type": "stream",
     "text": [
      "WARNING:tensorflow:From /usr/local/lib/python3.6/dist-packages/keras/backend/tensorflow_backend.py:422: The name tf.global_variables is deprecated. Please use tf.compat.v1.global_variables instead.\n",
      "\n"
     ]
    },
    {
     "name": "stderr",
     "output_type": "stream",
     "text": [
      "WARNING:tensorflow:From /usr/local/lib/python3.6/dist-packages/keras/backend/tensorflow_backend.py:422: The name tf.global_variables is deprecated. Please use tf.compat.v1.global_variables instead.\n",
      "\n"
     ]
    },
    {
     "name": "stdout",
     "output_type": "stream",
     "text": [
      "Train on 7737 samples, validate on 2579 samples\n",
      "Epoch 1/20\n",
      "7737/7737 [==============================] - 1s 189us/step - loss: 0.5451 - accuracy: 0.7368 - val_loss: 0.4795 - val_accuracy: 0.7972\n",
      "Epoch 2/20\n",
      "7737/7737 [==============================] - 1s 99us/step - loss: 0.4517 - accuracy: 0.8100 - val_loss: 0.4442 - val_accuracy: 0.8088\n",
      "Epoch 3/20\n",
      "7737/7737 [==============================] - 1s 142us/step - loss: 0.4150 - accuracy: 0.8277 - val_loss: 0.4233 - val_accuracy: 0.8100\n",
      "Epoch 4/20\n",
      "7737/7737 [==============================] - 1s 140us/step - loss: 0.3983 - accuracy: 0.8334 - val_loss: 0.4130 - val_accuracy: 0.8119\n",
      "Epoch 5/20\n",
      "7737/7737 [==============================] - 1s 100us/step - loss: 0.3849 - accuracy: 0.8402 - val_loss: 0.4062 - val_accuracy: 0.8263\n",
      "Epoch 6/20\n",
      "7737/7737 [==============================] - 1s 99us/step - loss: 0.3769 - accuracy: 0.8434 - val_loss: 0.4007 - val_accuracy: 0.8247\n",
      "Epoch 7/20\n",
      "7737/7737 [==============================] - 1s 98us/step - loss: 0.3705 - accuracy: 0.8434 - val_loss: 0.4021 - val_accuracy: 0.8251\n",
      "Epoch 8/20\n",
      "7737/7737 [==============================] - 1s 98us/step - loss: 0.3626 - accuracy: 0.8510 - val_loss: 0.4002 - val_accuracy: 0.8232\n",
      "Epoch 9/20\n",
      "7737/7737 [==============================] - 1s 114us/step - loss: 0.3570 - accuracy: 0.8488 - val_loss: 0.3972 - val_accuracy: 0.8275\n",
      "Epoch 10/20\n",
      "7737/7737 [==============================] - 1s 107us/step - loss: 0.3538 - accuracy: 0.8520 - val_loss: 0.3915 - val_accuracy: 0.8321\n",
      "Epoch 11/20\n",
      "7737/7737 [==============================] - 1s 113us/step - loss: 0.3473 - accuracy: 0.8543 - val_loss: 0.4010 - val_accuracy: 0.8212\n",
      "Epoch 12/20\n",
      "7737/7737 [==============================] - 1s 137us/step - loss: 0.3465 - accuracy: 0.8519 - val_loss: 0.3910 - val_accuracy: 0.8286\n",
      "Epoch 13/20\n",
      "7737/7737 [==============================] - 1s 127us/step - loss: 0.3431 - accuracy: 0.8511 - val_loss: 0.3937 - val_accuracy: 0.8278\n",
      "Epoch 14/20\n",
      "7737/7737 [==============================] - 1s 102us/step - loss: 0.3410 - accuracy: 0.8543 - val_loss: 0.3942 - val_accuracy: 0.8278\n",
      "Epoch 15/20\n",
      "7737/7737 [==============================] - 1s 105us/step - loss: 0.3370 - accuracy: 0.8561 - val_loss: 0.4014 - val_accuracy: 0.8286\n",
      "Epoch 16/20\n",
      "7737/7737 [==============================] - 1s 115us/step - loss: 0.3320 - accuracy: 0.8576 - val_loss: 0.3958 - val_accuracy: 0.8247\n",
      "Epoch 17/20\n",
      "7737/7737 [==============================] - 1s 104us/step - loss: 0.3301 - accuracy: 0.8577 - val_loss: 0.3885 - val_accuracy: 0.8313\n",
      "Epoch 18/20\n",
      "7737/7737 [==============================] - 1s 101us/step - loss: 0.3257 - accuracy: 0.8587 - val_loss: 0.3895 - val_accuracy: 0.8325\n",
      "Epoch 19/20\n",
      "7737/7737 [==============================] - 1s 112us/step - loss: 0.3231 - accuracy: 0.8590 - val_loss: 0.3981 - val_accuracy: 0.8298\n",
      "Epoch 20/20\n",
      "7737/7737 [==============================] - 1s 110us/step - loss: 0.3218 - accuracy: 0.8603 - val_loss: 0.3966 - val_accuracy: 0.8306\n"
     ]
    }
   ],
   "source": [
    "model.compile(loss='binary_crossentropy', \n",
    "              optimizer=Adam(lr=0.0001),\n",
    "              metrics = ['accuracy'])\n",
    "\n",
    "              #metrics=['accuracy'])#loss='binary_crossentropy',\n",
    "\n",
    "history = model.fit(train_data, target_data,\n",
    "                    validation_split=0.25,\n",
    "                    batch_size=32,\n",
    "                    epochs=20,\n",
    "                    verbose=1)"
   ]
  },
  {
   "cell_type": "code",
   "execution_count": 87,
   "metadata": {},
   "outputs": [
    {
     "data": {
      "image/png": "[encoded data removed]",
      "text/plain": [
       "<matplotlib.figure.Figure at 0x7f75b8c6f278>"
      ]
     },
     "metadata": {
      "needs_background": "light"
     },
     "output_type": "display_data"
    },
    {
     "data": {
      "image/png": "[encoded data removed]",
      "text/plain": [
       "<matplotlib.figure.Figure at 0x7f75b8c1da20>"
      ]
     },
     "metadata": {
      "needs_background": "light"
     },
     "output_type": "display_data"
    }
   ],
   "source": [
    "# Plot training & validation accuracy values\n",
    "plt.plot(history.history['accuracy'])\n",
    "plt.plot(history.history['val_accuracy'])\n",
    "plt.title('Model accuracy')\n",
    "plt.ylabel('Accuracy')\n",
    "plt.xlabel('Epoch')\n",
    "plt.legend(['Train', 'Val'], loc='upper left')\n",
    "plt.show()\n",
    "\n",
    "# Plot training & validation loss values\n",
    "plt.plot(history.history['loss'])\n",
    "plt.plot(history.history['val_loss'])\n",
    "plt.title('Model loss')\n",
    "plt.ylabel('Loss')\n",
    "plt.xlabel('Epoch')\n",
    "plt.legend(['Train', 'Val'], loc='upper left')\n",
    "plt.show()"
   ]
  },
  {
   "cell_type": "code",
   "execution_count": 88,
   "metadata": {},
   "outputs": [
    {
     "name": "stdout",
     "output_type": "stream",
     "text": [
      "2629/2629 [==============================] - 0s 47us/step\n",
      "10316/10316 [==============================] - 0s 32us/step\n"
     ]
    }
   ],
   "source": [
    "score1 = model.evaluate(test_data, target_test_data, verbose=1)\n",
    "score2 = model.evaluate(train_data, target_data, verbose=1)"
   ]
  },
  {
   "cell_type": "code",
   "execution_count": 89,
   "metadata": {},
   "outputs": [
    {
     "name": "stdout",
     "output_type": "stream",
     "text": [
      "Test loss: 0.5933026968185872\n",
      "Test accuracy: 0.5180677175521851\n",
      "Train loss: 0.3714370312687037\n",
      "Train accuracy: 0.8404420614242554\n"
     ]
    }
   ],
   "source": [
    "print('Test loss:', score1[0])\n",
    "print('Test accuracy:', score1[1])\n",
    "\n",
    "print('Train loss:', score2[0])\n",
    "print('Train accuracy:', score2[1])"
   ]
  },
  {
   "cell_type": "code",
   "execution_count": null,
   "metadata": {},
   "outputs": [],
   "source": []
  },
  {
   "cell_type": "code",
   "execution_count": null,
   "metadata": {},
   "outputs": [],
   "source": []
  },
  {
   "cell_type": "code",
   "execution_count": 3,
   "metadata": {
    "colab": {
     "base_uri": "https://localhost:8080/",
     "height": 35
    },
    "colab_type": "code",
    "id": "18Migh4iLiIV",
    "outputId": "fbc095b9-db39-48eb-aa08-262c30d5bff2"
   },
   "outputs": [],
   "source": [
    "# all_acc"
   ]
  },
  {
   "cell_type": "code",
   "execution_count": 4,
   "metadata": {
    "colab": {
     "base_uri": "https://localhost:8080/",
     "height": 35
    },
    "colab_type": "code",
    "id": "TOdwhzFeUhFf",
    "outputId": "ac690f56-7ea4-43fe-b953-f03bcd6d714b"
   },
   "outputs": [],
   "source": [
    "# corpus_dir"
   ]
  },
  {
   "cell_type": "code",
   "execution_count": 16,
   "metadata": {
    "colab": {
     "base_uri": "https://localhost:8080/",
     "height": 319
    },
    "colab_type": "code",
    "id": "FgavLx-yfQ9R",
    "outputId": "cabb358c-984d-4b11-9edf-9dca8040edcd"
   },
   "outputs": [],
   "source": [
    "# ## Display the 10th graph from this dataset\n",
    "# g = nx.read_gexf(corpus_dir + '/10.gexf')\n",
    "# nx.draw(g)"
   ]
  },
  {
   "cell_type": "code",
   "execution_count": 17,
   "metadata": {},
   "outputs": [],
   "source": [
    "# base_dir"
   ]
  },
  {
   "cell_type": "code",
   "execution_count": 52,
   "metadata": {
    "colab": {
     "base_uri": "https://localhost:8080/",
     "height": 319
    },
    "colab_type": "code",
    "id": "ttW9eqAnf47n",
    "outputId": "8e0682a3-aae1-4517-ec07-e5eeca5327a3"
   },
   "outputs": [],
   "source": [
    "# g_new = nx.read_gexf(base_dir + 'new_graphs/1_new.gexf')\n",
    "# nx.draw(g_new)"
   ]
  },
  {
   "cell_type": "code",
   "execution_count": 27,
   "metadata": {
    "colab": {},
    "colab_type": "code",
    "id": "gc-ecOE-uuf2"
   },
   "outputs": [],
   "source": [
    "# g_new_path = [base_dir + '/new_graphs/12new.gexf']\n",
    "# corpus_dir_new = base_dir + '/new_graphs/'"
   ]
  },
  {
   "cell_type": "code",
   "execution_count": 2,
   "metadata": {
    "colab": {
     "base_uri": "https://localhost:8080/",
     "height": 177
    },
    "colab_type": "code",
    "id": "OwcXGEk3t0_J",
    "outputId": "d2490da1-0460-402c-8f74-6933a31048a5"
   },
   "outputs": [],
   "source": [
    "# wlk_relabel_and_dump_memory_version(g_new_path, max_h=wlk_h, node_label_attr_name=label_filed_name)"
   ]
  },
  {
   "cell_type": "code",
   "execution_count": 5,
   "metadata": {
    "colab": {
     "base_uri": "https://localhost:8080/",
     "height": 1000
    },
    "colab_type": "code",
    "id": "mFc04_J_iE8B",
    "outputId": "d172f436-f486-4d57-acef-6a872dd0e6cb",
    "scrolled": true
   },
   "outputs": [],
   "source": [
    "# cpath = base_dir + 'model_ckpt/1'\n",
    "# embedding_fname_test = test_skipgram (corpus_dir_new, wl_extn, learning_rate, win_size, concat_flag, \n",
    "#                                      cpath, g_new_path, embedding_size, num_negsample, epochs, batch_size, output_dir)"
   ]
  },
  {
   "cell_type": "code",
   "execution_count": 6,
   "metadata": {
    "colab": {
     "base_uri": "https://localhost:8080/",
     "height": 35
    },
    "colab_type": "code",
    "id": "4h2B53uMv8Vq",
    "outputId": "b265c705-f3e9-44f9-a79a-b0bd2287e402"
   },
   "outputs": [],
   "source": [
    "# embedding_fname = '/home/ipsita/BTP/graph2vec/tmp/for_gui/embeddings/mutag_dims_1024_epochs_400_lr_0.3_embeddings.txt'"
   ]
  },
  {
   "cell_type": "code",
   "execution_count": 7,
   "metadata": {
    "colab": {
     "base_uri": "https://localhost:8080/",
     "height": 35
    },
    "colab_type": "code",
    "id": "QU-DZe610R0k",
    "outputId": "c6d8bf9c-55ae-4559-e0be-2042b8133ac3"
   },
   "outputs": [],
   "source": [
    "# embedding_fname_test"
   ]
  },
  {
   "cell_type": "code",
   "execution_count": 8,
   "metadata": {
    "colab": {
     "base_uri": "https://localhost:8080/",
     "height": 35
    },
    "colab_type": "code",
    "id": "lp4WlNm10ThG",
    "outputId": "75f2c4cd-defc-48dd-f7c1-ac365caadf31"
   },
   "outputs": [],
   "source": [
    "# with open(embedding_fname, 'r') as fh:\n",
    "#         graph_embedding_dict = json.load(fh)\n",
    "\n",
    "# with open(embedding_fname_test, 'r') as fh:\n",
    "#     new_graph_embedding_dict = json.load(fh)\n",
    "\n",
    "# print(len(graph_embedding_dict),',' ,len(new_graph_embedding_dict))"
   ]
  },
  {
   "cell_type": "code",
   "execution_count": 9,
   "metadata": {
    "colab": {},
    "colab_type": "code",
    "id": "pOlvs8kYAlW4"
   },
   "outputs": [],
   "source": [
    "# dict_graphs = np.zeros((len(graph_embedding_dict), embedding_size))\n",
    "\n",
    "# i = 0\n",
    "# for k in graph_embedding_dict.keys():\n",
    "#     dict_graphs[i,:] = graph_embedding_dict[k]\n",
    "#     i = i + 1"
   ]
  },
  {
   "cell_type": "code",
   "execution_count": 10,
   "metadata": {
    "colab": {},
    "colab_type": "code",
    "id": "LWu1ioJHB9pN"
   },
   "outputs": [],
   "source": [
    "# new_graph = np.zeros((1, embedding_size))\n",
    "\n",
    "# i = 0\n",
    "# for k in new_graph_embedding_dict.keys():\n",
    "#     new_graph[i,:] = new_graph_embedding_dict[k]\n",
    "#     i = i + 1"
   ]
  },
  {
   "cell_type": "code",
   "execution_count": 11,
   "metadata": {
    "colab": {
     "base_uri": "https://localhost:8080/",
     "height": 53
    },
    "colab_type": "code",
    "id": "GhKw18HsDT_R",
    "outputId": "9a486607-a6e4-4a9b-92eb-92953b46aab1"
   },
   "outputs": [],
   "source": [
    "# from sklearn.metrics.pairwise import cosine_similarity\n",
    "\n",
    "# result = cosine_similarity(dict_graphs, new_graph)\n",
    "\n",
    "# print(np.shape(result))\n",
    "# result = np.reshape( result, (np.shape(result)[0]))\n",
    "# np.shape(result)"
   ]
  },
  {
   "cell_type": "code",
   "execution_count": 12,
   "metadata": {
    "colab": {},
    "colab_type": "code",
    "id": "IzCgpAH3EMTP"
   },
   "outputs": [],
   "source": [
    "# maxvalue = -10\n",
    "# maxindex = 0\n",
    "\n",
    "# for i in range(0, len(result)):\n",
    "#     if result[i] > maxvalue:\n",
    "#         maxvalue = result[i]\n",
    "#         maxindex = i "
   ]
  },
  {
   "cell_type": "code",
   "execution_count": 13,
   "metadata": {
    "colab": {
     "base_uri": "https://localhost:8080/",
     "height": 35
    },
    "colab_type": "code",
    "id": "NFqCraZsENEk",
    "outputId": "42608836-00f5-4640-e6a0-87854318230b"
   },
   "outputs": [],
   "source": [
    "# maxvalue"
   ]
  },
  {
   "cell_type": "code",
   "execution_count": 89,
   "metadata": {
    "colab": {
     "base_uri": "https://localhost:8080/",
     "height": 35
    },
    "colab_type": "code",
    "id": "fwENl3y-EnLC",
    "outputId": "fd387328-c838-4ff9-a09c-bf8b8901c50a"
   },
   "outputs": [],
   "source": [
    "# maxindex = 16"
   ]
  },
  {
   "cell_type": "code",
   "execution_count": 14,
   "metadata": {
    "colab": {
     "base_uri": "https://localhost:8080/",
     "height": 319
    },
    "colab_type": "code",
    "id": "YhmaEfXTEwG7",
    "outputId": "b9fa1f0f-7fbb-48bf-ce04-799459c386a1"
   },
   "outputs": [],
   "source": [
    "# g_result = nx.read_gexf('/home/ipsita/BTP/graph2vec/data/kdd_datasets/ptc/'+ str(maxindex+1)+'.gexf')\n",
    "# #pos = nx.drawing.layout.spring_layout(g_result)\n",
    "# #nx.draw(g_result, pos)\n",
    "# nx.draw(g_result)"
   ]
  },
  {
   "cell_type": "code",
   "execution_count": 47,
   "metadata": {},
   "outputs": [
    {
     "data": {
      "image/png": "[encoded data removed]",
      "text/plain": [
       "<matplotlib.figure.Figure at 0x7f7e1f264c18>"
      ]
     },
     "metadata": {},
     "output_type": "display_data"
    }
   ],
   "source": [
    "import networkx as nx\n",
    "g = nx.read_gexf('/home/ipsita/BTP/graph2vec/data/kdd_datasets/proteins/666.gexf')\n",
    "# g = nx.read_gexf('/home/ipsita/BTP/graph2vec/tmp/for_gui/new_graphs/12new.gexf')\n",
    "nx.draw(g, pos = nx.nx_pydot.graphviz_layout(g))"
   ]
  },
  {
   "cell_type": "markdown",
   "metadata": {},
   "source": [
    "# GUI PART"
   ]
  },
  {
   "cell_type": "code",
   "execution_count": 8,
   "metadata": {},
   "outputs": [],
   "source": [
    "import ipywidgets as widgets\n",
    "from IPython.display import display\n",
    "from sklearn.metrics.pairwise import cosine_similarity\n",
    "import matplotlib.pyplot as plt"
   ]
  },
  {
   "cell_type": "code",
   "execution_count": 9,
   "metadata": {},
   "outputs": [],
   "source": [
    "fu = widgets.FileUpload(\n",
    "    accept='.gexf',  # Accepted file extension e.g. '.txt', '.pdf', 'image/*', 'image/*,.pdf'\n",
    "    multiple=False  # True to accept multiple files upload else False\n",
    ")\n"
   ]
  },
  {
   "cell_type": "code",
   "execution_count": 10,
   "metadata": {},
   "outputs": [],
   "source": [
    "#%matplotlib notebook\n",
    "%matplotlib qt\n",
    "plt.ion()"
   ]
  },
  {
   "cell_type": "code",
   "execution_count": 11,
   "metadata": {},
   "outputs": [],
   "source": [
    "btn = widgets.Button(description='Display')\n",
    "#display(btn)\n",
    "\n",
    "def btn_eventhandler(obj):\n",
    "    \n",
    "    fig = plt.figure(num=1)\n",
    "    plt.clf()\n",
    "    x = list(fu.value.keys())[0]\n",
    "    bin_data = fu.value[x]['content']\n",
    "    datastr= str(bin_data,'utf-8')\n",
    "    with open(base_dir+\"saved_graphs/1.gexf\", \"w\") as fp:\n",
    "        fp.write(datastr)\n",
    "        \n",
    "    g_result = nx.read_gexf(base_dir+\"saved_graphs/1.gexf\")\n",
    "    nx.draw(g_result, pos = nx.nx_pydot.graphviz_layout(g_result))\n",
    "    #nx.draw(g_result)\n",
    "    fig.canvas.draw()\n",
    "    \n",
    "\n",
    "btn.on_click(btn_eventhandler)"
   ]
  },
  {
   "cell_type": "code",
   "execution_count": 19,
   "metadata": {},
   "outputs": [],
   "source": [
    "btn_run = widgets.Button(description='Run !', button_style='info')\n",
    "#display(btn_run)\n",
    "\n",
    "def btn_run_eventhandler(obj):\n",
    "    \n",
    "    g_new_path = [base_dir + '/saved_graphs/1.gexf']\n",
    "    corpus_dir_new = base_dir + '/saved_graphs/'\n",
    "    \n",
    "    wlk_relabel_and_dump_memory_version(g_new_path, max_h=wlk_h, node_label_attr_name=label_filed_name)\n",
    "    \n",
    "    cpath = base_dir + 'model_ckpt/1'\n",
    "    epochs_infer = 100\n",
    "    embedding_fname_test = test_skipgram (corpus_dir_new, wl_extn, learning_rate, win_size, concat_flag, \n",
    "                                     cpath, g_new_path, embedding_size, num_negsample, epochs_infer, batch_size, output_dir)\n",
    "\n",
    "    embedding_fname = '/home/ipsita/BTP/graph2vec/tmp/for_gui/embeddings/'+dataset_name+'_dims_1024_epochs_400_lr_0.3_embeddings.txt'\n",
    "    with open(embedding_fname, 'r') as fh:\n",
    "        graph_embedding_dict = json.load(fh)\n",
    "\n",
    "    with open(embedding_fname_test, 'r') as fh:\n",
    "        new_graph_embedding_dict = json.load(fh)\n",
    "\n",
    "    #print(len(graph_embedding_dict),',' ,len(new_graph_embedding_dict))\n",
    "    \n",
    "    dict_graphs = np.zeros((len(graph_embedding_dict), embedding_size))\n",
    "\n",
    "    i = 0\n",
    "    for k in graph_embedding_dict.keys():\n",
    "        dict_graphs[i,:] = graph_embedding_dict[k]\n",
    "        i = i + 1\n",
    "    \n",
    "    new_graph = np.zeros((1, embedding_size))\n",
    "\n",
    "    i = 0\n",
    "    for k in new_graph_embedding_dict.keys():\n",
    "        new_graph[i,:] = new_graph_embedding_dict[k]\n",
    "        i = i + 1\n",
    "    \n",
    "    result = cosine_similarity(dict_graphs, new_graph)\n",
    "    result = np.reshape( result, (np.shape(result)[0]))\n",
    "    \n",
    "    maxvalue = -10\n",
    "    maxindex = 0\n",
    "\n",
    "    for i in range(0, len(result)):\n",
    "        if result[i] > maxvalue:\n",
    "            maxvalue = result[i]\n",
    "            maxindex = i \n",
    "    \n",
    "    print(\"MAXINDEX = \", maxindex+1)\n",
    "    g_result = nx.read_gexf('/home/ipsita/BTP/graph2vec/data/kdd_datasets/'+dataset_name+'/'+ str(maxindex+1)+'.gexf')\n",
    "    \n",
    "    #Plotting part\n",
    "    fig = plt.figure(num=2)\n",
    "    plt.clf()\n",
    "    nx.draw(g_result, pos = nx.nx_pydot.graphviz_layout(g_result))\n",
    "    fig.canvas.draw()\n",
    "    \n",
    "    ## delete the saved graph\n",
    "    os.remove(embedding_fname_test)\n",
    "    os.remove(base_dir+\"saved_graphs/1.gexf\")\n",
    "    os.remove(base_dir+\"saved_graphs/1.gexf.g2v3\")\n",
    "    \n",
    "btn_run.on_click(btn_run_eventhandler)"
   ]
  },
  {
   "cell_type": "code",
   "execution_count": 13,
   "metadata": {},
   "outputs": [],
   "source": [
    "tab1 = widgets.VBox([fu, btn])"
   ]
  },
  {
   "cell_type": "code",
   "execution_count": 16,
   "metadata": {},
   "outputs": [],
   "source": [
    "tab = widgets.Tab([tab1, btn_run])\n",
    "tab.set_title(0, 'File Upload')\n",
    "tab.set_title(1, 'Run')\n",
    "#display(tab)"
   ]
  },
  {
   "cell_type": "code",
   "execution_count": 20,
   "metadata": {},
   "outputs": [],
   "source": [
    "# gg = nx.read_gexf('/home/ipsita/BTP/graph2vec/data/kdd_datasets/mutag/57.gexf')\n",
    "# #nx.draw(gg, pos = nx.nx_pydot.graphviz_layout(g_result))\n",
    "# nx.draw(gg)"
   ]
  },
  {
   "cell_type": "code",
   "execution_count": 45,
   "metadata": {},
   "outputs": [],
   "source": []
  },
  {
   "cell_type": "code",
   "execution_count": 47,
   "metadata": {},
   "outputs": [],
   "source": []
  },
  {
   "cell_type": "code",
   "execution_count": 48,
   "metadata": {},
   "outputs": [],
   "source": []
  },
  {
   "cell_type": "code",
   "execution_count": null,
   "metadata": {},
   "outputs": [],
   "source": []
  }
 ],
 "metadata": {
  "accelerator": "TPU",
  "colab": {
   "collapsed_sections": [],
   "name": "Copy of main.ipynb",
   "provenance": []
  },
  "kernelspec": {
   "display_name": "Python 3",
   "language": "python",
   "name": "python3"
  },
  "language_info": {
   "codemirror_mode": {
    "name": "ipython",
    "version": 3
   },
   "file_extension": ".py",
   "mimetype": "text/x-python",
   "name": "python",
   "nbconvert_exporter": "python",
   "pygments_lexer": "ipython3",
   "version": "3.6.9"
  }
 },
 "nbformat": 4,
 "nbformat_minor": 1
}
