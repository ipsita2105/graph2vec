{
 "cells": [
  {
   "cell_type": "code",
   "execution_count": 1,
   "metadata": {},
   "outputs": [],
   "source": [
    "import os, sys, json, glob, copy, psutil, ast\n",
    "from pprint import pprint\n",
    "from time import time\n",
    "import networkx as nx, numpy as np\n",
    "from collections import defaultdict\n",
    "from joblib import Parallel,delayed\n",
    "from copy import deepcopy\n",
    "import matplotlib.pyplot as plt\n",
    "\n",
    "label_to_compressed_label_map = {}\n",
    "\n",
    "get_int_node_label = lambda l: int(l.split('+')[-1])"
   ]
  },
  {
   "cell_type": "code",
   "execution_count": 2,
   "metadata": {},
   "outputs": [],
   "source": [
    "def initial_relabel(g, node_label_attr_name='Label'):\n",
    "    global label_to_compressed_label_map\n",
    "\n",
    "    try:\n",
    "        opfname = g+'.tmpg'\n",
    "        g = nx.read_gexf(g)\n",
    "    except:\n",
    "        opfname = None\n",
    "        pass\n",
    "\n",
    "    nx.convert_node_labels_to_integers(g, first_label=0)  # this needs to be done for the initial interation only\n",
    "    for node in g.nodes(): g.nodes[node]['relabel'] = {}\n",
    "\n",
    "    for node in g.nodes():\n",
    "        try:\n",
    "            label = g.nodes[node][node_label_attr_name]\n",
    "        except:\n",
    "            # no node label referred in 'node_label_attr_name' is present, hence assigning an invalid compressd label\n",
    "            g.nodes[node]['relabel'][0] = '0+0'\n",
    "            continue\n",
    "\n",
    "        if label not in label_to_compressed_label_map:\n",
    "            compressed_label = len(label_to_compressed_label_map) + 1 #starts with 1 and incremented every time a new node label is seen\n",
    "            label_to_compressed_label_map[label] = compressed_label #inster the new label to the label map\n",
    "            g.nodes[node]['relabel'][0] = '0+' + str(compressed_label)\n",
    "        else:\n",
    "            g.nodes[node]['relabel'][0] = '0+' + str(label_to_compressed_label_map[label])\n",
    "\n",
    "    if opfname:\n",
    "        nx.write_gexf(g,opfname)\n",
    "    else:\n",
    "        return g\n",
    "    "
   ]
  },
  {
   "cell_type": "code",
   "execution_count": 77,
   "metadata": {},
   "outputs": [
    {
     "data": {
      "image/png": "[encoded data removed]",
      "text/plain": [
       "<matplotlib.figure.Figure at 0x7f78a1a7a780>"
      ]
     },
     "metadata": {},
     "output_type": "display_data"
    }
   ],
   "source": [
    "'''\n",
    "node_label_attr_name='Label'\n",
    "g = nx.read_gexf('/home/ipsita/BTP/graph2vec/data/kdd_datasets/ptc/1.gexf')\n",
    "nx.convert_node_labels_to_integers(g, first_label=0)\n",
    "for node in g.nodes(): \n",
    "    g.nodes[node]['relabel'] = {}\n",
    "nx.draw(g)\n",
    "'''"
   ]
  },
  {
   "cell_type": "code",
   "execution_count": 78,
   "metadata": {},
   "outputs": [
    {
     "name": "stdout",
     "output_type": "stream",
     "text": [
      "{'relabel': {0: '0+1'}, 'Label': '5', 'label': '11'}\n",
      "{'relabel': {0: '0+2'}, 'Label': '22', 'label': '10'}\n",
      "{'relabel': {0: '0+1'}, 'Label': '5', 'label': '13'}\n",
      "{'relabel': {0: '0+2'}, 'Label': '22', 'label': '12'}\n",
      "{'relabel': {0: '0+2'}, 'Label': '22', 'label': '15'}\n",
      "{'relabel': {0: '0+1'}, 'Label': '5', 'label': '14'}\n",
      "{'relabel': {0: '0+2'}, 'Label': '22', 'label': '17'}\n",
      "{'relabel': {0: '0+1'}, 'Label': '5', 'label': '16'}\n",
      "{'relabel': {0: '0+2'}, 'Label': '22', 'label': '19'}\n",
      "{'relabel': {0: '0+1'}, 'Label': '5', 'label': '18'}\n",
      "{'relabel': {0: '0+1'}, 'Label': '5', 'label': '1'}\n",
      "{'relabel': {0: '0+2'}, 'Label': '22', 'label': '0'}\n",
      "{'relabel': {0: '0+1'}, 'Label': '5', 'label': '3'}\n",
      "{'relabel': {0: '0+2'}, 'Label': '22', 'label': '2'}\n",
      "{'relabel': {0: '0+3'}, 'Label': '15', 'label': '5'}\n",
      "{'relabel': {0: '0+2'}, 'Label': '22', 'label': '4'}\n",
      "{'relabel': {0: '0+1'}, 'Label': '5', 'label': '7'}\n",
      "{'relabel': {0: '0+2'}, 'Label': '22', 'label': '6'}\n",
      "{'relabel': {0: '0+1'}, 'Label': '5', 'label': '9'}\n",
      "{'relabel': {0: '0+1'}, 'Label': '5', 'label': '20'}\n",
      "{'relabel': {0: '0+2'}, 'Label': '22', 'label': '8'}\n",
      "{'5': 1, '22': 2, '15': 3}\n"
     ]
    }
   ],
   "source": [
    "'''\n",
    "for node in g.nodes():\n",
    "        try:\n",
    "            label = g.nodes[node][node_label_attr_name]\n",
    "        except:\n",
    "            # no node label referred in 'node_label_attr_name' is present, hence assigning an invalid compressd label\n",
    "            g.nodes[node]['relabel'][0] = '0+0'\n",
    "            continue\n",
    "\n",
    "        if label not in label_to_compressed_label_map:\n",
    "            compressed_label = len(label_to_compressed_label_map) + 1 #starts with 1 and incremented every time a new node label is seen\n",
    "            label_to_compressed_label_map[label] = compressed_label #inster the new label to the label map\n",
    "            g.nodes[node]['relabel'][0] = '0+' + str(compressed_label)\n",
    "        else:\n",
    "            g.nodes[node]['relabel'][0] = '0+' + str(label_to_compressed_label_map[label])\n",
    "\n",
    "for node in g.nodes():\n",
    "    print(g.nodes[node])\n",
    "\n",
    "print(label_to_compressed_label_map)\n",
    "'''"
   ]
  },
  {
   "cell_type": "code",
   "execution_count": 79,
   "metadata": {},
   "outputs": [],
   "source": [
    "#nx.write_gexf(g,'/home/ipsita/BTP/graph2vec/1.gexf.tmpg')"
   ]
  },
  {
   "cell_type": "code",
   "execution_count": 80,
   "metadata": {},
   "outputs": [
    {
     "name": "stdout",
     "output_type": "stream",
     "text": [
      "{'relabel': \"{0: '0+1'}\", 'Label': '5', 'label': '11'}\n",
      "{'relabel': \"{0: '0+2'}\", 'Label': '22', 'label': '10'}\n",
      "{'relabel': \"{0: '0+1'}\", 'Label': '5', 'label': '13'}\n",
      "{'relabel': \"{0: '0+2'}\", 'Label': '22', 'label': '12'}\n",
      "{'relabel': \"{0: '0+2'}\", 'Label': '22', 'label': '15'}\n",
      "{'relabel': \"{0: '0+1'}\", 'Label': '5', 'label': '14'}\n",
      "{'relabel': \"{0: '0+2'}\", 'Label': '22', 'label': '17'}\n",
      "{'relabel': \"{0: '0+1'}\", 'Label': '5', 'label': '16'}\n",
      "{'relabel': \"{0: '0+2'}\", 'Label': '22', 'label': '19'}\n",
      "{'relabel': \"{0: '0+1'}\", 'Label': '5', 'label': '18'}\n",
      "{'relabel': \"{0: '0+1'}\", 'Label': '5', 'label': '1'}\n",
      "{'relabel': \"{0: '0+2'}\", 'Label': '22', 'label': '0'}\n",
      "{'relabel': \"{0: '0+1'}\", 'Label': '5', 'label': '3'}\n",
      "{'relabel': \"{0: '0+2'}\", 'Label': '22', 'label': '2'}\n",
      "{'relabel': \"{0: '0+3'}\", 'Label': '15', 'label': '5'}\n",
      "{'relabel': \"{0: '0+2'}\", 'Label': '22', 'label': '4'}\n",
      "{'relabel': \"{0: '0+1'}\", 'Label': '5', 'label': '7'}\n",
      "{'relabel': \"{0: '0+2'}\", 'Label': '22', 'label': '6'}\n",
      "{'relabel': \"{0: '0+1'}\", 'Label': '5', 'label': '9'}\n",
      "{'relabel': \"{0: '0+1'}\", 'Label': '5', 'label': '20'}\n",
      "{'relabel': \"{0: '0+2'}\", 'Label': '22', 'label': '8'}\n"
     ]
    }
   ],
   "source": [
    "'''\n",
    "g = nx.read_gexf('/home/ipsita/BTP/graph2vec/1.gexf.tmpg')\n",
    "for node in g.nodes():\n",
    "    print(g.nodes[node])\n",
    "'''"
   ]
  },
  {
   "cell_type": "code",
   "execution_count": 81,
   "metadata": {},
   "outputs": [
    {
     "name": "stdout",
     "output_type": "stream",
     "text": [
      "{'relabel': {0: '0+1'}, 'Label': '5', 'label': '11'}\n",
      "{'relabel': {0: '0+2'}, 'Label': '22', 'label': '10'}\n",
      "{'relabel': {0: '0+1'}, 'Label': '5', 'label': '13'}\n",
      "{'relabel': {0: '0+2'}, 'Label': '22', 'label': '12'}\n",
      "{'relabel': {0: '0+2'}, 'Label': '22', 'label': '15'}\n",
      "{'relabel': {0: '0+1'}, 'Label': '5', 'label': '14'}\n",
      "{'relabel': {0: '0+2'}, 'Label': '22', 'label': '17'}\n",
      "{'relabel': {0: '0+1'}, 'Label': '5', 'label': '16'}\n",
      "{'relabel': {0: '0+2'}, 'Label': '22', 'label': '19'}\n",
      "{'relabel': {0: '0+1'}, 'Label': '5', 'label': '18'}\n",
      "{'relabel': {0: '0+1'}, 'Label': '5', 'label': '1'}\n",
      "{'relabel': {0: '0+2'}, 'Label': '22', 'label': '0'}\n",
      "{'relabel': {0: '0+1'}, 'Label': '5', 'label': '3'}\n",
      "{'relabel': {0: '0+2'}, 'Label': '22', 'label': '2'}\n",
      "{'relabel': {0: '0+3'}, 'Label': '15', 'label': '5'}\n",
      "{'relabel': {0: '0+2'}, 'Label': '22', 'label': '4'}\n",
      "{'relabel': {0: '0+1'}, 'Label': '5', 'label': '7'}\n",
      "{'relabel': {0: '0+2'}, 'Label': '22', 'label': '6'}\n",
      "{'relabel': {0: '0+1'}, 'Label': '5', 'label': '9'}\n",
      "{'relabel': {0: '0+1'}, 'Label': '5', 'label': '20'}\n",
      "{'relabel': {0: '0+2'}, 'Label': '22', 'label': '8'}\n"
     ]
    }
   ],
   "source": [
    "'''\n",
    "new_g = deepcopy(g)\n",
    "for n in g.nodes():\n",
    "    new_g.nodes[n]['relabel'] = ast.literal_eval(g.nodes[n]['relabel'])\n",
    "g = new_g\n",
    "\n",
    "for node in g.nodes():\n",
    "    print(g.nodes[node])\n",
    "'''"
   ]
  },
  {
   "cell_type": "code",
   "execution_count": 83,
   "metadata": {},
   "outputs": [
    {
     "name": "stdout",
     "output_type": "stream",
     "text": [
      "for node 11\n",
      "tuple is (1, 2)\n",
      "for node 10\n",
      "tuple is (2, 1, 2, 2, 2)\n",
      "for node 13\n",
      "tuple is (1, 2)\n",
      "for node 12\n",
      "tuple is (2, 1, 1, 2, 2)\n",
      "for node 15\n",
      "tuple is (2, 1, 2, 2, 2)\n",
      "for node 14\n",
      "tuple is (1, 2)\n",
      "for node 17\n",
      "tuple is (2, 1, 2, 2, 2)\n",
      "for node 16\n",
      "tuple is (1, 2)\n",
      "for node 19\n",
      "tuple is (2, 1, 2, 2, 2)\n",
      "for node 18\n",
      "tuple is (1, 2)\n",
      "for node 1\n",
      "tuple is (1, 2)\n",
      "for node 0\n",
      "tuple is (2, 1, 2, 2, 2)\n",
      "for node 3\n",
      "tuple is (1, 2)\n",
      "for node 2\n",
      "tuple is (2, 1, 2, 2, 2)\n",
      "for node 5\n",
      "tuple is (3, 2)\n",
      "for node 4\n",
      "tuple is (2, 2, 2, 3)\n",
      "for node 7\n",
      "tuple is (1, 2)\n",
      "for node 6\n",
      "tuple is (2, 1, 2, 2, 2)\n",
      "for node 9\n",
      "tuple is (1, 2)\n",
      "for node 20\n",
      "tuple is (1, 2)\n",
      "for node 8\n",
      "tuple is (2, 1, 2, 2, 2)\n",
      "{'5': 1, '22': 2, '15': 3, (1, 2): 4, (2, 1, 2, 2, 2): 5, (2, 1, 1, 2, 2): 6, (3, 2): 7, (2, 2, 2, 3): 8}\n",
      "{'relabel': {0: '0+1', 1: '1+4'}, 'Label': '5', 'label': '11'}\n",
      "{'relabel': {0: '0+2', 1: '1+5'}, 'Label': '22', 'label': '10'}\n",
      "{'relabel': {0: '0+1', 1: '1+4'}, 'Label': '5', 'label': '13'}\n",
      "{'relabel': {0: '0+2', 1: '1+6'}, 'Label': '22', 'label': '12'}\n",
      "{'relabel': {0: '0+2', 1: '1+5'}, 'Label': '22', 'label': '15'}\n",
      "{'relabel': {0: '0+1', 1: '1+4'}, 'Label': '5', 'label': '14'}\n",
      "{'relabel': {0: '0+2', 1: '1+5'}, 'Label': '22', 'label': '17'}\n",
      "{'relabel': {0: '0+1', 1: '1+4'}, 'Label': '5', 'label': '16'}\n",
      "{'relabel': {0: '0+2', 1: '1+5'}, 'Label': '22', 'label': '19'}\n",
      "{'relabel': {0: '0+1', 1: '1+4'}, 'Label': '5', 'label': '18'}\n",
      "{'relabel': {0: '0+1', 1: '1+4'}, 'Label': '5', 'label': '1'}\n",
      "{'relabel': {0: '0+2', 1: '1+5'}, 'Label': '22', 'label': '0'}\n",
      "{'relabel': {0: '0+1', 1: '1+4'}, 'Label': '5', 'label': '3'}\n",
      "{'relabel': {0: '0+2', 1: '1+5'}, 'Label': '22', 'label': '2'}\n",
      "{'relabel': {0: '0+3', 1: '1+7'}, 'Label': '15', 'label': '5'}\n",
      "{'relabel': {0: '0+2', 1: '1+8'}, 'Label': '22', 'label': '4'}\n",
      "{'relabel': {0: '0+1', 1: '1+4'}, 'Label': '5', 'label': '7'}\n",
      "{'relabel': {0: '0+2', 1: '1+5'}, 'Label': '22', 'label': '6'}\n",
      "{'relabel': {0: '0+1', 1: '1+4'}, 'Label': '5', 'label': '9'}\n",
      "{'relabel': {0: '0+1', 1: '1+4'}, 'Label': '5', 'label': '20'}\n",
      "{'relabel': {0: '0+2', 1: '1+5'}, 'Label': '22', 'label': '8'}\n"
     ]
    }
   ],
   "source": [
    "'''\n",
    "# simulate for first iteration\n",
    "it = 1\n",
    "prev_iter = it - 1\n",
    "\n",
    "for node in g.nodes():\n",
    "    \n",
    "    print('for node',g.nodes[node]['label'])\n",
    "    prev_iter_node_label = get_int_node_label(g.nodes[node]['relabel'][prev_iter])\n",
    "    \n",
    "    node_label = [prev_iter_node_label]\n",
    "    #print('prev iter label =',node_label)\n",
    "    \n",
    "    neighbors = list(nx.all_neighbors(g, node))\n",
    "    #print('neighbours are', neighbors)\n",
    "    \n",
    "    neighborhood_label = sorted([get_int_node_label(g.nodes[nei]['relabel'][prev_iter]) for nei in neighbors])\n",
    "    #print('neighbour lables are',neighborhood_label)\n",
    "    \n",
    "    node_neighborhood_label = tuple(node_label + neighborhood_label)\n",
    "    print('tuple is', node_neighborhood_label)\n",
    "    \n",
    "    if node_neighborhood_label not in label_to_compressed_label_map:\n",
    "        compressed_label = len(label_to_compressed_label_map) + 1\n",
    "        label_to_compressed_label_map[node_neighborhood_label] = compressed_label\n",
    "        g.nodes[node]['relabel'][it] = str(it) + '+' + str(compressed_label)\n",
    "    else:\n",
    "        g.nodes[node]['relabel'][it] = str(it) + '+' + str(label_to_compressed_label_map[node_neighborhood_label])\n",
    "    \n",
    "\n",
    "print(label_to_compressed_label_map)\n",
    "for node in g.nodes():\n",
    "    print(g.nodes[node])\n",
    "'''"
   ]
  },
  {
   "cell_type": "code",
   "execution_count": 84,
   "metadata": {},
   "outputs": [],
   "source": [
    "#nx.write_gexf(g,'/home/ipsita/BTP/graph2vec/1.gexf.tmpg')"
   ]
  },
  {
   "cell_type": "code",
   "execution_count": 3,
   "metadata": {},
   "outputs": [],
   "source": [
    "def wl_relabel(g, it):\n",
    "    global label_to_compressed_label_map\n",
    "\n",
    "    try:\n",
    "        opfname = g+'.tmpg'\n",
    "        g = nx.read_gexf(g+'.tmpg')\n",
    "        new_g = deepcopy(g)\n",
    "        for n in g.nodes():\n",
    "            new_g.nodes[n]['relabel'] = ast.literal_eval(g.nodes[n]['relabel'])\n",
    "        g = new_g\n",
    "    except:\n",
    "        opfname = None\n",
    "        pass\n",
    "\n",
    "    prev_iter = it - 1\n",
    "    for node in g.nodes():\n",
    "        prev_iter_node_label = get_int_node_label(g.nodes[node]['relabel'][prev_iter])\n",
    "        node_label = [prev_iter_node_label]\n",
    "        neighbors = list(nx.all_neighbors(g, node))\n",
    "        neighborhood_label = sorted([get_int_node_label(g.nodes[nei]['relabel'][prev_iter]) for nei in neighbors])\n",
    "        node_neighborhood_label = tuple(node_label + neighborhood_label)\n",
    "        if node_neighborhood_label not in label_to_compressed_label_map:\n",
    "            compressed_label = len(label_to_compressed_label_map) + 1\n",
    "            label_to_compressed_label_map[node_neighborhood_label] = compressed_label\n",
    "            g.nodes[node]['relabel'][it] = str(it) + '+' + str(compressed_label)\n",
    "        else:\n",
    "            g.nodes[node]['relabel'][it] = str(it) + '+' + str(label_to_compressed_label_map[node_neighborhood_label])\n",
    "\n",
    "    if opfname:\n",
    "        nx.write_gexf(g,opfname)\n",
    "    else:\n",
    "        return g\n",
    "    \n",
    "    "
   ]
  },
  {
   "cell_type": "code",
   "execution_count": null,
   "metadata": {},
   "outputs": [],
   "source": [
    "'''\n",
    "g = nx.read_gexf('/home/ipsita/BTP/graph2vec/1.gexf.tmpg')\n",
    "new_g = deepcopy(g)\n",
    "for n in g.nodes():\n",
    "    del new_g.nodes[n]['relabel']\n",
    "    new_g.nodes[n]['relabel'] = ast.literal_eval(g.nodes[n]['relabel'])\n",
    "g = new_g\n",
    "'''"
   ]
  },
  {
   "cell_type": "code",
   "execution_count": 88,
   "metadata": {},
   "outputs": [
    {
     "name": "stdout",
     "output_type": "stream",
     "text": [
      "{'Label': '5', 'label': '11', 'relabel': {0: '0+1', 1: '1+4'}}\n",
      "{'Label': '22', 'label': '10', 'relabel': {0: '0+2', 1: '1+5'}}\n",
      "{'Label': '5', 'label': '13', 'relabel': {0: '0+1', 1: '1+4'}}\n",
      "{'Label': '22', 'label': '12', 'relabel': {0: '0+2', 1: '1+6'}}\n",
      "{'Label': '22', 'label': '15', 'relabel': {0: '0+2', 1: '1+5'}}\n",
      "{'Label': '5', 'label': '14', 'relabel': {0: '0+1', 1: '1+4'}}\n",
      "{'Label': '22', 'label': '17', 'relabel': {0: '0+2', 1: '1+5'}}\n",
      "{'Label': '5', 'label': '16', 'relabel': {0: '0+1', 1: '1+4'}}\n",
      "{'Label': '22', 'label': '19', 'relabel': {0: '0+2', 1: '1+5'}}\n",
      "{'Label': '5', 'label': '18', 'relabel': {0: '0+1', 1: '1+4'}}\n",
      "{'Label': '5', 'label': '1', 'relabel': {0: '0+1', 1: '1+4'}}\n",
      "{'Label': '22', 'label': '0', 'relabel': {0: '0+2', 1: '1+5'}}\n",
      "{'Label': '5', 'label': '3', 'relabel': {0: '0+1', 1: '1+4'}}\n",
      "{'Label': '22', 'label': '2', 'relabel': {0: '0+2', 1: '1+5'}}\n",
      "{'Label': '15', 'label': '5', 'relabel': {0: '0+3', 1: '1+7'}}\n",
      "{'Label': '22', 'label': '4', 'relabel': {0: '0+2', 1: '1+8'}}\n",
      "{'Label': '5', 'label': '7', 'relabel': {0: '0+1', 1: '1+4'}}\n",
      "{'Label': '22', 'label': '6', 'relabel': {0: '0+2', 1: '1+5'}}\n",
      "{'Label': '5', 'label': '9', 'relabel': {0: '0+1', 1: '1+4'}}\n",
      "{'Label': '5', 'label': '20', 'relabel': {0: '0+1', 1: '1+4'}}\n",
      "{'Label': '22', 'label': '8', 'relabel': {0: '0+2', 1: '1+5'}}\n"
     ]
    }
   ],
   "source": [
    "#for node in g.nodes():\n",
    "#    print(g.nodes[node])"
   ]
  },
  {
   "cell_type": "code",
   "execution_count": 94,
   "metadata": {},
   "outputs": [
    {
     "name": "stdout",
     "output_type": "stream",
     "text": [
      "n = 11\n",
      "i = 0\n",
      "neis_labels_prev_deg = []\n",
      "NeilsLabelSameDeg = ['0+2']\n",
      "neis_labels_next_deg = ['1+5']\n",
      "0+1 0+2 1+5\n",
      "i = 1\n",
      "neis_labels_prev_deg = ['0+2']\n",
      "NeilsLabelSameDeg = ['1+5']\n",
      "neis_labels_next_deg = []\n",
      "1+4 1+5 0+2\n"
     ]
    }
   ],
   "source": [
    "'''\n",
    "max_h = 1\n",
    "\n",
    "for n,d in g.nodes(data=True):\n",
    "    \n",
    "    print(\"n =\", n)\n",
    "    \n",
    "    for i in range(0, max_h+1):\n",
    "        \n",
    "        print(\"i =\", i)\n",
    "        try:\n",
    "            center = d['relabel'][i]\n",
    "        except:\n",
    "            continue\n",
    "            \n",
    "        neis_labels_prev_deg = []\n",
    "        neis_labels_next_deg = []\n",
    "\n",
    "        if i != 0:\n",
    "            neis_labels_prev_deg = list(set([g.nodes[nei]['relabel'][i-1] for nei in nx.all_neighbors(g, n)]))\n",
    "            neis_labels_prev_deg.sort()\n",
    "        print(\"neis_labels_prev_deg =\", neis_labels_prev_deg)\n",
    "        \n",
    "        NeisLabelsSameDeg = list(set([g.nodes[nei]['relabel'][i] for nei in nx.all_neighbors(g,n)]))\n",
    "        print(\"NeilsLabelSameDeg =\", NeisLabelsSameDeg)\n",
    "        \n",
    "        if i != max_h:\n",
    "            neis_labels_next_deg = list(set([g.nodes[nei]['relabel'][i+1] for nei in nx.all_neighbors(g,n)]))\n",
    "            neis_labels_next_deg.sort()\n",
    "        print(\"neis_labels_next_deg =\", neis_labels_next_deg)\n",
    "\n",
    "        nei_list = NeisLabelsSameDeg + neis_labels_prev_deg + neis_labels_next_deg\n",
    "        nei_list = ' '.join (nei_list)\n",
    "\n",
    "        sentence = center + ' ' + nei_list\n",
    "        #print>>fh, sentence\n",
    "        print(sentence)\n",
    "        \n",
    "    break\n",
    "'''"
   ]
  },
  {
   "cell_type": "code",
   "execution_count": 4,
   "metadata": {},
   "outputs": [],
   "source": [
    "def dump_sg2vec_str (fname,max_h,g=None):\n",
    "    if not g:\n",
    "        g = nx.read_gexf(fname+'.tmpg')\n",
    "        new_g = deepcopy(g)\n",
    "        for n in g.nodes():\n",
    "            del new_g.nodes[n]['relabel']\n",
    "            new_g.nodes[n]['relabel'] = ast.literal_eval(g.nodes[n]['relabel'])\n",
    "        g = new_g\n",
    "\n",
    "    opfname = fname + '.g2v' + str(max_h)\n",
    "\n",
    "    if os.path.isfile(opfname):\n",
    "        return\n",
    "\n",
    "    with open(opfname,'w') as fh:\n",
    "        for n,d in g.nodes(data=True):\n",
    "            for i in range(0, max_h+1):\n",
    "                try:\n",
    "                    center = d['relabel'][i]\n",
    "                except:\n",
    "                    continue\n",
    "                neis_labels_prev_deg = []\n",
    "                neis_labels_next_deg = []\n",
    "\n",
    "                if i != 0:\n",
    "                    neis_labels_prev_deg = list(set([g.nodes[nei]['relabel'][i-1] for nei in nx.all_neighbors(g, n)]))\n",
    "                    neis_labels_prev_deg.sort()\n",
    "                NeisLabelsSameDeg = list(set([g.nodes[nei]['relabel'][i] for nei in nx.all_neighbors(g,n)]))\n",
    "                if i != max_h:\n",
    "                    neis_labels_next_deg = list(set([g.nodes[nei]['relabel'][i+1] for nei in nx.all_neighbors(g,n)]))\n",
    "                    neis_labels_next_deg.sort()\n",
    "\n",
    "                nei_list = NeisLabelsSameDeg + neis_labels_prev_deg + neis_labels_next_deg\n",
    "                nei_list = ' '.join (nei_list)\n",
    "\n",
    "                sentence = center + ' ' + nei_list\n",
    "                print(sentence, file=fh)\n",
    "                #print>>fh, sentence\n",
    "\n",
    "#     if os.path.isfile(fname+'.tmpg'):######################## REMOVED THIS ###################\n",
    "#         os.system('rm '+fname+'.tmpg')\n",
    "        "
   ]
  },
  {
   "cell_type": "code",
   "execution_count": 109,
   "metadata": {},
   "outputs": [
    {
     "name": "stdout",
     "output_type": "stream",
     "text": [
      "344\n"
     ]
    }
   ],
   "source": [
    "'''\n",
    "ip_folder = '/home/ipsita/BTP/graph2vec/data/kdd_datasets/ptc'\n",
    "max_h = 3\n",
    "fnames = sorted(glob.glob(os.path.join(ip_folder,'*gexf')))#[:100]\n",
    "print(len(fnames))\n",
    "graphs = [nx.read_gexf(fname) for fname in fnames]\n",
    "\n",
    "t0 = time()\n",
    "graphs = [initial_relabel(g,node_label_attr_name) for g in graphs]\n",
    "'''"
   ]
  },
  {
   "cell_type": "code",
   "execution_count": 115,
   "metadata": {},
   "outputs": [
    {
     "name": "stdout",
     "output_type": "stream",
     "text": [
      "it= 1\n",
      "{(1, 2, 2, 2, 3): 1, (2, 1): 2, (3, 1): 3}\n",
      "it= 2\n",
      "{(1, 2, 2, 2, 3): 1, (2, 1): 2, (3, 1): 3}\n",
      "it= 3\n",
      "{(1, 2, 2, 2, 3): 1, (2, 1): 2, (3, 1): 3}\n"
     ]
    }
   ],
   "source": [
    "'''\n",
    "g = graphs[0]\n",
    "for it in range(1, max_h + 1):\n",
    "    print('it=',it)\n",
    "    #t0 = time()\n",
    "    label_to_compressed_label_map = {}\n",
    "    #graphs = [wl_relabel(g, it) for g in graphs]\n",
    "    wl_relabel(g, it)\n",
    "    print(label_to_compressed_label_map)\n",
    "'''"
   ]
  },
  {
   "cell_type": "code",
   "execution_count": 5,
   "metadata": {},
   "outputs": [],
   "source": [
    "def wlk_relabel_and_dump_memory_version(fnames,max_h,node_label_attr_name='Label'):\n",
    "    global label_to_compressed_label_map\n",
    "    \n",
    "    t0 = time.time()\n",
    "    graphs = [nx.read_gexf(fname) for fname in fnames]\n",
    "    print('loaded all graphs in',round(time.time() - t0, 2), 'sec')\n",
    "\n",
    "    t0 = time.time()\n",
    "    graphs = [initial_relabel(g,node_label_attr_name) for g in graphs]\n",
    "    print('initial relabeling done in', round(time.time() - t0, 2) ,'sec')\n",
    "\n",
    "    for it in range(1, (max_h + 1)):\n",
    "        t0 = time.time()\n",
    "        label_to_compressed_label_map = {}\n",
    "        graphs = [wl_relabel(g, it) for g in graphs]\n",
    "        print ('WL iteration {} done in {} sec.'.format(it, round(time.time() - t0, 2)))\n",
    "        print ('num of WL rooted subgraphs in iter',it,'is', len(label_to_compressed_label_map))\n",
    "\n",
    "    t0 = time.time()\n",
    "    for fname, g in zip(fnames, graphs):\n",
    "        dump_sg2vec_str(fname, max_h, g)\n",
    "    print('dumped sg2vec sentences in', round(time.time() - t0, 2))"
   ]
  },
  {
   "cell_type": "code",
   "execution_count": null,
   "metadata": {},
   "outputs": [],
   "source": []
  },
  {
   "cell_type": "code",
   "execution_count": null,
   "metadata": {},
   "outputs": [],
   "source": []
  }
 ],
 "metadata": {
  "kernelspec": {
   "display_name": "Python 3",
   "language": "python",
   "name": "python3"
  },
  "language_info": {
   "codemirror_mode": {
    "name": "ipython",
    "version": 3
   },
   "file_extension": ".py",
   "mimetype": "text/x-python",
   "name": "python",
   "nbconvert_exporter": "python",
   "pygments_lexer": "ipython3",
   "version": "3.6.9"
  }
 },
 "nbformat": 4,
 "nbformat_minor": 2
}
