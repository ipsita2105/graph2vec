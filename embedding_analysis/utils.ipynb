{
 "cells": [
  {
   "cell_type": "code",
   "execution_count": 4,
   "metadata": {},
   "outputs": [],
   "source": [
    "import os,json\n",
    "\n",
    "def get_files(dirname, extn, max_files=0):\n",
    "    '''\n",
    "    to get .gexf files from dirname\n",
    "    '''\n",
    "    \n",
    "    all_files = [os.path.join(dirname, f) for f in os.listdir(dirname) if f.endswith(extn)]\n",
    "    for root, dirs, files in os.walk(dirname):\n",
    "        for f in files:\n",
    "            if f.endswith(extn):\n",
    "                all_files.append(os.path.join(root, f))\n",
    "\n",
    "    all_files = list(set(all_files))\n",
    "    all_files.sort()\n",
    "    if max_files:\n",
    "        return all_files[:max_files]\n",
    "    else:\n",
    "        return all_files\n",
    "\n",
    "\n",
    "def save_graph_embeddings(corpus, final_embeddings, opfname):\n",
    "    dict_to_save = {}\n",
    "    for i in range(len(final_embeddings)):\n",
    "        graph_fname = corpus._id_to_graph_name_map[i]\n",
    "        graph_embedding = final_embeddings[i,:].tolist()\n",
    "        dict_to_save[graph_fname] = graph_embedding\n",
    "\n",
    "    with open(opfname, 'w') as fh:\n",
    "        json.dump(dict_to_save,fh,indent=4)\n",
    "\n",
    "def save_subgraph_embeddings(corpus, final_embeddings, opfname):\n",
    "    dict_to_save = {}\n",
    "    for i in range(len(final_embeddings)):\n",
    "        graph_fname = corpus._id_to_subgraph_map[i]\n",
    "        subgraph_embedding = final_embeddings[i,:].tolist()\n",
    "        dict_to_save[graph_fname] = subgraph_embedding\n",
    "\n",
    "    with open(opfname, 'w') as fh:\n",
    "        json.dump(dict_to_save,fh,indent=4)\n",
    "\n",
    "def get_class_labels(graph_files, class_labels_fname):\n",
    "    graph_to_class_label_map = {l.split()[0].split('.')[0]: int(l.split()[1].strip()) for l in open (class_labels_fname)}\n",
    "    labels = [graph_to_class_label_map[os.path.basename(g).split('.')[0]] for g in graph_files]\n",
    "    return labels\n",
    "\n",
    "#if __name__ == '__main__':\n",
    "#    print('nothing to do')\n"
   ]
  },
  {
   "cell_type": "code",
   "execution_count": null,
   "metadata": {},
   "outputs": [],
   "source": []
  }
 ],
 "metadata": {
  "kernelspec": {
   "display_name": "Python 3",
   "language": "python",
   "name": "python3"
  },
  "language_info": {
   "codemirror_mode": {
    "name": "ipython",
    "version": 3
   },
   "file_extension": ".py",
   "mimetype": "text/x-python",
   "name": "python",
   "nbconvert_exporter": "python",
   "pygments_lexer": "ipython3",
   "version": "3.6.9"
  }
 },
 "nbformat": 4,
 "nbformat_minor": 2
}
