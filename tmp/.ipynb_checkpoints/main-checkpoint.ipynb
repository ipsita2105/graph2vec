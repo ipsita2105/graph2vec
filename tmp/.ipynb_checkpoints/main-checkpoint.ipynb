{
 "cells": [
  {
   "cell_type": "code",
   "execution_count": 1,
   "metadata": {
    "collapsed": true
   },
   "outputs": [
    {
     "name": "stderr",
     "output_type": "stream",
     "text": [
      "/home/ipsita/.local/lib/python3.6/site-packages/tensorflow/python/framework/dtypes.py:516: FutureWarning: Passing (type, 1) or '1type' as a synonym of type is deprecated; in a future version of numpy, it will be understood as (type, (1,)) / '(1,)type'.\n",
      "  _np_qint8 = np.dtype([(\"qint8\", np.int8, 1)])\n",
      "/home/ipsita/.local/lib/python3.6/site-packages/tensorflow/python/framework/dtypes.py:517: FutureWarning: Passing (type, 1) or '1type' as a synonym of type is deprecated; in a future version of numpy, it will be understood as (type, (1,)) / '(1,)type'.\n",
      "  _np_quint8 = np.dtype([(\"quint8\", np.uint8, 1)])\n",
      "/home/ipsita/.local/lib/python3.6/site-packages/tensorflow/python/framework/dtypes.py:518: FutureWarning: Passing (type, 1) or '1type' as a synonym of type is deprecated; in a future version of numpy, it will be understood as (type, (1,)) / '(1,)type'.\n",
      "  _np_qint16 = np.dtype([(\"qint16\", np.int16, 1)])\n",
      "/home/ipsita/.local/lib/python3.6/site-packages/tensorflow/python/framework/dtypes.py:519: FutureWarning: Passing (type, 1) or '1type' as a synonym of type is deprecated; in a future version of numpy, it will be understood as (type, (1,)) / '(1,)type'.\n",
      "  _np_quint16 = np.dtype([(\"quint16\", np.uint16, 1)])\n",
      "/home/ipsita/.local/lib/python3.6/site-packages/tensorflow/python/framework/dtypes.py:520: FutureWarning: Passing (type, 1) or '1type' as a synonym of type is deprecated; in a future version of numpy, it will be understood as (type, (1,)) / '(1,)type'.\n",
      "  _np_qint32 = np.dtype([(\"qint32\", np.int32, 1)])\n",
      "/home/ipsita/.local/lib/python3.6/site-packages/tensorflow/python/framework/dtypes.py:525: FutureWarning: Passing (type, 1) or '1type' as a synonym of type is deprecated; in a future version of numpy, it will be understood as (type, (1,)) / '(1,)type'.\n",
      "  np_resource = np.dtype([(\"resource\", np.ubyte, 1)])\n",
      "/home/ipsita/.local/lib/python3.6/site-packages/tensorboard/compat/tensorflow_stub/dtypes.py:541: FutureWarning: Passing (type, 1) or '1type' as a synonym of type is deprecated; in a future version of numpy, it will be understood as (type, (1,)) / '(1,)type'.\n",
      "  _np_qint8 = np.dtype([(\"qint8\", np.int8, 1)])\n",
      "/home/ipsita/.local/lib/python3.6/site-packages/tensorboard/compat/tensorflow_stub/dtypes.py:542: FutureWarning: Passing (type, 1) or '1type' as a synonym of type is deprecated; in a future version of numpy, it will be understood as (type, (1,)) / '(1,)type'.\n",
      "  _np_quint8 = np.dtype([(\"quint8\", np.uint8, 1)])\n",
      "/home/ipsita/.local/lib/python3.6/site-packages/tensorboard/compat/tensorflow_stub/dtypes.py:543: FutureWarning: Passing (type, 1) or '1type' as a synonym of type is deprecated; in a future version of numpy, it will be understood as (type, (1,)) / '(1,)type'.\n",
      "  _np_qint16 = np.dtype([(\"qint16\", np.int16, 1)])\n",
      "/home/ipsita/.local/lib/python3.6/site-packages/tensorboard/compat/tensorflow_stub/dtypes.py:544: FutureWarning: Passing (type, 1) or '1type' as a synonym of type is deprecated; in a future version of numpy, it will be understood as (type, (1,)) / '(1,)type'.\n",
      "  _np_quint16 = np.dtype([(\"quint16\", np.uint16, 1)])\n",
      "/home/ipsita/.local/lib/python3.6/site-packages/tensorboard/compat/tensorflow_stub/dtypes.py:545: FutureWarning: Passing (type, 1) or '1type' as a synonym of type is deprecated; in a future version of numpy, it will be understood as (type, (1,)) / '(1,)type'.\n",
      "  _np_qint32 = np.dtype([(\"qint32\", np.int32, 1)])\n",
      "/home/ipsita/.local/lib/python3.6/site-packages/tensorboard/compat/tensorflow_stub/dtypes.py:550: FutureWarning: Passing (type, 1) or '1type' as a synonym of type is deprecated; in a future version of numpy, it will be understood as (type, (1,)) / '(1,)type'.\n",
      "  np_resource = np.dtype([(\"resource\", np.ubyte, 1)])\n"
     ]
    }
   ],
   "source": [
    "import argparse,os,logging,psutil,time\n",
    "from joblib import Parallel,delayed\n",
    "from sklearn.model_selection import train_test_split\n",
    "import shutil\n",
    "#import utils file\n",
    "%run utils.ipynb\n",
    "%run make_graph2vec_corpus.ipynb\n",
    "%run train_utils_new.ipynb\n",
    "%run classify_new.ipynb\n",
    "\n",
    "logger = logging.getLogger()\n",
    "logger.setLevel(\"INFO\")"
   ]
  },
  {
   "cell_type": "code",
   "execution_count": 2,
   "metadata": {},
   "outputs": [],
   "source": [
    "# Set it manually for now\n",
    "corpus_dir = \"/home/ipsita/BTP/graph2vec/data/kdd_datasets/mutag\"\n",
    "output_dir = \"/home/ipsita/BTP/graph2vec/embeddings\"\n",
    "batch_size = 128\n",
    "epochs = 400 #4 win_size = 1 74%\n",
    "embedding_size = 1024\n",
    "num_negsample = 10\n",
    "learning_rate = 0.3\n",
    "wlk_h = 3\n",
    "label_filed_name = 'Label'\n",
    "class_labels_fname = '/home/ipsita/BTP/graph2vec/data/kdd_datasets/mutag.Labels'\n",
    "win_size = 1\n",
    "concat_flag = 0\n",
    "\n",
    "wl_extn = 'g2v'+str(wlk_h)    # wlk_h is height to be considered\n",
    "\n",
    "assert os.path.exists(corpus_dir), \"File {} does not exist\".format(corpus_dir)\n",
    "assert os.path.exists(output_dir), \"Dir {} does not exist\".format(output_dir)"
   ]
  },
  {
   "cell_type": "code",
   "execution_count": 3,
   "metadata": {},
   "outputs": [
    {
     "name": "stderr",
     "output_type": "stream",
     "text": [
      "INFO:root:Loaded 188 graph file names form /home/ipsita/BTP/graph2vec/data/kdd_datasets/mutag\n"
     ]
    },
    {
     "data": {
      "text/plain": [
       "['/home/ipsita/BTP/graph2vec/data/kdd_datasets/mutag/0.gexf',\n",
       " '/home/ipsita/BTP/graph2vec/data/kdd_datasets/mutag/1.gexf',\n",
       " '/home/ipsita/BTP/graph2vec/data/kdd_datasets/mutag/10.gexf',\n",
       " '/home/ipsita/BTP/graph2vec/data/kdd_datasets/mutag/100.gexf',\n",
       " '/home/ipsita/BTP/graph2vec/data/kdd_datasets/mutag/101.gexf']"
      ]
     },
     "execution_count": 3,
     "metadata": {},
     "output_type": "execute_result"
    }
   ],
   "source": [
    "graph_files = get_files(dirname=corpus_dir, extn='.gexf', max_files=0)\n",
    "logging.info('Loaded {} graph file names form {}'.format(len(graph_files),corpus_dir))\n",
    "graph_files[:5]"
   ]
  },
  {
   "cell_type": "code",
   "execution_count": 4,
   "metadata": {
    "scrolled": true
   },
   "outputs": [
    {
     "name": "stderr",
     "output_type": "stream",
     "text": [
      "INFO:root:dumped sg2vec sentences in 0.2502150535583496 sec.\n"
     ]
    },
    {
     "name": "stdout",
     "output_type": "stream",
     "text": [
      "loaded all graphs in 0.14 sec\n",
      "initial relabeling done in 0.03 sec\n",
      "WL iteration 1 done in 0.02 sec.\n",
      "num of WL rooted subgraphs in iter 1 is 33\n",
      "WL iteration 2 done in 0.02 sec.\n",
      "num of WL rooted subgraphs in iter 2 is 174\n",
      "WL iteration 3 done in 0.03 sec.\n",
      "num of WL rooted subgraphs in iter 3 is 572\n",
      "dumped sg2vec sentences in 0.0\n"
     ]
    }
   ],
   "source": [
    "t0 = time.time()\n",
    "wlk_relabel_and_dump_memory_version(graph_files, max_h=wlk_h, node_label_attr_name=label_filed_name)\n",
    "logging.info('dumped sg2vec sentences in {} sec.'.format(time.time() - t0))"
   ]
  },
  {
   "cell_type": "code",
   "execution_count": 5,
   "metadata": {},
   "outputs": [
    {
     "name": "stdout",
     "output_type": "stream",
     "text": [
      "Xtrain shape (125,)\n",
      "Ytrain shape (125,)\n",
      "['/home/ipsita/BTP/graph2vec/data/kdd_datasets/mutag/186.gexf.g2v3', '/home/ipsita/BTP/graph2vec/data/kdd_datasets/mutag/137.gexf.g2v3', '/home/ipsita/BTP/graph2vec/data/kdd_datasets/mutag/133.gexf.g2v3', '/home/ipsita/BTP/graph2vec/data/kdd_datasets/mutag/22.gexf.g2v3', '/home/ipsita/BTP/graph2vec/data/kdd_datasets/mutag/14.gexf.g2v3']\n",
      "[-1 -1 -1  1  1]\n",
      "Xtest shape (63,)\n",
      "Ytest shape (63,)\n",
      "\n",
      "['/home/ipsita/BTP/graph2vec/data/kdd_datasets/mutag/134.gexf.g2v3', '/home/ipsita/BTP/graph2vec/data/kdd_datasets/mutag/71.gexf.g2v3', '/home/ipsita/BTP/graph2vec/data/kdd_datasets/mutag/27.gexf.g2v3', '/home/ipsita/BTP/graph2vec/data/kdd_datasets/mutag/169.gexf.g2v3', '/home/ipsita/BTP/graph2vec/data/kdd_datasets/mutag/113.gexf.g2v3']\n",
      "[-1  1  1 -1  1]\n"
     ]
    }
   ],
   "source": [
    "Y = list(range(0, len(graph_files)))  ###  for now ########\n",
    "X = [g+\".\"+wl_extn for g in graph_files]\n",
    "\n",
    "#Y = np.array(get_class_labels(wlk_files, class_labels_fname))\n",
    "graph_to_class_label_map = {l.split()[0].split('.')[0]: int(l.split()[1].strip()) for l in open (class_labels_fname)}\n",
    "\n",
    "Xtrain, Xtest, Ytrain, Ytest = train_test_split(X, Y, test_size=0.33)\n",
    "#print(np.shape(Xtrain),\" \",np.shape(Ytrain),\" \",np.shape(Xtest),\" \",np.shape(Ytest))\n",
    "\n",
    "print('Xtrain shape', np.shape(Xtrain))\n",
    "labels = [graph_to_class_label_map[os.path.basename(g).split('.')[0]] for g in Xtrain]\n",
    "Ytrain = np.array(labels)\n",
    "print('Ytrain shape', np.shape(Ytrain))\n",
    "\n",
    "print(Xtrain[:5])\n",
    "print(Ytrain[:5])\n",
    "\n",
    "print('Xtest shape', np.shape(Xtest))\n",
    "labels = [graph_to_class_label_map[os.path.basename(g).split('.')[0]] for g in Xtest] \n",
    "Ytest = np.array(labels)\n",
    "print('Ytest shape', np.shape(Ytest))\n",
    "print()\n",
    "print(Xtest[:5])\n",
    "print(Ytest[:5])"
   ]
  },
  {
   "cell_type": "code",
   "execution_count": 7,
   "metadata": {},
   "outputs": [],
   "source": [
    "#embedding_fname = train_skipgram(corpus_dir, wl_extn, learning_rate, win_size, concat_flag, Xtrain, embedding_size, num_negsample, epochs, batch_size, output_dir)"
   ]
  },
  {
   "cell_type": "markdown",
   "metadata": {},
   "source": [
    "## Testing time"
   ]
  },
  {
   "cell_type": "code",
   "execution_count": 8,
   "metadata": {
    "scrolled": true
   },
   "outputs": [],
   "source": [
    "#embedding_fname_test = test_skipgram(corpus_dir, wl_extn, learning_rate, win_size, concat_flag, Xtest, embedding_size, num_negsample, epochs, batch_size, output_dir)"
   ]
  },
  {
   "cell_type": "code",
   "execution_count": null,
   "metadata": {},
   "outputs": [],
   "source": [
    "#embedding_fname = \"/home/ipsita/BTP/graph2vec/embeddings/mutag_dims_1024_epochs_400_lr_0.3_embeddings.txt\"\n",
    "#embedding_fname_test = \"/home/ipsita/BTP/graph2vec/embeddings/mutag_dims_1024_epochs_400_lr_0.3_embeddings_test.txt\""
   ]
  },
  {
   "cell_type": "code",
   "execution_count": 11,
   "metadata": {},
   "outputs": [],
   "source": [
    "#a = perform_classification(Xtrain, Ytrain, Xtest, Ytest, wl_extn, embedding_fname, embedding_fname_test, class_labels_fname)"
   ]
  },
  {
   "cell_type": "code",
   "execution_count": null,
   "metadata": {},
   "outputs": [],
   "source": [
    "a"
   ]
  },
  {
   "cell_type": "markdown",
   "metadata": {},
   "source": [
    "## Cross Validation"
   ]
  },
  {
   "cell_type": "code",
   "execution_count": 5,
   "metadata": {
    "scrolled": false
   },
   "outputs": [
    {
     "name": "stderr",
     "output_type": "stream",
     "text": [
      "INFO:root:Initializing SKIPGRAM...\n",
      "INFO:root:number of graphs: 125\n",
      "INFO:root:subgraph vocabulary size: 660\n",
      "INFO:root:total number of subgraphs to be trained: 8793\n"
     ]
    },
    {
     "name": "stdout",
     "output_type": "stream",
     "text": [
      "cpath =  /home/ipsita/BTP/graph2vec/model_ckpt/1\n",
      "********* For window size 1 **********\n",
      "Xtrain shape (125,)\n",
      "Ytrain shape (125,)\n",
      "Xtest shape (63,)\n",
      "Ytest shape (63,)\n",
      "number of graphs: 125\n",
      "subgraph vocabulary size: 660\n",
      "total number of subgraphs to be trained: 8793\n",
      "WARNING:tensorflow:From /home/ipsita/.local/lib/python3.6/site-packages/tensorflow/python/ops/nn_impl.py:180: add_dispatch_support.<locals>.wrapper (from tensorflow.python.ops.array_ops) is deprecated and will be removed in a future version.\n",
      "Instructions for updating:\n",
      "Use tf.where in 2.0, which has the same broadcast rule as np.where\n"
     ]
    },
    {
     "name": "stderr",
     "output_type": "stream",
     "text": [
      "WARNING:tensorflow:From /home/ipsita/.local/lib/python3.6/site-packages/tensorflow/python/ops/nn_impl.py:180: add_dispatch_support.<locals>.wrapper (from tensorflow.python.ops.array_ops) is deprecated and will be removed in a future version.\n",
      "Instructions for updating:\n",
      "Use tf.where in 2.0, which has the same broadcast rule as np.where\n"
     ]
    },
    {
     "name": "stdout",
     "output_type": "stream",
     "text": [
      "Shape final embed [128, 2048]\n"
     ]
    },
    {
     "name": "stderr",
     "output_type": "stream",
     "text": [
      "INFO:root:#########################   Epoch: 0 :  25.393964, 0.69 sec.  #####################\n",
      "INFO:root:#########################   Epoch: 1 :  14.561173, 0.40 sec.  #####################\n",
      "INFO:root:#########################   Epoch: 2 :  10.508319, 0.39 sec.  #####################\n",
      "INFO:root:#########################   Epoch: 3 :  7.765640, 0.38 sec.  #####################\n",
      "INFO:root:Write the matrix to a word2vec format file\n"
     ]
    },
    {
     "name": "stdout",
     "output_type": "stream",
     "text": [
      "Model saved in path: /home/ipsita/BTP/graph2vec/model_ckpt/1/model1.ckpt\n"
     ]
    },
    {
     "name": "stderr",
     "output_type": "stream",
     "text": [
      "INFO:root:Completed writing the final embeddings, pls check file: /home/ipsita/BTP/graph2vec/embeddings/mutag_dims_1024_epochs_4_lr_0.3_embeddings.txt for the same\n",
      "INFO:root:Initializing TEST SKIPGRAM...\n"
     ]
    },
    {
     "name": "stdout",
     "output_type": "stream",
     "text": [
      "path1 /home/ipsita/BTP/graph2vec/model_ckpt/1/model1.ckpt.meta\n",
      "path2 /home/ipsita/BTP/graph2vec/model_ckpt/1/model1.ckpt\n",
      "Graph to infer = 63\n",
      "subgraph embedding size [660, 1024]\n",
      "WARNING:tensorflow:From /home/ipsita/.local/lib/python3.6/site-packages/tensorflow/python/training/saver.py:1276: checkpoint_exists (from tensorflow.python.training.checkpoint_management) is deprecated and will be removed in a future version.\n",
      "Instructions for updating:\n",
      "Use standard file APIs to check for files with this prefix.\n"
     ]
    },
    {
     "name": "stderr",
     "output_type": "stream",
     "text": [
      "WARNING:tensorflow:From /home/ipsita/.local/lib/python3.6/site-packages/tensorflow/python/training/saver.py:1276: checkpoint_exists (from tensorflow.python.training.checkpoint_management) is deprecated and will be removed in a future version.\n",
      "Instructions for updating:\n",
      "Use standard file APIs to check for files with this prefix.\n"
     ]
    },
    {
     "name": "stdout",
     "output_type": "stream",
     "text": [
      "INFO:tensorflow:Restoring parameters from /home/ipsita/BTP/graph2vec/model_ckpt/1/model1.ckpt\n"
     ]
    },
    {
     "name": "stderr",
     "output_type": "stream",
     "text": [
      "INFO:tensorflow:Restoring parameters from /home/ipsita/BTP/graph2vec/model_ckpt/1/model1.ckpt\n",
      "INFO:root:#########################   Epoch: 0 :  6.753126, 0.23 sec.  #####################\n",
      "INFO:root:#########################   Epoch: 1 :  7.553055, 0.16 sec.  #####################\n",
      "INFO:root:#########################   Epoch: 2 :  6.458956, 0.16 sec.  #####################\n",
      "INFO:root:#########################   Epoch: 3 :  5.536459, 0.16 sec.  #####################\n",
      "INFO:root:Write the matrix to a word2vec format file\n",
      "INFO:root:Completed writing the final embeddings, pls check file: /home/ipsita/BTP/graph2vec/embeddings/mutag_dims_1024_epochs_4_lr_0.3_embeddings_test.txt for the same\n",
      "INFO:root:Trained the skipgram in 4.08 sec.\n"
     ]
    },
    {
     "name": "stdout",
     "output_type": "stream",
     "text": [
      "Fitting 5 folds for each of 6 candidates, totalling 30 fits\n"
     ]
    },
    {
     "name": "stderr",
     "output_type": "stream",
     "text": [
      "[Parallel(n_jobs=1)]: Done  30 out of  30 | elapsed:    0.8s finished\n",
      "INFO:root:best classifier model's hyperparamters\n",
      "INFO:root:Linear SVM accuracy: 0.746031746031746\n",
      "INFO:root:             precision    recall  f1-score   support\n",
      "\n",
      "         -1       0.62      0.28      0.38        18\n",
      "          1       0.76      0.93      0.84        45\n",
      "\n",
      "avg / total       0.72      0.75      0.71        63\n",
      "\n",
      "INFO:root:Initializing SKIPGRAM...\n",
      "INFO:root:number of graphs: 125\n",
      "INFO:root:subgraph vocabulary size: 609\n",
      "INFO:root:total number of subgraphs to be trained: 8925\n"
     ]
    },
    {
     "name": "stdout",
     "output_type": "stream",
     "text": [
      "Accuracy for win size 1 is 0.746031746031746\n",
      "cpath =  /home/ipsita/BTP/graph2vec/model_ckpt/2\n",
      "********* For window size 2 **********\n",
      "Xtrain shape (125,)\n",
      "Ytrain shape (125,)\n",
      "Xtest shape (63,)\n",
      "Ytest shape (63,)\n",
      "number of graphs: 125\n",
      "subgraph vocabulary size: 609\n",
      "total number of subgraphs to be trained: 8925\n",
      "Shape final embed [128, 2048]\n"
     ]
    },
    {
     "name": "stderr",
     "output_type": "stream",
     "text": [
      "INFO:root:#########################   Epoch: 0 :  20.253554, 0.69 sec.  #####################\n",
      "INFO:root:#########################   Epoch: 1 :  12.319476, 0.45 sec.  #####################\n",
      "INFO:root:#########################   Epoch: 2 :  9.301949, 0.57 sec.  #####################\n",
      "INFO:root:#########################   Epoch: 3 :  6.561308, 0.45 sec.  #####################\n",
      "INFO:root:Write the matrix to a word2vec format file\n"
     ]
    },
    {
     "name": "stdout",
     "output_type": "stream",
     "text": [
      "Model saved in path: /home/ipsita/BTP/graph2vec/model_ckpt/2/model2.ckpt\n"
     ]
    },
    {
     "name": "stderr",
     "output_type": "stream",
     "text": [
      "INFO:root:Completed writing the final embeddings, pls check file: /home/ipsita/BTP/graph2vec/embeddings/mutag_dims_1024_epochs_4_lr_0.3_embeddings.txt for the same\n",
      "INFO:root:Initializing TEST SKIPGRAM...\n"
     ]
    },
    {
     "name": "stdout",
     "output_type": "stream",
     "text": [
      "path1 /home/ipsita/BTP/graph2vec/model_ckpt/2/model2.ckpt.meta\n",
      "path2 /home/ipsita/BTP/graph2vec/model_ckpt/2/model2.ckpt\n",
      "Graph to infer = 63\n",
      "subgraph embedding size [609, 1024]\n",
      "INFO:tensorflow:Restoring parameters from /home/ipsita/BTP/graph2vec/model_ckpt/2/model2.ckpt\n"
     ]
    },
    {
     "name": "stderr",
     "output_type": "stream",
     "text": [
      "INFO:tensorflow:Restoring parameters from /home/ipsita/BTP/graph2vec/model_ckpt/2/model2.ckpt\n",
      "INFO:root:#########################   Epoch: 0 :  5.791907, 0.33 sec.  #####################\n",
      "INFO:root:#########################   Epoch: 1 :  5.880149, 0.34 sec.  #####################\n",
      "INFO:root:#########################   Epoch: 2 :  5.042988, 0.27 sec.  #####################\n",
      "INFO:root:#########################   Epoch: 3 :  6.195400, 0.24 sec.  #####################\n",
      "INFO:root:Write the matrix to a word2vec format file\n",
      "INFO:root:Completed writing the final embeddings, pls check file: /home/ipsita/BTP/graph2vec/embeddings/mutag_dims_1024_epochs_4_lr_0.3_embeddings_test.txt for the same\n",
      "INFO:root:Trained the skipgram in 5.04 sec.\n"
     ]
    },
    {
     "name": "stdout",
     "output_type": "stream",
     "text": [
      "Fitting 5 folds for each of 6 candidates, totalling 30 fits\n"
     ]
    },
    {
     "name": "stderr",
     "output_type": "stream",
     "text": [
      "[Parallel(n_jobs=1)]: Done  30 out of  30 | elapsed:    0.9s finished\n",
      "INFO:root:best classifier model's hyperparamters\n",
      "INFO:root:Linear SVM accuracy: 0.5238095238095238\n",
      "INFO:root:             precision    recall  f1-score   support\n",
      "\n",
      "         -1       0.38      0.75      0.50        20\n",
      "          1       0.78      0.42      0.55        43\n",
      "\n",
      "avg / total       0.65      0.52      0.53        63\n",
      "\n"
     ]
    },
    {
     "name": "stdout",
     "output_type": "stream",
     "text": [
      "Accuracy for win size 2 is 0.5238095238095238\n"
     ]
    },
    {
     "data": {
      "image/png": "[encoded data removed]",
      "text/plain": [
       "<matplotlib.figure.Figure at 0x7f4c79df3be0>"
      ]
     },
     "metadata": {
      "needs_background": "light"
     },
     "output_type": "display_data"
    }
   ],
   "source": [
    "params = [1, 2]\n",
    "A = []\n",
    "checkpoint_path = '/home/ipsita/BTP/graph2vec/model_ckpt'\n",
    "\n",
    "for w in params:\n",
    "    t0 = time.time()\n",
    "    \n",
    "    win_size = w\n",
    "    cpath = checkpoint_path + \"/\" + str(w)\n",
    "    print(\"cpath = \", cpath)\n",
    "    print(\"********* For window size\", win_size,\"**********\")\n",
    "    Y = list(range(0, len(graph_files)))\n",
    "    X = [g+\".\"+wl_extn for g in graph_files]\n",
    "\n",
    "    graph_to_class_label_map = {l.split()[0].split('.')[0]: int(l.split()[1].strip()) for l in open (class_labels_fname)}\n",
    "\n",
    "    Xtrain, Xtest, Ytrain, Ytest = train_test_split(X, Y, test_size=0.33)\n",
    "\n",
    "    print('Xtrain shape', np.shape(Xtrain))\n",
    "    labels = [graph_to_class_label_map[os.path.basename(g).split('.')[0]] for g in Xtrain]\n",
    "    Ytrain = np.array(labels)\n",
    "    print('Ytrain shape', np.shape(Ytrain))\n",
    "\n",
    "    print('Xtest shape', np.shape(Xtest))\n",
    "    labels = [graph_to_class_label_map[os.path.basename(g).split('.')[0]] for g in Xtest] \n",
    "    Ytest = np.array(labels)\n",
    "    print('Ytest shape', np.shape(Ytest))\n",
    "    \n",
    "    embedding_fname = train_skipgram(corpus_dir, wl_extn, learning_rate, win_size, concat_flag, \n",
    "                                     cpath, Xtrain, embedding_size, num_negsample, epochs, batch_size, output_dir)\n",
    "\n",
    "    embedding_fname_test = test_skipgram(corpus_dir, wl_extn, learning_rate, win_size, concat_flag, \n",
    "                                         cpath, Xtest, embedding_size, num_negsample, epochs, batch_size, output_dir)\n",
    "\n",
    "    logging.info('Trained the skipgram in {} sec.'.format(round(time.time() -t0, 2)))\n",
    "    \n",
    "    a = perform_classification(Xtrain, Ytrain, Xtest, Ytest, wl_extn, embedding_fname, \n",
    "                               embedding_fname_test, class_labels_fname)\n",
    "    \n",
    "    print(\"Accuracy for win size\", win_size, \"is\", a)\n",
    "    A.append(a)\n",
    "    #shutil.rmtree('/home/ipsita/BTP/graph2vec/model_ckpt')\n",
    "    #time.sleep(5)\n",
    "    #os.mkdir('/home/ipsita/BTP/graph2vec/model_ckpt')\n",
    "    os.remove(embedding_fname)\n",
    "    os.remove(embedding_fname_test)"
   ]
  },
  {
   "cell_type": "code",
   "execution_count": 12,
   "metadata": {},
   "outputs": [
    {
     "data": {
      "text/plain": [
       "[]"
      ]
     },
     "execution_count": 12,
     "metadata": {},
     "output_type": "execute_result"
    }
   ],
   "source": [
    "A"
   ]
  },
  {
   "cell_type": "code",
   "execution_count": 89,
   "metadata": {
    "collapsed": true
   },
   "outputs": [
    {
     "name": "stderr",
     "output_type": "stream",
     "text": [
      "INFO:root:Initializing SKIPGRAM...\n",
      "INFO:root:number of graphs: 188\n",
      "INFO:root:subgraph vocabulary size: 787\n",
      "INFO:root:total number of subgraphs to be trained: 13485\n"
     ]
    },
    {
     "name": "stdout",
     "output_type": "stream",
     "text": [
      "Shape final embed [100, 2048]\n"
     ]
    },
    {
     "name": "stderr",
     "output_type": "stream",
     "text": [
      "INFO:root:Epoch: 0 : Average loss for step: 100 : 22.278061\n",
      "INFO:root:#########################   Epoch: 0 :  20.423104, 0.85 sec.  #####################\n",
      "INFO:root:Epoch: 1 : Average loss for step: 100 : 11.280827\n",
      "INFO:root:#########################   Epoch: 1 :  10.402936, 0.68 sec.  #####################\n",
      "INFO:root:Epoch: 2 : Average loss for step: 100 : 6.463301\n",
      "INFO:root:#########################   Epoch: 2 :  6.395821, 0.61 sec.  #####################\n",
      "INFO:root:Epoch: 3 : Average loss for step: 100 : 5.425781\n",
      "INFO:root:#########################   Epoch: 3 :  5.350180, 0.61 sec.  #####################\n",
      "INFO:root:Epoch: 4 : Average loss for step: 100 : 3.621061\n",
      "INFO:root:#########################   Epoch: 4 :  3.586192, 0.58 sec.  #####################\n",
      "INFO:root:Write the matrix to a word2vec format file\n",
      "INFO:root:Completed writing the final embeddings, pls check file: /home/ipsita/BTP/graph2vec/embeddings/mutag_dims_1024_epochs_5_lr_0.3_embeddings.txt for the same\n",
      "INFO:root:Trained the skipgram model in 4.15 sec.\n"
     ]
    },
    {
     "data": {
      "image/png": "[encoded data removed]",
      "text/plain": [
       "<matplotlib.figure.Figure at 0x7f5d42d96048>"
      ]
     },
     "metadata": {
      "needs_background": "light"
     },
     "output_type": "display_data"
    }
   ],
   "source": [
    "t0 = time.time()\n",
    "embedding_fname = train_skipgram(corpus_dir, wl_extn, learning_rate, win_size, concat_flag, embedding_size, num_negsample,\n",
    "                                 epochs, batch_size, output_dir)\n",
    "logging.info('Trained the skipgram model in {} sec.'.format(round(time.time()-t0, 2)))"
   ]
  },
  {
   "cell_type": "code",
   "execution_count": 90,
   "metadata": {},
   "outputs": [
    {
     "name": "stderr",
     "output_type": "stream",
     "text": [
      "INFO:root:Y (label) matrix shape: (188,)\n",
      "INFO:root:Train and Test matrix shapes: (169, 2048), (19, 2048), (169,), (19,) \n"
     ]
    },
    {
     "name": "stdout",
     "output_type": "stream",
     "text": [
      "X shape (188, 2048)\n",
      "Fitting 5 folds for each of 6 candidates, totalling 30 fits\n"
     ]
    },
    {
     "name": "stderr",
     "output_type": "stream",
     "text": [
      "[Parallel(n_jobs=1)]: Done  30 out of  30 | elapsed:    1.6s finished\n",
      "INFO:root:best classifier model's hyperparamters\n",
      "INFO:root:Linear SVM accuracy: 0.8947368421052632\n",
      "INFO:root:             precision    recall  f1-score   support\n",
      "\n",
      "         -1       0.67      1.00      0.80         4\n",
      "          1       1.00      0.87      0.93        15\n",
      "\n",
      "avg / total       0.93      0.89      0.90        19\n",
      "\n"
     ]
    },
    {
     "data": {
      "text/plain": [
       "0.8947368421052632"
      ]
     },
     "execution_count": 90,
     "metadata": {},
     "output_type": "execute_result"
    }
   ],
   "source": [
    "perform_classification (corpus_dir, wl_extn, embedding_fname, class_labels_fname)"
   ]
  },
  {
   "cell_type": "markdown",
   "metadata": {},
   "source": [
    "# To run many time"
   ]
  },
  {
   "cell_type": "code",
   "execution_count": 35,
   "metadata": {
    "scrolled": true
   },
   "outputs": [
    {
     "name": "stderr",
     "output_type": "stream",
     "text": [
      "INFO:root:Loaded 188 graph file names form /home/ipsita/BTP/graph2vec/data/kdd_datasets/mutag\n",
      "INFO:root:dumped sg2vec sentences in 0.7712142467498779 sec.\n"
     ]
    },
    {
     "name": "stdout",
     "output_type": "stream",
     "text": [
      "loaded all graphs in 0.65 sec\n",
      "initial relabeling done in 0.03 sec\n",
      "WL iteration 1 done in 0.03 sec.\n",
      "num of WL rooted subgraphs in iter 1 is 33\n",
      "WL iteration 2 done in 0.03 sec.\n",
      "num of WL rooted subgraphs in iter 2 is 174\n",
      "WL iteration 3 done in 0.04 sec.\n",
      "num of WL rooted subgraphs in iter 3 is 572\n",
      "dumped sg2vec sentences in 0.0\n"
     ]
    }
   ],
   "source": [
    "# These parts need not be repeated\n",
    "\n",
    "####################### set parametrs #######################################\n",
    "corpus_dir = \"/home/ipsita/BTP/graph2vec/data/kdd_datasets/mutag\"\n",
    "output_dir = \"/home/ipsita/BTP/graph2vec/embeddings\"\n",
    "batch_size = 128\n",
    "epochs = 1000\n",
    "embedding_size = 1024\n",
    "num_negsample = 10\n",
    "learning_rate = 0.3\n",
    "wlk_h = 3\n",
    "label_filed_name = 'Label'\n",
    "class_labels_fname = '/home/ipsita/BTP/graph2vec/data/kdd_datasets/mutag.Labels'\n",
    "\n",
    "wl_extn = 'g2v'+str(wlk_h)    # wlk_h is height to be considered\n",
    "\n",
    "assert os.path.exists(corpus_dir), \"File {} does not exist\".format(corpus_dir)\n",
    "assert os.path.exists(output_dir), \"Dir {} does not exist\".format(output_dir)\n",
    "\n",
    "######################## load graphs from corpus ###############################\n",
    "graph_files = get_files(dirname=corpus_dir, extn='.gexf', max_files=0)\n",
    "logging.info('Loaded {} graph file names form {}'.format(len(graph_files),corpus_dir))\n",
    "\n",
    "######################## make corpus files #####################################\n",
    "t0 = time.time()\n",
    "wlk_relabel_and_dump_memory_version(graph_files, max_h=wlk_h, node_label_attr_name=label_filed_name)\n",
    "logging.info('dumped sg2vec sentences in {} sec.'.format(time.time() - t0))"
   ]
  },
  {
   "cell_type": "code",
   "execution_count": 36,
   "metadata": {
    "collapsed": true
   },
   "outputs": [
    {
     "name": "stderr",
     "output_type": "stream",
     "text": [
      "INFO:root:Initializing SKIPGRAM...\n",
      "INFO:root:number of graphs: 188\n",
      "INFO:root:subgraph vocabulary size: 787\n",
      "INFO:root:total number of subgraphs to be trained: 13485\n",
      "INFO:root:#########################   Epoch: 0 :  19.721200, 0.91 sec.  #####################\n",
      "INFO:root:#########################   Epoch: 1 :  10.679841, 0.62 sec.  #####################\n",
      "INFO:root:#########################   Epoch: 2 :  7.999816, 0.65 sec.  #####################\n",
      "INFO:root:#########################   Epoch: 3 :  5.720646, 0.71 sec.  #####################\n",
      "INFO:root:#########################   Epoch: 4 :  4.270865, 0.82 sec.  #####################\n",
      "INFO:root:#########################   Epoch: 5 :  4.251593, 0.72 sec.  #####################\n",
      "INFO:root:#########################   Epoch: 6 :  3.138256, 0.94 sec.  #####################\n",
      "INFO:root:#########################   Epoch: 7 :  2.626400, 0.81 sec.  #####################\n",
      "INFO:root:#########################   Epoch: 8 :  2.166890, 0.87 sec.  #####################\n",
      "INFO:root:#########################   Epoch: 9 :  2.065185, 0.73 sec.  #####################\n",
      "INFO:root:#########################   Epoch: 10 :  1.863044, 0.64 sec.  #####################\n",
      "INFO:root:#########################   Epoch: 11 :  1.648639, 0.62 sec.  #####################\n",
      "INFO:root:#########################   Epoch: 12 :  1.747939, 0.62 sec.  #####################\n",
      "INFO:root:#########################   Epoch: 13 :  1.458795, 0.62 sec.  #####################\n",
      "INFO:root:#########################   Epoch: 14 :  1.596619, 0.63 sec.  #####################\n",
      "INFO:root:#########################   Epoch: 15 :  1.360327, 0.62 sec.  #####################\n",
      "INFO:root:#########################   Epoch: 16 :  1.265732, 0.63 sec.  #####################\n",
      "INFO:root:#########################   Epoch: 17 :  1.385744, 0.62 sec.  #####################\n",
      "INFO:root:#########################   Epoch: 18 :  1.332607, 0.62 sec.  #####################\n",
      "INFO:root:#########################   Epoch: 19 :  1.282716, 0.62 sec.  #####################\n",
      "INFO:root:#########################   Epoch: 20 :  1.247979, 0.62 sec.  #####################\n",
      "INFO:root:#########################   Epoch: 21 :  1.192244, 0.63 sec.  #####################\n",
      "INFO:root:#########################   Epoch: 22 :  1.143971, 1.07 sec.  #####################\n",
      "INFO:root:#########################   Epoch: 23 :  1.142048, 0.85 sec.  #####################\n",
      "INFO:root:#########################   Epoch: 24 :  1.169525, 1.20 sec.  #####################\n",
      "INFO:root:#########################   Epoch: 25 :  1.141404, 1.10 sec.  #####################\n",
      "INFO:root:#########################   Epoch: 26 :  1.116348, 0.75 sec.  #####################\n",
      "INFO:root:#########################   Epoch: 27 :  1.115879, 0.68 sec.  #####################\n",
      "INFO:root:#########################   Epoch: 28 :  1.095674, 0.73 sec.  #####################\n",
      "INFO:root:#########################   Epoch: 29 :  1.089748, 0.64 sec.  #####################\n",
      "INFO:root:#########################   Epoch: 30 :  1.055664, 0.72 sec.  #####################\n",
      "INFO:root:#########################   Epoch: 31 :  1.058217, 0.80 sec.  #####################\n",
      "INFO:root:#########################   Epoch: 32 :  1.049469, 0.65 sec.  #####################\n",
      "INFO:root:#########################   Epoch: 33 :  1.021927, 0.62 sec.  #####################\n",
      "INFO:root:#########################   Epoch: 34 :  1.027861, 0.74 sec.  #####################\n",
      "INFO:root:#########################   Epoch: 35 :  1.023755, 0.87 sec.  #####################\n",
      "INFO:root:#########################   Epoch: 36 :  1.008252, 1.06 sec.  #####################\n",
      "INFO:root:#########################   Epoch: 37 :  1.012529, 0.94 sec.  #####################\n",
      "INFO:root:#########################   Epoch: 38 :  1.009616, 0.77 sec.  #####################\n",
      "INFO:root:#########################   Epoch: 39 :  0.995307, 0.66 sec.  #####################\n",
      "INFO:root:#########################   Epoch: 40 :  0.997680, 0.61 sec.  #####################\n",
      "INFO:root:#########################   Epoch: 41 :  0.977841, 0.60 sec.  #####################\n",
      "INFO:root:#########################   Epoch: 42 :  0.980289, 0.64 sec.  #####################\n",
      "INFO:root:#########################   Epoch: 43 :  0.979142, 0.75 sec.  #####################\n",
      "INFO:root:#########################   Epoch: 44 :  0.968767, 0.61 sec.  #####################\n",
      "INFO:root:#########################   Epoch: 45 :  0.960864, 0.67 sec.  #####################\n",
      "INFO:root:#########################   Epoch: 46 :  0.974274, 0.61 sec.  #####################\n",
      "INFO:root:#########################   Epoch: 47 :  0.971641, 0.60 sec.  #####################\n",
      "INFO:root:#########################   Epoch: 48 :  0.950617, 0.60 sec.  #####################\n",
      "INFO:root:#########################   Epoch: 49 :  0.956716, 0.60 sec.  #####################\n",
      "INFO:root:#########################   Epoch: 50 :  0.927982, 0.60 sec.  #####################\n",
      "INFO:root:#########################   Epoch: 51 :  0.931875, 0.63 sec.  #####################\n",
      "INFO:root:#########################   Epoch: 52 :  0.939514, 0.60 sec.  #####################\n",
      "INFO:root:#########################   Epoch: 53 :  0.906580, 0.61 sec.  #####################\n",
      "INFO:root:#########################   Epoch: 54 :  0.925338, 0.61 sec.  #####################\n",
      "INFO:root:#########################   Epoch: 55 :  0.939825, 0.61 sec.  #####################\n",
      "INFO:root:#########################   Epoch: 56 :  0.928014, 0.71 sec.  #####################\n",
      "INFO:root:#########################   Epoch: 57 :  0.927490, 0.97 sec.  #####################\n",
      "INFO:root:#########################   Epoch: 58 :  0.902851, 0.87 sec.  #####################\n",
      "INFO:root:#########################   Epoch: 59 :  0.929855, 0.71 sec.  #####################\n",
      "INFO:root:#########################   Epoch: 60 :  0.920608, 0.60 sec.  #####################\n",
      "INFO:root:#########################   Epoch: 61 :  0.908255, 0.60 sec.  #####################\n",
      "INFO:root:#########################   Epoch: 62 :  0.898313, 0.60 sec.  #####################\n",
      "INFO:root:#########################   Epoch: 63 :  0.908984, 0.61 sec.  #####################\n",
      "INFO:root:#########################   Epoch: 64 :  0.909621, 0.60 sec.  #####################\n",
      "INFO:root:#########################   Epoch: 65 :  0.899203, 0.61 sec.  #####################\n",
      "INFO:root:#########################   Epoch: 66 :  0.900830, 0.61 sec.  #####################\n",
      "INFO:root:#########################   Epoch: 67 :  0.909025, 0.60 sec.  #####################\n",
      "INFO:root:#########################   Epoch: 68 :  0.897031, 0.61 sec.  #####################\n",
      "INFO:root:#########################   Epoch: 69 :  0.908175, 0.60 sec.  #####################\n",
      "INFO:root:#########################   Epoch: 70 :  0.879638, 0.61 sec.  #####################\n",
      "INFO:root:#########################   Epoch: 71 :  0.884251, 0.60 sec.  #####################\n",
      "INFO:root:#########################   Epoch: 72 :  0.887486, 0.60 sec.  #####################\n",
      "INFO:root:#########################   Epoch: 73 :  0.886196, 0.62 sec.  #####################\n",
      "INFO:root:#########################   Epoch: 74 :  0.865459, 0.60 sec.  #####################\n",
      "INFO:root:#########################   Epoch: 75 :  0.864563, 0.60 sec.  #####################\n",
      "INFO:root:#########################   Epoch: 76 :  0.868060, 0.60 sec.  #####################\n",
      "INFO:root:#########################   Epoch: 77 :  0.843275, 0.60 sec.  #####################\n",
      "INFO:root:#########################   Epoch: 78 :  0.850514, 0.61 sec.  #####################\n",
      "INFO:root:#########################   Epoch: 79 :  0.877546, 0.60 sec.  #####################\n",
      "INFO:root:#########################   Epoch: 80 :  0.875010, 0.60 sec.  #####################\n",
      "INFO:root:#########################   Epoch: 81 :  0.851491, 0.61 sec.  #####################\n",
      "INFO:root:#########################   Epoch: 82 :  0.871513, 0.60 sec.  #####################\n",
      "INFO:root:#########################   Epoch: 83 :  0.862895, 0.63 sec.  #####################\n",
      "INFO:root:#########################   Epoch: 84 :  0.867680, 0.60 sec.  #####################\n",
      "INFO:root:#########################   Epoch: 85 :  0.856830, 0.60 sec.  #####################\n"
     ]
    },
    {
     "name": "stderr",
     "output_type": "stream",
     "text": [
      "INFO:root:#########################   Epoch: 86 :  0.851317, 0.60 sec.  #####################\n",
      "INFO:root:#########################   Epoch: 87 :  0.836060, 0.60 sec.  #####################\n",
      "INFO:root:#########################   Epoch: 88 :  0.838333, 0.64 sec.  #####################\n",
      "INFO:root:#########################   Epoch: 89 :  0.855861, 0.64 sec.  #####################\n",
      "INFO:root:#########################   Epoch: 90 :  0.832031, 0.73 sec.  #####################\n",
      "INFO:root:#########################   Epoch: 91 :  0.844279, 0.65 sec.  #####################\n",
      "INFO:root:#########################   Epoch: 92 :  0.872640, 0.78 sec.  #####################\n",
      "INFO:root:#########################   Epoch: 93 :  0.859076, 0.66 sec.  #####################\n",
      "INFO:root:#########################   Epoch: 94 :  0.835596, 0.63 sec.  #####################\n",
      "INFO:root:#########################   Epoch: 95 :  0.833519, 0.68 sec.  #####################\n",
      "INFO:root:#########################   Epoch: 96 :  0.845355, 0.75 sec.  #####################\n",
      "INFO:root:#########################   Epoch: 97 :  0.859413, 0.64 sec.  #####################\n",
      "INFO:root:#########################   Epoch: 98 :  0.845749, 0.63 sec.  #####################\n",
      "INFO:root:#########################   Epoch: 99 :  0.842564, 0.73 sec.  #####################\n",
      "INFO:root:#########################   Epoch: 100 :  0.836095, 0.64 sec.  #####################\n",
      "INFO:root:#########################   Epoch: 101 :  0.841240, 0.74 sec.  #####################\n",
      "INFO:root:#########################   Epoch: 102 :  0.825665, 0.65 sec.  #####################\n",
      "INFO:root:#########################   Epoch: 103 :  0.820248, 0.66 sec.  #####################\n",
      "INFO:root:#########################   Epoch: 104 :  0.842288, 0.63 sec.  #####################\n",
      "INFO:root:#########################   Epoch: 105 :  0.830918, 0.66 sec.  #####################\n",
      "INFO:root:#########################   Epoch: 106 :  0.844408, 0.67 sec.  #####################\n",
      "INFO:root:#########################   Epoch: 107 :  0.795553, 0.63 sec.  #####################\n",
      "INFO:root:#########################   Epoch: 108 :  0.818714, 0.66 sec.  #####################\n",
      "INFO:root:#########################   Epoch: 109 :  0.816963, 0.63 sec.  #####################\n",
      "INFO:root:#########################   Epoch: 110 :  0.816058, 0.60 sec.  #####################\n",
      "INFO:root:#########################   Epoch: 111 :  0.803273, 0.77 sec.  #####################\n",
      "INFO:root:#########################   Epoch: 112 :  0.819629, 0.65 sec.  #####################\n",
      "INFO:root:#########################   Epoch: 113 :  0.817951, 0.69 sec.  #####################\n",
      "INFO:root:#########################   Epoch: 114 :  0.819086, 0.72 sec.  #####################\n",
      "INFO:root:#########################   Epoch: 115 :  0.819208, 0.67 sec.  #####################\n",
      "INFO:root:#########################   Epoch: 116 :  0.817836, 0.67 sec.  #####################\n",
      "INFO:root:#########################   Epoch: 117 :  0.809525, 0.63 sec.  #####################\n",
      "INFO:root:#########################   Epoch: 118 :  0.783932, 0.62 sec.  #####################\n",
      "INFO:root:#########################   Epoch: 119 :  0.809024, 0.66 sec.  #####################\n",
      "INFO:root:#########################   Epoch: 120 :  0.803146, 0.65 sec.  #####################\n",
      "INFO:root:#########################   Epoch: 121 :  0.786200, 0.64 sec.  #####################\n",
      "INFO:root:#########################   Epoch: 122 :  0.811529, 0.63 sec.  #####################\n",
      "INFO:root:#########################   Epoch: 123 :  0.817287, 0.64 sec.  #####################\n",
      "INFO:root:#########################   Epoch: 124 :  0.818244, 0.65 sec.  #####################\n",
      "INFO:root:#########################   Epoch: 125 :  0.830530, 0.64 sec.  #####################\n",
      "INFO:root:#########################   Epoch: 126 :  0.818624, 0.64 sec.  #####################\n",
      "INFO:root:#########################   Epoch: 127 :  0.792402, 0.75 sec.  #####################\n",
      "INFO:root:#########################   Epoch: 128 :  0.791810, 0.92 sec.  #####################\n",
      "INFO:root:#########################   Epoch: 129 :  0.808103, 0.81 sec.  #####################\n",
      "INFO:root:#########################   Epoch: 130 :  0.805833, 0.80 sec.  #####################\n",
      "INFO:root:#########################   Epoch: 131 :  0.802082, 0.72 sec.  #####################\n",
      "INFO:root:#########################   Epoch: 132 :  0.787843, 0.87 sec.  #####################\n",
      "INFO:root:#########################   Epoch: 133 :  0.797558, 1.11 sec.  #####################\n",
      "INFO:root:#########################   Epoch: 134 :  0.804760, 0.89 sec.  #####################\n",
      "INFO:root:#########################   Epoch: 135 :  0.787396, 0.66 sec.  #####################\n",
      "INFO:root:#########################   Epoch: 136 :  0.768580, 0.68 sec.  #####################\n",
      "INFO:root:#########################   Epoch: 137 :  0.795417, 0.61 sec.  #####################\n",
      "INFO:root:#########################   Epoch: 138 :  0.803454, 0.73 sec.  #####################\n",
      "INFO:root:#########################   Epoch: 139 :  0.787615, 0.69 sec.  #####################\n",
      "INFO:root:#########################   Epoch: 140 :  0.791698, 0.63 sec.  #####################\n",
      "INFO:root:#########################   Epoch: 141 :  0.768035, 0.73 sec.  #####################\n",
      "INFO:root:#########################   Epoch: 142 :  0.768963, 0.76 sec.  #####################\n",
      "INFO:root:#########################   Epoch: 143 :  0.782769, 0.84 sec.  #####################\n",
      "INFO:root:#########################   Epoch: 144 :  0.782662, 0.67 sec.  #####################\n",
      "INFO:root:#########################   Epoch: 145 :  0.806054, 0.71 sec.  #####################\n",
      "INFO:root:#########################   Epoch: 146 :  0.789605, 0.65 sec.  #####################\n",
      "INFO:root:#########################   Epoch: 147 :  0.779869, 0.80 sec.  #####################\n",
      "INFO:root:#########################   Epoch: 148 :  0.787487, 0.81 sec.  #####################\n",
      "INFO:root:#########################   Epoch: 149 :  0.773382, 0.63 sec.  #####################\n",
      "INFO:root:#########################   Epoch: 150 :  0.788889, 0.67 sec.  #####################\n",
      "INFO:root:#########################   Epoch: 151 :  0.783902, 0.64 sec.  #####################\n",
      "INFO:root:#########################   Epoch: 152 :  0.807988, 0.67 sec.  #####################\n",
      "INFO:root:#########################   Epoch: 153 :  0.776149, 0.66 sec.  #####################\n",
      "INFO:root:#########################   Epoch: 154 :  0.779087, 0.71 sec.  #####################\n",
      "INFO:root:#########################   Epoch: 155 :  0.759941, 0.63 sec.  #####################\n",
      "INFO:root:#########################   Epoch: 156 :  0.776934, 0.74 sec.  #####################\n",
      "INFO:root:#########################   Epoch: 157 :  0.797830, 0.84 sec.  #####################\n",
      "INFO:root:#########################   Epoch: 158 :  0.776500, 0.66 sec.  #####################\n",
      "INFO:root:#########################   Epoch: 159 :  0.781179, 0.72 sec.  #####################\n",
      "INFO:root:#########################   Epoch: 160 :  0.786551, 0.68 sec.  #####################\n",
      "INFO:root:#########################   Epoch: 161 :  0.775103, 0.73 sec.  #####################\n",
      "INFO:root:#########################   Epoch: 162 :  0.775909, 0.89 sec.  #####################\n",
      "INFO:root:#########################   Epoch: 163 :  0.772192, 0.71 sec.  #####################\n",
      "INFO:root:#########################   Epoch: 164 :  0.767312, 0.80 sec.  #####################\n",
      "INFO:root:#########################   Epoch: 165 :  0.758993, 0.76 sec.  #####################\n",
      "INFO:root:#########################   Epoch: 166 :  0.777482, 0.87 sec.  #####################\n",
      "INFO:root:#########################   Epoch: 167 :  0.785199, 0.92 sec.  #####################\n",
      "INFO:root:#########################   Epoch: 168 :  0.781576, 1.11 sec.  #####################\n",
      "INFO:root:#########################   Epoch: 169 :  0.792660, 0.98 sec.  #####################\n",
      "INFO:root:#########################   Epoch: 170 :  0.748859, 1.10 sec.  #####################\n",
      "INFO:root:#########################   Epoch: 171 :  0.777178, 0.93 sec.  #####################\n",
      "INFO:root:#########################   Epoch: 172 :  0.790774, 1.05 sec.  #####################\n"
     ]
    },
    {
     "name": "stderr",
     "output_type": "stream",
     "text": [
      "INFO:root:#########################   Epoch: 173 :  0.769886, 0.89 sec.  #####################\n",
      "INFO:root:#########################   Epoch: 174 :  0.783928, 0.99 sec.  #####################\n",
      "INFO:root:#########################   Epoch: 175 :  0.762848, 0.81 sec.  #####################\n",
      "INFO:root:#########################   Epoch: 176 :  0.766613, 0.91 sec.  #####################\n",
      "INFO:root:#########################   Epoch: 177 :  0.793124, 0.93 sec.  #####################\n",
      "INFO:root:#########################   Epoch: 178 :  0.748674, 0.99 sec.  #####################\n",
      "INFO:root:#########################   Epoch: 179 :  0.760866, 0.96 sec.  #####################\n",
      "INFO:root:#########################   Epoch: 180 :  0.746049, 0.88 sec.  #####################\n",
      "INFO:root:#########################   Epoch: 181 :  0.776825, 1.14 sec.  #####################\n",
      "INFO:root:#########################   Epoch: 182 :  0.766383, 1.09 sec.  #####################\n",
      "INFO:root:#########################   Epoch: 183 :  0.767157, 1.16 sec.  #####################\n",
      "INFO:root:#########################   Epoch: 184 :  0.740141, 1.11 sec.  #####################\n",
      "INFO:root:#########################   Epoch: 185 :  0.767619, 1.10 sec.  #####################\n",
      "INFO:root:#########################   Epoch: 186 :  0.764307, 1.20 sec.  #####################\n",
      "INFO:root:#########################   Epoch: 187 :  0.774922, 1.15 sec.  #####################\n",
      "INFO:root:#########################   Epoch: 188 :  0.761700, 1.07 sec.  #####################\n",
      "INFO:root:#########################   Epoch: 189 :  0.750391, 1.32 sec.  #####################\n",
      "INFO:root:#########################   Epoch: 190 :  0.762427, 0.79 sec.  #####################\n",
      "INFO:root:#########################   Epoch: 191 :  0.768006, 0.99 sec.  #####################\n",
      "INFO:root:#########################   Epoch: 192 :  0.767679, 0.84 sec.  #####################\n",
      "INFO:root:#########################   Epoch: 193 :  0.745927, 0.79 sec.  #####################\n",
      "INFO:root:#########################   Epoch: 194 :  0.757271, 0.84 sec.  #####################\n",
      "INFO:root:#########################   Epoch: 195 :  0.747823, 0.77 sec.  #####################\n",
      "INFO:root:#########################   Epoch: 196 :  0.752206, 1.07 sec.  #####################\n",
      "INFO:root:#########################   Epoch: 197 :  0.758473, 0.88 sec.  #####################\n",
      "INFO:root:#########################   Epoch: 198 :  0.769873, 0.96 sec.  #####################\n",
      "INFO:root:#########################   Epoch: 199 :  0.756442, 1.06 sec.  #####################\n",
      "INFO:root:#########################   Epoch: 200 :  0.733210, 1.05 sec.  #####################\n",
      "INFO:root:#########################   Epoch: 201 :  0.735703, 1.08 sec.  #####################\n",
      "INFO:root:#########################   Epoch: 202 :  0.753517, 1.01 sec.  #####################\n",
      "INFO:root:#########################   Epoch: 203 :  0.755517, 1.43 sec.  #####################\n",
      "INFO:root:#########################   Epoch: 204 :  0.731830, 1.05 sec.  #####################\n",
      "INFO:root:#########################   Epoch: 205 :  0.744721, 1.10 sec.  #####################\n",
      "INFO:root:#########################   Epoch: 206 :  0.749947, 1.29 sec.  #####################\n",
      "INFO:root:#########################   Epoch: 207 :  0.771829, 0.84 sec.  #####################\n",
      "INFO:root:#########################   Epoch: 208 :  0.760341, 0.69 sec.  #####################\n",
      "INFO:root:#########################   Epoch: 209 :  0.775310, 0.83 sec.  #####################\n",
      "INFO:root:#########################   Epoch: 210 :  0.756293, 0.68 sec.  #####################\n",
      "INFO:root:#########################   Epoch: 211 :  0.713101, 0.76 sec.  #####################\n",
      "INFO:root:#########################   Epoch: 212 :  0.741600, 0.93 sec.  #####################\n",
      "INFO:root:#########################   Epoch: 213 :  0.735611, 0.93 sec.  #####################\n",
      "INFO:root:#########################   Epoch: 214 :  0.723431, 0.75 sec.  #####################\n",
      "INFO:root:#########################   Epoch: 215 :  0.755331, 0.81 sec.  #####################\n",
      "INFO:root:#########################   Epoch: 216 :  0.748859, 0.68 sec.  #####################\n",
      "INFO:root:#########################   Epoch: 217 :  0.727317, 0.69 sec.  #####################\n",
      "INFO:root:#########################   Epoch: 218 :  0.723577, 0.74 sec.  #####################\n",
      "INFO:root:#########################   Epoch: 219 :  0.754119, 0.69 sec.  #####################\n",
      "INFO:root:#########################   Epoch: 220 :  0.733463, 0.66 sec.  #####################\n",
      "INFO:root:#########################   Epoch: 221 :  0.739869, 0.90 sec.  #####################\n",
      "INFO:root:#########################   Epoch: 222 :  0.715064, 0.80 sec.  #####################\n",
      "INFO:root:#########################   Epoch: 223 :  0.733625, 0.68 sec.  #####################\n",
      "INFO:root:#########################   Epoch: 224 :  0.751341, 0.77 sec.  #####################\n",
      "INFO:root:#########################   Epoch: 225 :  0.732251, 0.96 sec.  #####################\n",
      "INFO:root:#########################   Epoch: 226 :  0.750495, 0.80 sec.  #####################\n",
      "INFO:root:#########################   Epoch: 227 :  0.745216, 0.67 sec.  #####################\n",
      "INFO:root:#########################   Epoch: 228 :  0.760200, 0.76 sec.  #####################\n",
      "INFO:root:#########################   Epoch: 229 :  0.746681, 0.90 sec.  #####################\n",
      "INFO:root:#########################   Epoch: 230 :  0.729180, 0.85 sec.  #####################\n",
      "INFO:root:#########################   Epoch: 231 :  0.752232, 0.68 sec.  #####################\n",
      "INFO:root:#########################   Epoch: 232 :  0.727854, 0.81 sec.  #####################\n",
      "INFO:root:#########################   Epoch: 233 :  0.719202, 1.00 sec.  #####################\n",
      "INFO:root:#########################   Epoch: 234 :  0.748419, 0.81 sec.  #####################\n",
      "INFO:root:#########################   Epoch: 235 :  0.742312, 0.92 sec.  #####################\n",
      "INFO:root:#########################   Epoch: 236 :  0.741037, 0.70 sec.  #####################\n",
      "INFO:root:#########################   Epoch: 237 :  0.731661, 0.66 sec.  #####################\n",
      "INFO:root:#########################   Epoch: 238 :  0.731433, 0.80 sec.  #####################\n",
      "INFO:root:#########################   Epoch: 239 :  0.735019, 0.90 sec.  #####################\n",
      "INFO:root:#########################   Epoch: 240 :  0.729422, 0.71 sec.  #####################\n",
      "INFO:root:#########################   Epoch: 241 :  0.724920, 0.65 sec.  #####################\n",
      "INFO:root:#########################   Epoch: 242 :  0.733710, 0.67 sec.  #####################\n",
      "INFO:root:#########################   Epoch: 243 :  0.751198, 1.02 sec.  #####################\n",
      "INFO:root:#########################   Epoch: 244 :  0.725924, 0.97 sec.  #####################\n",
      "INFO:root:#########################   Epoch: 245 :  0.750746, 0.70 sec.  #####################\n",
      "INFO:root:#########################   Epoch: 246 :  0.715140, 0.70 sec.  #####################\n",
      "INFO:root:#########################   Epoch: 247 :  0.741882, 0.66 sec.  #####################\n",
      "INFO:root:#########################   Epoch: 248 :  0.719439, 0.84 sec.  #####################\n",
      "INFO:root:#########################   Epoch: 249 :  0.728661, 0.93 sec.  #####################\n",
      "INFO:root:#########################   Epoch: 250 :  0.723118, 0.70 sec.  #####################\n",
      "INFO:root:#########################   Epoch: 251 :  0.739382, 0.81 sec.  #####################\n",
      "INFO:root:#########################   Epoch: 252 :  0.730087, 0.66 sec.  #####################\n",
      "INFO:root:#########################   Epoch: 253 :  0.730189, 0.65 sec.  #####################\n",
      "INFO:root:#########################   Epoch: 254 :  0.724706, 0.72 sec.  #####################\n",
      "INFO:root:#########################   Epoch: 255 :  0.718639, 0.78 sec.  #####################\n",
      "INFO:root:#########################   Epoch: 256 :  0.712443, 0.85 sec.  #####################\n",
      "INFO:root:#########################   Epoch: 257 :  0.720121, 0.85 sec.  #####################\n",
      "INFO:root:#########################   Epoch: 258 :  0.718083, 0.80 sec.  #####################\n",
      "INFO:root:#########################   Epoch: 259 :  0.716549, 0.97 sec.  #####################\n"
     ]
    },
    {
     "name": "stderr",
     "output_type": "stream",
     "text": [
      "INFO:root:#########################   Epoch: 260 :  0.712455, 1.06 sec.  #####################\n",
      "INFO:root:#########################   Epoch: 261 :  0.731000, 0.78 sec.  #####################\n",
      "INFO:root:#########################   Epoch: 262 :  0.717781, 0.70 sec.  #####################\n",
      "INFO:root:#########################   Epoch: 263 :  0.706159, 0.81 sec.  #####################\n",
      "INFO:root:#########################   Epoch: 264 :  0.725730, 0.76 sec.  #####################\n",
      "INFO:root:#########################   Epoch: 265 :  0.719096, 0.62 sec.  #####################\n",
      "INFO:root:#########################   Epoch: 266 :  0.707024, 0.82 sec.  #####################\n",
      "INFO:root:#########################   Epoch: 267 :  0.731322, 0.74 sec.  #####################\n",
      "INFO:root:#########################   Epoch: 268 :  0.724972, 0.66 sec.  #####################\n",
      "INFO:root:#########################   Epoch: 269 :  0.725046, 0.71 sec.  #####################\n",
      "INFO:root:#########################   Epoch: 270 :  0.704937, 0.65 sec.  #####################\n",
      "INFO:root:#########################   Epoch: 271 :  0.715236, 0.65 sec.  #####################\n",
      "INFO:root:#########################   Epoch: 272 :  0.697453, 0.86 sec.  #####################\n",
      "INFO:root:#########################   Epoch: 273 :  0.717060, 0.67 sec.  #####################\n",
      "INFO:root:#########################   Epoch: 274 :  0.715188, 0.69 sec.  #####################\n",
      "INFO:root:#########################   Epoch: 275 :  0.718708, 0.68 sec.  #####################\n",
      "INFO:root:#########################   Epoch: 276 :  0.702418, 0.72 sec.  #####################\n",
      "INFO:root:#########################   Epoch: 277 :  0.703616, 0.70 sec.  #####################\n",
      "INFO:root:#########################   Epoch: 278 :  0.725788, 0.64 sec.  #####################\n",
      "INFO:root:#########################   Epoch: 279 :  0.701554, 0.82 sec.  #####################\n",
      "INFO:root:#########################   Epoch: 280 :  0.706475, 0.76 sec.  #####################\n",
      "INFO:root:#########################   Epoch: 281 :  0.719218, 0.66 sec.  #####################\n",
      "INFO:root:#########################   Epoch: 282 :  0.721225, 0.63 sec.  #####################\n",
      "INFO:root:#########################   Epoch: 283 :  0.711936, 0.66 sec.  #####################\n",
      "INFO:root:#########################   Epoch: 284 :  0.724428, 0.64 sec.  #####################\n",
      "INFO:root:#########################   Epoch: 285 :  0.725359, 0.65 sec.  #####################\n",
      "INFO:root:#########################   Epoch: 286 :  0.701999, 0.64 sec.  #####################\n",
      "INFO:root:#########################   Epoch: 287 :  0.736667, 0.64 sec.  #####################\n",
      "INFO:root:#########################   Epoch: 288 :  0.702234, 0.65 sec.  #####################\n",
      "INFO:root:#########################   Epoch: 289 :  0.709417, 0.64 sec.  #####################\n",
      "INFO:root:#########################   Epoch: 290 :  0.707432, 0.64 sec.  #####################\n",
      "INFO:root:#########################   Epoch: 291 :  0.724966, 0.63 sec.  #####################\n",
      "INFO:root:#########################   Epoch: 292 :  0.734654, 0.66 sec.  #####################\n",
      "INFO:root:#########################   Epoch: 293 :  0.703481, 0.64 sec.  #####################\n",
      "INFO:root:#########################   Epoch: 294 :  0.721024, 0.64 sec.  #####################\n",
      "INFO:root:#########################   Epoch: 295 :  0.713217, 0.65 sec.  #####################\n",
      "INFO:root:#########################   Epoch: 296 :  0.719914, 0.66 sec.  #####################\n",
      "INFO:root:#########################   Epoch: 297 :  0.721093, 0.63 sec.  #####################\n",
      "INFO:root:#########################   Epoch: 298 :  0.726578, 0.65 sec.  #####################\n",
      "INFO:root:#########################   Epoch: 299 :  0.712595, 0.66 sec.  #####################\n",
      "INFO:root:#########################   Epoch: 300 :  0.700426, 0.64 sec.  #####################\n",
      "INFO:root:#########################   Epoch: 301 :  0.718243, 0.64 sec.  #####################\n",
      "INFO:root:#########################   Epoch: 302 :  0.685076, 0.65 sec.  #####################\n",
      "INFO:root:#########################   Epoch: 303 :  0.727356, 0.64 sec.  #####################\n",
      "INFO:root:#########################   Epoch: 304 :  0.699902, 0.65 sec.  #####################\n",
      "INFO:root:#########################   Epoch: 305 :  0.723439, 0.71 sec.  #####################\n",
      "INFO:root:#########################   Epoch: 306 :  0.726393, 0.75 sec.  #####################\n",
      "INFO:root:#########################   Epoch: 307 :  0.692828, 0.84 sec.  #####################\n",
      "INFO:root:#########################   Epoch: 308 :  0.715590, 0.69 sec.  #####################\n",
      "INFO:root:#########################   Epoch: 309 :  0.698739, 0.70 sec.  #####################\n",
      "INFO:root:#########################   Epoch: 310 :  0.720329, 0.78 sec.  #####################\n",
      "INFO:root:#########################   Epoch: 311 :  0.703620, 0.67 sec.  #####################\n",
      "INFO:root:#########################   Epoch: 312 :  0.705489, 0.68 sec.  #####################\n",
      "INFO:root:#########################   Epoch: 313 :  0.697215, 0.67 sec.  #####################\n",
      "INFO:root:#########################   Epoch: 314 :  0.719204, 0.68 sec.  #####################\n",
      "INFO:root:#########################   Epoch: 315 :  0.724312, 0.66 sec.  #####################\n",
      "INFO:root:#########################   Epoch: 316 :  0.705965, 0.65 sec.  #####################\n",
      "INFO:root:#########################   Epoch: 317 :  0.703814, 0.68 sec.  #####################\n",
      "INFO:root:#########################   Epoch: 318 :  0.704802, 0.70 sec.  #####################\n",
      "INFO:root:#########################   Epoch: 319 :  0.714081, 0.66 sec.  #####################\n",
      "INFO:root:#########################   Epoch: 320 :  0.698332, 0.63 sec.  #####################\n",
      "INFO:root:#########################   Epoch: 321 :  0.695463, 0.61 sec.  #####################\n",
      "INFO:root:#########################   Epoch: 322 :  0.701015, 0.65 sec.  #####################\n",
      "INFO:root:#########################   Epoch: 323 :  0.697201, 0.68 sec.  #####################\n",
      "INFO:root:#########################   Epoch: 324 :  0.688498, 0.69 sec.  #####################\n",
      "INFO:root:#########################   Epoch: 325 :  0.687606, 0.67 sec.  #####################\n",
      "INFO:root:#########################   Epoch: 326 :  0.707300, 0.69 sec.  #####################\n",
      "INFO:root:#########################   Epoch: 327 :  0.709979, 0.66 sec.  #####################\n",
      "INFO:root:#########################   Epoch: 328 :  0.710041, 0.66 sec.  #####################\n",
      "INFO:root:#########################   Epoch: 329 :  0.695245, 0.65 sec.  #####################\n",
      "INFO:root:#########################   Epoch: 330 :  0.706485, 0.67 sec.  #####################\n",
      "INFO:root:#########################   Epoch: 331 :  0.713833, 0.63 sec.  #####################\n",
      "INFO:root:#########################   Epoch: 332 :  0.709713, 0.65 sec.  #####################\n",
      "INFO:root:#########################   Epoch: 333 :  0.703203, 0.67 sec.  #####################\n",
      "INFO:root:#########################   Epoch: 334 :  0.692341, 0.71 sec.  #####################\n",
      "INFO:root:#########################   Epoch: 335 :  0.711885, 0.64 sec.  #####################\n",
      "INFO:root:#########################   Epoch: 336 :  0.709578, 0.66 sec.  #####################\n",
      "INFO:root:#########################   Epoch: 337 :  0.695794, 0.66 sec.  #####################\n",
      "INFO:root:#########################   Epoch: 338 :  0.713500, 0.66 sec.  #####################\n",
      "INFO:root:#########################   Epoch: 339 :  0.704636, 0.65 sec.  #####################\n",
      "INFO:root:#########################   Epoch: 340 :  0.704107, 0.65 sec.  #####################\n",
      "INFO:root:#########################   Epoch: 341 :  0.713688, 0.65 sec.  #####################\n",
      "INFO:root:#########################   Epoch: 342 :  0.715508, 0.63 sec.  #####################\n",
      "INFO:root:#########################   Epoch: 343 :  0.697442, 0.64 sec.  #####################\n",
      "INFO:root:#########################   Epoch: 344 :  0.696915, 0.65 sec.  #####################\n",
      "INFO:root:#########################   Epoch: 345 :  0.697391, 0.66 sec.  #####################\n",
      "INFO:root:#########################   Epoch: 346 :  0.668254, 0.66 sec.  #####################\n"
     ]
    },
    {
     "name": "stderr",
     "output_type": "stream",
     "text": [
      "INFO:root:#########################   Epoch: 347 :  0.696757, 0.65 sec.  #####################\n",
      "INFO:root:#########################   Epoch: 348 :  0.687280, 0.67 sec.  #####################\n",
      "INFO:root:#########################   Epoch: 349 :  0.704446, 0.67 sec.  #####################\n",
      "INFO:root:#########################   Epoch: 350 :  0.687601, 0.71 sec.  #####################\n",
      "INFO:root:#########################   Epoch: 351 :  0.699001, 0.71 sec.  #####################\n",
      "INFO:root:#########################   Epoch: 352 :  0.684839, 0.67 sec.  #####################\n",
      "INFO:root:#########################   Epoch: 353 :  0.711818, 0.67 sec.  #####################\n",
      "INFO:root:#########################   Epoch: 354 :  0.690072, 0.63 sec.  #####################\n",
      "INFO:root:#########################   Epoch: 355 :  0.679808, 0.67 sec.  #####################\n",
      "INFO:root:#########################   Epoch: 356 :  0.715876, 0.69 sec.  #####################\n",
      "INFO:root:#########################   Epoch: 357 :  0.700832, 0.68 sec.  #####################\n",
      "INFO:root:#########################   Epoch: 358 :  0.676953, 0.66 sec.  #####################\n",
      "INFO:root:#########################   Epoch: 359 :  0.677884, 0.66 sec.  #####################\n",
      "INFO:root:#########################   Epoch: 360 :  0.695516, 0.64 sec.  #####################\n",
      "INFO:root:#########################   Epoch: 361 :  0.716913, 0.65 sec.  #####################\n",
      "INFO:root:#########################   Epoch: 362 :  0.678861, 0.67 sec.  #####################\n",
      "INFO:root:#########################   Epoch: 363 :  0.658915, 0.69 sec.  #####################\n",
      "INFO:root:#########################   Epoch: 364 :  0.705015, 0.71 sec.  #####################\n",
      "INFO:root:#########################   Epoch: 365 :  0.675237, 0.65 sec.  #####################\n",
      "INFO:root:#########################   Epoch: 366 :  0.702844, 0.68 sec.  #####################\n",
      "INFO:root:#########################   Epoch: 367 :  0.702756, 0.63 sec.  #####################\n",
      "INFO:root:#########################   Epoch: 368 :  0.690396, 0.62 sec.  #####################\n",
      "INFO:root:#########################   Epoch: 369 :  0.679248, 0.68 sec.  #####################\n",
      "INFO:root:#########################   Epoch: 370 :  0.677592, 0.68 sec.  #####################\n",
      "INFO:root:#########################   Epoch: 371 :  0.687887, 0.65 sec.  #####################\n",
      "INFO:root:#########################   Epoch: 372 :  0.684058, 0.63 sec.  #####################\n",
      "INFO:root:#########################   Epoch: 373 :  0.717255, 0.69 sec.  #####################\n",
      "INFO:root:#########################   Epoch: 374 :  0.701022, 0.73 sec.  #####################\n",
      "INFO:root:#########################   Epoch: 375 :  0.703910, 0.66 sec.  #####################\n",
      "INFO:root:#########################   Epoch: 376 :  0.677920, 0.69 sec.  #####################\n",
      "INFO:root:#########################   Epoch: 377 :  0.693733, 0.67 sec.  #####################\n",
      "INFO:root:#########################   Epoch: 378 :  0.687624, 0.68 sec.  #####################\n",
      "INFO:root:#########################   Epoch: 379 :  0.671374, 0.64 sec.  #####################\n",
      "INFO:root:#########################   Epoch: 380 :  0.693553, 0.64 sec.  #####################\n",
      "INFO:root:#########################   Epoch: 381 :  0.676758, 0.64 sec.  #####################\n",
      "INFO:root:#########################   Epoch: 382 :  0.694237, 0.65 sec.  #####################\n",
      "INFO:root:#########################   Epoch: 383 :  0.707433, 0.67 sec.  #####################\n",
      "INFO:root:#########################   Epoch: 384 :  0.696086, 0.66 sec.  #####################\n",
      "INFO:root:#########################   Epoch: 385 :  0.684030, 0.64 sec.  #####################\n",
      "INFO:root:#########################   Epoch: 386 :  0.709674, 0.66 sec.  #####################\n",
      "INFO:root:#########################   Epoch: 387 :  0.687225, 0.66 sec.  #####################\n",
      "INFO:root:#########################   Epoch: 388 :  0.696978, 0.70 sec.  #####################\n",
      "INFO:root:#########################   Epoch: 389 :  0.687257, 0.65 sec.  #####################\n",
      "INFO:root:#########################   Epoch: 390 :  0.694449, 0.65 sec.  #####################\n",
      "INFO:root:#########################   Epoch: 391 :  0.691577, 0.64 sec.  #####################\n",
      "INFO:root:#########################   Epoch: 392 :  0.672983, 0.66 sec.  #####################\n",
      "INFO:root:#########################   Epoch: 393 :  0.695082, 0.63 sec.  #####################\n",
      "INFO:root:#########################   Epoch: 394 :  0.694734, 0.64 sec.  #####################\n",
      "INFO:root:#########################   Epoch: 395 :  0.686120, 0.64 sec.  #####################\n",
      "INFO:root:#########################   Epoch: 396 :  0.701064, 0.64 sec.  #####################\n",
      "INFO:root:#########################   Epoch: 397 :  0.670797, 0.64 sec.  #####################\n",
      "INFO:root:#########################   Epoch: 398 :  0.671515, 0.64 sec.  #####################\n",
      "INFO:root:#########################   Epoch: 399 :  0.675388, 0.65 sec.  #####################\n",
      "INFO:root:#########################   Epoch: 400 :  0.682144, 0.64 sec.  #####################\n",
      "INFO:root:#########################   Epoch: 401 :  0.672165, 0.65 sec.  #####################\n",
      "INFO:root:#########################   Epoch: 402 :  0.677561, 0.64 sec.  #####################\n",
      "INFO:root:#########################   Epoch: 403 :  0.672800, 0.66 sec.  #####################\n",
      "INFO:root:#########################   Epoch: 404 :  0.697017, 0.63 sec.  #####################\n",
      "INFO:root:#########################   Epoch: 405 :  0.685279, 0.65 sec.  #####################\n",
      "INFO:root:#########################   Epoch: 406 :  0.696325, 0.66 sec.  #####################\n",
      "INFO:root:#########################   Epoch: 407 :  0.685540, 0.65 sec.  #####################\n",
      "INFO:root:#########################   Epoch: 408 :  0.680019, 0.64 sec.  #####################\n",
      "INFO:root:#########################   Epoch: 409 :  0.675494, 0.66 sec.  #####################\n",
      "INFO:root:#########################   Epoch: 410 :  0.690463, 0.66 sec.  #####################\n",
      "INFO:root:#########################   Epoch: 411 :  0.679899, 0.66 sec.  #####################\n",
      "INFO:root:#########################   Epoch: 412 :  0.693211, 0.63 sec.  #####################\n",
      "INFO:root:#########################   Epoch: 413 :  0.688835, 0.65 sec.  #####################\n",
      "INFO:root:#########################   Epoch: 414 :  0.678948, 0.66 sec.  #####################\n",
      "INFO:root:#########################   Epoch: 415 :  0.679617, 0.63 sec.  #####################\n",
      "INFO:root:#########################   Epoch: 416 :  0.685790, 0.65 sec.  #####################\n",
      "INFO:root:#########################   Epoch: 417 :  0.684913, 0.64 sec.  #####################\n",
      "INFO:root:#########################   Epoch: 418 :  0.677703, 0.66 sec.  #####################\n",
      "INFO:root:#########################   Epoch: 419 :  0.664138, 0.69 sec.  #####################\n",
      "INFO:root:#########################   Epoch: 420 :  0.661663, 0.68 sec.  #####################\n",
      "INFO:root:#########################   Epoch: 421 :  0.697951, 0.69 sec.  #####################\n",
      "INFO:root:#########################   Epoch: 422 :  0.676446, 0.69 sec.  #####################\n",
      "INFO:root:#########################   Epoch: 423 :  0.689045, 0.67 sec.  #####################\n",
      "INFO:root:#########################   Epoch: 424 :  0.671501, 0.66 sec.  #####################\n",
      "INFO:root:#########################   Epoch: 425 :  0.681283, 0.64 sec.  #####################\n",
      "INFO:root:#########################   Epoch: 426 :  0.663035, 0.64 sec.  #####################\n",
      "INFO:root:#########################   Epoch: 427 :  0.673688, 0.63 sec.  #####################\n",
      "INFO:root:#########################   Epoch: 428 :  0.698063, 0.64 sec.  #####################\n",
      "INFO:root:#########################   Epoch: 429 :  0.677016, 0.62 sec.  #####################\n",
      "INFO:root:#########################   Epoch: 430 :  0.691915, 0.63 sec.  #####################\n",
      "INFO:root:#########################   Epoch: 431 :  0.671194, 0.64 sec.  #####################\n",
      "INFO:root:#########################   Epoch: 432 :  0.682313, 0.62 sec.  #####################\n",
      "INFO:root:#########################   Epoch: 433 :  0.661519, 0.63 sec.  #####################\n"
     ]
    },
    {
     "name": "stderr",
     "output_type": "stream",
     "text": [
      "INFO:root:#########################   Epoch: 434 :  0.674122, 0.63 sec.  #####################\n",
      "INFO:root:#########################   Epoch: 435 :  0.654818, 0.63 sec.  #####################\n",
      "INFO:root:#########################   Epoch: 436 :  0.678169, 0.62 sec.  #####################\n",
      "INFO:root:#########################   Epoch: 437 :  0.687150, 0.64 sec.  #####################\n",
      "INFO:root:#########################   Epoch: 438 :  0.650811, 0.64 sec.  #####################\n",
      "INFO:root:#########################   Epoch: 439 :  0.676594, 0.67 sec.  #####################\n",
      "INFO:root:#########################   Epoch: 440 :  0.686049, 0.63 sec.  #####################\n",
      "INFO:root:#########################   Epoch: 441 :  0.677365, 0.70 sec.  #####################\n",
      "INFO:root:#########################   Epoch: 442 :  0.689044, 0.76 sec.  #####################\n",
      "INFO:root:#########################   Epoch: 443 :  0.682538, 0.64 sec.  #####################\n",
      "INFO:root:#########################   Epoch: 444 :  0.665276, 0.63 sec.  #####################\n",
      "INFO:root:#########################   Epoch: 445 :  0.675154, 0.63 sec.  #####################\n",
      "INFO:root:#########################   Epoch: 446 :  0.691744, 0.62 sec.  #####################\n",
      "INFO:root:#########################   Epoch: 447 :  0.690015, 0.64 sec.  #####################\n",
      "INFO:root:#########################   Epoch: 448 :  0.679875, 0.63 sec.  #####################\n",
      "INFO:root:#########################   Epoch: 449 :  0.683864, 0.64 sec.  #####################\n",
      "INFO:root:#########################   Epoch: 450 :  0.689442, 0.63 sec.  #####################\n",
      "INFO:root:#########################   Epoch: 451 :  0.676046, 0.63 sec.  #####################\n",
      "INFO:root:#########################   Epoch: 452 :  0.667484, 0.63 sec.  #####################\n",
      "INFO:root:#########################   Epoch: 453 :  0.676916, 0.63 sec.  #####################\n",
      "INFO:root:#########################   Epoch: 454 :  0.677118, 0.63 sec.  #####################\n",
      "INFO:root:#########################   Epoch: 455 :  0.675812, 0.65 sec.  #####################\n",
      "INFO:root:#########################   Epoch: 456 :  0.674546, 0.66 sec.  #####################\n",
      "INFO:root:#########################   Epoch: 457 :  0.664682, 0.66 sec.  #####################\n",
      "INFO:root:#########################   Epoch: 458 :  0.676405, 0.69 sec.  #####################\n",
      "INFO:root:#########################   Epoch: 459 :  0.676111, 0.68 sec.  #####################\n",
      "INFO:root:#########################   Epoch: 460 :  0.674417, 0.67 sec.  #####################\n",
      "INFO:root:#########################   Epoch: 461 :  0.660833, 0.69 sec.  #####################\n",
      "INFO:root:#########################   Epoch: 462 :  0.671222, 0.64 sec.  #####################\n",
      "INFO:root:#########################   Epoch: 463 :  0.662364, 0.63 sec.  #####################\n",
      "INFO:root:#########################   Epoch: 464 :  0.694544, 0.64 sec.  #####################\n",
      "INFO:root:#########################   Epoch: 465 :  0.663292, 0.63 sec.  #####################\n",
      "INFO:root:#########################   Epoch: 466 :  0.669588, 0.66 sec.  #####################\n",
      "INFO:root:#########################   Epoch: 467 :  0.687830, 0.65 sec.  #####################\n",
      "INFO:root:#########################   Epoch: 468 :  0.677331, 0.65 sec.  #####################\n",
      "INFO:root:#########################   Epoch: 469 :  0.677658, 0.63 sec.  #####################\n",
      "INFO:root:#########################   Epoch: 470 :  0.643354, 0.63 sec.  #####################\n",
      "INFO:root:#########################   Epoch: 471 :  0.703514, 0.63 sec.  #####################\n",
      "INFO:root:#########################   Epoch: 472 :  0.662920, 0.65 sec.  #####################\n",
      "INFO:root:#########################   Epoch: 473 :  0.679603, 0.66 sec.  #####################\n",
      "INFO:root:#########################   Epoch: 474 :  0.686886, 0.64 sec.  #####################\n",
      "INFO:root:#########################   Epoch: 475 :  0.665615, 0.64 sec.  #####################\n",
      "INFO:root:#########################   Epoch: 476 :  0.671706, 0.65 sec.  #####################\n",
      "INFO:root:#########################   Epoch: 477 :  0.680265, 0.66 sec.  #####################\n",
      "INFO:root:#########################   Epoch: 478 :  0.652774, 0.63 sec.  #####################\n",
      "INFO:root:#########################   Epoch: 479 :  0.658987, 0.65 sec.  #####################\n",
      "INFO:root:#########################   Epoch: 480 :  0.653901, 0.65 sec.  #####################\n",
      "INFO:root:#########################   Epoch: 481 :  0.667630, 0.64 sec.  #####################\n",
      "INFO:root:#########################   Epoch: 482 :  0.685011, 0.64 sec.  #####################\n",
      "INFO:root:#########################   Epoch: 483 :  0.658217, 0.65 sec.  #####################\n",
      "INFO:root:#########################   Epoch: 484 :  0.657599, 0.65 sec.  #####################\n",
      "INFO:root:#########################   Epoch: 485 :  0.676616, 0.64 sec.  #####################\n",
      "INFO:root:#########################   Epoch: 486 :  0.690954, 0.65 sec.  #####################\n",
      "INFO:root:#########################   Epoch: 487 :  0.655817, 0.66 sec.  #####################\n",
      "INFO:root:#########################   Epoch: 488 :  0.697433, 0.65 sec.  #####################\n",
      "INFO:root:#########################   Epoch: 489 :  0.654182, 0.69 sec.  #####################\n",
      "INFO:root:#########################   Epoch: 490 :  0.674104, 0.66 sec.  #####################\n",
      "INFO:root:#########################   Epoch: 491 :  0.679689, 0.65 sec.  #####################\n",
      "INFO:root:#########################   Epoch: 492 :  0.669092, 0.64 sec.  #####################\n",
      "INFO:root:#########################   Epoch: 493 :  0.691724, 0.65 sec.  #####################\n",
      "INFO:root:#########################   Epoch: 494 :  0.665928, 0.64 sec.  #####################\n",
      "INFO:root:#########################   Epoch: 495 :  0.663252, 0.64 sec.  #####################\n",
      "INFO:root:#########################   Epoch: 496 :  0.672676, 0.65 sec.  #####################\n",
      "INFO:root:#########################   Epoch: 497 :  0.682719, 0.65 sec.  #####################\n",
      "INFO:root:#########################   Epoch: 498 :  0.668923, 0.64 sec.  #####################\n",
      "INFO:root:#########################   Epoch: 499 :  0.679681, 0.65 sec.  #####################\n",
      "INFO:root:#########################   Epoch: 500 :  0.675681, 0.65 sec.  #####################\n",
      "INFO:root:#########################   Epoch: 501 :  0.675963, 0.65 sec.  #####################\n",
      "INFO:root:#########################   Epoch: 502 :  0.676767, 0.64 sec.  #####################\n",
      "INFO:root:#########################   Epoch: 503 :  0.669493, 0.66 sec.  #####################\n",
      "INFO:root:#########################   Epoch: 504 :  0.658745, 0.64 sec.  #####################\n",
      "INFO:root:#########################   Epoch: 505 :  0.669813, 0.65 sec.  #####################\n",
      "INFO:root:#########################   Epoch: 506 :  0.642155, 0.66 sec.  #####################\n",
      "INFO:root:#########################   Epoch: 507 :  0.670766, 0.67 sec.  #####################\n",
      "INFO:root:#########################   Epoch: 508 :  0.670208, 0.63 sec.  #####################\n",
      "INFO:root:#########################   Epoch: 509 :  0.664819, 0.64 sec.  #####################\n",
      "INFO:root:#########################   Epoch: 510 :  0.653986, 0.64 sec.  #####################\n",
      "INFO:root:#########################   Epoch: 511 :  0.653669, 0.64 sec.  #####################\n",
      "INFO:root:#########################   Epoch: 512 :  0.672506, 0.64 sec.  #####################\n",
      "INFO:root:#########################   Epoch: 513 :  0.673984, 0.65 sec.  #####################\n",
      "INFO:root:#########################   Epoch: 514 :  0.658192, 0.66 sec.  #####################\n",
      "INFO:root:#########################   Epoch: 515 :  0.671481, 0.63 sec.  #####################\n",
      "INFO:root:#########################   Epoch: 516 :  0.660873, 0.65 sec.  #####################\n",
      "INFO:root:#########################   Epoch: 517 :  0.677094, 0.65 sec.  #####################\n",
      "INFO:root:#########################   Epoch: 518 :  0.654072, 0.64 sec.  #####################\n",
      "INFO:root:#########################   Epoch: 519 :  0.676405, 0.64 sec.  #####################\n",
      "INFO:root:#########################   Epoch: 520 :  0.658213, 0.65 sec.  #####################\n"
     ]
    },
    {
     "name": "stderr",
     "output_type": "stream",
     "text": [
      "INFO:root:#########################   Epoch: 521 :  0.654385, 0.63 sec.  #####################\n",
      "INFO:root:#########################   Epoch: 522 :  0.660205, 0.65 sec.  #####################\n",
      "INFO:root:#########################   Epoch: 523 :  0.671073, 0.64 sec.  #####################\n",
      "INFO:root:#########################   Epoch: 524 :  0.670257, 0.65 sec.  #####################\n",
      "INFO:root:#########################   Epoch: 525 :  0.672864, 0.64 sec.  #####################\n",
      "INFO:root:#########################   Epoch: 526 :  0.674300, 0.64 sec.  #####################\n",
      "INFO:root:#########################   Epoch: 527 :  0.668525, 0.65 sec.  #####################\n",
      "INFO:root:#########################   Epoch: 528 :  0.681380, 0.64 sec.  #####################\n",
      "INFO:root:#########################   Epoch: 529 :  0.665186, 0.64 sec.  #####################\n",
      "INFO:root:#########################   Epoch: 530 :  0.655210, 0.65 sec.  #####################\n",
      "INFO:root:#########################   Epoch: 531 :  0.674489, 0.66 sec.  #####################\n",
      "INFO:root:#########################   Epoch: 532 :  0.659736, 0.63 sec.  #####################\n",
      "INFO:root:#########################   Epoch: 533 :  0.642063, 0.65 sec.  #####################\n",
      "INFO:root:#########################   Epoch: 534 :  0.665950, 0.65 sec.  #####################\n",
      "INFO:root:#########################   Epoch: 535 :  0.654811, 0.65 sec.  #####################\n",
      "INFO:root:#########################   Epoch: 536 :  0.676152, 0.64 sec.  #####################\n",
      "INFO:root:#########################   Epoch: 537 :  0.666119, 0.65 sec.  #####################\n",
      "INFO:root:#########################   Epoch: 538 :  0.680778, 0.64 sec.  #####################\n",
      "INFO:root:#########################   Epoch: 539 :  0.678096, 0.66 sec.  #####################\n",
      "INFO:root:#########################   Epoch: 540 :  0.661064, 0.70 sec.  #####################\n",
      "INFO:root:#########################   Epoch: 541 :  0.639666, 0.66 sec.  #####################\n",
      "INFO:root:#########################   Epoch: 542 :  0.649290, 0.73 sec.  #####################\n",
      "INFO:root:#########################   Epoch: 543 :  0.662973, 0.66 sec.  #####################\n",
      "INFO:root:#########################   Epoch: 544 :  0.649331, 0.69 sec.  #####################\n",
      "INFO:root:#########################   Epoch: 545 :  0.689434, 0.65 sec.  #####################\n",
      "INFO:root:#########################   Epoch: 546 :  0.671086, 0.72 sec.  #####################\n",
      "INFO:root:#########################   Epoch: 547 :  0.644447, 0.64 sec.  #####################\n",
      "INFO:root:#########################   Epoch: 548 :  0.652970, 0.67 sec.  #####################\n",
      "INFO:root:#########################   Epoch: 549 :  0.670044, 0.71 sec.  #####################\n",
      "INFO:root:#########################   Epoch: 550 :  0.664177, 0.86 sec.  #####################\n",
      "INFO:root:#########################   Epoch: 551 :  0.657859, 0.65 sec.  #####################\n",
      "INFO:root:#########################   Epoch: 552 :  0.656667, 0.66 sec.  #####################\n",
      "INFO:root:#########################   Epoch: 553 :  0.653891, 0.65 sec.  #####################\n",
      "INFO:root:#########################   Epoch: 554 :  0.646849, 0.65 sec.  #####################\n",
      "INFO:root:#########################   Epoch: 555 :  0.644762, 0.63 sec.  #####################\n",
      "INFO:root:#########################   Epoch: 556 :  0.666031, 0.64 sec.  #####################\n",
      "INFO:root:#########################   Epoch: 557 :  0.651890, 0.68 sec.  #####################\n",
      "INFO:root:#########################   Epoch: 558 :  0.667248, 0.65 sec.  #####################\n",
      "INFO:root:#########################   Epoch: 559 :  0.676763, 0.66 sec.  #####################\n",
      "INFO:root:#########################   Epoch: 560 :  0.667049, 0.67 sec.  #####################\n",
      "INFO:root:#########################   Epoch: 561 :  0.642046, 0.62 sec.  #####################\n",
      "INFO:root:#########################   Epoch: 562 :  0.675549, 0.67 sec.  #####################\n",
      "INFO:root:#########################   Epoch: 563 :  0.674714, 0.67 sec.  #####################\n",
      "INFO:root:#########################   Epoch: 564 :  0.664124, 0.65 sec.  #####################\n",
      "INFO:root:#########################   Epoch: 565 :  0.676445, 0.65 sec.  #####################\n",
      "INFO:root:#########################   Epoch: 566 :  0.655258, 0.66 sec.  #####################\n",
      "INFO:root:#########################   Epoch: 567 :  0.677259, 0.63 sec.  #####################\n",
      "INFO:root:#########################   Epoch: 568 :  0.640275, 0.70 sec.  #####################\n",
      "INFO:root:#########################   Epoch: 569 :  0.655720, 0.66 sec.  #####################\n",
      "INFO:root:#########################   Epoch: 570 :  0.665898, 0.62 sec.  #####################\n",
      "INFO:root:#########################   Epoch: 571 :  0.652903, 0.65 sec.  #####################\n",
      "INFO:root:#########################   Epoch: 572 :  0.664793, 0.67 sec.  #####################\n",
      "INFO:root:#########################   Epoch: 573 :  0.661371, 0.65 sec.  #####################\n",
      "INFO:root:#########################   Epoch: 574 :  0.652730, 0.65 sec.  #####################\n",
      "INFO:root:#########################   Epoch: 575 :  0.665333, 0.65 sec.  #####################\n",
      "INFO:root:#########################   Epoch: 576 :  0.653672, 0.65 sec.  #####################\n",
      "INFO:root:#########################   Epoch: 577 :  0.669348, 0.65 sec.  #####################\n",
      "INFO:root:#########################   Epoch: 578 :  0.642104, 0.64 sec.  #####################\n",
      "INFO:root:#########################   Epoch: 579 :  0.680834, 0.67 sec.  #####################\n",
      "INFO:root:#########################   Epoch: 580 :  0.645816, 0.66 sec.  #####################\n",
      "INFO:root:#########################   Epoch: 581 :  0.655169, 0.64 sec.  #####################\n",
      "INFO:root:#########################   Epoch: 582 :  0.655626, 0.63 sec.  #####################\n",
      "INFO:root:#########################   Epoch: 583 :  0.681167, 0.70 sec.  #####################\n",
      "INFO:root:#########################   Epoch: 584 :  0.653025, 0.70 sec.  #####################\n",
      "INFO:root:#########################   Epoch: 585 :  0.644169, 0.65 sec.  #####################\n",
      "INFO:root:#########################   Epoch: 586 :  0.643884, 0.64 sec.  #####################\n",
      "INFO:root:#########################   Epoch: 587 :  0.682402, 0.63 sec.  #####################\n",
      "INFO:root:#########################   Epoch: 588 :  0.652508, 0.64 sec.  #####################\n",
      "INFO:root:#########################   Epoch: 589 :  0.641138, 0.64 sec.  #####################\n",
      "INFO:root:#########################   Epoch: 590 :  0.664711, 0.64 sec.  #####################\n",
      "INFO:root:#########################   Epoch: 591 :  0.652514, 0.91 sec.  #####################\n",
      "INFO:root:#########################   Epoch: 592 :  0.659272, 0.92 sec.  #####################\n",
      "INFO:root:#########################   Epoch: 593 :  0.655323, 0.90 sec.  #####################\n",
      "INFO:root:#########################   Epoch: 594 :  0.633569, 0.71 sec.  #####################\n",
      "INFO:root:#########################   Epoch: 595 :  0.643651, 0.69 sec.  #####################\n",
      "INFO:root:#########################   Epoch: 596 :  0.654615, 0.65 sec.  #####################\n",
      "INFO:root:#########################   Epoch: 597 :  0.655116, 0.67 sec.  #####################\n",
      "INFO:root:#########################   Epoch: 598 :  0.652232, 0.64 sec.  #####################\n",
      "INFO:root:#########################   Epoch: 599 :  0.660296, 0.63 sec.  #####################\n",
      "INFO:root:#########################   Epoch: 600 :  0.650080, 0.62 sec.  #####################\n",
      "INFO:root:#########################   Epoch: 601 :  0.681176, 0.63 sec.  #####################\n",
      "INFO:root:#########################   Epoch: 602 :  0.641876, 0.63 sec.  #####################\n",
      "INFO:root:#########################   Epoch: 603 :  0.672358, 0.64 sec.  #####################\n",
      "INFO:root:#########################   Epoch: 604 :  0.656571, 0.62 sec.  #####################\n",
      "INFO:root:#########################   Epoch: 605 :  0.646686, 0.64 sec.  #####################\n",
      "INFO:root:#########################   Epoch: 606 :  0.655097, 0.63 sec.  #####################\n",
      "INFO:root:#########################   Epoch: 607 :  0.664569, 0.63 sec.  #####################\n"
     ]
    },
    {
     "name": "stderr",
     "output_type": "stream",
     "text": [
      "INFO:root:#########################   Epoch: 608 :  0.663202, 0.62 sec.  #####################\n",
      "INFO:root:#########################   Epoch: 609 :  0.639042, 0.63 sec.  #####################\n",
      "INFO:root:#########################   Epoch: 610 :  0.643076, 0.64 sec.  #####################\n",
      "INFO:root:#########################   Epoch: 611 :  0.636073, 0.62 sec.  #####################\n",
      "INFO:root:#########################   Epoch: 612 :  0.643259, 0.63 sec.  #####################\n",
      "INFO:root:#########################   Epoch: 613 :  0.649800, 0.64 sec.  #####################\n",
      "INFO:root:#########################   Epoch: 614 :  0.640868, 0.63 sec.  #####################\n",
      "INFO:root:#########################   Epoch: 615 :  0.652055, 0.64 sec.  #####################\n",
      "INFO:root:#########################   Epoch: 616 :  0.638646, 0.64 sec.  #####################\n",
      "INFO:root:#########################   Epoch: 617 :  0.659268, 0.63 sec.  #####################\n",
      "INFO:root:#########################   Epoch: 618 :  0.663443, 0.63 sec.  #####################\n",
      "INFO:root:#########################   Epoch: 619 :  0.636042, 0.62 sec.  #####################\n",
      "INFO:root:#########################   Epoch: 620 :  0.648159, 0.65 sec.  #####################\n",
      "INFO:root:#########################   Epoch: 621 :  0.648538, 0.63 sec.  #####################\n",
      "INFO:root:#########################   Epoch: 622 :  0.648582, 0.63 sec.  #####################\n",
      "INFO:root:#########################   Epoch: 623 :  0.659745, 0.62 sec.  #####################\n",
      "INFO:root:#########################   Epoch: 624 :  0.662912, 0.63 sec.  #####################\n",
      "INFO:root:#########################   Epoch: 625 :  0.660811, 0.63 sec.  #####################\n",
      "INFO:root:#########################   Epoch: 626 :  0.661734, 0.66 sec.  #####################\n",
      "INFO:root:#########################   Epoch: 627 :  0.661317, 0.67 sec.  #####################\n",
      "INFO:root:#########################   Epoch: 628 :  0.642340, 0.63 sec.  #####################\n",
      "INFO:root:#########################   Epoch: 629 :  0.629629, 0.62 sec.  #####################\n",
      "INFO:root:#########################   Epoch: 630 :  0.673396, 0.62 sec.  #####################\n",
      "INFO:root:#########################   Epoch: 631 :  0.655908, 0.63 sec.  #####################\n",
      "INFO:root:#########################   Epoch: 632 :  0.659366, 0.63 sec.  #####################\n",
      "INFO:root:#########################   Epoch: 633 :  0.652469, 0.63 sec.  #####################\n",
      "INFO:root:#########################   Epoch: 634 :  0.640438, 0.63 sec.  #####################\n",
      "INFO:root:#########################   Epoch: 635 :  0.647385, 0.64 sec.  #####################\n",
      "INFO:root:#########################   Epoch: 636 :  0.648581, 0.63 sec.  #####################\n",
      "INFO:root:#########################   Epoch: 637 :  0.633887, 0.64 sec.  #####################\n",
      "INFO:root:#########################   Epoch: 638 :  0.651418, 0.62 sec.  #####################\n",
      "INFO:root:#########################   Epoch: 639 :  0.629429, 0.64 sec.  #####################\n",
      "INFO:root:#########################   Epoch: 640 :  0.666522, 0.62 sec.  #####################\n",
      "INFO:root:#########################   Epoch: 641 :  0.627604, 0.62 sec.  #####################\n",
      "INFO:root:#########################   Epoch: 642 :  0.634062, 0.64 sec.  #####################\n",
      "INFO:root:#########################   Epoch: 643 :  0.654949, 0.63 sec.  #####################\n",
      "INFO:root:#########################   Epoch: 644 :  0.652044, 0.65 sec.  #####################\n",
      "INFO:root:#########################   Epoch: 645 :  0.655515, 0.63 sec.  #####################\n",
      "INFO:root:#########################   Epoch: 646 :  0.665129, 0.64 sec.  #####################\n",
      "INFO:root:#########################   Epoch: 647 :  0.632712, 0.63 sec.  #####################\n",
      "INFO:root:#########################   Epoch: 648 :  0.651350, 0.63 sec.  #####################\n",
      "INFO:root:#########################   Epoch: 649 :  0.663937, 0.63 sec.  #####################\n",
      "INFO:root:#########################   Epoch: 650 :  0.655327, 0.64 sec.  #####################\n",
      "INFO:root:#########################   Epoch: 651 :  0.647262, 0.63 sec.  #####################\n",
      "INFO:root:#########################   Epoch: 652 :  0.646142, 0.63 sec.  #####################\n",
      "INFO:root:#########################   Epoch: 653 :  0.676555, 0.62 sec.  #####################\n",
      "INFO:root:#########################   Epoch: 654 :  0.669913, 0.64 sec.  #####################\n",
      "INFO:root:#########################   Epoch: 655 :  0.654529, 0.63 sec.  #####################\n",
      "INFO:root:#########################   Epoch: 656 :  0.638259, 0.62 sec.  #####################\n",
      "INFO:root:#########################   Epoch: 657 :  0.657707, 0.63 sec.  #####################\n",
      "INFO:root:#########################   Epoch: 658 :  0.672147, 0.63 sec.  #####################\n",
      "INFO:root:#########################   Epoch: 659 :  0.649607, 0.63 sec.  #####################\n",
      "INFO:root:#########################   Epoch: 660 :  0.666137, 0.62 sec.  #####################\n",
      "INFO:root:#########################   Epoch: 661 :  0.623714, 0.63 sec.  #####################\n",
      "INFO:root:#########################   Epoch: 662 :  0.666152, 0.63 sec.  #####################\n",
      "INFO:root:#########################   Epoch: 663 :  0.644895, 0.63 sec.  #####################\n",
      "INFO:root:#########################   Epoch: 664 :  0.656847, 0.63 sec.  #####################\n",
      "INFO:root:#########################   Epoch: 665 :  0.634754, 0.63 sec.  #####################\n",
      "INFO:root:#########################   Epoch: 666 :  0.645776, 0.63 sec.  #####################\n",
      "INFO:root:#########################   Epoch: 667 :  0.634383, 0.62 sec.  #####################\n",
      "INFO:root:#########################   Epoch: 668 :  0.648299, 0.62 sec.  #####################\n",
      "INFO:root:#########################   Epoch: 669 :  0.645166, 0.63 sec.  #####################\n",
      "INFO:root:#########################   Epoch: 670 :  0.663940, 0.63 sec.  #####################\n",
      "INFO:root:#########################   Epoch: 671 :  0.636086, 0.63 sec.  #####################\n",
      "INFO:root:#########################   Epoch: 672 :  0.674423, 0.62 sec.  #####################\n",
      "INFO:root:#########################   Epoch: 673 :  0.647542, 0.62 sec.  #####################\n",
      "INFO:root:#########################   Epoch: 674 :  0.658849, 0.64 sec.  #####################\n",
      "INFO:root:#########################   Epoch: 675 :  0.651680, 0.64 sec.  #####################\n",
      "INFO:root:#########################   Epoch: 676 :  0.644620, 0.64 sec.  #####################\n",
      "INFO:root:#########################   Epoch: 677 :  0.652329, 0.64 sec.  #####################\n",
      "INFO:root:#########################   Epoch: 678 :  0.624709, 0.63 sec.  #####################\n",
      "INFO:root:#########################   Epoch: 679 :  0.628456, 0.62 sec.  #####################\n",
      "INFO:root:#########################   Epoch: 680 :  0.631026, 0.63 sec.  #####################\n",
      "INFO:root:#########################   Epoch: 681 :  0.631210, 0.64 sec.  #####################\n",
      "INFO:root:#########################   Epoch: 682 :  0.639905, 0.63 sec.  #####################\n",
      "INFO:root:#########################   Epoch: 683 :  0.645480, 0.62 sec.  #####################\n",
      "INFO:root:#########################   Epoch: 684 :  0.647456, 0.64 sec.  #####################\n",
      "INFO:root:#########################   Epoch: 685 :  0.644124, 0.63 sec.  #####################\n",
      "INFO:root:#########################   Epoch: 686 :  0.645664, 0.63 sec.  #####################\n",
      "INFO:root:#########################   Epoch: 687 :  0.663461, 0.62 sec.  #####################\n",
      "INFO:root:#########################   Epoch: 688 :  0.657232, 0.63 sec.  #####################\n",
      "INFO:root:#########################   Epoch: 689 :  0.641257, 0.64 sec.  #####################\n",
      "INFO:root:#########################   Epoch: 690 :  0.663114, 0.62 sec.  #####################\n",
      "INFO:root:#########################   Epoch: 691 :  0.648897, 0.63 sec.  #####################\n",
      "INFO:root:#########################   Epoch: 692 :  0.638997, 0.63 sec.  #####################\n",
      "INFO:root:#########################   Epoch: 693 :  0.649853, 0.64 sec.  #####################\n",
      "INFO:root:#########################   Epoch: 694 :  0.658281, 0.62 sec.  #####################\n"
     ]
    },
    {
     "name": "stderr",
     "output_type": "stream",
     "text": [
      "INFO:root:#########################   Epoch: 695 :  0.639233, 0.63 sec.  #####################\n",
      "INFO:root:#########################   Epoch: 696 :  0.642806, 0.64 sec.  #####################\n",
      "INFO:root:#########################   Epoch: 697 :  0.653381, 0.64 sec.  #####################\n",
      "INFO:root:#########################   Epoch: 698 :  0.621974, 0.63 sec.  #####################\n",
      "INFO:root:#########################   Epoch: 699 :  0.652843, 0.64 sec.  #####################\n",
      "INFO:root:#########################   Epoch: 700 :  0.675994, 0.63 sec.  #####################\n",
      "INFO:root:#########################   Epoch: 701 :  0.640522, 0.63 sec.  #####################\n",
      "INFO:root:#########################   Epoch: 702 :  0.653384, 0.62 sec.  #####################\n",
      "INFO:root:#########################   Epoch: 703 :  0.668613, 0.63 sec.  #####################\n",
      "INFO:root:#########################   Epoch: 704 :  0.638501, 0.63 sec.  #####################\n",
      "INFO:root:#########################   Epoch: 705 :  0.634539, 0.63 sec.  #####################\n",
      "INFO:root:#########################   Epoch: 706 :  0.623111, 0.63 sec.  #####################\n",
      "INFO:root:#########################   Epoch: 707 :  0.632711, 0.63 sec.  #####################\n",
      "INFO:root:#########################   Epoch: 708 :  0.645359, 0.64 sec.  #####################\n",
      "INFO:root:#########################   Epoch: 709 :  0.662391, 0.62 sec.  #####################\n",
      "INFO:root:#########################   Epoch: 710 :  0.638650, 0.63 sec.  #####################\n",
      "INFO:root:#########################   Epoch: 711 :  0.646019, 0.63 sec.  #####################\n",
      "INFO:root:#########################   Epoch: 712 :  0.653386, 0.64 sec.  #####################\n",
      "INFO:root:#########################   Epoch: 713 :  0.636899, 0.62 sec.  #####################\n",
      "INFO:root:#########################   Epoch: 714 :  0.635204, 0.63 sec.  #####################\n",
      "INFO:root:#########################   Epoch: 715 :  0.635064, 0.65 sec.  #####################\n",
      "INFO:root:#########################   Epoch: 716 :  0.625347, 0.63 sec.  #####################\n",
      "INFO:root:#########################   Epoch: 717 :  0.640439, 0.62 sec.  #####################\n",
      "INFO:root:#########################   Epoch: 718 :  0.628280, 0.63 sec.  #####################\n",
      "INFO:root:#########################   Epoch: 719 :  0.638053, 0.64 sec.  #####################\n",
      "INFO:root:#########################   Epoch: 720 :  0.628787, 0.62 sec.  #####################\n",
      "INFO:root:#########################   Epoch: 721 :  0.639425, 0.62 sec.  #####################\n",
      "INFO:root:#########################   Epoch: 722 :  0.643712, 0.63 sec.  #####################\n",
      "INFO:root:#########################   Epoch: 723 :  0.649103, 0.64 sec.  #####################\n",
      "INFO:root:#########################   Epoch: 724 :  0.629449, 0.62 sec.  #####################\n",
      "INFO:root:#########################   Epoch: 725 :  0.627647, 0.63 sec.  #####################\n",
      "INFO:root:#########################   Epoch: 726 :  0.646715, 0.62 sec.  #####################\n",
      "INFO:root:#########################   Epoch: 727 :  0.632701, 0.64 sec.  #####################\n",
      "INFO:root:#########################   Epoch: 728 :  0.648600, 0.62 sec.  #####################\n",
      "INFO:root:#########################   Epoch: 729 :  0.625778, 0.63 sec.  #####################\n",
      "INFO:root:#########################   Epoch: 730 :  0.641383, 0.63 sec.  #####################\n",
      "INFO:root:#########################   Epoch: 731 :  0.638416, 0.65 sec.  #####################\n",
      "INFO:root:#########################   Epoch: 732 :  0.643370, 0.62 sec.  #####################\n",
      "INFO:root:#########################   Epoch: 733 :  0.641665, 0.63 sec.  #####################\n",
      "INFO:root:#########################   Epoch: 734 :  0.638035, 0.63 sec.  #####################\n",
      "INFO:root:#########################   Epoch: 735 :  0.637785, 0.63 sec.  #####################\n",
      "INFO:root:#########################   Epoch: 736 :  0.641301, 0.62 sec.  #####################\n",
      "INFO:root:#########################   Epoch: 737 :  0.636812, 0.62 sec.  #####################\n",
      "INFO:root:#########################   Epoch: 738 :  0.650978, 0.64 sec.  #####################\n",
      "INFO:root:#########################   Epoch: 739 :  0.673600, 0.63 sec.  #####################\n",
      "INFO:root:#########################   Epoch: 740 :  0.643274, 0.63 sec.  #####################\n",
      "INFO:root:#########################   Epoch: 741 :  0.642112, 0.62 sec.  #####################\n",
      "INFO:root:#########################   Epoch: 742 :  0.644142, 0.64 sec.  #####################\n",
      "INFO:root:#########################   Epoch: 743 :  0.646781, 0.63 sec.  #####################\n",
      "INFO:root:#########################   Epoch: 744 :  0.666830, 0.63 sec.  #####################\n",
      "INFO:root:#########################   Epoch: 745 :  0.653254, 0.62 sec.  #####################\n",
      "INFO:root:#########################   Epoch: 746 :  0.643123, 0.64 sec.  #####################\n",
      "INFO:root:#########################   Epoch: 747 :  0.641642, 0.62 sec.  #####################\n",
      "INFO:root:#########################   Epoch: 748 :  0.611923, 0.63 sec.  #####################\n",
      "INFO:root:#########################   Epoch: 749 :  0.639072, 0.63 sec.  #####################\n",
      "INFO:root:#########################   Epoch: 750 :  0.630003, 0.64 sec.  #####################\n",
      "INFO:root:#########################   Epoch: 751 :  0.645572, 0.62 sec.  #####################\n",
      "INFO:root:#########################   Epoch: 752 :  0.629739, 0.62 sec.  #####################\n",
      "INFO:root:#########################   Epoch: 753 :  0.649903, 0.63 sec.  #####################\n",
      "INFO:root:#########################   Epoch: 754 :  0.667217, 0.64 sec.  #####################\n",
      "INFO:root:#########################   Epoch: 755 :  0.649856, 0.63 sec.  #####################\n",
      "INFO:root:#########################   Epoch: 756 :  0.630773, 0.62 sec.  #####################\n",
      "INFO:root:#########################   Epoch: 757 :  0.631283, 0.63 sec.  #####################\n",
      "INFO:root:#########################   Epoch: 758 :  0.642519, 0.63 sec.  #####################\n",
      "INFO:root:#########################   Epoch: 759 :  0.657764, 0.63 sec.  #####################\n",
      "INFO:root:#########################   Epoch: 760 :  0.644548, 0.63 sec.  #####################\n",
      "INFO:root:#########################   Epoch: 761 :  0.648757, 0.63 sec.  #####################\n",
      "INFO:root:#########################   Epoch: 762 :  0.630583, 0.63 sec.  #####################\n",
      "INFO:root:#########################   Epoch: 763 :  0.666460, 0.63 sec.  #####################\n",
      "INFO:root:#########################   Epoch: 764 :  0.626548, 0.62 sec.  #####################\n",
      "INFO:root:#########################   Epoch: 765 :  0.654724, 0.64 sec.  #####################\n",
      "INFO:root:#########################   Epoch: 766 :  0.613297, 0.62 sec.  #####################\n",
      "INFO:root:#########################   Epoch: 767 :  0.625877, 0.63 sec.  #####################\n",
      "INFO:root:#########################   Epoch: 768 :  0.655620, 0.62 sec.  #####################\n",
      "INFO:root:#########################   Epoch: 769 :  0.649378, 0.65 sec.  #####################\n",
      "INFO:root:#########################   Epoch: 770 :  0.635098, 0.63 sec.  #####################\n",
      "INFO:root:#########################   Epoch: 771 :  0.646149, 0.63 sec.  #####################\n",
      "INFO:root:#########################   Epoch: 772 :  0.643979, 0.64 sec.  #####################\n",
      "INFO:root:#########################   Epoch: 773 :  0.652070, 0.70 sec.  #####################\n",
      "INFO:root:#########################   Epoch: 774 :  0.632259, 0.63 sec.  #####################\n",
      "INFO:root:#########################   Epoch: 775 :  0.639125, 0.63 sec.  #####################\n",
      "INFO:root:#########################   Epoch: 776 :  0.635012, 0.64 sec.  #####################\n",
      "INFO:root:#########################   Epoch: 777 :  0.655688, 0.62 sec.  #####################\n",
      "INFO:root:#########################   Epoch: 778 :  0.643214, 0.63 sec.  #####################\n",
      "INFO:root:#########################   Epoch: 779 :  0.629590, 0.62 sec.  #####################\n",
      "INFO:root:#########################   Epoch: 780 :  0.633547, 0.64 sec.  #####################\n",
      "INFO:root:#########################   Epoch: 781 :  0.643267, 0.62 sec.  #####################\n"
     ]
    },
    {
     "name": "stderr",
     "output_type": "stream",
     "text": [
      "INFO:root:#########################   Epoch: 782 :  0.667566, 0.63 sec.  #####################\n",
      "INFO:root:#########################   Epoch: 783 :  0.630401, 0.63 sec.  #####################\n",
      "INFO:root:#########################   Epoch: 784 :  0.648861, 0.63 sec.  #####################\n",
      "INFO:root:#########################   Epoch: 785 :  0.642194, 0.63 sec.  #####################\n",
      "INFO:root:#########################   Epoch: 786 :  0.647809, 0.62 sec.  #####################\n",
      "INFO:root:#########################   Epoch: 787 :  0.641524, 0.63 sec.  #####################\n",
      "INFO:root:#########################   Epoch: 788 :  0.634056, 0.63 sec.  #####################\n",
      "INFO:root:#########################   Epoch: 789 :  0.637581, 0.63 sec.  #####################\n",
      "INFO:root:#########################   Epoch: 790 :  0.645543, 0.62 sec.  #####################\n",
      "INFO:root:#########################   Epoch: 791 :  0.612367, 0.64 sec.  #####################\n",
      "INFO:root:#########################   Epoch: 792 :  0.635386, 0.63 sec.  #####################\n",
      "INFO:root:#########################   Epoch: 793 :  0.649227, 0.63 sec.  #####################\n",
      "INFO:root:#########################   Epoch: 794 :  0.604375, 0.64 sec.  #####################\n",
      "INFO:root:#########################   Epoch: 795 :  0.645517, 0.64 sec.  #####################\n",
      "INFO:root:#########################   Epoch: 796 :  0.639356, 0.62 sec.  #####################\n",
      "INFO:root:#########################   Epoch: 797 :  0.644928, 0.63 sec.  #####################\n",
      "INFO:root:#########################   Epoch: 798 :  0.666626, 0.63 sec.  #####################\n",
      "INFO:root:#########################   Epoch: 799 :  0.641496, 0.63 sec.  #####################\n",
      "INFO:root:#########################   Epoch: 800 :  0.647195, 0.63 sec.  #####################\n",
      "INFO:root:#########################   Epoch: 801 :  0.622165, 0.62 sec.  #####################\n",
      "INFO:root:#########################   Epoch: 802 :  0.649823, 0.63 sec.  #####################\n",
      "INFO:root:#########################   Epoch: 803 :  0.641422, 0.63 sec.  #####################\n",
      "INFO:root:#########################   Epoch: 804 :  0.622758, 0.63 sec.  #####################\n",
      "INFO:root:#########################   Epoch: 805 :  0.646291, 0.63 sec.  #####################\n",
      "INFO:root:#########################   Epoch: 806 :  0.637801, 0.63 sec.  #####################\n",
      "INFO:root:#########################   Epoch: 807 :  0.633203, 0.63 sec.  #####################\n",
      "INFO:root:#########################   Epoch: 808 :  0.635699, 0.63 sec.  #####################\n",
      "INFO:root:#########################   Epoch: 809 :  0.624096, 0.62 sec.  #####################\n",
      "INFO:root:#########################   Epoch: 810 :  0.661035, 0.63 sec.  #####################\n",
      "INFO:root:#########################   Epoch: 811 :  0.635684, 0.63 sec.  #####################\n",
      "INFO:root:#########################   Epoch: 812 :  0.657376, 0.63 sec.  #####################\n",
      "INFO:root:#########################   Epoch: 813 :  0.623358, 0.63 sec.  #####################\n",
      "INFO:root:#########################   Epoch: 814 :  0.642320, 0.64 sec.  #####################\n",
      "INFO:root:#########################   Epoch: 815 :  0.646197, 0.63 sec.  #####################\n",
      "INFO:root:#########################   Epoch: 816 :  0.632338, 0.62 sec.  #####################\n",
      "INFO:root:#########################   Epoch: 817 :  0.635891, 0.63 sec.  #####################\n",
      "INFO:root:#########################   Epoch: 818 :  0.630501, 0.64 sec.  #####################\n",
      "INFO:root:#########################   Epoch: 819 :  0.634726, 0.63 sec.  #####################\n",
      "INFO:root:#########################   Epoch: 820 :  0.636976, 0.62 sec.  #####################\n",
      "INFO:root:#########################   Epoch: 821 :  0.634803, 0.63 sec.  #####################\n",
      "INFO:root:#########################   Epoch: 822 :  0.641183, 0.64 sec.  #####################\n",
      "INFO:root:#########################   Epoch: 823 :  0.632656, 0.63 sec.  #####################\n",
      "INFO:root:#########################   Epoch: 824 :  0.626979, 0.62 sec.  #####################\n",
      "INFO:root:#########################   Epoch: 825 :  0.616095, 0.63 sec.  #####################\n",
      "INFO:root:#########################   Epoch: 826 :  0.635399, 0.64 sec.  #####################\n",
      "INFO:root:#########################   Epoch: 827 :  0.645233, 0.63 sec.  #####################\n",
      "INFO:root:#########################   Epoch: 828 :  0.653553, 0.62 sec.  #####################\n",
      "INFO:root:#########################   Epoch: 829 :  0.643147, 0.63 sec.  #####################\n",
      "INFO:root:#########################   Epoch: 830 :  0.638802, 0.64 sec.  #####################\n",
      "INFO:root:#########################   Epoch: 831 :  0.646906, 0.63 sec.  #####################\n",
      "INFO:root:#########################   Epoch: 832 :  0.621965, 0.62 sec.  #####################\n",
      "INFO:root:#########################   Epoch: 833 :  0.617366, 0.63 sec.  #####################\n",
      "INFO:root:#########################   Epoch: 834 :  0.644913, 0.64 sec.  #####################\n",
      "INFO:root:#########################   Epoch: 835 :  0.641347, 0.63 sec.  #####################\n",
      "INFO:root:#########################   Epoch: 836 :  0.646452, 0.63 sec.  #####################\n",
      "INFO:root:#########################   Epoch: 837 :  0.625280, 0.64 sec.  #####################\n",
      "INFO:root:#########################   Epoch: 838 :  0.633287, 0.64 sec.  #####################\n",
      "INFO:root:#########################   Epoch: 839 :  0.638566, 0.62 sec.  #####################\n",
      "INFO:root:#########################   Epoch: 840 :  0.623769, 0.63 sec.  #####################\n",
      "INFO:root:#########################   Epoch: 841 :  0.649196, 0.63 sec.  #####################\n",
      "INFO:root:#########################   Epoch: 842 :  0.644864, 0.63 sec.  #####################\n",
      "INFO:root:#########################   Epoch: 843 :  0.632012, 0.62 sec.  #####################\n",
      "INFO:root:#########################   Epoch: 844 :  0.642849, 0.63 sec.  #####################\n",
      "INFO:root:#########################   Epoch: 845 :  0.626785, 0.63 sec.  #####################\n",
      "INFO:root:#########################   Epoch: 846 :  0.644929, 0.63 sec.  #####################\n",
      "INFO:root:#########################   Epoch: 847 :  0.636707, 0.62 sec.  #####################\n",
      "INFO:root:#########################   Epoch: 848 :  0.636058, 0.62 sec.  #####################\n",
      "INFO:root:#########################   Epoch: 849 :  0.652148, 0.64 sec.  #####################\n",
      "INFO:root:#########################   Epoch: 850 :  0.632529, 0.62 sec.  #####################\n",
      "INFO:root:#########################   Epoch: 851 :  0.631119, 0.63 sec.  #####################\n",
      "INFO:root:#########################   Epoch: 852 :  0.632665, 0.62 sec.  #####################\n",
      "INFO:root:#########################   Epoch: 853 :  0.640522, 0.64 sec.  #####################\n",
      "INFO:root:#########################   Epoch: 854 :  0.627288, 0.62 sec.  #####################\n",
      "INFO:root:#########################   Epoch: 855 :  0.650813, 0.63 sec.  #####################\n",
      "INFO:root:#########################   Epoch: 856 :  0.660124, 0.62 sec.  #####################\n",
      "INFO:root:#########################   Epoch: 857 :  0.633465, 0.64 sec.  #####################\n",
      "INFO:root:#########################   Epoch: 858 :  0.637201, 0.63 sec.  #####################\n",
      "INFO:root:#########################   Epoch: 859 :  0.631619, 0.63 sec.  #####################\n",
      "INFO:root:#########################   Epoch: 860 :  0.625450, 0.63 sec.  #####################\n",
      "INFO:root:#########################   Epoch: 861 :  0.639102, 0.64 sec.  #####################\n",
      "INFO:root:#########################   Epoch: 862 :  0.616462, 0.62 sec.  #####################\n",
      "INFO:root:#########################   Epoch: 863 :  0.624335, 0.63 sec.  #####################\n",
      "INFO:root:#########################   Epoch: 864 :  0.653358, 0.64 sec.  #####################\n",
      "INFO:root:#########################   Epoch: 865 :  0.628173, 0.63 sec.  #####################\n",
      "INFO:root:#########################   Epoch: 866 :  0.625187, 0.65 sec.  #####################\n",
      "INFO:root:#########################   Epoch: 867 :  0.641962, 0.63 sec.  #####################\n",
      "INFO:root:#########################   Epoch: 868 :  0.623088, 0.64 sec.  #####################\n"
     ]
    },
    {
     "name": "stderr",
     "output_type": "stream",
     "text": [
      "INFO:root:#########################   Epoch: 869 :  0.634729, 0.62 sec.  #####################\n",
      "INFO:root:#########################   Epoch: 870 :  0.646627, 0.63 sec.  #####################\n",
      "INFO:root:#########################   Epoch: 871 :  0.640814, 0.62 sec.  #####################\n",
      "INFO:root:#########################   Epoch: 872 :  0.642058, 0.65 sec.  #####################\n",
      "INFO:root:#########################   Epoch: 873 :  0.607206, 0.62 sec.  #####################\n",
      "INFO:root:#########################   Epoch: 874 :  0.647981, 0.62 sec.  #####################\n",
      "INFO:root:#########################   Epoch: 875 :  0.641327, 0.62 sec.  #####################\n",
      "INFO:root:#########################   Epoch: 876 :  0.624279, 0.64 sec.  #####################\n",
      "INFO:root:#########################   Epoch: 877 :  0.645010, 0.62 sec.  #####################\n",
      "INFO:root:#########################   Epoch: 878 :  0.627657, 0.63 sec.  #####################\n",
      "INFO:root:#########################   Epoch: 879 :  0.635567, 0.63 sec.  #####################\n",
      "INFO:root:#########################   Epoch: 880 :  0.615053, 0.63 sec.  #####################\n",
      "INFO:root:#########################   Epoch: 881 :  0.640035, 0.63 sec.  #####################\n",
      "INFO:root:#########################   Epoch: 882 :  0.649269, 0.63 sec.  #####################\n",
      "INFO:root:#########################   Epoch: 883 :  0.638558, 0.64 sec.  #####################\n",
      "INFO:root:#########################   Epoch: 884 :  0.624686, 0.63 sec.  #####################\n",
      "INFO:root:#########################   Epoch: 885 :  0.634407, 0.63 sec.  #####################\n",
      "INFO:root:#########################   Epoch: 886 :  0.631552, 0.62 sec.  #####################\n",
      "INFO:root:#########################   Epoch: 887 :  0.651197, 0.64 sec.  #####################\n",
      "INFO:root:#########################   Epoch: 888 :  0.617765, 0.63 sec.  #####################\n",
      "INFO:root:#########################   Epoch: 889 :  0.609704, 0.64 sec.  #####################\n",
      "INFO:root:#########################   Epoch: 890 :  0.639065, 0.63 sec.  #####################\n",
      "INFO:root:#########################   Epoch: 891 :  0.654414, 0.64 sec.  #####################\n",
      "INFO:root:#########################   Epoch: 892 :  0.654193, 0.62 sec.  #####################\n",
      "INFO:root:#########################   Epoch: 893 :  0.626495, 0.63 sec.  #####################\n",
      "INFO:root:#########################   Epoch: 894 :  0.636885, 0.62 sec.  #####################\n",
      "INFO:root:#########################   Epoch: 895 :  0.646017, 0.64 sec.  #####################\n",
      "INFO:root:#########################   Epoch: 896 :  0.636440, 0.63 sec.  #####################\n",
      "INFO:root:#########################   Epoch: 897 :  0.634711, 0.62 sec.  #####################\n",
      "INFO:root:#########################   Epoch: 898 :  0.617342, 0.72 sec.  #####################\n",
      "INFO:root:#########################   Epoch: 899 :  0.622834, 0.70 sec.  #####################\n",
      "INFO:root:#########################   Epoch: 900 :  0.648588, 0.65 sec.  #####################\n",
      "INFO:root:#########################   Epoch: 901 :  0.632509, 0.89 sec.  #####################\n",
      "INFO:root:#########################   Epoch: 902 :  0.634924, 0.73 sec.  #####################\n",
      "INFO:root:#########################   Epoch: 903 :  0.638369, 0.71 sec.  #####################\n",
      "INFO:root:#########################   Epoch: 904 :  0.646135, 0.73 sec.  #####################\n",
      "INFO:root:#########################   Epoch: 905 :  0.630528, 0.94 sec.  #####################\n",
      "INFO:root:#########################   Epoch: 906 :  0.632815, 0.69 sec.  #####################\n",
      "INFO:root:#########################   Epoch: 907 :  0.620626, 0.66 sec.  #####################\n",
      "INFO:root:#########################   Epoch: 908 :  0.639213, 0.76 sec.  #####################\n",
      "INFO:root:#########################   Epoch: 909 :  0.634885, 0.67 sec.  #####################\n",
      "INFO:root:#########################   Epoch: 910 :  0.642025, 0.69 sec.  #####################\n",
      "INFO:root:#########################   Epoch: 911 :  0.617400, 0.80 sec.  #####################\n",
      "INFO:root:#########################   Epoch: 912 :  0.627566, 0.64 sec.  #####################\n",
      "INFO:root:#########################   Epoch: 913 :  0.640352, 0.64 sec.  #####################\n",
      "INFO:root:#########################   Epoch: 914 :  0.619472, 0.63 sec.  #####################\n",
      "INFO:root:#########################   Epoch: 915 :  0.606507, 0.63 sec.  #####################\n",
      "INFO:root:#########################   Epoch: 916 :  0.641988, 0.63 sec.  #####################\n",
      "INFO:root:#########################   Epoch: 917 :  0.622286, 0.63 sec.  #####################\n",
      "INFO:root:#########################   Epoch: 918 :  0.640581, 0.62 sec.  #####################\n",
      "INFO:root:#########################   Epoch: 919 :  0.628440, 0.64 sec.  #####################\n",
      "INFO:root:#########################   Epoch: 920 :  0.616906, 0.63 sec.  #####################\n",
      "INFO:root:#########################   Epoch: 921 :  0.613606, 0.63 sec.  #####################\n",
      "INFO:root:#########################   Epoch: 922 :  0.638347, 0.63 sec.  #####################\n",
      "INFO:root:#########################   Epoch: 923 :  0.671119, 0.63 sec.  #####################\n",
      "INFO:root:#########################   Epoch: 924 :  0.653128, 0.64 sec.  #####################\n",
      "INFO:root:#########################   Epoch: 925 :  0.630622, 0.63 sec.  #####################\n",
      "INFO:root:#########################   Epoch: 926 :  0.623126, 0.62 sec.  #####################\n",
      "INFO:root:#########################   Epoch: 927 :  0.615807, 0.64 sec.  #####################\n",
      "INFO:root:#########################   Epoch: 928 :  0.630717, 0.63 sec.  #####################\n",
      "INFO:root:#########################   Epoch: 929 :  0.628900, 0.63 sec.  #####################\n",
      "INFO:root:#########################   Epoch: 930 :  0.630991, 0.67 sec.  #####################\n",
      "INFO:root:#########################   Epoch: 931 :  0.637749, 0.64 sec.  #####################\n",
      "INFO:root:#########################   Epoch: 932 :  0.615663, 0.64 sec.  #####################\n",
      "INFO:root:#########################   Epoch: 933 :  0.621673, 0.62 sec.  #####################\n",
      "INFO:root:#########################   Epoch: 934 :  0.636044, 0.63 sec.  #####################\n",
      "INFO:root:#########################   Epoch: 935 :  0.638402, 0.64 sec.  #####################\n",
      "INFO:root:#########################   Epoch: 936 :  0.624447, 0.63 sec.  #####################\n",
      "INFO:root:#########################   Epoch: 937 :  0.657955, 0.62 sec.  #####################\n",
      "INFO:root:#########################   Epoch: 938 :  0.629982, 0.63 sec.  #####################\n",
      "INFO:root:#########################   Epoch: 939 :  0.631616, 0.63 sec.  #####################\n",
      "INFO:root:#########################   Epoch: 940 :  0.637545, 0.63 sec.  #####################\n",
      "INFO:root:#########################   Epoch: 941 :  0.610058, 0.62 sec.  #####################\n",
      "INFO:root:#########################   Epoch: 942 :  0.628735, 0.64 sec.  #####################\n",
      "INFO:root:#########################   Epoch: 943 :  0.620071, 0.63 sec.  #####################\n",
      "INFO:root:#########################   Epoch: 944 :  0.630747, 0.62 sec.  #####################\n",
      "INFO:root:#########################   Epoch: 945 :  0.650220, 0.63 sec.  #####################\n",
      "INFO:root:#########################   Epoch: 946 :  0.639173, 0.63 sec.  #####################\n",
      "INFO:root:#########################   Epoch: 947 :  0.626118, 0.64 sec.  #####################\n",
      "INFO:root:#########################   Epoch: 948 :  0.617713, 0.62 sec.  #####################\n",
      "INFO:root:#########################   Epoch: 949 :  0.653394, 0.63 sec.  #####################\n",
      "INFO:root:#########################   Epoch: 950 :  0.625819, 0.63 sec.  #####################\n",
      "INFO:root:#########################   Epoch: 951 :  0.613741, 0.64 sec.  #####################\n",
      "INFO:root:#########################   Epoch: 952 :  0.632572, 0.62 sec.  #####################\n",
      "INFO:root:#########################   Epoch: 953 :  0.625019, 0.63 sec.  #####################\n",
      "INFO:root:#########################   Epoch: 954 :  0.634671, 0.63 sec.  #####################\n",
      "INFO:root:#########################   Epoch: 955 :  0.625000, 0.63 sec.  #####################\n"
     ]
    },
    {
     "name": "stderr",
     "output_type": "stream",
     "text": [
      "INFO:root:#########################   Epoch: 956 :  0.645193, 0.62 sec.  #####################\n",
      "INFO:root:#########################   Epoch: 957 :  0.651190, 0.64 sec.  #####################\n",
      "INFO:root:#########################   Epoch: 958 :  0.624104, 0.64 sec.  #####################\n",
      "INFO:root:#########################   Epoch: 959 :  0.634628, 0.63 sec.  #####################\n",
      "INFO:root:#########################   Epoch: 960 :  0.630049, 0.62 sec.  #####################\n",
      "INFO:root:#########################   Epoch: 961 :  0.624937, 0.62 sec.  #####################\n",
      "INFO:root:#########################   Epoch: 962 :  0.638785, 0.64 sec.  #####################\n",
      "INFO:root:#########################   Epoch: 963 :  0.629789, 0.62 sec.  #####################\n",
      "INFO:root:#########################   Epoch: 964 :  0.632291, 0.63 sec.  #####################\n",
      "INFO:root:#########################   Epoch: 965 :  0.639892, 0.62 sec.  #####################\n",
      "INFO:root:#########################   Epoch: 966 :  0.652217, 0.64 sec.  #####################\n",
      "INFO:root:#########################   Epoch: 967 :  0.648135, 0.63 sec.  #####################\n",
      "INFO:root:#########################   Epoch: 968 :  0.640587, 0.63 sec.  #####################\n",
      "INFO:root:#########################   Epoch: 969 :  0.617870, 0.62 sec.  #####################\n",
      "INFO:root:#########################   Epoch: 970 :  0.621850, 0.64 sec.  #####################\n",
      "INFO:root:#########################   Epoch: 971 :  0.641395, 0.62 sec.  #####################\n",
      "INFO:root:#########################   Epoch: 972 :  0.621375, 0.63 sec.  #####################\n",
      "INFO:root:#########################   Epoch: 973 :  0.618669, 0.64 sec.  #####################\n",
      "INFO:root:#########################   Epoch: 974 :  0.611138, 0.63 sec.  #####################\n",
      "INFO:root:#########################   Epoch: 975 :  0.623640, 0.63 sec.  #####################\n",
      "INFO:root:#########################   Epoch: 976 :  0.626834, 0.65 sec.  #####################\n",
      "INFO:root:#########################   Epoch: 977 :  0.629865, 0.64 sec.  #####################\n",
      "INFO:root:#########################   Epoch: 978 :  0.620712, 0.62 sec.  #####################\n",
      "INFO:root:#########################   Epoch: 979 :  0.629157, 0.63 sec.  #####################\n",
      "INFO:root:#########################   Epoch: 980 :  0.630012, 0.62 sec.  #####################\n",
      "INFO:root:#########################   Epoch: 981 :  0.640109, 0.64 sec.  #####################\n",
      "INFO:root:#########################   Epoch: 982 :  0.639708, 0.63 sec.  #####################\n",
      "INFO:root:#########################   Epoch: 983 :  0.645944, 0.63 sec.  #####################\n",
      "INFO:root:#########################   Epoch: 984 :  0.650370, 0.63 sec.  #####################\n",
      "INFO:root:#########################   Epoch: 985 :  0.626975, 0.64 sec.  #####################\n",
      "INFO:root:#########################   Epoch: 986 :  0.615767, 0.63 sec.  #####################\n",
      "INFO:root:#########################   Epoch: 987 :  0.623341, 0.63 sec.  #####################\n",
      "INFO:root:#########################   Epoch: 988 :  0.629214, 0.83 sec.  #####################\n",
      "INFO:root:#########################   Epoch: 989 :  0.632974, 0.82 sec.  #####################\n",
      "INFO:root:#########################   Epoch: 990 :  0.630592, 0.83 sec.  #####################\n",
      "INFO:root:#########################   Epoch: 991 :  0.618597, 0.66 sec.  #####################\n",
      "INFO:root:#########################   Epoch: 992 :  0.634736, 0.75 sec.  #####################\n",
      "INFO:root:#########################   Epoch: 993 :  0.639379, 0.65 sec.  #####################\n",
      "INFO:root:#########################   Epoch: 994 :  0.637709, 0.67 sec.  #####################\n",
      "INFO:root:#########################   Epoch: 995 :  0.621097, 0.72 sec.  #####################\n",
      "INFO:root:#########################   Epoch: 996 :  0.643620, 0.74 sec.  #####################\n",
      "INFO:root:#########################   Epoch: 997 :  0.633295, 0.69 sec.  #####################\n",
      "INFO:root:#########################   Epoch: 998 :  0.615086, 0.90 sec.  #####################\n",
      "INFO:root:#########################   Epoch: 999 :  0.608689, 0.97 sec.  #####################\n",
      "INFO:root:Write the matrix to a word2vec format file\n",
      "INFO:root:Completed writing the final embeddings, pls check file: /home/ipsita/BTP/graph2vec/embeddings/mutag_dims_1024_epochs_1000_lr_0.3_embeddings.txt for the same\n",
      "INFO:root:Trained the skipgram model in 681.11 sec.\n",
      "INFO:root:Y (label) matrix shape: (188,)\n",
      "INFO:root:Train and Test matrix shapes: (169, 1024), (19, 1024), (169,), (19,) \n"
     ]
    },
    {
     "name": "stdout",
     "output_type": "stream",
     "text": [
      "Fitting 5 folds for each of 6 candidates, totalling 30 fits\n"
     ]
    },
    {
     "name": "stderr",
     "output_type": "stream",
     "text": [
      "[Parallel(n_jobs=1)]: Done  30 out of  30 | elapsed:    3.7s finished\n",
      "INFO:root:best classifier model's hyperparamters\n",
      "INFO:root:Linear SVM accuracy: 0.9473684210526315\n",
      "INFO:root:             precision    recall  f1-score   support\n",
      "\n",
      "         -1       1.00      0.86      0.92         7\n",
      "          1       0.92      1.00      0.96        12\n",
      "\n",
      "avg / total       0.95      0.95      0.95        19\n",
      "\n"
     ]
    },
    {
     "name": "stdout",
     "output_type": "stream",
     "text": [
      "i= 0 accuracy= 0.9473684210526315\n"
     ]
    }
   ],
   "source": [
    "total_acc = []\n",
    "fname = \"/home/ipsita/BTP/graph2vec/embeddings/mutag_dims_1024_epochs_1000_lr_0.3_embeddings.txt\"\n",
    "\n",
    "for i in range(0, 1):\n",
    "    \n",
    "    if os.path.isfile(fname):\n",
    "        os.remove(fname);\n",
    "\n",
    "    ######################### training ##############################################\n",
    "    t0 = time.time()\n",
    "    embedding_fname = train_skipgram(corpus_dir, wl_extn, learning_rate, embedding_size, num_negsample,\n",
    "                                     epochs, batch_size, output_dir)\n",
    "    print(embedding_fname)\n",
    "    logging.info('Trained the skipgram model in {} sec.'.format(round(time.time()-t0, 2)))\n",
    "    \n",
    "    ######################## classify ###############################################\n",
    "    a = perform_classification (corpus_dir, wl_extn, embedding_fname, class_labels_fname)\n",
    "    print('i=',i,'accuracy=',a)\n",
    "    total_acc.append(a)\n",
    "    "
   ]
  },
  {
   "cell_type": "code",
   "execution_count": null,
   "metadata": {},
   "outputs": [],
   "source": [
    "total_acc"
   ]
  },
  {
   "cell_type": "code",
   "execution_count": 18,
   "metadata": {
    "collapsed": true
   },
   "outputs": [
    {
     "name": "stderr",
     "output_type": "stream",
     "text": [
      "INFO:root:Y (label) matrix shape: (188,)\n",
      "INFO:root:Train and Test matrix shapes: (169, 2048), (19, 2048), (169,), (19,) \n"
     ]
    },
    {
     "name": "stdout",
     "output_type": "stream",
     "text": [
      "X shape (188, 2048)\n",
      "Fitting 5 folds for each of 6 candidates, totalling 30 fits\n"
     ]
    },
    {
     "name": "stderr",
     "output_type": "stream",
     "text": [
      "[Parallel(n_jobs=1)]: Done  30 out of  30 | elapsed:    3.1s finished\n",
      "INFO:root:best classifier model's hyperparamters\n",
      "INFO:root:Linear SVM accuracy: 0.7894736842105263\n",
      "INFO:root:             precision    recall  f1-score   support\n",
      "\n",
      "         -1       0.71      0.71      0.71         7\n",
      "          1       0.83      0.83      0.83        12\n",
      "\n",
      "avg / total       0.79      0.79      0.79        19\n",
      "\n"
     ]
    },
    {
     "name": "stdout",
     "output_type": "stream",
     "text": [
      "accuracy = 0.7894736842105263\n"
     ]
    }
   ],
   "source": [
    "########## temp cell to classify combined embeddings ################\n",
    "fname = \"/home/ipsita/BTP/graph2vec/embeddings/mutag_dims_1024_epochs_1000_lr_0.3_embeddings.txt\"\n",
    "a = perform_classification (corpus_dir, wl_extn, fname, class_labels_fname)\n",
    "print('accuracy =',a)"
   ]
  },
  {
   "cell_type": "code",
   "execution_count": 12,
   "metadata": {
    "collapsed": true
   },
   "outputs": [
    {
     "ename": "NameError",
     "evalue": "name 'total_acc' is not defined",
     "output_type": "error",
     "traceback": [
      "\u001b[0;31m---------------------------------------------------------------------------\u001b[0m",
      "\u001b[0;31mNameError\u001b[0m                                 Traceback (most recent call last)",
      "\u001b[0;32m<ipython-input-12-ad0afb90b39f>\u001b[0m in \u001b[0;36m<module>\u001b[0;34m\u001b[0m\n\u001b[1;32m      1\u001b[0m \u001b[0mavg\u001b[0m \u001b[0;34m=\u001b[0m \u001b[0;36m0\u001b[0m\u001b[0;34m\u001b[0m\u001b[0;34m\u001b[0m\u001b[0m\n\u001b[1;32m      2\u001b[0m \u001b[0;32mfor\u001b[0m \u001b[0mi\u001b[0m \u001b[0;32min\u001b[0m \u001b[0mrange\u001b[0m\u001b[0;34m(\u001b[0m\u001b[0;36m0\u001b[0m\u001b[0;34m,\u001b[0m \u001b[0;36m5\u001b[0m\u001b[0;34m)\u001b[0m\u001b[0;34m:\u001b[0m\u001b[0;34m\u001b[0m\u001b[0;34m\u001b[0m\u001b[0m\n\u001b[0;32m----> 3\u001b[0;31m     \u001b[0mavg\u001b[0m \u001b[0;34m+=\u001b[0m \u001b[0mtotal_acc\u001b[0m\u001b[0;34m[\u001b[0m\u001b[0mi\u001b[0m\u001b[0;34m]\u001b[0m\u001b[0;34m\u001b[0m\u001b[0;34m\u001b[0m\u001b[0m\n\u001b[0m\u001b[1;32m      4\u001b[0m \u001b[0mavg\u001b[0m\u001b[0;34m/\u001b[0m\u001b[0;36m5\u001b[0m\u001b[0;34m\u001b[0m\u001b[0;34m\u001b[0m\u001b[0m\n",
      "\u001b[0;31mNameError\u001b[0m: name 'total_acc' is not defined"
     ]
    }
   ],
   "source": [
    "avg = 0\n",
    "for i in range(0, 5):\n",
    "    avg += total_acc[i]\n",
    "avg/5"
   ]
  },
  {
   "cell_type": "code",
   "execution_count": 24,
   "metadata": {},
   "outputs": [
    {
     "data": {
      "text/plain": [
       "0.128920512778062"
      ]
     },
     "execution_count": 24,
     "metadata": {},
     "output_type": "execute_result"
    }
   ],
   "source": [
    "import statistics\n",
    "\n",
    "statistics.stdev(total_acc)"
   ]
  },
  {
   "cell_type": "code",
   "execution_count": null,
   "metadata": {},
   "outputs": [],
   "source": []
  }
 ],
 "metadata": {
  "kernelspec": {
   "display_name": "Python 3",
   "language": "python",
   "name": "python3"
  },
  "language_info": {
   "codemirror_mode": {
    "name": "ipython",
    "version": 3
   },
   "file_extension": ".py",
   "mimetype": "text/x-python",
   "name": "python",
   "nbconvert_exporter": "python",
   "pygments_lexer": "ipython3",
   "version": "3.6.8"
  }
 },
 "nbformat": 4,
 "nbformat_minor": 2
}
