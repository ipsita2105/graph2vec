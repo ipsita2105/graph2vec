{
 "cells": [
  {
   "cell_type": "code",
   "execution_count": 1,
   "metadata": {},
   "outputs": [
    {
     "name": "stderr",
     "output_type": "stream",
     "text": [
      "/home/ipsita/.local/lib/python3.6/site-packages/tensorflow/python/framework/dtypes.py:516: FutureWarning: Passing (type, 1) or '1type' as a synonym of type is deprecated; in a future version of numpy, it will be understood as (type, (1,)) / '(1,)type'.\n",
      "  _np_qint8 = np.dtype([(\"qint8\", np.int8, 1)])\n",
      "/home/ipsita/.local/lib/python3.6/site-packages/tensorflow/python/framework/dtypes.py:517: FutureWarning: Passing (type, 1) or '1type' as a synonym of type is deprecated; in a future version of numpy, it will be understood as (type, (1,)) / '(1,)type'.\n",
      "  _np_quint8 = np.dtype([(\"quint8\", np.uint8, 1)])\n",
      "/home/ipsita/.local/lib/python3.6/site-packages/tensorflow/python/framework/dtypes.py:518: FutureWarning: Passing (type, 1) or '1type' as a synonym of type is deprecated; in a future version of numpy, it will be understood as (type, (1,)) / '(1,)type'.\n",
      "  _np_qint16 = np.dtype([(\"qint16\", np.int16, 1)])\n",
      "/home/ipsita/.local/lib/python3.6/site-packages/tensorflow/python/framework/dtypes.py:519: FutureWarning: Passing (type, 1) or '1type' as a synonym of type is deprecated; in a future version of numpy, it will be understood as (type, (1,)) / '(1,)type'.\n",
      "  _np_quint16 = np.dtype([(\"quint16\", np.uint16, 1)])\n",
      "/home/ipsita/.local/lib/python3.6/site-packages/tensorflow/python/framework/dtypes.py:520: FutureWarning: Passing (type, 1) or '1type' as a synonym of type is deprecated; in a future version of numpy, it will be understood as (type, (1,)) / '(1,)type'.\n",
      "  _np_qint32 = np.dtype([(\"qint32\", np.int32, 1)])\n",
      "/home/ipsita/.local/lib/python3.6/site-packages/tensorflow/python/framework/dtypes.py:525: FutureWarning: Passing (type, 1) or '1type' as a synonym of type is deprecated; in a future version of numpy, it will be understood as (type, (1,)) / '(1,)type'.\n",
      "  np_resource = np.dtype([(\"resource\", np.ubyte, 1)])\n",
      "/home/ipsita/.local/lib/python3.6/site-packages/tensorboard/compat/tensorflow_stub/dtypes.py:541: FutureWarning: Passing (type, 1) or '1type' as a synonym of type is deprecated; in a future version of numpy, it will be understood as (type, (1,)) / '(1,)type'.\n",
      "  _np_qint8 = np.dtype([(\"qint8\", np.int8, 1)])\n",
      "/home/ipsita/.local/lib/python3.6/site-packages/tensorboard/compat/tensorflow_stub/dtypes.py:542: FutureWarning: Passing (type, 1) or '1type' as a synonym of type is deprecated; in a future version of numpy, it will be understood as (type, (1,)) / '(1,)type'.\n",
      "  _np_quint8 = np.dtype([(\"quint8\", np.uint8, 1)])\n",
      "/home/ipsita/.local/lib/python3.6/site-packages/tensorboard/compat/tensorflow_stub/dtypes.py:543: FutureWarning: Passing (type, 1) or '1type' as a synonym of type is deprecated; in a future version of numpy, it will be understood as (type, (1,)) / '(1,)type'.\n",
      "  _np_qint16 = np.dtype([(\"qint16\", np.int16, 1)])\n",
      "/home/ipsita/.local/lib/python3.6/site-packages/tensorboard/compat/tensorflow_stub/dtypes.py:544: FutureWarning: Passing (type, 1) or '1type' as a synonym of type is deprecated; in a future version of numpy, it will be understood as (type, (1,)) / '(1,)type'.\n",
      "  _np_quint16 = np.dtype([(\"quint16\", np.uint16, 1)])\n",
      "/home/ipsita/.local/lib/python3.6/site-packages/tensorboard/compat/tensorflow_stub/dtypes.py:545: FutureWarning: Passing (type, 1) or '1type' as a synonym of type is deprecated; in a future version of numpy, it will be understood as (type, (1,)) / '(1,)type'.\n",
      "  _np_qint32 = np.dtype([(\"qint32\", np.int32, 1)])\n",
      "/home/ipsita/.local/lib/python3.6/site-packages/tensorboard/compat/tensorflow_stub/dtypes.py:550: FutureWarning: Passing (type, 1) or '1type' as a synonym of type is deprecated; in a future version of numpy, it will be understood as (type, (1,)) / '(1,)type'.\n",
      "  np_resource = np.dtype([(\"resource\", np.ubyte, 1)])\n"
     ]
    }
   ],
   "source": [
    "import argparse,os,logging,psutil,time\n",
    "from joblib import Parallel,delayed\n",
    "\n",
    "#import utils file\n",
    "%run utils.ipynb\n",
    "%run make_graph2vec_corpus.ipynb\n",
    "%run train_utils.ipynb\n",
    "\n",
    "logger = logging.getLogger()\n",
    "logger.setLevel(\"INFO\")"
   ]
  },
  {
   "cell_type": "code",
   "execution_count": 2,
   "metadata": {},
   "outputs": [
    {
     "data": {
      "text/plain": [
       "_StoreAction(option_strings=['-lf', '--label_filed_name'], dest='label_filed_name', nargs=None, const=None, default='Label', type=None, choices=None, help='Label field to be used for coloring nodes in graphs using WL kenrel', metavar=None)"
      ]
     },
     "execution_count": 2,
     "metadata": {},
     "output_type": "execute_result"
    }
   ],
   "source": [
    "args = argparse.ArgumentParser(\"graph2vec\")\n",
    "    \n",
    "args.add_argument(\"-c\",\"--corpus\", default = \"../data/kdd_datasets/ptc\",\n",
    "                  help=\"Path to directory containing graph files to be used for graph classification or clustering\")\n",
    "\n",
    "args.add_argument('-l','--class_labels_file_name', default='../data/kdd_datasets/ptc.Labels',\n",
    "                  help='File name containg the name of the sample and the class labels')\n",
    "\n",
    "args.add_argument('-o', \"--output_dir\", default = \"../embeddings\",\n",
    "                  help=\"Path to directory for storing output embeddings\")\n",
    "\n",
    "args.add_argument('-b',\"--batch_size\", default=128, type=int,\n",
    "                  help=\"Number of samples per training batch\")\n",
    "\n",
    "args.add_argument('-e',\"--epochs\", default=1000, type=int,\n",
    "                  help=\"Number of iterations the whole dataset of graphs is traversed\")\n",
    "\n",
    "args.add_argument('-d',\"--embedding_size\", default=1024, type=int,\n",
    "                  help=\"Intended graph embedding size to be learnt\")\n",
    "\n",
    "args.add_argument('-neg', \"--num_negsample\", default=10, type=int,\n",
    "                  help=\"Number of negative samples to be used for training\")\n",
    "\n",
    "args.add_argument('-lr', \"--learning_rate\", default=0.3, type=float,\n",
    "                  help=\"Learning rate to optimize the loss function\")\n",
    "\n",
    "args.add_argument(\"--wlk_h\", default=3, type=int, help=\"Height of WL kernel (i.e., degree of rooted subgraph \"\n",
    "                                                       \"features to be considered for representation learning)\")\n",
    "\n",
    "args.add_argument('-lf', '--label_filed_name', default='Label', help='Label field to be used '\n",
    "                                                                     'for coloring nodes in graphs using WL kenrel')\n",
    "\n",
    "#args.parse_args()"
   ]
  },
  {
   "cell_type": "code",
   "execution_count": 7,
   "metadata": {},
   "outputs": [],
   "source": [
    "# Set it manually for now\n",
    "corpus_dir = \"/home/ipsita/BTP/graph2vec/data/kdd_datasets/ptc\"\n",
    "output_dir = \"/home/ipsita/BTP/graph2vec/embeddings\"\n",
    "batch_size = 128\n",
    "epochs = 100\n",
    "embedding_size = 1024\n",
    "num_negsample = 10\n",
    "learning_rate = 0.3\n",
    "wlk_h = 3\n",
    "label_filed_name = 'Label'\n",
    "class_labels_fname = '/home/ipsita/BTP/graph2vec/data/kdd_datasets/ptc.Labels'\n",
    "\n",
    "wl_extn = 'g2v'+str(wlk_h)    # wlk_h is height to be considered\n",
    "\n",
    "assert os.path.exists(corpus_dir), \"File {} does not exist\".format(corpus_dir)\n",
    "assert os.path.exists(output_dir), \"Dir {} does not exist\".format(output_dir)"
   ]
  },
  {
   "cell_type": "code",
   "execution_count": 8,
   "metadata": {},
   "outputs": [
    {
     "name": "stderr",
     "output_type": "stream",
     "text": [
      "INFO:root:Loaded 344 graph file names form /home/ipsita/BTP/graph2vec/data/kdd_datasets/ptc\n"
     ]
    }
   ],
   "source": [
    "graph_files = get_files(dirname=corpus_dir, extn='.gexf', max_files=0)\n",
    "logging.info('Loaded {} graph file names form {}'.format(len(graph_files),corpus_dir))"
   ]
  },
  {
   "cell_type": "code",
   "execution_count": 9,
   "metadata": {},
   "outputs": [
    {
     "name": "stdout",
     "output_type": "stream",
     "text": [
      "loaded all graphs in 0.33 sec\n",
      "initial relabeling done in 0.06 sec\n",
      "WL iteration 1 done in 0.06 sec.\n",
      "num of WL rooted subgraphs in iter 1 is 160\n",
      "WL iteration 2 done in 0.07 sec.\n",
      "num of WL rooted subgraphs in iter 2 is 1038\n"
     ]
    },
    {
     "name": "stderr",
     "output_type": "stream",
     "text": [
      "INFO:root:dumped sg2vec sentences in 0.6182849407196045 sec.\n"
     ]
    },
    {
     "name": "stdout",
     "output_type": "stream",
     "text": [
      "WL iteration 3 done in 0.09 sec.\n",
      "num of WL rooted subgraphs in iter 3 is 2624\n",
      "dumped sg2vec sentences in 0.0\n"
     ]
    }
   ],
   "source": [
    "t0 = time()\n",
    "wlk_relabel_and_dump_memory_version(graph_files, max_h=wlk_h, node_label_attr_name=label_filed_name)\n",
    "logging.info('dumped sg2vec sentences in {} sec.'.format(time() - t0))"
   ]
  },
  {
   "cell_type": "code",
   "execution_count": 10,
   "metadata": {},
   "outputs": [
    {
     "name": "stderr",
     "output_type": "stream",
     "text": [
      "INFO:root:Initializing SKIPGRAM...\n",
      "INFO:root:number of graphs: 344\n",
      "INFO:root:subgraph vocabulary size: 3804\n",
      "INFO:root:total number of subgraphs to be trained: 34837\n"
     ]
    },
    {
     "ename": "AttributeError",
     "evalue": "'skipgram' object has no attribute 'embeddig_size'",
     "output_type": "error",
     "traceback": [
      "\u001b[0;31m---------------------------------------------------------------------------\u001b[0m",
      "\u001b[0;31mAttributeError\u001b[0m                            Traceback (most recent call last)",
      "\u001b[0;32m<ipython-input-10-af72ab510483>\u001b[0m in \u001b[0;36m<module>\u001b[0;34m\u001b[0m\n\u001b[1;32m      1\u001b[0m \u001b[0mt0\u001b[0m \u001b[0;34m=\u001b[0m \u001b[0mtime\u001b[0m\u001b[0;34m(\u001b[0m\u001b[0;34m)\u001b[0m\u001b[0;34m\u001b[0m\u001b[0;34m\u001b[0m\u001b[0m\n\u001b[1;32m      2\u001b[0m embedding_fname = train_skipgram(corpus_dir, wl_extn, learning_rate, embedding_size, num_negsample,\n\u001b[0;32m----> 3\u001b[0;31m                                  epochs, batch_size, output_dir)\n\u001b[0m\u001b[1;32m      4\u001b[0m \u001b[0mlogging\u001b[0m\u001b[0;34m.\u001b[0m\u001b[0minfo\u001b[0m\u001b[0;34m(\u001b[0m\u001b[0;34m'Trained the skipgram model in {} sec.'\u001b[0m\u001b[0;34m.\u001b[0m\u001b[0mformat\u001b[0m\u001b[0;34m(\u001b[0m\u001b[0mround\u001b[0m\u001b[0;34m(\u001b[0m\u001b[0mtime\u001b[0m\u001b[0;34m(\u001b[0m\u001b[0;34m)\u001b[0m\u001b[0;34m-\u001b[0m\u001b[0mt0\u001b[0m\u001b[0;34m,\u001b[0m \u001b[0;36m2\u001b[0m\u001b[0;34m)\u001b[0m\u001b[0;34m)\u001b[0m\u001b[0;34m)\u001b[0m\u001b[0;34m\u001b[0m\u001b[0;34m\u001b[0m\u001b[0m\n",
      "\u001b[0;32m<ipython-input-1-ebe4e5bed12b>\u001b[0m in \u001b[0;36mtrain_skipgram\u001b[0;34m(corpus_dir, extn, learning_rate, embedding_size, num_negsample, epochs, batch_size, output_dir)\u001b[0m\n\u001b[1;32m     33\u001b[0m         \u001b[0mnum_negsample\u001b[0m\u001b[0;34m=\u001b[0m\u001b[0mnum_negsample\u001b[0m\u001b[0;34m,\u001b[0m\u001b[0;34m\u001b[0m\u001b[0;34m\u001b[0m\u001b[0m\n\u001b[1;32m     34\u001b[0m         \u001b[0mnum_steps\u001b[0m\u001b[0;34m=\u001b[0m\u001b[0mepochs\u001b[0m\u001b[0;34m,\u001b[0m  \u001b[0;31m# no. of time the training set will be iterated through\u001b[0m\u001b[0;34m\u001b[0m\u001b[0;34m\u001b[0m\u001b[0m\n\u001b[0;32m---> 35\u001b[0;31m         \u001b[0mcorpus\u001b[0m\u001b[0;34m=\u001b[0m\u001b[0mcorpus\u001b[0m\u001b[0;34m,\u001b[0m  \u001b[0;31m# data set of (target,context) tuples\u001b[0m\u001b[0;34m\u001b[0m\u001b[0;34m\u001b[0m\u001b[0m\n\u001b[0m\u001b[1;32m     36\u001b[0m     )\n\u001b[1;32m     37\u001b[0m \u001b[0;34m\u001b[0m\u001b[0m\n",
      "\u001b[0;32m<ipython-input-1-c6f6bc6698a5>\u001b[0m in \u001b[0;36m__init__\u001b[0;34m(self, num_graphs, num_subgraphs, learning_rate, embedding_size, num_negsample, num_steps, corpus)\u001b[0m\n\u001b[1;32m     14\u001b[0m         \u001b[0mself\u001b[0m\u001b[0;34m.\u001b[0m\u001b[0mcorpus\u001b[0m         \u001b[0;34m=\u001b[0m \u001b[0mcorpus\u001b[0m\u001b[0;34m\u001b[0m\u001b[0;34m\u001b[0m\u001b[0m\n\u001b[1;32m     15\u001b[0m         \u001b[0mself\u001b[0m\u001b[0;34m.\u001b[0m\u001b[0mgraph\u001b[0m\u001b[0;34m,\u001b[0m \u001b[0mself\u001b[0m\u001b[0;34m.\u001b[0m\u001b[0mbatch_inputs\u001b[0m\u001b[0;34m,\u001b[0m \u001b[0mself\u001b[0m\u001b[0;34m.\u001b[0m\u001b[0mbatch_labels\u001b[0m\u001b[0;34m,\u001b[0m \u001b[0mself\u001b[0m\u001b[0;34m.\u001b[0m\u001b[0mnormalized_embeddings\u001b[0m\u001b[0;34m,\u001b[0m\u001b[0;31m\\\u001b[0m\u001b[0;34m\u001b[0m\u001b[0;34m\u001b[0m\u001b[0m\n\u001b[0;32m---> 16\u001b[0;31m         \u001b[0mself\u001b[0m\u001b[0;34m.\u001b[0m\u001b[0mloss\u001b[0m\u001b[0;34m,\u001b[0m \u001b[0mself\u001b[0m\u001b[0;34m.\u001b[0m\u001b[0moptimizer\u001b[0m \u001b[0;34m=\u001b[0m \u001b[0mself\u001b[0m\u001b[0;34m.\u001b[0m\u001b[0mtrainer_initial\u001b[0m\u001b[0;34m(\u001b[0m\u001b[0;34m)\u001b[0m\u001b[0;34m\u001b[0m\u001b[0;34m\u001b[0m\u001b[0m\n\u001b[0m\u001b[1;32m     17\u001b[0m \u001b[0;34m\u001b[0m\u001b[0m\n\u001b[1;32m     18\u001b[0m \u001b[0;34m\u001b[0m\u001b[0m\n",
      "\u001b[0;32m<ipython-input-1-c6f6bc6698a5>\u001b[0m in \u001b[0;36mtrainer_initial\u001b[0;34m(self)\u001b[0m\n\u001b[1;32m     29\u001b[0m \u001b[0;34m\u001b[0m\u001b[0m\n\u001b[1;32m     30\u001b[0m             subgraph_embeddings = tf.Variable(\n\u001b[0;32m---> 31\u001b[0;31m                     tf.random_uniform([self.num_subgraphs, self.embeddig_size], -0.5/self.embedding_size, 0.5/self.embedding_size))\n\u001b[0m\u001b[1;32m     32\u001b[0m             \u001b[0;31m#batch_graph_embeddings = tf.nn.embedding_lookup(graph_embeddings, batch_inputs) ######hidden layer\u001b[0m\u001b[0;34m\u001b[0m\u001b[0;34m\u001b[0m\u001b[0;34m\u001b[0m\u001b[0m\n\u001b[1;32m     33\u001b[0m \u001b[0;34m\u001b[0m\u001b[0m\n",
      "\u001b[0;31mAttributeError\u001b[0m: 'skipgram' object has no attribute 'embeddig_size'"
     ]
    }
   ],
   "source": [
    "t0 = time()\n",
    "embedding_fname = train_skipgram(corpus_dir, wl_extn, learning_rate, embedding_size, num_negsample,\n",
    "                                 epochs, batch_size, output_dir)\n",
    "logging.info('Trained the skipgram model in {} sec.'.format(round(time()-t0, 2)))"
   ]
  },
  {
   "cell_type": "code",
   "execution_count": 44,
   "metadata": {},
   "outputs": [],
   "source": [
    "%run classify.ipynb"
   ]
  },
  {
   "cell_type": "code",
   "execution_count": 45,
   "metadata": {},
   "outputs": [
    {
     "name": "stderr",
     "output_type": "stream",
     "text": [
      "INFO:root:Y (label) matrix shape: (344,)\n",
      "INFO:root:Train and Test matrix shapes: (309, 1024), (35, 1024), (309,), (35,) \n"
     ]
    },
    {
     "name": "stdout",
     "output_type": "stream",
     "text": [
      "Fitting 5 folds for each of 6 candidates, totalling 30 fits\n"
     ]
    },
    {
     "name": "stderr",
     "output_type": "stream",
     "text": [
      "[Parallel(n_jobs=1)]: Done  30 out of  30 | elapsed:   12.3s finished\n",
      "INFO:root:best classifier model's hyperparamters\n",
      "INFO:root:Linear SVM accuracy: 0.5428571428571428\n",
      "INFO:root:             precision    recall  f1-score   support\n",
      "\n",
      "         -1       0.65      0.59      0.62        22\n",
      "          1       0.40      0.46      0.43        13\n",
      "\n",
      "avg / total       0.56      0.54      0.55        35\n",
      "\n"
     ]
    }
   ],
   "source": [
    "perform_classification (corpus_dir, wl_extn, embedding_fname, class_labels_fname)"
   ]
  },
  {
   "cell_type": "code",
   "execution_count": 1,
   "metadata": {},
   "outputs": [
    {
     "ename": "ModuleNotFoundError",
     "evalue": "No module named 'utils'",
     "output_type": "error",
     "traceback": [
      "\u001b[0;31m---------------------------------------------------------------------------\u001b[0m",
      "\u001b[0;31mModuleNotFoundError\u001b[0m                       Traceback (most recent call last)",
      "\u001b[0;32m<ipython-input-1-f928feae5281>\u001b[0m in \u001b[0;36m<module>\u001b[0;34m\u001b[0m\n\u001b[1;32m      2\u001b[0m \u001b[0;32mfrom\u001b[0m \u001b[0mjoblib\u001b[0m \u001b[0;32mimport\u001b[0m \u001b[0mParallel\u001b[0m\u001b[0;34m,\u001b[0m\u001b[0mdelayed\u001b[0m\u001b[0;34m\u001b[0m\u001b[0;34m\u001b[0m\u001b[0m\n\u001b[1;32m      3\u001b[0m \u001b[0;34m\u001b[0m\u001b[0m\n\u001b[0;32m----> 4\u001b[0;31m \u001b[0;32mfrom\u001b[0m \u001b[0mutils\u001b[0m \u001b[0;32mimport\u001b[0m \u001b[0mget_files\u001b[0m\u001b[0;34m\u001b[0m\u001b[0;34m\u001b[0m\u001b[0m\n\u001b[0m\u001b[1;32m      5\u001b[0m \u001b[0;32mfrom\u001b[0m \u001b[0mtrain_utils\u001b[0m \u001b[0;32mimport\u001b[0m \u001b[0mtrain_skipgram\u001b[0m\u001b[0;34m\u001b[0m\u001b[0;34m\u001b[0m\u001b[0m\n\u001b[1;32m      6\u001b[0m \u001b[0;32mfrom\u001b[0m \u001b[0mclassify\u001b[0m \u001b[0;32mimport\u001b[0m \u001b[0mperform_classification\u001b[0m\u001b[0;34m\u001b[0m\u001b[0;34m\u001b[0m\u001b[0m\n",
      "\u001b[0;31mModuleNotFoundError\u001b[0m: No module named 'utils'"
     ]
    }
   ],
   "source": [
    "import argparse,os,logging,psutil,time\n",
    "from joblib import Parallel,delayed\n",
    "\n",
    "from utils import get_files\n",
    "from train_utils import train_skipgram\n",
    "from classify import perform_classification\n",
    "from make_graph2vec_corpus import *\n",
    "from time import time\n",
    "\n",
    "logger = logging.getLogger()\n",
    "logger.setLevel(\"INFO\")\n",
    "\n",
    "\n",
    "def main(args):\n",
    "    \n",
    "    '''\n",
    "    :param args: arguments for\n",
    "    1. training the skigram model for learning subgraph representations\n",
    "    2. construct the deep WL kernel using the learnt subgraph representations\n",
    "    3. performing graph classification using  the WL and deep WL kernel\n",
    "    :return: None\n",
    "    '''\n",
    "    corpus_dir = args.corpus\n",
    "    output_dir = args.output_dir\n",
    "    batch_size = args.batch_size\n",
    "    epochs = args.epochs\n",
    "    embedding_size = args.embedding_size\n",
    "    num_negsample = args.num_negsample\n",
    "    learning_rate = args.learning_rate\n",
    "    wlk_h = args.wlk_h\n",
    "    label_filed_name = args.label_filed_name\n",
    "    class_labels_fname = args.class_labels_file_name\n",
    "\n",
    "    wl_extn = 'g2v'+str(wlk_h)    # wlk_h is height to be considered\n",
    "\n",
    "    assert os.path.exists(corpus_dir), \"File {} does not exist\".format(corpus_dir)\n",
    "    assert os.path.exists(output_dir), \"Dir {} does not exist\".format(output_dir)\n",
    "\n",
    "    graph_files = get_files(dirname=corpus_dir, extn='.gexf', max_files=0)\n",
    "    logging.info('Loaded {} graph file names form {}'.format(len(graph_files),corpus_dir))\n",
    "\n",
    "\n",
    "    t0 = time()\n",
    "    wlk_relabel_and_dump_memory_version(graph_files, max_h=wlk_h, node_label_attr_name=label_filed_name)\n",
    "    logging.info('dumped sg2vec sentences in {} sec.'.format(time() - t0))\n",
    "\n",
    "    t0 = time()\n",
    "    embedding_fname = train_skipgram(corpus_dir, wl_extn, learning_rate, embedding_size, num_negsample,\n",
    "                                     epochs, batch_size, output_dir)\n",
    "    logging.info('Trained the skipgram model in {} sec.'.format(round(time()-t0, 2)))\n",
    "\n",
    "    perform_classification (corpus_dir, wl_extn, embedding_fname, class_labels_fname)"
   ]
  },
  {
   "cell_type": "code",
   "execution_count": null,
   "metadata": {},
   "outputs": [],
   "source": []
  },
  {
   "cell_type": "code",
   "execution_count": null,
   "metadata": {},
   "outputs": [],
   "source": []
  }
 ],
 "metadata": {
  "kernelspec": {
   "display_name": "Python 3",
   "language": "python",
   "name": "python3"
  },
  "language_info": {
   "codemirror_mode": {
    "name": "ipython",
    "version": 3
   },
   "file_extension": ".py",
   "mimetype": "text/x-python",
   "name": "python",
   "nbconvert_exporter": "python",
   "pygments_lexer": "ipython3",
   "version": "3.6.8"
  }
 },
 "nbformat": 4,
 "nbformat_minor": 2
}
