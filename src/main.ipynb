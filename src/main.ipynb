{
 "cells": [
  {
   "cell_type": "code",
   "execution_count": 11,
   "metadata": {},
   "outputs": [
    {
     "name": "stdout",
     "output_type": "stream",
     "text": [
      "nothing to do\n"
     ]
    }
   ],
   "source": [
    "import argparse,os,logging,psutil,time\n",
    "from joblib import Parallel,delayed\n",
    "\n",
    "#import utils file\n",
    "%run utils.ipynb\n",
    "\n",
    "logger = logging.getLogger()\n",
    "logger.setLevel(\"INFO\")"
   ]
  },
  {
   "cell_type": "code",
   "execution_count": 9,
   "metadata": {},
   "outputs": [
    {
     "name": "stdout",
     "output_type": "stream",
     "text": [
      "nothing to do\n"
     ]
    }
   ],
   "source": [
    "args = argparse.ArgumentParser(\"graph2vec\")\n",
    "    \n",
    "args.add_argument(\"-c\",\"--corpus\", default = \"../data/kdd_datasets/ptc\",\n",
    "                  help=\"Path to directory containing graph files to be used for graph classification or clustering\")\n",
    "\n",
    "args.add_argument('-l','--class_labels_file_name', default='../data/kdd_datasets/ptc.Labels',\n",
    "                  help='File name containg the name of the sample and the class labels')\n",
    "\n",
    "args.add_argument('-o', \"--output_dir\", default = \"../embeddings\",\n",
    "                  help=\"Path to directory for storing output embeddings\")\n",
    "\n",
    "args.add_argument('-b',\"--batch_size\", default=128, type=int,\n",
    "                  help=\"Number of samples per training batch\")\n",
    "\n",
    "args.add_argument('-e',\"--epochs\", default=1000, type=int,\n",
    "                  help=\"Number of iterations the whole dataset of graphs is traversed\")\n",
    "\n",
    "args.add_argument('-d',\"--embedding_size\", default=1024, type=int,\n",
    "                  help=\"Intended graph embedding size to be learnt\")\n",
    "\n",
    "args.add_argument('-neg', \"--num_negsample\", default=10, type=int,\n",
    "                  help=\"Number of negative samples to be used for training\")\n",
    "\n",
    "args.add_argument('-lr', \"--learning_rate\", default=0.3, type=float,\n",
    "                  help=\"Learning rate to optimize the loss function\")\n",
    "\n",
    "args.add_argument(\"--wlk_h\", default=3, type=int, help=\"Height of WL kernel (i.e., degree of rooted subgraph \"\n",
    "                                                       \"features to be considered for representation learning)\")\n",
    "\n",
    "args.add_argument('-lf', '--label_filed_name', default='Label', help='Label field to be used '\n",
    "                                                                     'for coloring nodes in graphs using WL kenrel')\n"
   ]
  },
  {
   "cell_type": "code",
   "execution_count": 1,
   "metadata": {},
   "outputs": [
    {
     "ename": "ModuleNotFoundError",
     "evalue": "No module named 'utils'",
     "output_type": "error",
     "traceback": [
      "\u001b[0;31m---------------------------------------------------------------------------\u001b[0m",
      "\u001b[0;31mModuleNotFoundError\u001b[0m                       Traceback (most recent call last)",
      "\u001b[0;32m<ipython-input-1-f928feae5281>\u001b[0m in \u001b[0;36m<module>\u001b[0;34m\u001b[0m\n\u001b[1;32m      2\u001b[0m \u001b[0;32mfrom\u001b[0m \u001b[0mjoblib\u001b[0m \u001b[0;32mimport\u001b[0m \u001b[0mParallel\u001b[0m\u001b[0;34m,\u001b[0m\u001b[0mdelayed\u001b[0m\u001b[0;34m\u001b[0m\u001b[0;34m\u001b[0m\u001b[0m\n\u001b[1;32m      3\u001b[0m \u001b[0;34m\u001b[0m\u001b[0m\n\u001b[0;32m----> 4\u001b[0;31m \u001b[0;32mfrom\u001b[0m \u001b[0mutils\u001b[0m \u001b[0;32mimport\u001b[0m \u001b[0mget_files\u001b[0m\u001b[0;34m\u001b[0m\u001b[0;34m\u001b[0m\u001b[0m\n\u001b[0m\u001b[1;32m      5\u001b[0m \u001b[0;32mfrom\u001b[0m \u001b[0mtrain_utils\u001b[0m \u001b[0;32mimport\u001b[0m \u001b[0mtrain_skipgram\u001b[0m\u001b[0;34m\u001b[0m\u001b[0;34m\u001b[0m\u001b[0m\n\u001b[1;32m      6\u001b[0m \u001b[0;32mfrom\u001b[0m \u001b[0mclassify\u001b[0m \u001b[0;32mimport\u001b[0m \u001b[0mperform_classification\u001b[0m\u001b[0;34m\u001b[0m\u001b[0;34m\u001b[0m\u001b[0m\n",
      "\u001b[0;31mModuleNotFoundError\u001b[0m: No module named 'utils'"
     ]
    }
   ],
   "source": [
    "import argparse,os,logging,psutil,time\n",
    "from joblib import Parallel,delayed\n",
    "\n",
    "from utils import get_files\n",
    "from train_utils import train_skipgram\n",
    "from classify import perform_classification\n",
    "from make_graph2vec_corpus import *\n",
    "from time import time\n",
    "\n",
    "logger = logging.getLogger()\n",
    "logger.setLevel(\"INFO\")\n",
    "\n",
    "\n",
    "def main(args):\n",
    "    \n",
    "    '''\n",
    "    :param args: arguments for\n",
    "    1. training the skigram model for learning subgraph representations\n",
    "    2. construct the deep WL kernel using the learnt subgraph representations\n",
    "    3. performing graph classification using  the WL and deep WL kernel\n",
    "    :return: None\n",
    "    '''\n",
    "    corpus_dir = args.corpus\n",
    "    output_dir = args.output_dir\n",
    "    batch_size = args.batch_size\n",
    "    epochs = args.epochs\n",
    "    embedding_size = args.embedding_size\n",
    "    num_negsample = args.num_negsample\n",
    "    learning_rate = args.learning_rate\n",
    "    wlk_h = args.wlk_h\n",
    "    label_filed_name = args.label_filed_name\n",
    "    class_labels_fname = args.class_labels_file_name\n",
    "\n",
    "    wl_extn = 'g2v'+str(wlk_h)    # wlk_h is height to be considered\n",
    "\n",
    "    assert os.path.exists(corpus_dir), \"File {} does not exist\".format(corpus_dir)\n",
    "    assert os.path.exists(output_dir), \"Dir {} does not exist\".format(output_dir)\n",
    "\n",
    "    graph_files = get_files(dirname=corpus_dir, extn='.gexf', max_files=0)\n",
    "    logging.info('Loaded {} graph file names form {}'.format(len(graph_files),corpus_dir))\n",
    "\n",
    "\n",
    "    t0 = time()\n",
    "    wlk_relabel_and_dump_memory_version(graph_files, max_h=wlk_h, node_label_attr_name=label_filed_name)\n",
    "    logging.info('dumped sg2vec sentences in {} sec.'.format(time() - t0))\n",
    "\n",
    "    t0 = time()\n",
    "    embedding_fname = train_skipgram(corpus_dir, wl_extn, learning_rate, embedding_size, num_negsample,\n",
    "                                     epochs, batch_size, output_dir)\n",
    "    logging.info('Trained the skipgram model in {} sec.'.format(round(time()-t0, 2)))\n",
    "\n",
    "    perform_classification (corpus_dir, wl_extn, embedding_fname, class_labels_fname)"
   ]
  },
  {
   "cell_type": "code",
   "execution_count": null,
   "metadata": {},
   "outputs": [],
   "source": []
  },
  {
   "cell_type": "code",
   "execution_count": null,
   "metadata": {},
   "outputs": [],
   "source": [
    "def parse_args():\n",
    "    \n",
    "    '''\n",
    "    Usual pythonic way of parsing command line arguments\n",
    "    :return: all command line arguments read\n",
    "    '''\n",
    "    \n",
    "    args = argparse.ArgumentParser(\"graph2vec\")\n",
    "    args.add_argument(\"-c\",\"--corpus\", default = \"../data/kdd_datasets/ptc\",\n",
    "                      help=\"Path to directory containing graph files to be used for graph classification or clustering\")\n",
    "\n",
    "    args.add_argument('-l','--class_labels_file_name', default='../data/kdd_datasets/ptc.Labels',\n",
    "                      help='File name containg the name of the sample and the class labels')\n",
    "\n",
    "    args.add_argument('-o', \"--output_dir\", default = \"../embeddings\",\n",
    "                      help=\"Path to directory for storing output embeddings\")\n",
    "\n",
    "    args.add_argument('-b',\"--batch_size\", default=128, type=int,\n",
    "                      help=\"Number of samples per training batch\")\n",
    "\n",
    "    args.add_argument('-e',\"--epochs\", default=1000, type=int,\n",
    "                      help=\"Number of iterations the whole dataset of graphs is traversed\")\n",
    "\n",
    "    args.add_argument('-d',\"--embedding_size\", default=1024, type=int,\n",
    "                      help=\"Intended graph embedding size to be learnt\")\n",
    "\n",
    "    args.add_argument('-neg', \"--num_negsample\", default=10, type=int,\n",
    "                      help=\"Number of negative samples to be used for training\")\n",
    "\n",
    "    args.add_argument('-lr', \"--learning_rate\", default=0.3, type=float,\n",
    "                      help=\"Learning rate to optimize the loss function\")\n",
    "\n",
    "    args.add_argument(\"--wlk_h\", default=3, type=int, help=\"Height of WL kernel (i.e., degree of rooted subgraph \"\n",
    "                                                           \"features to be considered for representation learning)\")\n",
    "\n",
    "    args.add_argument('-lf', '--label_filed_name', default='Label', help='Label field to be used '\n",
    "                                                                         'for coloring nodes in graphs using WL kenrel')\n",
    "\n",
    "    return args.parse_args()\n",
    "\n",
    "\n",
    "\n",
    "if __name__==\"__main__\":\n",
    "    args = parse_args()\n",
    "    main(args)"
   ]
  }
 ],
 "metadata": {
  "kernelspec": {
   "display_name": "Python 3",
   "language": "python",
   "name": "python3"
  },
  "language_info": {
   "codemirror_mode": {
    "name": "ipython",
    "version": 3
   },
   "file_extension": ".py",
   "mimetype": "text/x-python",
   "name": "python",
   "nbconvert_exporter": "python",
   "pygments_lexer": "ipython3",
   "version": "3.6.8"
  }
 },
 "nbformat": 4,
 "nbformat_minor": 2
}
